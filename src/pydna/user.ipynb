{
 "cells": [
  {
   "cell_type": "code",
   "execution_count": 107,
   "metadata": {},
   "outputs": [],
   "source": [
    "import re\n",
    "from pydna.utils import rc\n",
    "from pydna.dseq import Dseq\n",
    "from pydna.dseqrecord import Dseqrecord\n",
    "from abc import ABC, abstractmethod\n",
    "\n",
    "class USER2():\n",
    "    def __init__(self):\n",
    "        self.compsite = re.compile(\n",
    "            \"(?=(?P<watson>[ACGT]{5}U))|(?=(?P<crick>U[ACGT]{5}))\", re.UNICODE\n",
    "        )\n",
    "\n",
    "    def search(self, dna: Dseq, linear=True):\n",
    "        \"\"\"\n",
    "        Search function for USER enzyme.\n",
    "\n",
    "        Parameters\n",
    "        ----------\n",
    "        dna : Dseq\n",
    "            Dseq object representing the DNA sequence to search for USER site.\n",
    "        linear : bool\n",
    "            If True, the search is performed on the input sequence.\n",
    "            If False, the search is performed on the sequence + sequence[1:].\n",
    "        \n",
    "        Returns\n",
    "        -------\n",
    "        list\n",
    "            A list of the positions of the USER target sites.\n",
    "        \"\"\"\n",
    "        dna = str(dna).upper()\n",
    "        if linear:\n",
    "            dna = dna\n",
    "        else:\n",
    "            dna = dna + dna[1 : self.size]\n",
    "        results = []\n",
    "        for mobj in self.compsite.finditer(dna):\n",
    "            w, c = mobj.groups()\n",
    "            if w:\n",
    "                results.append(mobj.start(\"watson\"))\n",
    "            if c:\n",
    "                results.append(mobj.start(\"crick\"))\n",
    "        return results\n",
    "\n",
    "\n",
    "class CGAAfinder():\n",
    "    def __init__(self):\n",
    "        self.compsite = re.compile(\n",
    "            \"(?=(?P<watson>CGAA))|(?=(?P<crick>TTCG))\", re.UNICODE\n",
    "        )\n",
    "\n",
    "    def search(self, dna: Dseq, linear=True):\n",
    "        \"\"\"\n",
    "        Search function for USER enzyme.\n",
    "\n",
    "        Parameters\n",
    "        ----------\n",
    "        dna : Dseq\n",
    "            Dseq object representing the DNA sequence to search for USER site.\n",
    "        linear : bool\n",
    "            If True, the search is performed on the input sequence.\n",
    "            If False, the search is performed on the sequence + sequence[1:].\n",
    "        \n",
    "        Returns\n",
    "        -------\n",
    "        list\n",
    "            A list of the positions of the USER target sites.\n",
    "        \"\"\"\n",
    "        dna = str(dna).upper()\n",
    "        if linear:\n",
    "            dna = dna\n",
    "        else:\n",
    "            dna = dna + dna[1 : self.size]\n",
    "        results = []\n",
    "        for mobj in self.compsite.finditer(dna):\n",
    "            w, c = mobj.groups()\n",
    "            if w:\n",
    "                results.append(mobj.start(\"watson\"))\n",
    "            if c:\n",
    "                results.append(mobj.start(\"crick\"))\n",
    "        return results\n",
    "\n",
    "\n",
    "class USER():\n",
    "    pattern = \"([ACGT]{5}U)\"\n",
    "    size = 6\n",
    "    fst5 = 7  # First 5' cut \n",
    "    fst3 = None  # (there are no cuts in complementary strand)\n",
    "    site = \"NNNNNU\"\n",
    "    ovhg = fst5 - 1\n",
    "\n",
    "    def __init__(self):\n",
    "        self.compsite = re.compile(\n",
    "            \"(?=(?P<USER>[ACGT]{5}U))\", re.UNICODE\n",
    "        )\n",
    "\n",
    "    def search(self, dna, linear=True):\n",
    "        # TODO: Deal with circular DNA\n",
    "        results = []\n",
    "        for mobj in re.finditer(\"[ACGT]{5}U\", dna.watson):\n",
    "            print(mobj.start(), mobj.group())\n",
    "            results.append(mobj.start() + self.fst5)\n",
    "        \n",
    "        for mobj in re.finditer(\"U[ACGT]{5}\", dna.crick):\n",
    "            print(mobj.end(), mobj.group())\n",
    "            results.append(mobj.end() + self.fst5 - 1)\n",
    "        \n",
    "        return results\n",
    "    \n",
    "    def __repr__(self):\n",
    "        return f\"USER({self.site})\"\n",
    "\n",
    "    def __str__(self):\n",
    "        return f\"USER({self.site})\""
   ]
  },
  {
   "cell_type": "code",
   "execution_count": 95,
   "metadata": {},
   "outputs": [
    {
     "name": "stdout",
     "output_type": "stream",
     "text": [
      "0 AAAAAU\n"
     ]
    },
    {
     "data": {
      "text/plain": [
       "[7]"
      ]
     },
     "execution_count": 95,
     "metadata": {},
     "output_type": "execute_result"
    }
   ],
   "source": [
    "target = Dseq(\"AAAAAUACGA\", crick=\"TCGTATTTTT\", ovhg=0)\n",
    "USER().search(target)\n"
   ]
  },
  {
   "cell_type": "code",
   "execution_count": 108,
   "metadata": {},
   "outputs": [
    {
     "name": "stdout",
     "output_type": "stream",
     "text": [
      "0 AAAAAU\n"
     ]
    },
    {
     "data": {
      "text/plain": [
       "(Dseq(-6)\n",
       " AAAAAU,\n",
       " Dseq(-10)\n",
       "       ACGA\n",
       " TTTTTATGCT)"
      ]
     },
     "execution_count": 108,
     "metadata": {},
     "output_type": "execute_result"
    }
   ],
   "source": [
    "target.cut(USER())"
   ]
  },
  {
   "cell_type": "code",
   "execution_count": 109,
   "metadata": {},
   "outputs": [
    {
     "name": "stdout",
     "output_type": "stream",
     "text": [
      "0 AAAAAU\n",
      "11 UTCGTA\n"
     ]
    },
    {
     "data": {
      "text/plain": [
       "[7, 17]"
      ]
     },
     "execution_count": 109,
     "metadata": {},
     "output_type": "execute_result"
    }
   ],
   "source": [
    "target2 = Dseq(\"AAAAAUACGAACGATC\", crick=\"GATCGUTCGTATTTTT\", ovhg=0)\n",
    "USER().search(target2)"
   ]
  },
  {
   "cell_type": "code",
   "execution_count": 110,
   "metadata": {},
   "outputs": [
    {
     "name": "stdout",
     "output_type": "stream",
     "text": [
      "0 AAAAAU\n",
      "11 UTCGTA\n"
     ]
    },
    {
     "data": {
      "text/plain": [
       "(Dseq(-6)\n",
       " AAAAAU,\n",
       " Dseq(-16)\n",
       "       ACGAACGATC\n",
       " TTTTTATGCT,\n",
       " Dseq(-6)\n",
       "       \n",
       " UGCTAG)"
      ]
     },
     "execution_count": 110,
     "metadata": {},
     "output_type": "execute_result"
    }
   ],
   "source": [
    "target2.cut(USER())"
   ]
  },
  {
   "cell_type": "code",
   "execution_count": 30,
   "metadata": {},
   "outputs": [
    {
     "data": {
      "text/plain": [
       "[22]"
      ]
     },
     "execution_count": 30,
     "metadata": {},
     "output_type": "execute_result"
    }
   ],
   "source": [
    "from pydna.crispr import cas9\n",
    "\n",
    "sgrna = \"TTTTTTTTTTTTTTTTTAAA\"\n",
    "crispr_target = \"TTTTTTTTTTTTTTTTTTTTTAAACGGTTT\"\n",
    "cas_object = cas9(sgrna)\n",
    "cas_object.search(crispr_target)\n",
    "\n"
   ]
  },
  {
   "cell_type": "code",
   "execution_count": 32,
   "metadata": {},
   "outputs": [
    {
     "data": {
      "text/plain": [
       "[((21, 0), cas9(TTT..AAA))]"
      ]
     },
     "execution_count": 32,
     "metadata": {},
     "output_type": "execute_result"
    }
   ],
   "source": [
    "Dseq(crispr_target).get_cutsites(cas_object)"
   ]
  },
  {
   "cell_type": "code",
   "execution_count": 26,
   "metadata": {},
   "outputs": [
    {
     "data": {
      "text/plain": [
       "(Dseq(-21)\n",
       " TTTTTTTTTTTTTTTTTTTTT\n",
       " AAAAAAAAAAAAAAAAAAAAA,\n",
       " Dseq(-9)\n",
       " AAACGGTTT\n",
       " TTTGCCAAA)"
      ]
     },
     "execution_count": 26,
     "metadata": {},
     "output_type": "execute_result"
    }
   ],
   "source": [
    "Dseq(crispr_target).cut(cas_object)"
   ]
  },
  {
   "cell_type": "code",
   "execution_count": null,
   "metadata": {},
   "outputs": [],
   "source": [
    "from Bio.Restriction import SalI\n",
    "from Bio.Seq import Seq\n",
    "from pydna.dseq import Dseq\n",
    "\n",
    "#SalI.search(Seq(\"ACGATGCTAGGTCGACGTGAGCATCAGCTGAC\"))\n",
    "print(SalI.__dict__)\n",
    "\n"
   ]
  }
 ],
 "metadata": {
  "kernelspec": {
   "display_name": ".venv",
   "language": "python",
   "name": "python3"
  },
  "language_info": {
   "codemirror_mode": {
    "name": "ipython",
    "version": 3
   },
   "file_extension": ".py",
   "mimetype": "text/x-python",
   "name": "python",
   "nbconvert_exporter": "python",
   "pygments_lexer": "ipython3",
   "version": "3.10.12"
  }
 },
 "nbformat": 4,
 "nbformat_minor": 2
}
