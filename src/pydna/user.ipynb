{
 "cells": [
  {
   "cell_type": "code",
   "execution_count": null,
   "metadata": {},
   "outputs": [],
   "source": [
    "import re\n",
    "from pydna.utils import rc\n",
    "from pydna.dseq import Dseq\n",
    "from pydna.dseqrecord import Dseqrecord\n",
    "from abc import ABC, abstractmethod\n",
    "\n",
    "class USER2():\n",
    "    def __init__(self):\n",
    "        self.compsite = re.compile(\n",
    "            \"(?=(?P<watson>[ACGT]{5}U))|(?=(?P<crick>U[ACGT]{5}))\", re.UNICODE\n",
    "        )\n",
    "\n",
    "    def search(self, dna: Dseq, linear=True):\n",
    "        \"\"\"\n",
    "        Search function for USER enzyme.\n",
    "\n",
    "        Parameters\n",
    "        ----------\n",
    "        dna : Dseq\n",
    "            Dseq object representing the DNA sequence to search for USER site.\n",
    "        linear : bool\n",
    "            If True, the search is performed on the input sequence.\n",
    "            If False, the search is performed on the sequence + sequence[1:].\n",
    "        \n",
    "        Returns\n",
    "        -------\n",
    "        list\n",
    "            A list of the positions of the USER target sites.\n",
    "        \"\"\"\n",
    "        dna = str(dna).upper()\n",
    "        if linear:\n",
    "            dna = dna\n",
    "        else:\n",
    "            dna = dna + dna[1 : self.size]\n",
    "        results = []\n",
    "        for mobj in self.compsite.finditer(dna):\n",
    "            w, c = mobj.groups()\n",
    "            if w:\n",
    "                results.append(mobj.start(\"watson\"))\n",
    "            if c:\n",
    "                results.append(mobj.start(\"crick\"))\n",
    "        return results\n",
    "\n",
    "\n",
    "class CGAAfinder():\n",
    "    def __init__(self):\n",
    "        self.compsite = re.compile(\n",
    "            \"(?=(?P<watson>CGAA))|(?=(?P<crick>TTCG))\", re.UNICODE\n",
    "        )\n",
    "\n",
    "    def search(self, dna: Dseq, linear=True):\n",
    "        \"\"\"\n",
    "        Search function for USER enzyme.\n",
    "\n",
    "        Parameters\n",
    "        ----------\n",
    "        dna : Dseq\n",
    "            Dseq object representing the DNA sequence to search for USER site.\n",
    "        linear : bool\n",
    "            If True, the search is performed on the input sequence.\n",
    "            If False, the search is performed on the sequence + sequence[1:].\n",
    "        \n",
    "        Returns\n",
    "        -------\n",
    "        list\n",
    "            A list of the positions of the USER target sites.\n",
    "        \"\"\"\n",
    "        dna = str(dna).upper()\n",
    "        if linear:\n",
    "            dna = dna\n",
    "        else:\n",
    "            dna = dna + dna[1 : self.size]\n",
    "        results = []\n",
    "        for mobj in self.compsite.finditer(dna):\n",
    "            w, c = mobj.groups()\n",
    "            if w:\n",
    "                results.append(mobj.start(\"watson\"))\n",
    "            if c:\n",
    "                results.append(mobj.start(\"crick\"))\n",
    "        return results\n",
    "\n",
    "\n",
    "class USER():\n",
    "    pattern = \"([ACGT]{5}U)\"\n",
    "    size = 6\n",
    "    fst5 = 7  # First 5' cut \n",
    "    fst3 = None  # (there are no cuts in complementary strand)\n",
    "    site = \"NNNNNU\"\n",
    "    ovhg = fst5 - 1\n",
    "\n",
    "    def __init__(self):\n",
    "        self.compsite = re.compile(\n",
    "            \"(?=(?P<USER>[ACGT]{5}U))\", re.UNICODE\n",
    "        )\n",
    "\n",
    "    def search(self, dna, linear=True):\n",
    "        # TODO: Deal with circular DNA\n",
    "        results = []\n",
    "        for mobj in re.finditer(\"[ACGT]{5}U\", dna.watson):\n",
    "            print(mobj.start(), mobj.group())\n",
    "            results.append(mobj.start() + self.fst5)\n",
    "        \n",
    "        for mobj in re.finditer(\"U[ACGT]{5}\", dna.crick):\n",
    "            print(mobj.end(), mobj.group())\n",
    "            results.append(mobj.end() + self.fst5 - 1)\n",
    "        \n",
    "        return results\n",
    "    \n",
    "    def __repr__(self):\n",
    "        return f\"USER({self.site})\"\n",
    "\n",
    "    def __str__(self):\n",
    "        return f\"USER({self.site})\""
   ]
  },
  {
   "cell_type": "code",
   "execution_count": null,
   "metadata": {},
   "outputs": [
    {
     "name": "stdout",
     "output_type": "stream",
     "text": [
      "0 AAAAAU\n"
     ]
    },
    {
     "data": {
      "text/plain": [
       "[7]"
      ]
     },
     "execution_count": null,
     "metadata": {},
     "output_type": "execute_result"
    }
   ],
   "source": [
    "target = Dseq(\"AAAAAUACGA\", crick=\"TCGTATTTTT\", ovhg=0)\n",
    "USER().search(target)\n"
   ]
  },
  {
   "cell_type": "code",
   "execution_count": null,
   "metadata": {},
   "outputs": [
    {
     "name": "stdout",
     "output_type": "stream",
     "text": [
      "0 AAAAAU\n"
     ]
    },
    {
     "data": {
      "text/plain": [
       "(Dseq(-6)\n",
       " AAAAAU,\n",
       " Dseq(-10)\n",
       "       ACGA\n",
       " TTTTTATGCT)"
      ]
     },
     "execution_count": null,
     "metadata": {},
     "output_type": "execute_result"
    }
   ],
   "source": [
    "target.cut(USER())"
   ]
  },
  {
   "cell_type": "code",
   "execution_count": null,
   "metadata": {},
   "outputs": [
    {
     "name": "stdout",
     "output_type": "stream",
     "text": [
      "0 AAAAAU\n",
      "11 UTCGTA\n"
     ]
    },
    {
     "data": {
      "text/plain": [
       "[7, 17]"
      ]
     },
     "execution_count": null,
     "metadata": {},
     "output_type": "execute_result"
    }
   ],
   "source": [
    "target2 = Dseq(\"AAAAAUACGAACGATC\", crick=\"GATCGUTCGTATTTTT\", ovhg=0)\n",
    "USER().search(target2)"
   ]
  },
  {
   "cell_type": "code",
   "execution_count": null,
   "metadata": {},
   "outputs": [
    {
     "name": "stdout",
     "output_type": "stream",
     "text": [
      "0 AAAAAU\n",
      "11 UTCGTA\n"
     ]
    },
    {
     "data": {
      "text/plain": [
       "(Dseq(-6)\n",
       " AAAAAU,\n",
       " Dseq(-16)\n",
       "       ACGAACGATC\n",
       " TTTTTATGCT,\n",
       " Dseq(-6)\n",
       "       \n",
       " UGCTAG)"
      ]
     },
     "execution_count": null,
     "metadata": {},
     "output_type": "execute_result"
    }
   ],
   "source": [
    "target2.cut(USER())"
   ]
  },
  {
   "cell_type": "code",
   "execution_count": null,
   "metadata": {},
   "outputs": [
    {
     "name": "stdout",
     "output_type": "stream",
     "text": [
      "{'charac': (1, -1, None, None, 'GTCGAC'), 'compsite': re.compile('(?=(?P<SalI>GTCGAC))'), 'dna': None, 'freq': 4096.0, 'fst3': -1, 'fst5': 1, 'id': 1588, 'inact_temp': 65, 'opt_temp': 37, 'ovhg': -4, 'ovhgseq': 'TCGA', 'results': None, 'scd3': None, 'scd5': None, 'site': 'GTCGAC', 'size': 6, 'substrat': 'DNA', 'suppl': ('B', 'C', 'I', 'J', 'K', 'M', 'N', 'O', 'Q', 'R', 'V', 'X'), 'uri': 'https://identifiers.org/rebase:1588', '__module__': 'Bio.Restriction.Restriction', '__doc__': None}\n"
     ]
    }
   ],
   "source": [
    "from Bio.Restriction import SalI\n",
    "from Bio.Seq import Seq\n",
    "from pydna.dseq import Dseq\n",
    "\n",
    "#SalI.search(Seq(\"ACGATGCTAGGTCGACGTGAGCATCAGCTGAC\"))\n",
    "print(SalI.__dict__)\n",
    "\n"
   ]
  },
  {
   "cell_type": "code",
   "execution_count": null,
   "metadata": {},
   "outputs": [
    {
     "data": {
      "text/plain": [
       "Dseq(-76)\n",
       "      GTCG..GCCGATCTTT\n",
       "TTGCTACAGC..CGGC      "
      ]
     },
     "execution_count": null,
     "metadata": {},
     "output_type": "execute_result"
    }
   ],
   "source": [
    "result = Dseq.from_representation(\n",
    "        \"\"\"\\\n",
    "          GTCGACTTAGATCTCACAGGCTTTTTTCAAGaCGGCCTTGAATTCAGTCATTTGGATCCGGCCGATCTTT\n",
    "    TTGCTACAGCTGAATCTAGAGTGTCCGAAAAAAGTTCTGCCGGAACTTAAGTCAGTAAACCTAGGCCGGC\n",
    "    \"\"\"\n",
    "    )\n",
    "result"
   ]
  },
  {
   "cell_type": "code",
   "execution_count": null,
   "metadata": {},
   "outputs": [
    {
     "name": "stdout",
     "output_type": "stream",
     "text": [
      "7 AACGAU\n",
      "76 AAAGAU rev\n"
     ]
    },
    {
     "data": {
      "text/plain": [
       "Dseq(-75)\n",
       "      GTCG..GGCCGATCTT\n",
       "TTGCTACAGC..CCGG      "
      ]
     },
     "execution_count": null,
     "metadata": {},
     "output_type": "execute_result"
    }
   ],
   "source": [
    "from pydna.user import USER as us\n",
    "\n",
    "a = Dseq.from_representation(\n",
    "        \"\"\"\\\n",
    "    AACGAuGTCGACTTAGATCTCACAGGCTTTTTTCAAGaCGGCCTTGAATTCAGTCATTTGGATCCGGCCGATCTTT\n",
    "    TTGCTACAGCTGAATCTAGAGTGTCCGAAAAAAGTTCTGCCGGAACTTAAGTCAGTAAACCTAGGCCGGCuAGAAA\n",
    "    \"\"\"\n",
    "    )\n",
    "\n",
    "#a.get_cutsites(us())\n",
    "a.cut(us())[1]"
   ]
  },
  {
   "cell_type": "code",
   "execution_count": null,
   "metadata": {},
   "outputs": [
    {
     "data": {
      "text/plain": [
       "[((6, 6), ssUSER(NNNNNU))]"
      ]
     },
     "execution_count": null,
     "metadata": {},
     "output_type": "execute_result"
    }
   ],
   "source": [
    "from pydna.user import ssUSER\n",
    "\n",
    "a.get_cutsites(ssUSER())\n",
    "\n"
   ]
  },
  {
   "cell_type": "markdown",
   "metadata": {},
   "source": [
    "### Approach with ssUSER"
   ]
  },
  {
   "cell_type": "code",
   "execution_count": null,
   "metadata": {},
   "outputs": [
    {
     "data": {
      "text/plain": [
       "Dseq(-76)\n",
       "      GTCG..GCCGATCTTT\n",
       "TTGCTACAGC..CGGC      "
      ]
     },
     "execution_count": null,
     "metadata": {},
     "output_type": "execute_result"
    }
   ],
   "source": [
    "watson_cut = a.get_cutsites(ssUSER())[0][0][0]\n",
    "watson_user = a[watson_cut:]\n",
    "crick_cut = Dseq(a.crick).get_cutsites(ssUSER())[0][0][0]\n",
    "crick_user = Dseq(a.crick)[crick_cut:]\n",
    "result = Dseq(str(watson_user), crick=str(crick_user), ovhg=watson_cut)\n",
    "result"
   ]
  },
  {
   "cell_type": "markdown",
   "metadata": {},
   "source": [
    "### Approach following Bjorn's notes"
   ]
  },
  {
   "cell_type": "code",
   "execution_count": null,
   "metadata": {},
   "outputs": [
    {
     "name": "stdout",
     "output_type": "stream",
     "text": [
      "Dseq(-76)\n",
      "      GTCG..GCCGATCTTT\n",
      "TTGCTACAGC..CGGC      \n",
      "GTCGACTTAGATCTCACAGGCTTTTTTCAAGaCGGCCTTGAATTCAGTCATTTGGATCCGGCCG 69.2154020719779\n",
      "Dseq(-76)\n",
      "      GTCG..CAAGaCGG..CTTT\n",
      "TTGCTACAGC..GTTC          \n",
      "GTCGACTTAGATCTCACAGGCTTTTTTCAAG 55.32225691068758\n",
      "Dseq(-76)\n",
      "          CACA..GCCGATCTTT\n",
      "TTGC..TAGaGTGT..CGGC      \n",
      "CACAGGCTTTTTTCAAGaCGGCCTTGAATTCAGTCATTTGGATCCGGCCG 66.9029020719779\n",
      "Dseq(-76)\n",
      "          CACA..CAAGaCGG..CTTT\n",
      "TTGC..TAGaGTGT..GTTC          \n",
      "CACAGGCTTTTTTCAAG 37.079372660213195\n",
      "[(Dseq(-76)\n",
      "      GTCG..GCCGATCTTT\n",
      "TTGCTACAGC..CGGC      , 69.2154020719779), (Dseq(-76)\n",
      "          CACA..GCCGATCTTT\n",
      "TTGC..TAGaGTGT..CGGC      , 66.9029020719779), (Dseq(-76)\n",
      "      GTCG..CAAGaCGG..CTTT\n",
      "TTGCTACAGC..GTTC          , 55.32225691068758), (Dseq(-76)\n",
      "          CACA..CAAGaCGG..CTTT\n",
      "TTGC..TAGaGTGT..GTTC          , 37.079372660213195)]\n"
     ]
    }
   ],
   "source": [
    "from pydna.tm import tm_product\n",
    "\n",
    "results = []\n",
    "b = Dseq.from_representation(\n",
    "    \"\"\"\\\n",
    "    AACGAuGTCGACTTAGATCuCACAGGCTTTTTTCAAGaCGGCCTTGAATTCAGTCATTTGGATCCGGCCGATCTTT\n",
    "    TTGCTACAGCTGAATCTAGaGTGTCCGAAAAAAGTTCuGCCGGAACTTAAGTCAGTAAACCTAGGCCGGCuAGAAA\n",
    "    \"\"\"\n",
    ")\n",
    "\n",
    "# Iterate through all Us in the forward strand\n",
    "for wcut in b.get_cutsites(ssUSER()):\n",
    "    wcut = wcut[0][0]  # Get position\n",
    "    watson_user = a[wcut:]  # Get the sequence from the cutsite\n",
    "\n",
    "    # Iterate through all Us in the reverse strand\n",
    "    for ccut in Dseq(b.crick).get_cutsites(ssUSER()):\n",
    "        ccut = ccut[0][0]  # Get position\n",
    "        crick_user = Dseq(b.crick)[ccut:]  # Get the sequence from the cutsite\n",
    "        result = Dseq(str(watson_user), crick=str(crick_user), ovhg=wcut)\n",
    "        print(result.__repr__())\n",
    "\n",
    "        # Calculate the Tm of the double stranded portion\n",
    "        ds_portion = a[wcut:-ccut]\n",
    "        tm = tm_product(ds_portion)\n",
    "        print(ds_portion, tm)\n",
    "        results.append((result, tm))\n",
    "    \n",
    "stability_sorted = sorted(results, key=lambda x: x[1], reverse=True)\n",
    "\n"
   ]
  },
  {
   "cell_type": "code",
   "execution_count": null,
   "metadata": {},
   "outputs": [
    {
     "data": {
      "text/plain": [
       "Dseq(-6)\n",
       "TTTTTT\n",
       "    AA"
      ]
     },
     "execution_count": null,
     "metadata": {},
     "output_type": "execute_result"
    }
   ],
   "source": [
    "Dseq(\"TTTTTT\", crick=\"AA\", ovhg=-4)"
   ]
  }
 ],
 "metadata": {
  "kernelspec": {
   "display_name": ".venv",
   "language": "python",
   "name": "python3"
  },
  "language_info": {
   "codemirror_mode": {
    "name": "ipython",
    "version": 3
   },
   "file_extension": ".py",
   "mimetype": "text/x-python",
   "name": "python",
   "nbconvert_exporter": "python",
   "pygments_lexer": "ipython3",
   "version": "3.10.6"
  }
 },
 "nbformat": 4,
 "nbformat_minor": 2
}
