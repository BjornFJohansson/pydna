{
 "cells": [
  {
   "cell_type": "code",
   "execution_count": 1,
   "metadata": {},
   "outputs": [],
   "source": [
    "import os\n",
    "cache = os.getenv(\"pydna_cache\")\n",
    "os.environ[\"pydna_cached_funcs\"]=\"nocache\""
   ]
  },
  {
   "cell_type": "code",
   "execution_count": 2,
   "metadata": {},
   "outputs": [],
   "source": [
    "try:\n",
    "    from pydna.readers import read\n",
    "    from pydna.dseqrecord import Dseqrecord\n",
    "except ImportError:\n",
    "    import sys, os\n",
    "    sys.path.append(os.pardir)  \n",
    "    from pydna.readers import read\n",
    "    from pydna.dseqrecord import Dseqrecord"
   ]
  },
  {
   "cell_type": "code",
   "execution_count": 3,
   "metadata": {},
   "outputs": [],
   "source": [
    "from Bio.Seq import Seq\n",
    "from Bio.SeqRecord import SeqRecord"
   ]
  },
  {
   "cell_type": "code",
   "execution_count": 4,
   "metadata": {},
   "outputs": [],
   "source": [
    "sr = SeqRecord(Seq(\"aaa\"), annotations={\"molecule_type\": \"DNA\"})"
   ]
  },
  {
   "cell_type": "code",
   "execution_count": 5,
   "metadata": {},
   "outputs": [
    {
     "name": "stdout",
     "output_type": "stream",
     "text": [
      "LOCUS       .                          3 bp    DNA              UNK 01-JAN-1980\n",
      "DEFINITION  .\n",
      "ACCESSION   <unknown id>\n",
      "VERSION     <unknown id>\n",
      "KEYWORDS    .\n",
      "SOURCE      .\n",
      "  ORGANISM  .\n",
      "            .\n",
      "FEATURES             Location/Qualifiers\n",
      "ORIGIN\n",
      "        1 aaa\n",
      "//\n",
      "\n"
     ]
    }
   ],
   "source": [
    "print( sr.format(\"gb\") )"
   ]
  },
  {
   "cell_type": "code",
   "execution_count": 6,
   "metadata": {},
   "outputs": [
    {
     "data": {
      "text/plain": [
       "LOCUS       .                          3 bp    DNA     linear   UNK 20-DEC-2016\n",
       "DEFINITION  .\n",
       "ACCESSION   <unknown id>\n",
       "VERSION     <unknown id>\n",
       "KEYWORDS    .\n",
       "SOURCE      .\n",
       "  ORGANISM  .\n",
       "            .\n",
       "FEATURES             Location/Qualifiers\n",
       "ORIGIN\n",
       "        1 aaa\n",
       "//"
      ]
     },
     "execution_count": 6,
     "metadata": {},
     "output_type": "execute_result"
    }
   ],
   "source": [
    "dsr=Dseqrecord(sr)\n",
    "dsr.annotations[\"date\"]=\"20-DEC-2016\"\n",
    "dsr.format()"
   ]
  },
  {
   "cell_type": "code",
   "execution_count": 7,
   "metadata": {},
   "outputs": [
    {
     "data": {
      "text/plain": [
       "LOCUS       name                       3 bp    DNA     linear   UNK 20-DEC-2016\n",
       "DEFINITION  description.\n",
       "ACCESSION   id\n",
       "VERSION     id\n",
       "KEYWORDS    .\n",
       "SOURCE      .\n",
       "  ORGANISM  .\n",
       "            .\n",
       "FEATURES             Location/Qualifiers\n",
       "ORIGIN\n",
       "        1 aaa\n",
       "//"
      ]
     },
     "execution_count": 7,
     "metadata": {},
     "output_type": "execute_result"
    }
   ],
   "source": [
    "dsr=Dseqrecord(\"aaa\")\n",
    "dsr.annotations[\"date\"]=\"20-DEC-2016\"\n",
    "dsr.format()"
   ]
  },
  {
   "cell_type": "code",
   "execution_count": 8,
   "metadata": {},
   "outputs": [
    {
     "data": {
      "text/plain": [
       "LOCUS       abc                        3 bp    DNA     linear   UNK 20-DEC-2016\n",
       "DEFINITION  abc.\n",
       "ACCESSION   abc\n",
       "VERSION     abc\n",
       "KEYWORDS    .\n",
       "SOURCE      .\n",
       "  ORGANISM  .\n",
       "            .\n",
       "FEATURES             Location/Qualifiers\n",
       "ORIGIN\n",
       "        1 aaa\n",
       "//"
      ]
     },
     "execution_count": 8,
     "metadata": {},
     "output_type": "execute_result"
    }
   ],
   "source": [
    "dsr2=read(\">abc\\naaa\")\n",
    "dsr2.annotations[\"date\"]=\"20-DEC-2016\"\n",
    "dsr2.format()"
   ]
  },
  {
   "cell_type": "code",
   "execution_count": 9,
   "metadata": {},
   "outputs": [
    {
     "data": {
      "text/plain": [
       "SeqRecord(seq=Seq('aaa'), id='abc', name='abc', description='abc', dbxrefs=[])"
      ]
     },
     "execution_count": 9,
     "metadata": {},
     "output_type": "execute_result"
    }
   ],
   "source": [
    "read(\">abc\\naaa\", ds=False)"
   ]
  }
 ],
 "metadata": {
  "anaconda-cloud": {},
  "kernelspec": {
   "display_name": "Python [conda env:bjorn38]",
   "language": "python",
   "name": "conda-env-bjorn38-py"
  },
  "language_info": {
   "codemirror_mode": {
    "name": "ipython",
    "version": 3
   },
   "file_extension": ".py",
   "mimetype": "text/x-python",
   "name": "python",
   "nbconvert_exporter": "python",
   "pygments_lexer": "ipython3",
   "version": "3.8.5"
  }
 },
 "nbformat": 4,
 "nbformat_minor": 4
}
