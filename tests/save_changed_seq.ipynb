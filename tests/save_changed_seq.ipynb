{
 "cells": [
  {
   "cell_type": "code",
   "execution_count": 1,
   "metadata": {
    "collapsed": false,
    "jupyter": {
     "outputs_hidden": false
    }
   },
   "outputs": [],
   "source": [
    "try:\n",
    "    from pydna.dseqrecord import Dseqrecord\n",
    "except ImportError:\n",
    "    import sys, os\n",
    "    sys.path.append(os.pardir)\n",
    "    from pydna.dseqrecord import Dseqrecord"
   ]
  },
  {
   "cell_type": "code",
   "execution_count": 2,
   "metadata": {
    "collapsed": false,
    "jupyter": {
     "outputs_hidden": false
    }
   },
   "outputs": [],
   "source": [
    "a = Dseqrecord(\"aaa\")"
   ]
  },
  {
   "cell_type": "code",
   "execution_count": 3,
   "metadata": {
    "collapsed": false,
    "jupyter": {
     "outputs_hidden": false
    }
   },
   "outputs": [
    {
     "data": {
      "text/html": [
       "<font face=monospace><a href='file_written_from_notebook.gb' target='_blank'>file_written_from_notebook.gb</a></font><br>"
      ]
     },
     "metadata": {},
     "output_type": "display_data"
    }
   ],
   "source": [
    "a.write(\"file_written_from_notebook.gb\")"
   ]
  },
  {
   "cell_type": "code",
   "execution_count": 4,
   "metadata": {
    "tags": []
   },
   "outputs": [],
   "source": [
    "b = Dseqrecord(\"aat\")"
   ]
  },
  {
   "cell_type": "code",
   "execution_count": 5,
   "metadata": {
    "collapsed": false,
    "jupyter": {
     "outputs_hidden": false
    }
   },
   "outputs": [
    {
     "data": {
      "text/html": [
       "\n",
       "                <table style=\"padding:10px 10px;\n",
       "                word-break:normal;\n",
       "                border-color:#fe0000;\n",
       "                border-collapse:collapse;\n",
       "                border-spacing:1;\n",
       "                font-family:monospace;\n",
       "                font-size:large;\n",
       "                font-weight:bold;\n",
       "                text-align:left;\n",
       "                border: 5px solid red;\">\n",
       "                <thead>\n",
       "                  <tr style=\"color:#0000FF;border: 1px solid;text-align:left;\">\n",
       "                    <th style=\"color:#fe0000;border: 1px solid;text-align:center;font-size:xxx-large;text-align:left;\">&#9888</th>\n",
       "                    <th style=\"color:#f56b00;border: 1px solid;text-align:left;\" colspan=\"2\">Sequence change</th>\n",
       "                  </tr>\n",
       "                </thead>\n",
       "                <tbody>\n",
       "                  <tr style=\"color:#0000FF;border: 1px solid;text-align:left;\">\n",
       "                    <td>Filename</td>\n",
       "                    <td style=\"color:#fe0000;border: 1px solid;text-align:left;\"><a href='file_written_from_notebook.gb' target='_blank'>file_written_from_notebook.gb</a></td>\n",
       "                    <td style=\"color:#32cb00;border: 1px solid;text-align:left;\"><a href='file_written_from_notebook_OLD_1644473718408049.gb' target='_blank'>file_written_from_notebook_OLD_1644473718408049.gb</a></td>\n",
       "                  </tr>\n",
       "                  <tr style=\"color:#0000FF;border: 1px solid;text-align:left;\">\n",
       "                    <td >Saved</td>\n",
       "                    <td style=\"color:#fe0000;border: 1px solid;text-align:left;\">2022-02-10T06:15:18.403367</td>\n",
       "                    <td style=\"color:#32cb00;border: 1px solid;text-align:left;\">2022-02-10T06:15:18.375386</td>\n",
       "                  </tr>\n",
       "                  <tr style=\"color:#0000FF;border: 1px solid;text-align:left;\">\n",
       "                    <td>Length</td>\n",
       "                    <td style=\"color:#fe0000;border: 1px solid;text-align:left;\">3</td>\n",
       "                    <td style=\"color:#32cb00;border: 1px solid;text-align:left;\">3</td>\n",
       "                  </tr>\n",
       "                  <tr style=\"color:#0000FF;border: 1px solid;text-align:left;\">\n",
       "                    <td>SEGUID</td>\n",
       "                    <td style=\"color:#fe0000;border: 1px solid;text-align:left;\">zoN2ivDc-BPzP5i2HQsz8Nuzei4</td>\n",
       "                    <td style=\"color:#32cb00;border: 1px solid;text-align:left;\">YG7G6b2Kj_KtFOX63j8mRHHoIlE</td>\n",
       "                  </tr>\n",
       "                  <tr style=\"color:#0000FF;border: 1px solid;text-align:left;\">\n",
       "                    <td>cSEGUID</td>\n",
       "                    <td style=\"color:#fe0000;border: 1px solid;text-align:left;\">na</td>\n",
       "                    <td style=\"color:#32cb00;border: 1px solid;text-align:left;\">na</td>\n",
       "                  </tr>\n",
       "                </tbody>\n",
       "                </table>\n",
       "                "
      ]
     },
     "metadata": {},
     "output_type": "display_data"
    }
   ],
   "source": [
    "# NBVAL_IGNORE_OUTPUT\n",
    "b.write(\"file_written_from_notebook.gb\")"
   ]
  },
  {
   "cell_type": "code",
   "execution_count": 6,
   "metadata": {
    "tags": []
   },
   "outputs": [],
   "source": [
    "import os"
   ]
  },
  {
   "cell_type": "code",
   "execution_count": 7,
   "metadata": {
    "tags": []
   },
   "outputs": [],
   "source": [
    "os.remove(\"file_written_from_notebook.gb\")"
   ]
  },
  {
   "cell_type": "code",
   "execution_count": 8,
   "metadata": {},
   "outputs": [],
   "source": [
    "import glob"
   ]
  },
  {
   "cell_type": "code",
   "execution_count": 9,
   "metadata": {},
   "outputs": [],
   "source": [
    "for filePath in glob.glob(\"file_written_from_notebook_OLD_*\", recursive=False):\n",
    "    try:\n",
    "        os.remove(filePath)\n",
    "    except OSError:\n",
    "        print(\"Error while deleting file\")"
   ]
  },
  {
   "cell_type": "code",
   "execution_count": 10,
   "metadata": {
    "tags": []
   },
   "outputs": [
    {
     "data": {
      "text/plain": [
       "[]"
      ]
     },
     "execution_count": 10,
     "metadata": {},
     "output_type": "execute_result"
    }
   ],
   "source": [
    "glob.glob(\"file_written_from_notebook_OLD_*\")"
   ]
  }
 ],
 "metadata": {
  "anaconda-cloud": {},
  "kernelspec": {
   "display_name": "Python [conda env:bjorn38]",
   "language": "python",
   "name": "conda-env-bjorn38-py"
  },
  "language_info": {
   "codemirror_mode": {
    "name": "ipython",
    "version": 3
   },
   "file_extension": ".py",
   "mimetype": "text/x-python",
   "name": "python",
   "nbconvert_exporter": "python",
   "pygments_lexer": "ipython3",
   "version": "3.8.5"
  }
 },
 "nbformat": 4,
 "nbformat_minor": 4
}
