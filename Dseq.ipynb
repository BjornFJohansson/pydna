{
 "cells": [
  {
   "cell_type": "markdown",
   "metadata": {},
   "source": [
    "##### [Full pydna documentation](https://bjornfjohansson.github.io/pydna/)\n"
   ]
  },
  {
   "cell_type": "markdown",
   "metadata": {},
   "source": [
    "For reference, the Dseq class is a subclass of `Bio.Seq.Seq`, whose documentation can be found [here](https://biopython.org/wiki/Seq). The `Seq` object created from `Bio.Seq.Seq` is a single stranded sequence. pydna improves on the `Seq` object created to make double stranded sequences that can be manipulated with modern molecular biology methods (E.g cloning and cutting)."
   ]
  },
  {
   "cell_type": "markdown",
   "metadata": {},
   "source": [
    "\n",
    "# Dseq Class\n",
    "\n",
    "The Dseq class can create a double-stranded DNA object using two approaches. For one, the DNA sequence can be passed directly as a single string, representing the sense/`watson`strand. The anti-sense/`crick` strand is autoamtically generated. This can be the sequence provided in .gb files, for instance. **Note that in pydna, ***all*** DNA sequences must be passed from a 5'-3' direction**. The number presented denotes the length of the Dseq object; the \"-\" denotes linearity. A ciruclar Dseq object (described later) is shown with \"o\". For example:"
   ]
  },
  {
   "cell_type": "code",
   "execution_count": 78,
   "metadata": {},
   "outputs": [
    {
     "data": {
      "text/plain": [
       "Dseq(-5)\n",
       "aatat\n",
       "ttata"
      ]
     },
     "execution_count": 78,
     "metadata": {},
     "output_type": "execute_result"
    }
   ],
   "source": [
    "from pydna.dseq import Dseq\n",
    "my_seq = Dseq(\"aatat\")\n",
    "my_seq"
   ]
  },
  {
   "cell_type": "markdown",
   "metadata": {},
   "source": [
    "Alternatively, two DNA sequences can be passed as strings to represent the `watson` and `crick` strands. `watson` denotes the sense strand, and `crick` denotes the anti-sense strand. Again, both the `watson` and `crick` strands must be passed from a 5'-3' direction. "
   ]
  },
  {
   "cell_type": "code",
   "execution_count": 79,
   "metadata": {},
   "outputs": [
    {
     "data": {
      "text/plain": [
       "Dseq(-5)\n",
       "aATAt\n",
       "ttata"
      ]
     },
     "execution_count": 79,
     "metadata": {},
     "output_type": "execute_result"
    }
   ],
   "source": [
    "my_seq = Dseq(\"aATAt\", \"atatt\")\n",
    "my_seq"
   ]
  },
  {
   "cell_type": "markdown",
   "metadata": {},
   "source": [
    "Of note, the DNA sequence can be passed in both lower case and upper case, and are not restricted to the conventional ATCG nucleotides (E.g ), The class supports the IUPAC ambiguous nucleotide code."
   ]
  },
  {
   "cell_type": "markdown",
   "metadata": {},
   "source": [
    "## Dseq Class Parameters\n",
    "\n",
    "The Dseq object can model various properties of real biological sequences. For a linear DNA sequence, overhangs (`ovhg`) can be added. A 5 prime (5') overhang can be specified, and the 3' overhang is automatically generated using the `watson` and  `crick` strands. A `crick` strand must be provided. For example: "
   ]
  },
  {
   "cell_type": "code",
   "execution_count": 80,
   "metadata": {},
   "outputs": [
    {
     "data": {
      "text/plain": [
       "Dseq(-7)\n",
       "aatat\n",
       "  ttata"
      ]
     },
     "execution_count": 80,
     "metadata": {},
     "output_type": "execute_result"
    }
   ],
   "source": [
    "my_seq = Dseq(\"aatat\", \"atatt\", ovhg=-2)\n",
    "my_seq"
   ]
  },
  {
   "cell_type": "markdown",
   "metadata": {},
   "source": [
    "pydna defines each overhang as the number of nucleotides from the 3' end to the complementary strand's 5' end. The best way to understand how the overhangs work is to visualise the possible scenarios as such:\n",
    "\n",
    "\n",
    "        dsDNA       overhang\n",
    "\n",
    "          nnn...    2\n",
    "        nnnnn...\n",
    "\n",
    "         nnnn...    1\n",
    "        nnnnn...\n",
    "\n",
    "        nnnnn...    0\n",
    "        nnnnn...\n",
    "\n",
    "        nnnnn...   -1\n",
    "         nnnn...\n",
    "\n",
    "        nnnnn...   -2\n",
    "          nnn...\n",
    "\n",
    "Another way to pass the overhangs is to use the `from_full_sequence_and_overhangs` classmethod, which only needs the `watson`/sense strand. This is useful if your file provides only the `watson` strand, or if you want to specify overhangs on both sides of the double stranded DNA.\n",
    "\n",
    "Both the `watson_ovhg` and `crick_ovhg` can be passed following the same rules as above. Specifically, the `crick_ovhg` argument is identical to the conventional `ovhg` argument. The `watson_ovhg` argument is bascially the `ovhg` argument applied to the reverse complementary sequence. This can be visualised in a basic drawing here:\n",
    "\n",
    "      (-3)--(-2)--(-1)--(x)--(x)--(x)--(-1)--(-2)\n",
    "      \n",
    "    5'( a)--( a)--( a)--(t)--(t)--(a)--( a)--( a)3'\n",
    "    3'( a)--( a)--( a)--(t)--(t)--(a)--( a)--( a)5'\n",
    "\n",
    "    5'( a)--( a)--( a)--(t)--(t)--(a)--(  )--(  )3'\n",
    "    3'(  )--(  )--(  )--(t)--(t)--(a)--( a)--( a)5'\n",
    "\n",
    "And this is show in the code below, too:\n"
   ]
  },
  {
   "cell_type": "code",
   "execution_count": 81,
   "metadata": {},
   "outputs": [
    {
     "data": {
      "text/plain": [
       "Dseq(-8)\n",
       "aaatta\n",
       "   aattt"
      ]
     },
     "execution_count": 81,
     "metadata": {},
     "output_type": "execute_result"
    }
   ],
   "source": [
    "my_seq = Dseq.from_full_sequence_and_overhangs(\"aaattaaa\", crick_ovhg=-3, watson_ovhg=-2)\n",
    "my_seq"
   ]
  },
  {
   "cell_type": "markdown",
   "metadata": {},
   "source": [
    "A list of possible scenarios, applying positive and negative `crick_ovhg` and `watson_ovhg` to a `Dseq` object are visualised in the output of the code below:"
   ]
  },
  {
   "cell_type": "code",
   "execution_count": 82,
   "metadata": {},
   "outputs": [
    {
     "name": "stdout",
     "output_type": "stream",
     "text": [
      "watson_ovhg is -3, crick_ovhg is -2\n",
      "Dseq(-8)\n",
      "aaatt\n",
      "  taattt\n",
      "\n",
      "watson_ovhg is 3, crick_ovhg is -2\n",
      "Dseq(-8)\n",
      "aaattaaa\n",
      "  taa\n",
      "\n",
      "watson_ovhg is -3, crick_ovhg is 2\n",
      "Dseq(-8)\n",
      "  att\n",
      "tttaattt\n",
      "\n",
      "watson_ovhg is 3, crick_ovhg is 2\n",
      "Dseq(-8)\n",
      "  attaaa\n",
      "tttaa\n",
      "\n"
     ]
    }
   ],
   "source": [
    "for crick_ovhg in [-2, 2]:\n",
    "    for watson_ovhg in [-3, 3]:\n",
    "        print(\"watson_ovhg is \" + str(watson_ovhg) + \", crick_ovhg is \" + str(crick_ovhg))\n",
    "        my_seq = Dseq.from_full_sequence_and_overhangs(\"aaattaaa\", crick_ovhg, watson_ovhg)\n",
    "        print(my_seq.__repr__() + \"\\n\")"
   ]
  },
  {
   "cell_type": "markdown",
   "metadata": {},
   "source": [
    "If you would like to check the overhangs for a `Dseq` object, it can be done by calling the methods `five_prime_end` and `three_prime_end` to show the 5' and 3' overhangs, respectively. An example of a `Dseq` object, and examples showing what the print-out of the methods looks like are demonstrated here:"
   ]
  },
  {
   "cell_type": "code",
   "execution_count": 83,
   "metadata": {},
   "outputs": [
    {
     "name": "stdout",
     "output_type": "stream",
     "text": [
      "Dseq(-7)\n",
      "aatat\n",
      "  ttata\n",
      "(\"5'\", 'aa')\n",
      "(\"5'\", 'at')\n"
     ]
    }
   ],
   "source": [
    "my_seq = Dseq(\"aatat\", \"atatt\", ovhg=-2)\n",
    "print(my_seq.__repr__())\n",
    "print(my_seq.five_prime_end())\n",
    "print(my_seq.three_prime_end())"
   ]
  },
  {
   "cell_type": "markdown",
   "metadata": {},
   "source": [
    "To deal with ciruclar sequences (e.g. plasmids), the argument `circular=True` can also be passed. Note that the ends of the DNA fragment must be blunt, to set `circular=True`. In other words, `ovhg` must be `ovhg=0`."
   ]
  },
  {
   "cell_type": "code",
   "execution_count": 84,
   "metadata": {},
   "outputs": [
    {
     "data": {
      "text/plain": [
       "Dseq(o5)\n",
       "aatat\n",
       "ttata"
      ]
     },
     "execution_count": 84,
     "metadata": {},
     "output_type": "execute_result"
    }
   ],
   "source": [
    "my_seq = Dseq(\"aatat\", circular=True)\n",
    "my_seq"
   ]
  },
  {
   "cell_type": "markdown",
   "metadata": {},
   "source": [
    "## __getitem__, __repr__, and  __str__ methods\n",
    "\n",
    "### __getitem__\n",
    "\n",
    "The `__getitem__` method is modified in pydna to deal with `Dseq` objects. For the unfamililar, `__getitem__` is essentially identical in practice as `[]` and *slices*. In pydna, `__getitem__` is used to return a specific tract of the `Dseq` object, defined by the a start value and a stop value. In other words, `__getitem__` indexes `Dseq`. In pratice, it is recommended to use the `[]` notation for convinience, as shown below. Note that '__getitem__' (and, consequently, `[]`) employs the python counting method, starting from 0.  "
   ]
  },
  {
   "cell_type": "code",
   "execution_count": 85,
   "metadata": {},
   "outputs": [
    {
     "data": {
      "text/plain": [
       "Dseq(-3)\n",
       "tat\n",
       "ata"
      ]
     },
     "execution_count": 85,
     "metadata": {},
     "output_type": "execute_result"
    }
   ],
   "source": [
    "my_seq = Dseq(\"aatataa\")\n",
    "my_seq[2:5]\n"
   ]
  },
  {
   "cell_type": "markdown",
   "metadata": {},
   "source": [
    "`__getitem__` also works with overhangs. Overhangs provided using both the `ovhg` parameter or the `from_full_sequence_and_overhangs` class method works with `__getitem__`."
   ]
  },
  {
   "cell_type": "code",
   "execution_count": 86,
   "metadata": {},
   "outputs": [
    {
     "data": {
      "text/plain": [
       "Dseq(-5)\n",
       "tata\n",
       "atatt"
      ]
     },
     "execution_count": 86,
     "metadata": {},
     "output_type": "execute_result"
    }
   ],
   "source": [
    "my_seq = Dseq.from_full_sequence_and_overhangs(\"aatataa\", crick_ovhg=0, watson_ovhg=-1)\n",
    "my_seq[2:7]"
   ]
  },
  {
   "cell_type": "markdown",
   "metadata": {},
   "source": [
    "When applying `__getitem__` to circular `Dseq` objects, the method reads the sequence as if it is circular, looping around position 0 of the sequence. The sequence returned is linear. If you would like to make the sequence circular again, please refer to the `looped` method on the Dseq_protocols page."
   ]
  },
  {
   "cell_type": "code",
   "execution_count": 87,
   "metadata": {},
   "outputs": [
    {
     "data": {
      "text/plain": [
       "Dseq(-4)\n",
       "aaaa\n",
       "tttt"
      ]
     },
     "execution_count": 87,
     "metadata": {},
     "output_type": "execute_result"
    }
   ],
   "source": [
    "my_seq = Dseq(\"aatataa\", circular=True)\n",
    "my_seq[5:2]"
   ]
  },
  {
   "cell_type": "markdown",
   "metadata": {},
   "source": [
    "### __repr__ and __str__\n",
    "\n",
    "`__repr__` and `__str__` methods are used in python to show the double stranded sequences in a readable format. In pydna, it is highly recommended to use `__repr__` (i.e. 'the variable') which returns the representation of the `Dseq` object that you have seen so far. Using `__str__`, which is practically equivalent to the `print` function, will not yield the useful representation. A faulty example is show below:"
   ]
  },
  {
   "cell_type": "code",
   "execution_count": 88,
   "metadata": {},
   "outputs": [
    {
     "name": "stdout",
     "output_type": "stream",
     "text": [
      "aatataa\n"
     ]
    }
   ],
   "source": [
    "my_seq = Dseq(\"aatataa\")\n",
    "print(my_seq)"
   ]
  },
  {
   "cell_type": "markdown",
   "metadata": {},
   "source": [
    "And a corrected example, using `__repr__` is shown here too:"
   ]
  },
  {
   "cell_type": "code",
   "execution_count": 89,
   "metadata": {},
   "outputs": [
    {
     "data": {
      "text/plain": [
       "Dseq(-7)\n",
       "aatataa\n",
       "ttatatt"
      ]
     },
     "execution_count": 89,
     "metadata": {},
     "output_type": "execute_result"
    }
   ],
   "source": [
    "my_seq = Dseq(\"aatataa\")\n",
    "my_seq.__repr__()"
   ]
  },
  {
   "cell_type": "markdown",
   "metadata": {},
   "source": [
    "Which is equivalent to:"
   ]
  },
  {
   "cell_type": "code",
   "execution_count": 90,
   "metadata": {},
   "outputs": [
    {
     "data": {
      "text/plain": [
       "Dseq(-7)\n",
       "aatataa\n",
       "ttatatt"
      ]
     },
     "execution_count": 90,
     "metadata": {},
     "output_type": "execute_result"
    }
   ],
   "source": [
    "my_seq = Dseq(\"aatataa\")\n",
    "my_seq"
   ]
  }
 ],
 "metadata": {
  "kernelspec": {
   "display_name": ".venv",
   "language": "python",
   "name": "python3"
  },
  "language_info": {
   "codemirror_mode": {
    "name": "ipython",
    "version": 3
   },
   "file_extension": ".py",
   "mimetype": "text/x-python",
   "name": "python",
   "nbconvert_exporter": "python",
   "pygments_lexer": "ipython3",
   "version": "3.12.4"
  }
 },
 "nbformat": 4,
 "nbformat_minor": 2
}
