{
 "cells": [
  {
   "cell_type": "markdown",
   "metadata": {},
   "source": [
    "# New cut implementation\n"
   ]
  },
  {
   "cell_type": "code",
   "execution_count": null,
   "metadata": {},
   "outputs": [],
   "source": [
    "# Coming soon\n",
    "# seq = Dseq('aaGAATTCaa', circular=True)\n",
    "\n",
    "# print('EcORI', EcoRI.ovhg, len(seq))\n",
    "# for shift in range(len(seq)):\n",
    "#     seq_shifted = seq.shifted(shift)\n",
    "#     cut_site = seq_shifted.get_cutsites(EcoRI)[0][0]\n",
    "#     print(shift, seq_shifted, cut_site, cut_site[0] - cut_site[1])\n",
    "\n",
    "# seq = Dseq('ccTTAATTAAcc', circular=True)\n",
    "# print('PacI', PacI.ovhg, len(seq))\n",
    "# for shift in range(len(seq)):\n",
    "#     seq_shifted = seq.shifted(shift)\n",
    "#     cut_site = seq_shifted.get_cutsites(PacI)[0][0]\n",
    "#     print(shift, seq_shifted, cut_site, cut_site[0] - cut_site[1])\n",
    "\n",
    "\n",
    "# seq = Dseq('TTAAccccTTAA', circular=True)\n",
    "# custom_cut = ((1, 11), type('DynamicClass', (), {'ovhg': 2})())\n",
    "# print(seq.apply_cut(custom_cut, custom_cut).__repr__())\n",
    "\n",
    "# print()\n",
    "\n",
    "# custom_cut = ((1, 11), type('DynamicClass', (), {'ovhg': -10})())\n",
    "# print(seq.apply_cut(custom_cut, custom_cut).__repr__())"
   ]
  }
 ],
 "metadata": {
  "language_info": {
   "name": "python"
  }
 },
 "nbformat": 4,
 "nbformat_minor": 2
}
