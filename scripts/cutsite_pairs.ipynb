{
 "cells": [
  {
   "cell_type": "markdown",
   "metadata": {},
   "source": [
    "# New cut implementation\n"
   ]
  },
  {
   "cell_type": "code",
   "execution_count": 2,
   "metadata": {},
   "outputs": [],
   "source": [
    "# Coming soon\n",
    "# seq = Dseq('aaGAATTCaa', circular=True)\n",
    "\n",
    "# print('EcORI', EcoRI.ovhg, len(seq))\n",
    "# for shift in range(len(seq)):\n",
    "#     seq_shifted = seq.shifted(shift)\n",
    "#     cut_site = seq_shifted.get_cutsites(EcoRI)[0][0]\n",
    "#     print(shift, seq_shifted, cut_site, cut_site[0] - cut_site[1])\n",
    "\n",
    "# seq = Dseq('ccTTAATTAAcc', circular=True)\n",
    "# print('PacI', PacI.ovhg, len(seq))\n",
    "# for shift in range(len(seq)):\n",
    "#     seq_shifted = seq.shifted(shift)\n",
    "#     cut_site = seq_shifted.get_cutsites(PacI)[0][0]\n",
    "#     print(shift, seq_shifted, cut_site, cut_site[0] - cut_site[1])\n",
    "\n",
    "\n",
    "# seq = Dseq('TTAAccccTTAA', circular=True)\n",
    "# custom_cut = ((1, 11), type('DynamicClass', (), {'ovhg': 2})())\n",
    "# print(seq.apply_cut(custom_cut, custom_cut).__repr__())\n",
    "\n",
    "# print()\n",
    "\n",
    "# custom_cut = ((1, 11), type('DynamicClass', (), {'ovhg': -10})())\n",
    "# print(seq.apply_cut(custom_cut, custom_cut).__repr__())"
   ]
  }
 ],
 "metadata": {
  "kernelspec": {
   "display_name": ".venv",
   "language": "python",
   "name": "python3"
  },
  "language_info": {
   "codemirror_mode": {
    "name": "ipython",
    "version": 3
   },
   "file_extension": ".py",
   "mimetype": "text/x-python",
   "name": "python",
   "nbconvert_exporter": "python",
   "pygments_lexer": "ipython3",
   "version": "3.9.7"
  }
 },
 "nbformat": 4,
 "nbformat_minor": 2
}
