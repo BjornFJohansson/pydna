{
 "cells": [
  {
   "cell_type": "code",
   "execution_count": 20,
   "metadata": {
    "tags": []
   },
   "outputs": [],
   "source": [
    "from Bio.SeqRecord import SeqRecord\n",
    "from Bio.Seq import Seq"
   ]
  },
  {
   "cell_type": "code",
   "execution_count": 21,
   "metadata": {
    "tags": []
   },
   "outputs": [],
   "source": [
    "x = SeqRecord(Seq(\"AAA\"))"
   ]
  },
  {
   "cell_type": "code",
   "execution_count": 22,
   "metadata": {},
   "outputs": [
    {
     "data": {
      "text/plain": [
       "{'_seq': Seq('AAA'),\n",
       " 'id': '<unknown id>',\n",
       " 'name': '<unknown name>',\n",
       " 'description': '<unknown description>',\n",
       " 'dbxrefs': [],\n",
       " 'annotations': {},\n",
       " '_per_letter_annotations': {},\n",
       " 'features': []}"
      ]
     },
     "execution_count": 22,
     "metadata": {},
     "output_type": "execute_result"
    }
   ],
   "source": [
    "x.__dict__"
   ]
  },
  {
   "cell_type": "code",
   "execution_count": 23,
   "metadata": {},
   "outputs": [
    {
     "data": {
      "text/plain": [
       "{}"
      ]
     },
     "execution_count": 23,
     "metadata": {},
     "output_type": "execute_result"
    }
   ],
   "source": [
    "x.seq.__dict__"
   ]
  },
  {
   "cell_type": "code",
   "execution_count": 24,
   "metadata": {},
   "outputs": [
    {
     "name": "stdout",
     "output_type": "stream",
     "text": [
      "<unknown id>\tAAA\n",
      "\n"
     ]
    }
   ],
   "source": [
    "print(x.format(\"tab\"))"
   ]
  },
  {
   "cell_type": "code",
   "execution_count": 25,
   "metadata": {},
   "outputs": [],
   "source": [
    "x.annotations[\"molecule_type\"] = \"DNA\""
   ]
  },
  {
   "cell_type": "code",
   "execution_count": 26,
   "metadata": {},
   "outputs": [],
   "source": [
    "x.annotations[\"topology\"] = \"circular\""
   ]
  },
  {
   "cell_type": "code",
   "execution_count": 27,
   "metadata": {},
   "outputs": [
    {
     "name": "stdout",
     "output_type": "stream",
     "text": [
      "LOCUS       .                          3 bp    DNA     circular UNK 01-JAN-1980\n",
      "DEFINITION  .\n",
      "ACCESSION   <unknown id>\n",
      "VERSION     <unknown id>\n",
      "KEYWORDS    .\n",
      "SOURCE      .\n",
      "  ORGANISM  .\n",
      "            .\n",
      "FEATURES             Location/Qualifiers\n",
      "ORIGIN\n",
      "        1 aaa\n",
      "//\n",
      "\n"
     ]
    }
   ],
   "source": [
    "print(x.format(\"gb\"))"
   ]
  },
  {
   "cell_type": "code",
   "execution_count": 28,
   "metadata": {},
   "outputs": [
    {
     "data": {
      "text/plain": [
       "'<unknown description>'"
      ]
     },
     "execution_count": 28,
     "metadata": {},
     "output_type": "execute_result"
    }
   ],
   "source": [
    "x.description"
   ]
  },
  {
   "cell_type": "code",
   "execution_count": 29,
   "metadata": {
    "tags": []
   },
   "outputs": [],
   "source": [
    "x.name= \"name\""
   ]
  },
  {
   "cell_type": "code",
   "execution_count": 30,
   "metadata": {},
   "outputs": [
    {
     "name": "stdout",
     "output_type": "stream",
     "text": [
      "LOCUS       name                       3 bp    DNA     circular UNK 01-JAN-1980\n",
      "DEFINITION  .\n",
      "ACCESSION   <unknown id>\n",
      "VERSION     <unknown id>\n",
      "KEYWORDS    .\n",
      "SOURCE      .\n",
      "  ORGANISM  .\n",
      "            .\n",
      "FEATURES             Location/Qualifiers\n",
      "ORIGIN\n",
      "        1 aaa\n",
      "//\n",
      "\n"
     ]
    }
   ],
   "source": [
    "print(x.format(\"gb\"))"
   ]
  },
  {
   "cell_type": "code",
   "execution_count": 30,
   "metadata": {},
   "outputs": [
    {
     "name": "stdout",
     "output_type": "stream",
     "text": [
      "<unknown id>\tAAA\n",
      "\n"
     ]
    }
   ],
   "source": [
    "print(x.format(\"tab\"))"
   ]
  },
  {
   "cell_type": "code",
   "execution_count": 31,
   "metadata": {},
   "outputs": [],
   "source": [
    "x.id = \"id\""
   ]
  },
  {
   "cell_type": "code",
   "execution_count": 32,
   "metadata": {},
   "outputs": [
    {
     "name": "stdout",
     "output_type": "stream",
     "text": [
      "LOCUS       name                       3 bp    DNA              UNK 01-JAN-1980\n",
      "DEFINITION  .\n",
      "ACCESSION   id\n",
      "VERSION     id\n",
      "KEYWORDS    .\n",
      "SOURCE      .\n",
      "  ORGANISM  .\n",
      "            .\n",
      "FEATURES             Location/Qualifiers\n",
      "ORIGIN\n",
      "        1 aaa\n",
      "//\n",
      "\n"
     ]
    }
   ],
   "source": [
    "print(x.format(\"gb\"))"
   ]
  },
  {
   "cell_type": "code",
   "execution_count": 33,
   "metadata": {},
   "outputs": [],
   "source": [
    "x.description = \"description\""
   ]
  },
  {
   "cell_type": "code",
   "execution_count": 34,
   "metadata": {},
   "outputs": [
    {
     "name": "stdout",
     "output_type": "stream",
     "text": [
      "LOCUS       name                       3 bp    DNA              UNK 01-JAN-1980\n",
      "DEFINITION  description.\n",
      "ACCESSION   id\n",
      "VERSION     id\n",
      "KEYWORDS    .\n",
      "SOURCE      .\n",
      "  ORGANISM  .\n",
      "            .\n",
      "FEATURES             Location/Qualifiers\n",
      "ORIGIN\n",
      "        1 aaa\n",
      "//\n",
      "\n"
     ]
    }
   ],
   "source": [
    "print( x.format(\"gb\") )"
   ]
  },
  {
   "cell_type": "code",
   "execution_count": 35,
   "metadata": {},
   "outputs": [
    {
     "name": "stdout",
     "output_type": "stream",
     "text": [
      "ID: id\n",
      "Name: name\n",
      "Description: description\n",
      "Number of features: 0\n",
      "/molecule_type=DNA\n",
      "Seq('AAA')\n"
     ]
    }
   ],
   "source": [
    "print(x)"
   ]
  },
  {
   "cell_type": "code",
   "execution_count": 36,
   "metadata": {},
   "outputs": [
    {
     "name": "stdout",
     "output_type": "stream",
     "text": [
      "LOCUS       name                       3 bp    DNA              UNK 01-JAN-1980\n",
      "DEFINITION  description.\n",
      "ACCESSION   id\n",
      "VERSION     id\n",
      "KEYWORDS    .\n",
      "SOURCE      .\n",
      "  ORGANISM  .\n",
      "            .\n",
      "FEATURES             Location/Qualifiers\n",
      "ORIGIN\n",
      "        1 aaa\n",
      "//\n",
      "\n"
     ]
    }
   ],
   "source": [
    "print( x.format(\"gb\") )"
   ]
  },
  {
   "cell_type": "code",
   "execution_count": 38,
   "metadata": {
    "tags": []
   },
   "outputs": [],
   "source": [
    "x = SeqRecord(Seq(\"AAA\"))"
   ]
  },
  {
   "cell_type": "code",
   "execution_count": 39,
   "metadata": {
    "tags": []
   },
   "outputs": [],
   "source": [
    "x.id = \"id\""
   ]
  },
  {
   "cell_type": "code",
   "execution_count": 41,
   "metadata": {},
   "outputs": [],
   "source": [
    "x.annotations[\"molecule_type\"] = \"DNA\""
   ]
  },
  {
   "cell_type": "code",
   "execution_count": 42,
   "metadata": {},
   "outputs": [
    {
     "name": "stdout",
     "output_type": "stream",
     "text": [
      "LOCUS       id                         3 bp    DNA              UNK 01-JAN-1980\n",
      "DEFINITION  .\n",
      "ACCESSION   id\n",
      "VERSION     id\n",
      "KEYWORDS    .\n",
      "SOURCE      .\n",
      "  ORGANISM  .\n",
      "            .\n",
      "FEATURES             Location/Qualifiers\n",
      "ORIGIN\n",
      "        1 aaa\n",
      "//\n",
      "\n"
     ]
    }
   ],
   "source": [
    "print(x.format(\"gb\"))"
   ]
  },
  {
   "cell_type": "code",
   "execution_count": 43,
   "metadata": {
    "tags": []
   },
   "outputs": [],
   "source": [
    "x.name = \"name\""
   ]
  },
  {
   "cell_type": "code",
   "execution_count": 44,
   "metadata": {},
   "outputs": [
    {
     "name": "stdout",
     "output_type": "stream",
     "text": [
      "LOCUS       name                       3 bp    DNA              UNK 01-JAN-1980\n",
      "DEFINITION  .\n",
      "ACCESSION   id\n",
      "VERSION     id\n",
      "KEYWORDS    .\n",
      "SOURCE      .\n",
      "  ORGANISM  .\n",
      "            .\n",
      "FEATURES             Location/Qualifiers\n",
      "ORIGIN\n",
      "        1 aaa\n",
      "//\n",
      "\n"
     ]
    }
   ],
   "source": [
    "print(x.format(\"gb\"))"
   ]
  },
  {
   "cell_type": "code",
   "execution_count": 45,
   "metadata": {
    "tags": []
   },
   "outputs": [],
   "source": [
    "x.id = \"id\""
   ]
  },
  {
   "cell_type": "code",
   "execution_count": 46,
   "metadata": {},
   "outputs": [
    {
     "name": "stdout",
     "output_type": "stream",
     "text": [
      "LOCUS       name                       3 bp    DNA              UNK 01-JAN-1980\n",
      "DEFINITION  .\n",
      "ACCESSION   id\n",
      "VERSION     id\n",
      "KEYWORDS    .\n",
      "SOURCE      .\n",
      "  ORGANISM  .\n",
      "            .\n",
      "FEATURES             Location/Qualifiers\n",
      "ORIGIN\n",
      "        1 aaa\n",
      "//\n",
      "\n"
     ]
    }
   ],
   "source": [
    "print( x.format(\"gb\") )"
   ]
  },
  {
   "cell_type": "code",
   "execution_count": 17,
   "metadata": {},
   "outputs": [],
   "source": [
    "from Bio import Entrez\n",
    "Entrez.email = \"bjornjobb@gmail.com\"\n",
    "record = Entrez.efetch(\"nucleotide\", id=\"X75463.1\", rettype = \"gb\", retmode = \"gb\").read()"
   ]
  },
  {
   "cell_type": "code",
   "execution_count": 18,
   "metadata": {},
   "outputs": [],
   "source": [
    "import io\n",
    "f = io.StringIO(record)\n",
    "from Bio import SeqIO\n",
    "r = SeqIO.read(f, \"genbank\")"
   ]
  },
  {
   "cell_type": "code",
   "execution_count": 19,
   "metadata": {},
   "outputs": [
    {
     "data": {
      "text/plain": [
       "{'_seq': Seq('GCGCCCAATACGCAAACCGCCTCTCCCCGCGCGTTGGCCGATTCATTAATGCAG...AGA'),\n",
       " 'id': 'X75463.1',\n",
       " 'name': 'X75463',\n",
       " 'description': 'Saccharomyces cerevisiae/E. coli shuttle vector, YIplac128',\n",
       " 'dbxrefs': [],\n",
       " 'annotations': {'molecule_type': 'DNA',\n",
       "  'topology': 'linear',\n",
       "  'data_file_division': 'SYN',\n",
       "  'date': '08-DEC-1993',\n",
       "  'accessions': ['X75463', 'L26356'],\n",
       "  'sequence_version': 1,\n",
       "  'keywords': ['LEU2 gene'],\n",
       "  'source': 'synthetic construct',\n",
       "  'organism': 'synthetic construct',\n",
       "  'taxonomy': ['other sequences', 'artificial sequences'],\n",
       "  'references': [Reference(title='New yeast-Escherichia coli shuttle vectors constructed with in vitro mutagenized yeast genes lacking six-base pair restriction sites', ...),\n",
       "   Reference(title='Direct Submission', ...)],\n",
       "  'comment': 'On Jul 25, 2002 this sequence version replaced L26356.1.\\nInformation taken from figure 2 , citation [2].\\nAll constructions were initially made in the E. coli plasmid pBR322\\nfor ease of manipulation.  The yeast genes were inserted into\\neither the EcoRI site or the Cla I site using PolIK and dNTPs to\\nfill in overhangs and T4 DNA ligase for blunt-end ligation.  Any\\nrestriction site regenerated by this process was destroyed\\nfollowing digestion with the appropriate restriction enzyme using\\nPolIK and dNTPs to fill in overhangs and T4 DNA ligase to ligate\\nblunt ends.  Once the constructions had been verified, the yeast\\ngenes were moved into the plasmid vector pUC19. To do this, the\\nyeast genes were excised from the pBR322 DNA backbone by HindIII\\ndigestion followed by mung-bean exonuclease treatment to produce\\nblunt ends.  Then the DNA was digested by AatII, the  fragment\\ncontaining yeast DNA was isolated from agarose gels and ligaed to\\nthe  large AatII-Nde I fragment of pUC19 which had the NdeI end\\nfilled in with PolIk.  The YCplac vectors (ARS1-CEN4) were\\nconstructed by blunt-end ligation of the 1.4kb Eco RI fragment of\\nthe TRP1 ARS1 gene(Struhl et al., 1979) into  the EcoRI site of\\npBR322 (pT322) and subsequent blunt-end ligation of the functional\\n850-bp PvuII-HpaI CEN4 fragment (Mann and Davis, 1986) into the\\nClaI  site of pT322(pTC1).  This construction was then moved into\\npUC19 as described  above to produce YCplac22.  The other YCplac\\nvectors were made by blunt-end ligation of the EcoRV fragment from\\npTC1, containing the ARS1 and CEN4  sequences, into the ClaI cite\\nof pBR322 (pAC5).  The 1.1-kb HindIII-SmaI fragment of the URA3\\ngene or the 1.6-kb HpaI-ACC   I fragment containing LEU2 was\\ninserted at the EcoRI site of pAC5 as described above.  These\\nconstructs were also moved into the plasmid pUC19 as described\\nabove givingrise to YCplac33 and YCplac111, respectively.  The\\nYEplac vetor series (2mu origin) were  constructed by blunt-end\\nligation of the 1.5-kb Sau3A fragment from YEp24 which  contains\\nthe 2 mu m ori (Broach, 1983),  into the ClaI site of pBR322 to\\nproduce p2mu19.  The XbaI site of this fragment was removed by\\nfilling in with PolIk after digestion and blunt-end religation of\\nthis site.  The three yeast genes  were ligated into the EcoRI site\\nof this plasmid.  The fragments used for the LEU2 and the URA3\\nconstructs were the same as those used in the YCplac constructions,\\nhowever, the YEplac112 vector (TRPI) contains the 850-bp\\nEcoRI-BglII fragment of the TRP1 gene which does not contain ARS1\\nfunction. The YIplac vectors were constructed by ligating each\\nyeast gene fragment used in YEplac vector constructions into the\\nEcoO109 site of the plasmid pUC19 using PolIk to fill the sticky\\nends.'},\n",
       " '_per_letter_annotations': {},\n",
       " 'features': [SeqFeature(FeatureLocation(ExactPosition(0), ExactPosition(4302), strand=1), type='source')]}"
      ]
     },
     "execution_count": 19,
     "metadata": {},
     "output_type": "execute_result"
    }
   ],
   "source": [
    "r.__dict__"
   ]
  },
  {
   "cell_type": "code",
   "execution_count": null,
   "metadata": {},
   "outputs": [],
   "source": []
  }
 ],
 "metadata": {
  "kernelspec": {
   "display_name": "Python [conda env:bjorn39]",
   "language": "python",
   "name": "conda-env-bjorn39-py"
  },
  "language_info": {
   "codemirror_mode": {
    "name": "ipython",
    "version": 3
   },
   "file_extension": ".py",
   "mimetype": "text/x-python",
   "name": "python",
   "nbconvert_exporter": "python",
   "pygments_lexer": "ipython3",
   "version": "3.9.7"
  }
 },
 "nbformat": 4,
 "nbformat_minor": 4
}
