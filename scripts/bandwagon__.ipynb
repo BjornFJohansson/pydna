{
 "cells": [
  {
   "cell_type": "code",
   "execution_count": 11,
   "metadata": {
    "collapsed": false,
    "jupyter": {
     "outputs_hidden": false
    }
   },
   "outputs": [
    {
     "data": {
      "image/png": "[encoded data removed]",
      "text/plain": [
       "<Figure size 180x216 with 1 Axes>"
      ]
     },
     "metadata": {
      "needs_background": "light"
     },
     "output_type": "display_data"
    }
   ],
   "source": [
    "from bandwagon import BandsPattern, BandsPatternsSet, LADDER_100_to_4k\n",
    "\n",
    "ladder = LADDER_100_to_4k.modified(label=\"Ladder\", background_color=\"#ffffaf\")\n",
    "\n",
    "patterns = [\n",
    "    BandsPattern([100, 500, 3500], ladder, label=\"C1\"),\n",
    "    BandsPattern([300, 400, 1500], ladder, label=\"C2\"),\n",
    "    BandsPattern([100, 1200, 1400, 3000], ladder, label=\"C3\"),\n",
    "    BandsPattern([100, 700], ladder, label=\"C4\"),\n",
    "]\n",
    "patterns_set = BandsPatternsSet(patterns=[ladder] + patterns, ladder=ladder,\n",
    "                                label=\"Test pattern\", ladder_ticks=3)\n",
    "ax = patterns_set.plot()\n",
    "#ax.figure.savefig(\"simple_band_patterns.png\", bbox_inches=\"tight\", dpi=200)"
   ]
  },
  {
   "cell_type": "code",
   "execution_count": 8,
   "metadata": {},
   "outputs": [
    {
     "data": {
      "image/png": "[encoded data removed]",
      "text/plain": [
       "<Figure size 72x216 with 1 Axes>"
      ]
     },
     "metadata": {
      "needs_background": "light"
     },
     "output_type": "display_data"
    }
   ],
   "source": [
    "patterns_set = BandsPatternsSet(patterns=[[100,200,300, 400,500,600],[400,500]], ladder=ladder, label=\"Test pattern\", ladder_ticks=3)\n",
    "ax = patterns_set.plot()"
   ]
  },
  {
   "cell_type": "code",
   "execution_count": 7,
   "metadata": {},
   "outputs": [
    {
     "data": {
      "text/plain": [
       "<bandwagon.BandsPatternsSet.BandsPatternsSet at 0x7f69d9898b20>"
      ]
     },
     "execution_count": 7,
     "metadata": {},
     "output_type": "execute_result"
    }
   ],
   "source": [
    "patterns_set"
   ]
  },
  {
   "cell_type": "code",
   "execution_count": null,
   "metadata": {},
   "outputs": [],
   "source": []
  }
 ],
 "metadata": {
  "anaconda-cloud": {},
  "kernelspec": {
   "display_name": "Python [conda env:bjorn38]",
   "language": "python",
   "name": "conda-env-bjorn38-py"
  },
  "language_info": {
   "codemirror_mode": {
    "name": "ipython",
    "version": 3
   },
   "file_extension": ".py",
   "mimetype": "text/x-python",
   "name": "python",
   "nbconvert_exporter": "python",
   "pygments_lexer": "ipython3",
   "version": "3.8.0"
  }
 },
 "nbformat": 4,
 "nbformat_minor": 4
}
