{
 "cells": [
  {
   "cell_type": "markdown",
   "metadata": {},
   "source": [
    "# Suffix arrays: How to compute them fast with Python"
   ]
  },
  {
   "cell_type": "markdown",
   "metadata": {},
   "source": [
    "*By Louis Abraham*\n",
    "\n",
    "You can download the notebook from [here](https://louisabraham.github.io/notebooks/suffix_arrays.ipynb)\n",
    "\n",
    "You can comment on [HN](https://news.ycombinator.com/item?id=14683769).\n",
    "\n",
    "**If you need a very fast implementation of suffix arrays** (and a few other string algorithms), use my repository [pydivsufsort](https://github.com/louisabraham/pydivsufsort) instead. It packages one of the fastest algorithms, divsufsort, in a convenient Python interface that works natively with strings, bytes, bytearrays and numpy arrays. It is thoroughly tested and installs flawlessly on all major platforms. It also includes a few other string algorithms (like LCP array construction and queries) written in Cython.\n",
    "\n"
   ]
  },
  {
   "cell_type": "markdown",
   "metadata": {
    "toc": "true"
   },
   "source": [
    "# Table of Contents\n",
    " <p><div class=\"lev1 toc-item\"><a href=\"#Just-give-me-the-code!\" data-toc-modified-id=\"Just-give-me-the-code!-1\"><span class=\"toc-item-num\">1&nbsp;&nbsp;</span>Just give me the code!</a></div><div class=\"lev1 toc-item\"><a href=\"#Disclaimer\" data-toc-modified-id=\"Disclaimer-2\"><span class=\"toc-item-num\">2&nbsp;&nbsp;</span>Disclaimer</a></div><div class=\"lev1 toc-item\"><a href=\"#Introduction\" data-toc-modified-id=\"Introduction-3\"><span class=\"toc-item-num\">3&nbsp;&nbsp;</span>Introduction</a></div><div class=\"lev1 toc-item\"><a href=\"#Short-reminder\" data-toc-modified-id=\"Short-reminder-4\"><span class=\"toc-item-num\">4&nbsp;&nbsp;</span>Short reminder</a></div><div class=\"lev2 toc-item\"><a href=\"#Suffix-array\" data-toc-modified-id=\"Suffix-array-41\"><span class=\"toc-item-num\">4.1&nbsp;&nbsp;</span>Suffix array</a></div><div class=\"lev3 toc-item\"><a href=\"#One-exercise-for-the-reader\" data-toc-modified-id=\"One-exercise-for-the-reader-411\"><span class=\"toc-item-num\">4.1.1&nbsp;&nbsp;</span>One exercise for the reader</a></div><div class=\"lev2 toc-item\"><a href=\"#Prefix-doubling\" data-toc-modified-id=\"Prefix-doubling-42\"><span class=\"toc-item-num\">4.2&nbsp;&nbsp;</span>Prefix doubling</a></div><div class=\"lev2 toc-item\"><a href=\"#Prefix-matrix\" data-toc-modified-id=\"Prefix-matrix-43\"><span class=\"toc-item-num\">4.3&nbsp;&nbsp;</span>Prefix matrix</a></div><div class=\"lev2 toc-item\"><a href=\"#Other-algorithms\" data-toc-modified-id=\"Other-algorithms-44\"><span class=\"toc-item-num\">4.4&nbsp;&nbsp;</span>Other algorithms</a></div><div class=\"lev1 toc-item\"><a href=\"#The-basic-implementation\" data-toc-modified-id=\"The-basic-implementation-5\"><span class=\"toc-item-num\">5&nbsp;&nbsp;</span>The basic implementation</a></div><div class=\"lev2 toc-item\"><a href=\"#The-original-implementation\" data-toc-modified-id=\"The-original-implementation-51\"><span class=\"toc-item-num\">5.1&nbsp;&nbsp;</span>The original implementation</a></div><div class=\"lev2 toc-item\"><a href=\"#Small-tricks\" data-toc-modified-id=\"Small-tricks-52\"><span class=\"toc-item-num\">5.2&nbsp;&nbsp;</span>Small tricks</a></div><div class=\"lev3 toc-item\"><a href=\"#An-optimisation-based-on-Timsort\" data-toc-modified-id=\"An-optimisation-based-on-Timsort-521\"><span class=\"toc-item-num\">5.2.1&nbsp;&nbsp;</span>An optimisation based on <a href=\"https://en.wikipedia.org/wiki/Timsort\" target=\"_blank\">Timsort</a></a></div><div class=\"lev3 toc-item\"><a href=\"#Faster-sorting-using-integers\" data-toc-modified-id=\"Faster-sorting-using-integers-522\"><span class=\"toc-item-num\">5.2.2&nbsp;&nbsp;</span>Faster sorting using integers</a></div><div class=\"lev2 toc-item\"><a href=\"#Performance-test\" data-toc-modified-id=\"Performance-test-53\"><span class=\"toc-item-num\">5.3&nbsp;&nbsp;</span>Performance test</a></div><div class=\"lev1 toc-item\"><a href=\"#Interlude:-an-outsider\" data-toc-modified-id=\"Interlude:-an-outsider-6\"><span class=\"toc-item-num\">6&nbsp;&nbsp;</span>Interlude: an outsider</a></div><div class=\"lev1 toc-item\"><a href=\"#Awesome-optimisation:-skipping-the-last-lines\" data-toc-modified-id=\"Awesome-optimisation:-skipping-the-last-lines-7\"><span class=\"toc-item-num\">7&nbsp;&nbsp;</span>Awesome optimisation: skipping the last lines</a></div><div class=\"lev2 toc-item\"><a href=\"#The-idea\" data-toc-modified-id=\"The-idea-71\"><span class=\"toc-item-num\">7.1&nbsp;&nbsp;</span>The idea</a></div><div class=\"lev2 toc-item\"><a href=\"#It-is-even-better-with-integers\" data-toc-modified-id=\"It-is-even-better-with-integers-72\"><span class=\"toc-item-num\">7.2&nbsp;&nbsp;</span>It is even better with integers</a></div><div class=\"lev2 toc-item\"><a href=\"#Final-remarks-on-the-LCP-computation\" data-toc-modified-id=\"Final-remarks-on-the-LCP-computation-73\"><span class=\"toc-item-num\">7.3&nbsp;&nbsp;</span>Final remarks on the LCP computation</a></div><div class=\"lev1 toc-item\"><a href=\"#Plus-Ultra\" data-toc-modified-id=\"Plus-Ultra-8\"><span class=\"toc-item-num\">8&nbsp;&nbsp;</span>Plus Ultra</a></div><div class=\"lev1 toc-item\"><a href=\"#References\" data-toc-modified-id=\"References-9\"><span class=\"toc-item-num\">9&nbsp;&nbsp;</span>References</a></div>"
   ]
  },
  {
   "cell_type": "markdown",
   "metadata": {},
   "source": [
    "# Just give me the code!"
   ]
  },
  {
   "cell_type": "code",
   "execution_count": 1,
   "metadata": {
    "ExecuteTime": {
     "end_time": "2017-07-03T06:40:34.982507Z",
     "start_time": "2017-07-03T07:40:34.943619+01:00"
    }
   },
   "outputs": [],
   "source": [
    "from itertools import zip_longest, islice\n",
    "\n",
    "\n",
    "def to_int_keys_best(l):\n",
    "    \"\"\"\n",
    "    l: iterable of keys\n",
    "    returns: a list with integer keys\n",
    "    \"\"\"\n",
    "    seen = set()\n",
    "    ls = []\n",
    "    for e in l:\n",
    "        if not e in seen:\n",
    "            ls.append(e)\n",
    "            seen.add(e)\n",
    "    ls.sort()\n",
    "    index = {v: i for i, v in enumerate(ls)}\n",
    "    return [index[v] for v in l]\n",
    "\n",
    "\n",
    "def suffix_matrix_best(s):\n",
    "    \"\"\"\n",
    "    suffix matrix of s\n",
    "    O(n * log(n)^2)\n",
    "    \"\"\"\n",
    "    n = len(s)\n",
    "    k = 1\n",
    "    line = to_int_keys_best(s)\n",
    "    ans = [line]\n",
    "    while max(line) < n - 1:\n",
    "        line = to_int_keys_best(\n",
    "            [a * (n + 1) + b + 1\n",
    "             for (a, b) in\n",
    "             zip_longest(line, islice(line, k, None),\n",
    "                         fillvalue=-1)])\n",
    "        ans.append(line)\n",
    "        k <<= 1\n",
    "    return ans\n",
    "\n",
    "\n",
    "def suffix_array_best(s):\n",
    "    \"\"\"\n",
    "    suffix array of s\n",
    "    O(n * log(n)^2)\n",
    "    \"\"\"\n",
    "    n = len(s)\n",
    "    k = 1\n",
    "    line = to_int_keys_best(s)\n",
    "    while max(line) < n - 1:\n",
    "        line = to_int_keys_best(\n",
    "            [a * (n + 1) + b + 1\n",
    "             for (a, b) in\n",
    "             zip_longest(line, islice(line, k, None),\n",
    "                         fillvalue=-1)])\n",
    "        k <<= 1\n",
    "    return line"
   ]
  },
  {
   "cell_type": "markdown",
   "metadata": {},
   "source": [
    "# Disclaimer\n",
    "\n",
    "This notebook is **not** intended as a course, a tutorial or an explanation on the suffix array algorithms, just practical implementations in Python.\n",
    "\n",
    "This implementation is intended to be simple enough to be rewritten during programming contests, and yet be as efficient as possible. It is particularly optimised against **random** data."
   ]
  },
  {
   "cell_type": "markdown",
   "metadata": {},
   "source": [
    "# Introduction\n",
    "\n",
    "This week-end, I wanted to improve my skills on string algorithms and solve [this kattis problem](https://open.kattis.com/problems/substrings). I had an efficient (in complexity) algorithm to compute the suffix array but it hit the time limit (mostly because I'm using Python). When I implemented my last line skipping trick, my code passed with Python 2 because the server uses [PyPy](http://pypy.org/). However, I still had a timeout in Python 3. This is how I managed to have a fast solution with the CPython implementation of Python 3.\n",
    "\n",
    "I had a couple resources on the topic, so I started with [[Stanford]](http://web.stanford.edu/class/cs97si/suffix-array.pdf).\n",
    "\n",
    "This paper is really the best I know because out of 17 pages, there are 7 of theory and code, and 9 of exercises with solutions (last page is for references).\n",
    "\n",
    "They use an algorithm called prefix doubling, and I'm going to describe some possible implementations and their practical performances."
   ]
  },
  {
   "cell_type": "markdown",
   "metadata": {},
   "source": [
    "# Short reminder\n",
    "\n",
    "## Suffix array\n",
    "\n",
    "Given a string `s` of length `n`, we want to compute the suffix array `sa` of same length.\n",
    "\n",
    "`sa[i]` is the rank according to the lexicographic order of the suffix at index i `s[i:]` amongst all the suffixes.\n",
    "\n",
    "They are strictly ordered (two suffixes cannot be equal since they are all of different lengths) thus the suffix array is always a permutation of `range(n)`.\n",
    "\n",
    "For example, the suffix array of 'banana' is [3, 2, 5, 1, 4, 0]. We can see that the first two suffixes (ranks 0 and 1) are the ones that begin with the letter 'a'.\n",
    "\n",
    "There is an equivalent definition of suffix arrays: `sa_alternative[i]` is the index of the suffix at the i-th position in the sorted list of all suffixes."
   ]
  },
  {
   "cell_type": "code",
   "execution_count": 2,
   "metadata": {
    "ExecuteTime": {
     "end_time": "2017-07-02T16:46:23.945580Z",
     "start_time": "2017-07-02T17:46:23.923875+01:00"
    }
   },
   "outputs": [
    {
     "output_type": "execute_result",
     "data": {
      "text/plain": [
       "[5, 3, 1, 0, 4, 2]"
      ]
     },
     "metadata": {},
     "execution_count": 2
    }
   ],
   "source": [
    "def suffix_array_alternative_naive(s):\n",
    "    return [rank for suffix, rank in sorted((s[i:], i) for i in range(len(s)))]\n",
    "\n",
    "suffix_array_alternative_naive('banana')"
   ]
  },
  {
   "cell_type": "markdown",
   "metadata": {},
   "source": [
    "As you can see, this is exactly the inverse permutation of `sa`, and it is trivial to invert it in $O(n)$."
   ]
  },
  {
   "cell_type": "code",
   "execution_count": 3,
   "metadata": {
    "ExecuteTime": {
     "end_time": "2017-07-02T16:46:23.963187Z",
     "start_time": "2017-07-02T17:46:23.948895+01:00"
    }
   },
   "outputs": [
    {
     "output_type": "execute_result",
     "data": {
      "text/plain": [
       "[3, 2, 5, 1, 4, 0]"
      ]
     },
     "metadata": {},
     "execution_count": 3
    }
   ],
   "source": [
    "def inverse_array(l):\n",
    "    n = len(l)\n",
    "    ans = [0] * n\n",
    "    for i in range(n):\n",
    "        ans[l[i]] = i\n",
    "    return ans\n",
    "\n",
    "\n",
    "def suffix_array_naive(s):\n",
    "    return inverse_array(suffix_array_alternative_naive(s))\n",
    "\n",
    "suffix_array_naive('banana')"
   ]
  },
  {
   "cell_type": "markdown",
   "metadata": {},
   "source": [
    "Now the performance doesn't seem horrible:"
   ]
  },
  {
   "cell_type": "code",
   "execution_count": 4,
   "metadata": {
    "ExecuteTime": {
     "end_time": "2017-07-02T16:46:27.841162Z",
     "start_time": "2017-07-02T17:46:23.967028+01:00"
    }
   },
   "outputs": [
    {
     "output_type": "stream",
     "name": "stdout",
     "text": [
      "9.27 ms ± 256 µs per loop (mean ± std. dev. of 7 runs, 100 loops each)\n",
      "10.6 ms ± 541 µs per loop (mean ± std. dev. of 7 runs, 100 loops each)\n"
     ]
    }
   ],
   "source": [
    "from random import randint\n",
    "\n",
    "constant_string = lambda length: 'a' * int(length)\n",
    "random_string = lambda length: ''.join(chr(randint(ord('a'), ord('z')))\n",
    "                                       for _ in range(int(length)))\n",
    "\n",
    "s1 = constant_string(1e4)\n",
    "s2 = random_string(1e4)\n",
    "\n",
    "%timeit suffix_array_alternative_naive(s1)\n",
    "%timeit suffix_array_alternative_naive(s2)"
   ]
  },
  {
   "cell_type": "markdown",
   "metadata": {},
   "source": [
    "The time complexity is dominated by the generation of `sorted((s[i:], i) for i in range(len(s)))` which is $O(n^2log(n))$ in the *worst* case: $O(n*log(n))$ for the sort and $O(n)$ for one comparison.\n",
    "\n",
    "In practice, it is not really bad because the strings start to be different really quickly, so the $O(n)$ factor becomes less significant.\n",
    "\n",
    "But the worst is the memory cost $O(n^2)$. That makes the algorithm for `length = 100000` use several Go of RAM.\n",
    "\n",
    "Because string comparisons seem to be really optimised in Python, the trivial algorithm slightly outperforms the more efficient algorithms for the small values. However, it is really not usable for bigger values of `n`.\n",
    "\n",
    "Here, one could think that the performance could be worse for the `constant_string` because of the comparisons. However, because the prefixes are already sorted and the constant behind the string comparison is really small, it appears faster. See my question on [[StackOverflow]](https://stackoverflow.com/questions/44866493/how-is-the-string-sort-optimised-in-cpython).\n",
    "\n",
    "### One exercise for the reader\n",
    "\n",
    "The `constant_string` is such that the number of letter comparisons between two suffixes is maximal (always the length of the longest). Find an algorithm to produce given an alphabet $A$ and a length $n$ an element of $A^n$ such that the maximum number of comparisons between any two suffixes is minimal.\n",
    "\n",
    "You can find the solution [here](https://louisabraham.github.io/misc/suffix_arrays_solution.html)."
   ]
  },
  {
   "cell_type": "markdown",
   "metadata": {},
   "source": [
    "## Prefix doubling\n",
    "\n",
    "The algorithm described in [[Stanford]](http://web.stanford.edu/class/cs97si/suffix-array.pdf) is called *prefix doubling*.\n",
    "\n",
    "Let's say all the letters of your string are different. Then the order of the suffixes is only determined by their first letter, and you can do that in $O(n*log(n))$ time and $O(n)$ space complexity by sorting the letters.\n",
    "\n",
    "Even if the letters are not different, grouping the suffixes according to their first letter is a good idea. It is the idea of prefix radix sort.\n",
    "\n",
    "And here we can use an idea similar to [pointer jumping](https://en.wikipedia.org/wiki/Pointer_jumping) to double at each step the length of the prefixes that are compared.\n",
    "\n",
    "Say you have at step `log(k)` the orders of the partial prefixes `s[i: i+k]`. But `s[i: i+2*k] == s[i: i+k] + s[i+k: 2*k]` so you can merge at each step the order and the shifted order to obtain the new order. Hence the name *prefix doubling*. It is really a beautiful algorithm.\n",
    "\n",
    "After at most $log(n)$ steps, you have totally sorted the prefixes. The complexity is $O(n)$ space (or $O(n*log(n))$ for the prefix matrix, see below) and $O(n*log^2n)$ time if you implement the merge operation in $O(n*log(n))$.\n",
    "\n",
    "\n",
    "## Prefix matrix\n",
    "\n",
    "\n",
    "When you use prefix doubling, keeping the intermediate partial sorts allows us to compute the Longest Common Prefix (LCP) of two indexes `i` and `j` in $O(log(n))$. The strategy is described in [[Stanford]](http://web.stanford.edu/class/cs97si/suffix-array.pdf).\n",
    "\n",
    "This is the reason why I prefer prefix doubling over others because it is a semilinear computation to make LCP queries in $O(log(n))$ time. If you think thoroughly, using the suffix matrix to compute the LCP is similar to the father pointer doubling algorithm for Lowest Common Ancestor (LCA) in the suffix tree, see [[Topcoder]][1].\n",
    "\n",
    "[1]: https://www.topcoder.com/community/data-science/data-science-tutorials/range-minimum-query-and-lowest-common-ancestor/#Another%20easy%20solution%20in%20O(N%20logN,%20O(logN)\n",
    "\n",
    "\n",
    "## Other algorithms\n",
    "\n",
    "There are $O(n)$ algorithms to compute the suffix array, like building the suffix tree and converting it to suffix array, but the constant is high. A more efficient algorithms is the Skew algorithms: [[Skew]](http://www.cs.umd.edu/class/fall2011/cmsc858s/SuffixArrays.pdf).\n",
    "\n",
    "However, the Skew algorithm does not allow simple computation of the LCA.\n",
    "\n",
    "I think there are more complicated algorithms using both the suffix array and the LCP array to be able to traverse the suffix tree without constructing it, and then you can use other classic algorithms for the LCA."
   ]
  },
  {
   "cell_type": "markdown",
   "metadata": {},
   "source": [
    "# The basic implementation"
   ]
  },
  {
   "cell_type": "code",
   "execution_count": 5,
   "metadata": {
    "ExecuteTime": {
     "end_time": "2017-07-02T16:46:27.885240Z",
     "start_time": "2017-07-02T17:46:27.844755+01:00"
    }
   },
   "outputs": [
    {
     "output_type": "execute_result",
     "data": {
      "text/plain": [
       "[[1, 0, 2, 0, 2, 0],\n",
       " [2, 1, 3, 1, 3, 0],\n",
       " [3, 2, 5, 1, 4, 0],\n",
       " [3, 2, 5, 1, 4, 0]]"
      ]
     },
     "metadata": {},
     "execution_count": 5
    }
   ],
   "source": [
    "from itertools import zip_longest, islice\n",
    "\n",
    "\n",
    "def to_int_keys(l):\n",
    "    \"\"\"\n",
    "    l: iterable of keys\n",
    "    returns: a list with integer keys\n",
    "    \"\"\"\n",
    "    index = {v: i for i, v in enumerate(sorted(set(l)))}\n",
    "    return [index[v] for v in l]\n",
    "\n",
    "\n",
    "def suffix_matrix(to_int_keys, s):\n",
    "    n = len(s)\n",
    "    k = 1\n",
    "    line = to_int_keys(s)\n",
    "    ans = [line]\n",
    "    while k < n:\n",
    "        line = to_int_keys(\n",
    "            list(zip_longest(line, islice(line, k, None),\n",
    "                             fillvalue=-1)))\n",
    "        ans.append(line)\n",
    "        k <<= 1\n",
    "    return ans\n",
    "\n",
    "suffix_matrix(to_int_keys, 'banana')"
   ]
  },
  {
   "cell_type": "markdown",
   "metadata": {},
   "source": [
    "The `to_int_keys` function contains almost all the magic. It takes any iterable and returns integer indexes. If two elements were identical, their indexes will be equal.\n",
    "\n",
    "Using positive integers allows us to set $-1$ as the smallest possible value."
   ]
  },
  {
   "cell_type": "markdown",
   "metadata": {},
   "source": [
    "## The original implementation"
   ]
  },
  {
   "cell_type": "markdown",
   "metadata": {},
   "source": [
    "I wrote a version almost identical to the C++ code of the pdf, but it has bad performances."
   ]
  },
  {
   "cell_type": "code",
   "execution_count": 6,
   "metadata": {
    "ExecuteTime": {
     "end_time": "2017-07-02T16:46:27.946288Z",
     "start_time": "2017-07-02T17:46:27.890888+01:00"
    }
   },
   "outputs": [
    {
     "output_type": "execute_result",
     "data": {
      "text/plain": [
       "[[1, 0, 2, 0, 2, 0],\n",
       " [3, 1, 4, 1, 4, 0],\n",
       " [3, 2, 5, 1, 4, 0],\n",
       " [3, 2, 5, 1, 4, 0]]"
      ]
     },
     "metadata": {},
     "execution_count": 6
    }
   ],
   "source": [
    "def suffix_matrix_stanford(s):\n",
    "    n = len(s)\n",
    "    k = 1\n",
    "    line = to_int_keys(s)\n",
    "    ans = [line]\n",
    "    while k < n:\n",
    "        L = sorted(\n",
    "            (key, index)\n",
    "            for index, key in enumerate(\n",
    "                zip_longest(line, islice(line, k, None),\n",
    "                            fillvalue=-1)\n",
    "            ))\n",
    "        line = [0] * n\n",
    "        for i in range(n):\n",
    "            line[L[i][1]] = (line[L[i - 1][1]]\n",
    "                             if i and L[i][0] == L[i - 1][0]\n",
    "                             else i)\n",
    "        ans.append(line)\n",
    "        k <<= 1\n",
    "    return ans\n",
    "\n",
    "suffix_matrix_stanford('banana')"
   ]
  },
  {
   "cell_type": "markdown",
   "metadata": {},
   "source": [
    "You can see the indexes are different in some lines of the matrix but they are in the same order, which is sufficient."
   ]
  },
  {
   "cell_type": "code",
   "execution_count": 7,
   "metadata": {
    "ExecuteTime": {
     "end_time": "2017-07-02T16:47:23.495757Z",
     "start_time": "2017-07-02T17:46:27.953195+01:00"
    }
   },
   "outputs": [
    {
     "output_type": "stream",
     "name": "stdout",
     "text": [
      "378 ms ± 19.6 ms per loop (mean ± std. dev. of 7 runs, 1 loop each)\n",
      "858 ms ± 37 ms per loop (mean ± std. dev. of 7 runs, 1 loop each)\n",
      "1.39 s ± 88.7 ms per loop (mean ± std. dev. of 7 runs, 1 loop each)\n",
      "2.7 s ± 81.8 ms per loop (mean ± std. dev. of 7 runs, 1 loop each)\n"
     ]
    }
   ],
   "source": [
    "for s in [constant_string(1e5),\n",
    "          random_string(1e5)]:\n",
    "    %timeit suffix_matrix(to_int_keys, s)\n",
    "    %timeit suffix_matrix_stanford(s)"
   ]
  },
  {
   "cell_type": "markdown",
   "metadata": {},
   "source": [
    "It shows that the Python builtins are very powerful.\n",
    "\n",
    "We can however observe that using `set` might slow down `sorted` because [Timsort](https://en.wikipedia.org/wiki/Timsort) performs well with partially sorted data, and sets are not ordered in Python. Can we fix that?"
   ]
  },
  {
   "cell_type": "markdown",
   "metadata": {},
   "source": [
    "## Small tricks"
   ]
  },
  {
   "cell_type": "markdown",
   "metadata": {},
   "source": [
    "### An optimisation based on [Timsort](https://en.wikipedia.org/wiki/Timsort)"
   ]
  },
  {
   "cell_type": "markdown",
   "metadata": {},
   "source": [
    "After a few steps, the array is almost sorted and the [Timsort](https://en.wikipedia.org/wiki/Timsort) performs well on that data. In the random case, the suffix is computed after a few steps, and sorting is done in $O(n)$ because the Timsort is adaptative (and in general is \"designed to perform well on many kinds of real-world data\").\n",
    "\n",
    "We test different `to_int_keys` functions implementing this trick:"
   ]
  },
  {
   "cell_type": "code",
   "execution_count": 8,
   "metadata": {
    "ExecuteTime": {
     "end_time": "2017-07-02T16:47:23.536155Z",
     "start_time": "2017-07-02T17:47:23.499111+01:00"
    },
    "collapsed": true
   },
   "outputs": [],
   "source": [
    "def to_int_keys1(l):\n",
    "    \"\"\"\n",
    "    l: iterable of keys\n",
    "    returns: a list with integer keys\n",
    "    \"\"\"\n",
    "    ls = []\n",
    "    for e in sorted(l):\n",
    "        if not ls or e != ls[-1]:\n",
    "            ls.append(e)\n",
    "    index = {v: i for i, v in enumerate(ls)}\n",
    "    return [index[v] for v in l]\n",
    "\n",
    "\n",
    "def to_int_keys2(l):\n",
    "    \"\"\"\n",
    "    l: iterable of keys\n",
    "    returns: a list with integer keys\n",
    "    \"\"\"\n",
    "    cnt = 0\n",
    "    lastKey = None\n",
    "    index = {}\n",
    "    for key in sorted(l):\n",
    "        if key != lastKey:\n",
    "            index[key] = cnt\n",
    "            cnt += 1\n",
    "        lastKey = key\n",
    "    return [index[v] for v in l]\n",
    "\n",
    "\n",
    "def to_int_keys3(l):\n",
    "    \"\"\"\n",
    "    l: iterable of keys\n",
    "    returns: a list with integer keys\n",
    "    \"\"\"\n",
    "    seen = set()\n",
    "    ls = []\n",
    "    for e in l:\n",
    "        if not e in seen:\n",
    "            ls.append(e)\n",
    "            seen.add(e)\n",
    "    ls.sort()\n",
    "    index = {v: i for i, v in enumerate(ls)}\n",
    "    return [index[v] for v in l]"
   ]
  },
  {
   "cell_type": "markdown",
   "metadata": {},
   "source": [
    "### Faster sorting using integers"
   ]
  },
  {
   "cell_type": "markdown",
   "metadata": {},
   "source": [
    "We can do a little hack to compare integers of `range(n * (n + 1))` instead of tuples."
   ]
  },
  {
   "cell_type": "code",
   "execution_count": 9,
   "metadata": {
    "ExecuteTime": {
     "end_time": "2017-07-02T16:47:23.609249Z",
     "start_time": "2017-07-02T17:47:23.558287+01:00"
    }
   },
   "outputs": [],
   "source": [
    "def suffix_matrix_int(to_int_keys, s):\n",
    "    n = len(s)\n",
    "    k = 1\n",
    "    line = to_int_keys(s)\n",
    "    ans = [line]\n",
    "    while k < n:\n",
    "        line = to_int_keys(\n",
    "            [a * (n + 1) + b + 1\n",
    "             for (a, b) in\n",
    "             zip_longest(line, islice(line, k, None),\n",
    "                         fillvalue=-1)])\n",
    "        ans.append(line)\n",
    "        k <<= 1\n",
    "    return ans"
   ]
  },
  {
   "cell_type": "markdown",
   "metadata": {},
   "source": [
    "## Performance test"
   ]
  },
  {
   "cell_type": "markdown",
   "metadata": {},
   "source": [
    "Now, let's compare everybody:"
   ]
  },
  {
   "cell_type": "code",
   "execution_count": 10,
   "metadata": {
    "ExecuteTime": {
     "end_time": "2017-07-02T16:56:57.764373Z",
     "start_time": "2017-07-02T17:47:23.620563+01:00"
    }
   },
   "outputs": [
    {
     "output_type": "stream",
     "name": "stdout",
     "text": [
      "length = 10000\n",
      "\n",
      "constant_string\n",
      "suffix_matrix\n",
      "27.2 ms ± 268 µs per loop (mean ± std. dev. of 7 runs, 10 loops each)\n",
      "26.6 ms ± 513 µs per loop (mean ± std. dev. of 7 runs, 10 loops each)\n",
      "22.5 ms ± 36.7 µs per loop (mean ± std. dev. of 7 runs, 10 loops each)\n",
      "25.1 ms ± 80.5 µs per loop (mean ± std. dev. of 7 runs, 10 loops each)\n",
      "\n",
      "suffix_matrix_int\n",
      "30.8 ms ± 518 µs per loop (mean ± std. dev. of 7 runs, 10 loops each)\n",
      "36.7 ms ± 1.17 ms per loop (mean ± std. dev. of 7 runs, 10 loops each)\n",
      "33.6 ms ± 1.49 ms per loop (mean ± std. dev. of 7 runs, 10 loops each)\n",
      "39.2 ms ± 2.57 ms per loop (mean ± std. dev. of 7 runs, 10 loops each)\n",
      "\n",
      "random_string\n",
      "suffix_matrix\n",
      "79.7 ms ± 8.92 ms per loop (mean ± std. dev. of 7 runs, 10 loops each)\n",
      "80.4 ms ± 1.19 ms per loop (mean ± std. dev. of 7 runs, 10 loops each)\n",
      "73.5 ms ± 1.77 ms per loop (mean ± std. dev. of 7 runs, 10 loops each)\n",
      "87.4 ms ± 4.13 ms per loop (mean ± std. dev. of 7 runs, 10 loops each)\n",
      "\n",
      "suffix_matrix_int\n",
      "56.7 ms ± 1.46 ms per loop (mean ± std. dev. of 7 runs, 10 loops each)\n",
      "65.8 ms ± 482 µs per loop (mean ± std. dev. of 7 runs, 10 loops each)\n",
      "57.6 ms ± 970 µs per loop (mean ± std. dev. of 7 runs, 10 loops each)\n",
      "69.7 ms ± 5.21 ms per loop (mean ± std. dev. of 7 runs, 10 loops each)\n",
      "\n",
      "length = 100000\n",
      "\n",
      "constant_string\n",
      "suffix_matrix\n",
      "350 ms ± 23.5 ms per loop (mean ± std. dev. of 7 runs, 1 loop each)\n",
      "361 ms ± 57.8 ms per loop (mean ± std. dev. of 7 runs, 1 loop each)\n",
      "288 ms ± 3.15 ms per loop (mean ± std. dev. of 7 runs, 1 loop each)\n",
      "321 ms ± 8.27 ms per loop (mean ± std. dev. of 7 runs, 1 loop each)\n",
      "\n",
      "suffix_matrix_int\n",
      "398 ms ± 3.5 ms per loop (mean ± std. dev. of 7 runs, 1 loop each)\n",
      "446 ms ± 9.7 ms per loop (mean ± std. dev. of 7 runs, 1 loop each)\n",
      "403 ms ± 8.03 ms per loop (mean ± std. dev. of 7 runs, 1 loop each)\n",
      "417 ms ± 1.66 ms per loop (mean ± std. dev. of 7 runs, 1 loop each)\n",
      "\n",
      "random_string\n",
      "suffix_matrix\n",
      "1.4 s ± 114 ms per loop (mean ± std. dev. of 7 runs, 1 loop each)\n",
      "1.54 s ± 61.6 ms per loop (mean ± std. dev. of 7 runs, 1 loop each)\n",
      "1.43 s ± 130 ms per loop (mean ± std. dev. of 7 runs, 1 loop each)\n",
      "1.47 s ± 60.5 ms per loop (mean ± std. dev. of 7 runs, 1 loop each)\n",
      "\n",
      "suffix_matrix_int\n",
      "1.15 s ± 30 ms per loop (mean ± std. dev. of 7 runs, 1 loop each)\n",
      "1.19 s ± 11.5 ms per loop (mean ± std. dev. of 7 runs, 1 loop each)\n",
      "1.15 s ± 40.9 ms per loop (mean ± std. dev. of 7 runs, 1 loop each)\n",
      "1.25 s ± 26.7 ms per loop (mean ± std. dev. of 7 runs, 1 loop each)\n",
      "\n"
     ]
    }
   ],
   "source": [
    "for length in [1e4, 1e5]:\n",
    "    print(\"length = %i\\n\" % length)\n",
    "    for s in ['constant_string',\n",
    "              'random_string']:\n",
    "        print(s)\n",
    "        s = eval(s)(length)\n",
    "        for sm in ['suffix_matrix', 'suffix_matrix_int']:\n",
    "            print(sm)\n",
    "            sm = eval(sm)\n",
    "            %timeit sm(to_int_keys, s)\n",
    "            %timeit sm(to_int_keys1, s)\n",
    "            %timeit sm(to_int_keys2, s)\n",
    "            %timeit sm(to_int_keys3, s)\n",
    "            print()"
   ]
  },
  {
   "cell_type": "markdown",
   "metadata": {},
   "source": [
    "Using integer keys helps speeding up the computations for `random_string`, slowing them a bit for the `constant_string`.\n",
    "\n",
    "We can see that the three new functions perform very well, and the big winner is `to_int_keys2`.\n",
    "\n",
    "The performance gained from applying the Timsort on partially sorted data is too complicated to be evaluated, it is only a rule of thumb that performs very well.\n",
    "\n",
    "I was expecting `to_int_keys3` to perform better because there is some kind of \"equilibrium\" between the **number** of different elements to sort and their partial **order**.\n",
    "\n",
    "Indeed, `to_int_keys3` has a $O(A*log(A) + n)$ time complexity where A is the number of different elements, so it should be faster on the first steps when the alphabet is small. However, the online operations done on `set` seem to be inefficient so the difference can only be seen on large values.\n",
    "\n",
    "We can also observe that using `suffix_matrix_int` helps `to_int_keys3`, probably because `set` is more efficient with integers than with tuples."
   ]
  },
  {
   "cell_type": "markdown",
   "metadata": {},
   "source": [
    "# Interlude: an outsider"
   ]
  },
  {
   "cell_type": "markdown",
   "metadata": {},
   "source": [
    "On [[AlgorithmicAlley]](http://algorithmicalley.com/archive/2013/06/30/suffix-arrays.aspx), I found a surprisingly elegant algorithm (I modified it a bit):"
   ]
  },
  {
   "cell_type": "code",
   "execution_count": 11,
   "metadata": {
    "ExecuteTime": {
     "end_time": "2017-07-02T16:56:57.765256Z",
     "start_time": "2017-07-02T16:46:23.893Z"
    }
   },
   "outputs": [
    {
     "output_type": "execute_result",
     "data": {
      "text/plain": [
       "[5, 3, 1, 0, 4, 2]"
      ]
     },
     "metadata": {},
     "execution_count": 11
    }
   ],
   "source": [
    "from collections import defaultdict\n",
    "\n",
    "\n",
    "def sort_bucket(s, bucket, order):\n",
    "    d = defaultdict(list)\n",
    "    for i in bucket:\n",
    "        key = s[i + order // 2:i + order]\n",
    "        d[key].append(i)\n",
    "    result = []\n",
    "    for k, v in sorted(d.items()):\n",
    "        if len(v) > 1:\n",
    "            result += sort_bucket(s, v, 2 * order)\n",
    "        else:\n",
    "            result.append(v[0])\n",
    "    return result\n",
    "\n",
    "\n",
    "def suffix_array_ManberMyers(s):\n",
    "    return sort_bucket(s, range(len(s)), 1)\n",
    "\n",
    "suffix_array_ManberMyers('banana')"
   ]
  },
  {
   "cell_type": "code",
   "execution_count": 12,
   "metadata": {
    "ExecuteTime": {
     "end_time": "2017-07-02T16:56:57.766250Z",
     "start_time": "2017-07-02T16:46:23.903Z"
    }
   },
   "outputs": [
    {
     "output_type": "stream",
     "name": "stdout",
     "text": [
      "1.12 s ± 20.7 ms per loop (mean ± std. dev. of 7 runs, 1 loop each)\n",
      "119 ms ± 3.01 ms per loop (mean ± std. dev. of 7 runs, 10 loops each)\n"
     ]
    }
   ],
   "source": [
    "s = random_string(1e5)\n",
    "\n",
    "%timeit suffix_matrix_int(to_int_keys2, s)\n",
    "%timeit suffix_array_ManberMyers(s)"
   ]
  },
  {
   "cell_type": "markdown",
   "metadata": {},
   "source": [
    "Yes, almost 10 times better. At first, I was impressed. Then I tested it on a constant example:"
   ]
  },
  {
   "cell_type": "code",
   "execution_count": 13,
   "metadata": {
    "ExecuteTime": {
     "end_time": "2017-07-02T16:56:57.766950Z",
     "start_time": "2017-07-02T16:46:23.912Z"
    }
   },
   "outputs": [
    {
     "output_type": "stream",
     "name": "stdout",
     "text": [
      "486 ms ± 56.4 ms per loop (mean ± std. dev. of 7 runs, 1 loop each)\n",
      "132 ms ± 1.29 ms per loop (mean ± std. dev. of 7 runs, 10 loops each)\n",
      "1.23 s ± 17.8 ms per loop (mean ± std. dev. of 7 runs, 1 loop each)\n"
     ]
    }
   ],
   "source": [
    "s = constant_string(5e4)\n",
    "\n",
    "%timeit suffix_array_naive(s)\n",
    "%timeit suffix_matrix(to_int_keys2, s)\n",
    "%timeit suffix_array_ManberMyers(s)"
   ]
  },
  {
   "cell_type": "markdown",
   "metadata": {},
   "source": [
    "What happened?\n",
    "\n",
    "When `d.items()` is sorted, it contains the real substrings. When you don't need to go really deep (like with a random string), it's not a problem. Because you don't compute the orders that are not useful, you limit the number of comparisons and you spare a lot of time. But the principle of prefix doubling is precisely to use the partial order that is already computed.\n",
    "\n",
    "In fact, for `constant_string`, you have to store almost all the suffixes before sorting them, and because you use a `defaultdict`, it is even less space and time efficient than the naive algorithm, and is $O(n^2)$.\n",
    "\n",
    "So this implementation is really not the same algorithm. And because of the method used, you don't have the suffix matrix that justifies to use a $O(n*log^2n)$ algorithm instead of the linear [[Skew]](http://www.cs.umd.edu/class/fall2011/cmsc858s/SuffixArrays.pdf)."
   ]
  },
  {
   "cell_type": "markdown",
   "metadata": {},
   "source": [
    "# Awesome optimisation: skipping the last lines"
   ]
  },
  {
   "cell_type": "markdown",
   "metadata": {},
   "source": [
    "## The idea"
   ]
  },
  {
   "cell_type": "markdown",
   "metadata": {},
   "source": [
    "We saw that when the suffixes can be compared fast, there are a lot of neat optimisations, either by exploiting the Timsort or by comparing the string themselves like in [[AlgorithmicAlley]](http://algorithmicalley.com/archive/2013/06/30/suffix-arrays.aspx).\n",
    "\n",
    "We can observe that if it is the case, the last lines of the matrix are going to be the same.\n",
    "Then, we don't need them!\n",
    "\n",
    "The stop condition is simply to check if we have all the integers. We only change **one** line.\n",
    "\n",
    "For random strings, the mean time to compare two prefixes is $O(log(n))$ instead of $O(n)$ so we do only about $O(log(log(n)))$ steps instead of $O(log(n))$.\n",
    "\n",
    "I have never seen this trick anywhere, if you know a reference, please tell me on [HN](https://news.ycombinator.com/item?id=14683769)!"
   ]
  },
  {
   "cell_type": "code",
   "execution_count": 14,
   "metadata": {
    "ExecuteTime": {
     "end_time": "2017-07-02T16:56:57.767481Z",
     "start_time": "2017-07-02T16:46:23.923Z"
    }
   },
   "outputs": [
    {
     "output_type": "execute_result",
     "data": {
      "text/plain": [
       "[[1, 0, 2, 0, 2, 0], [2, 1, 3, 1, 3, 0], [3, 2, 5, 1, 4, 0]]"
      ]
     },
     "metadata": {},
     "execution_count": 14
    }
   ],
   "source": [
    "def suffix_matrix_smart(to_int_keys, s):\n",
    "    n = len(s)\n",
    "    k = 1\n",
    "    line = to_int_keys(s)\n",
    "    ans = [line]\n",
    "    while max(line) < n - 1:\n",
    "        line = to_int_keys(\n",
    "            list(zip_longest(line, islice(line, k, None),\n",
    "                             fillvalue=-1)))\n",
    "        ans.append(line)\n",
    "        k <<= 1\n",
    "    return ans\n",
    "\n",
    "suffix_matrix_smart(to_int_keys2, 'banana')"
   ]
  },
  {
   "cell_type": "code",
   "execution_count": 15,
   "metadata": {
    "ExecuteTime": {
     "end_time": "2017-07-02T16:56:57.767954Z",
     "start_time": "2017-07-02T16:46:23.933Z"
    }
   },
   "outputs": [
    {
     "output_type": "stream",
     "name": "stdout",
     "text": [
      "287 ms ± 4.23 ms per loop (mean ± std. dev. of 7 runs, 1 loop each)\n",
      "314 ms ± 5.67 ms per loop (mean ± std. dev. of 7 runs, 1 loop each)\n",
      "1.51 s ± 97 ms per loop (mean ± std. dev. of 7 runs, 1 loop each)\n",
      "223 ms ± 10.3 ms per loop (mean ± std. dev. of 7 runs, 1 loop each)\n"
     ]
    }
   ],
   "source": [
    "for s in [constant_string(1e5), random_string(1e5)]:\n",
    "    %timeit suffix_matrix(to_int_keys2, s)\n",
    "    %timeit suffix_matrix_smart(to_int_keys2, s)"
   ]
  },
  {
   "cell_type": "markdown",
   "metadata": {},
   "source": [
    "That's really better for the `random_string`.\n",
    "\n",
    "The reason is that we don't compute the last lines that are identical."
   ]
  },
  {
   "cell_type": "code",
   "execution_count": 16,
   "metadata": {
    "ExecuteTime": {
     "end_time": "2017-07-02T16:56:57.768648Z",
     "start_time": "2017-07-02T16:46:23.949Z"
    }
   },
   "outputs": [
    {
     "output_type": "stream",
     "name": "stdout",
     "text": [
      "18 4\nTrue\n"
     ]
    }
   ],
   "source": [
    "s = random_string(1e5)\n",
    "sm = suffix_matrix(to_int_keys2, s)\n",
    "sms = suffix_matrix_smart(to_int_keys2, s)\n",
    "\n",
    "print(len(sm), len(sms))\n",
    "print(sm[:len(sms)] == sms)"
   ]
  },
  {
   "cell_type": "markdown",
   "metadata": {},
   "source": [
    "## It is even better with integers"
   ]
  },
  {
   "cell_type": "markdown",
   "metadata": {},
   "source": [
    "Let's test again the performances with integers:"
   ]
  },
  {
   "cell_type": "code",
   "execution_count": 17,
   "metadata": {
    "ExecuteTime": {
     "end_time": "2017-07-02T16:56:57.769292Z",
     "start_time": "2017-07-02T16:46:23.962Z"
    },
    "collapsed": true
   },
   "outputs": [],
   "source": [
    "def suffix_matrix_smart_int(to_int_keys, s):\n",
    "    \"\"\"\n",
    "    suffix matrix of s\n",
    "    O(n * log(n)^2)\n",
    "    \"\"\"\n",
    "    n = len(s)\n",
    "    k = 1\n",
    "    line = to_int_keys(s)\n",
    "    ans = [line]\n",
    "    while max(line) < n - 1:\n",
    "        line = to_int_keys(\n",
    "            [a * (n + 1) + b + 1\n",
    "             for (a, b) in\n",
    "             zip_longest(line, islice(line, k, None),\n",
    "                         fillvalue=-1)])\n",
    "        ans.append(line)\n",
    "        k <<= 1\n",
    "    return ans"
   ]
  },
  {
   "cell_type": "code",
   "execution_count": 18,
   "metadata": {
    "ExecuteTime": {
     "end_time": "2017-07-02T16:56:57.769788Z",
     "start_time": "2017-07-02T16:46:23.973Z"
    }
   },
   "outputs": [
    {
     "output_type": "stream",
     "name": "stdout",
     "text": [
      "length = 100000\n",
      "\n",
      "constant_string\n",
      "suffix_matrix_smart\n",
      "307 ms ± 629 µs per loop (mean ± std. dev. of 7 runs, 1 loop each)\n",
      "333 ms ± 923 µs per loop (mean ± std. dev. of 7 runs, 1 loop each)\n",
      "\n",
      "suffix_matrix_smart_int\n",
      "428 ms ± 5.79 ms per loop (mean ± std. dev. of 7 runs, 1 loop each)\n",
      "460 ms ± 14 ms per loop (mean ± std. dev. of 7 runs, 1 loop each)\n",
      "\n",
      "random_string\n",
      "suffix_matrix_smart\n",
      "260 ms ± 8.51 ms per loop (mean ± std. dev. of 7 runs, 1 loop each)\n",
      "229 ms ± 16.1 ms per loop (mean ± std. dev. of 7 runs, 1 loop each)\n",
      "\n",
      "suffix_matrix_smart_int\n",
      "182 ms ± 9.88 ms per loop (mean ± std. dev. of 7 runs, 1 loop each)\n",
      "172 ms ± 5.53 ms per loop (mean ± std. dev. of 7 runs, 10 loops each)\n",
      "\n",
      "length = 500000\n",
      "\n",
      "constant_string\n",
      "suffix_matrix_smart\n",
      "2.12 s ± 67.2 ms per loop (mean ± std. dev. of 7 runs, 1 loop each)\n",
      "2.16 s ± 23.1 ms per loop (mean ± std. dev. of 7 runs, 1 loop each)\n",
      "\n",
      "suffix_matrix_smart_int\n",
      "2.6 s ± 55.7 ms per loop (mean ± std. dev. of 7 runs, 1 loop each)\n",
      "2.74 s ± 65.9 ms per loop (mean ± std. dev. of 7 runs, 1 loop each)\n",
      "\n",
      "random_string\n",
      "suffix_matrix_smart\n",
      "2.84 s ± 68.7 ms per loop (mean ± std. dev. of 7 runs, 1 loop each)\n",
      "2.51 s ± 80.4 ms per loop (mean ± std. dev. of 7 runs, 1 loop each)\n",
      "\n",
      "suffix_matrix_smart_int\n",
      "1.88 s ± 45.5 ms per loop (mean ± std. dev. of 7 runs, 1 loop each)\n",
      "1.85 s ± 72 ms per loop (mean ± std. dev. of 7 runs, 1 loop each)\n",
      "\n"
     ]
    }
   ],
   "source": [
    "for length in [1e5, 5e5]:\n",
    "    print(\"length = %i\\n\" % length)\n",
    "    for s in ['constant_string',\n",
    "              'random_string']:\n",
    "        print(s)\n",
    "        s = eval(s)(length)\n",
    "        for sm in ['suffix_matrix_smart',\n",
    "                   'suffix_matrix_smart_int']:\n",
    "            print(sm)\n",
    "            sm = eval(sm)\n",
    "            %timeit sm(to_int_keys2, s)\n",
    "            %timeit sm(to_int_keys3, s)\n",
    "            print()"
   ]
  },
  {
   "cell_type": "markdown",
   "metadata": {},
   "source": [
    "As I explained before, `to_int_keys3` is really better for the first steps (and when we work with integers). Since we are stopping after less steps, `to_int_keys3` provides the best results.\n",
    "\n",
    "The `to_int_keys_best`, `suffix_matrix_best` and `suffix_array_best` functions of the beginning are just some refactoring of `to_int_keys3` and `suffix_matrix_smart_int`."
   ]
  },
  {
   "cell_type": "markdown",
   "metadata": {},
   "source": [
    "## Final remarks on the LCP computation"
   ]
  },
  {
   "cell_type": "markdown",
   "metadata": {},
   "source": [
    "Discarding the last identical lines of the suffix matrix is not a problem to compute the LCP:"
   ]
  },
  {
   "cell_type": "code",
   "execution_count": 19,
   "metadata": {
    "ExecuteTime": {
     "end_time": "2017-07-02T16:56:57.770256Z",
     "start_time": "2017-07-02T16:46:23.987Z"
    }
   },
   "outputs": [
    {
     "output_type": "stream",
     "name": "stdout",
     "text": [
      "2\n2\n"
     ]
    }
   ],
   "source": [
    "def lcp(sm, i, j):\n",
    "    \"\"\"\n",
    "    longest common prefix\n",
    "    O(log(n))\n",
    "\n",
    "    sm: suffix matrix\n",
    "    \"\"\"\n",
    "    n = len(sm[-1])\n",
    "    if i == j:\n",
    "        return n - i\n",
    "    k = 1 << (len(sm) - 2)\n",
    "    ans = 0\n",
    "    for line in sm[-2::-1]:\n",
    "        if i >= n or j >= n:\n",
    "            break\n",
    "        if line[i] == line[j]:\n",
    "            ans ^= k\n",
    "            i += k\n",
    "            j += k\n",
    "        k >>= 1\n",
    "    return ans\n",
    "\n",
    "print(lcp(suffix_matrix(to_int_keys, 'banana'), 2, 4))\n",
    "print(lcp(suffix_matrix_smart(to_int_keys, 'banana'), 2, 4))"
   ]
  },
  {
   "cell_type": "markdown",
   "metadata": {},
   "source": [
    "# Plus Ultra\n",
    "\n",
    "The prefix doubling algorithm uses $O(log(n))$ steps that cost each $O(n*log(n))$ (or $O(A*log(A) + n)$ with `to_int_keys3`).\n",
    "\n",
    "We attacked the first $O(log(n))$ factor for random strings.\n",
    "\n",
    "Now, if you use a radix sort, you can implement `to_int_key` in $O(n)$, and use it with `suffix_matrix_smart` or `suffix_matrix_smart_int` (the former seems more suitable to avoid moduli operations).\n",
    "\n",
    "I implemented a radix sort based `to_int_keys` function that was not optimised and used it with `suffix_matrix_smart`. I tested it against `suffix_matrix_best` and it had similar results against `random_string` but performed really bad against `constant_string`. My radix sort was not optimised for almost sorted arrays, and was quite bad because it was not in place and had to reduce two elements counting arrays (see below).\n",
    "\n",
    "In fact, the native Timsort is so efficient that it beats the radix sort when we provide almost sorted arrays. I don't know what would happen for really high values of $n$ (tested up to `5e6`), but who would process longer arrays on a single computer with a Python code?\n",
    "\n",
    "You can consult those two good references:\n",
    "\n",
    "- http://www.opendatastructures.org/ods-python/11_2_Counting_Sort_Radix_So.html (the one I implemented)\n",
    "\n",
    "- https://www.cs.princeton.edu/~rs/AlgsDS07/18RadixSort.pdf"
   ]
  },
  {
   "cell_type": "markdown",
   "metadata": {},
   "source": [
    "# References\n",
    "\n",
    "[[Kattis]](https://open.kattis.com/problems/substrings):\n",
    "https://open.kattis.com/problems/substrings\n",
    "\n",
    "[[Stanford]](http://web.stanford.edu/class/cs97si/suffix-array.pdf):\n",
    "http://web.stanford.edu/class/cs97si/suffix-array.pdf\n",
    "\n",
    "[[StackOverflow]](https://stackoverflow.com/questions/44866493/how-is-the-string-sort-optimised-in-cpython):\n",
    "https://stackoverflow.com/questions/44866493/how-is-the-string-sort-optimised-in-cpython\n",
    "\n",
    "[[Skew]](http://www.cs.umd.edu/class/fall2011/cmsc858s/SuffixArrays.pdf):\n",
    "http://www.cs.umd.edu/class/fall2011/cmsc858s/SuffixArrays.pdf\n",
    "\n",
    "[[AlgorithmicAlley]](http://algorithmicalley.com/archive/2013/06/30/suffix-arrays.aspx):\n",
    "http://algorithmicalley.com/archive/2013/06/30/suffix-arrays.aspx"
   ]
  }
 ],
 "metadata": {
  "date": "2017-07-03",
  "kernelspec": {
   "name": "python388jvsc74a57bd05623c2b204572a56dd242e03efe6fe262e257d75344930e22cb348ab8fa9e0c0",
   "display_name": "Python 3.8.8 64-bit"
  },
  "language_info": {
   "codemirror_mode": {
    "name": "ipython",
    "version": 3
   },
   "file_extension": ".py",
   "mimetype": "text/x-python",
   "name": "python",
   "nbconvert_exporter": "python",
   "pygments_lexer": "ipython3",
   "version": "3.8.8"
  },
  "title": "Suffix arrays in Python",
  "toc": {
   "colors": {
    "hover_highlight": "#DAA520",
    "navigate_num": "#000000",
    "navigate_text": "#333333",
    "running_highlight": "#FF0000",
    "selected_highlight": "#FFD700",
    "sidebar_border": "#EEEEEE",
    "wrapper_background": "#FFFFFF"
   },
   "moveMenuLeft": false,
   "nav_menu": {
    "height": "174px",
    "width": "252px"
   },
   "navigate_menu": true,
   "number_sections": true,
   "sideBar": true,
   "skipTitle": true,
   "threshold": 4,
   "toc_cell": true,
   "toc_section_display": "block",
   "toc_window_display": true,
   "widenNotebook": false
  },
  "metadata": {
   "interpreter": {
    "hash": "5623c2b204572a56dd242e03efe6fe262e257d75344930e22cb348ab8fa9e0c0"
   }
  }
 },
 "nbformat": 4,
 "nbformat_minor": 2
}