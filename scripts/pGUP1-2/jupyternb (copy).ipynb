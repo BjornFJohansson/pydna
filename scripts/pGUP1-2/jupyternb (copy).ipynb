{
 "cells": [
  {
   "cell_type": "markdown",
   "metadata": {},
   "source": [
    "## Jupyter notebook\n",
    "\n",
    "..."
   ]
  },
  {
   "cell_type": "code",
   "execution_count": 1,
   "metadata": {},
   "outputs": [],
   "source": [
    "import pydna"
   ]
  },
  {
   "cell_type": "code",
   "execution_count": 2,
   "metadata": {},
   "outputs": [
    {
     "data": {
      "text/plain": [
       "'3.0.2a1'"
      ]
     },
     "execution_count": 2,
     "metadata": {},
     "output_type": "execute_result"
    }
   ],
   "source": [
    "pydna.__version__"
   ]
  },
  {
   "cell_type": "code",
   "execution_count": 12,
   "metadata": {},
   "outputs": [],
   "source": [
    "from pydna.readers import read\n",
    "from pydna.primer import Primer\n",
    "from pydna.amplify import pcr\n",
    "from pydna."
   ]
  },
  {
   "cell_type": "markdown",
   "metadata": {},
   "source": [
    "Establish the two primers. These sequences can be found in \n",
    "\n",
    "Régine Bosson, Malika Jaquenoud, and Andreas Conzelmann,\n",
    "“GUP1 of Saccharomyces Cerevisiae Encodes an O-acyltransferase\n",
    "Involved in Remodeling of the GPI Anchor,” Molecular Biology of\n",
    "the Cell 17, no. 6 (June 2006): 2636–2645.\n",
    "http://www.ncbi.nlm.nih.gov/pmc/articles/PMC1474799/"
   ]
  },
  {
   "cell_type": "code",
   "execution_count": 10,
   "metadata": {},
   "outputs": [],
   "source": [
    "GUP1rec1sens = Primer(\"gaattcgatatcaagcttatcgataccgatgtcgctgatcagcatcctgtctcc\")\n",
    "GUP1rec2AS = Primer(\"gacataactaattacatgactcgaggtcgactcagcattttaggtaaattccg\")"
   ]
  },
  {
   "cell_type": "markdown",
   "metadata": {},
   "source": [
    "Read the GUP1 locus sequence into a Dseqrecord object\n",
    "This sequence was taken from the Saccharomyces genome Database:\n",
    "http://www.yeastgenome.org/cgi-bin/getSeq?query=YGL084C&flankl=1000&flankr=1000&format=fasta"
   ]
  },
  {
   "cell_type": "code",
   "execution_count": 11,
   "metadata": {},
   "outputs": [],
   "source": [
    "GUP1 = read(\"GUP1_locus.gb\")"
   ]
  },
  {
   "cell_type": "markdown",
   "metadata": {},
   "source": [
    "The insert is formed by PCR using the two primers and the template sequence"
   ]
  },
  {
   "cell_type": "code",
   "execution_count": 24,
   "metadata": {},
   "outputs": [],
   "source": [
    "insert = pcr(GUP1rec1sens, GUP1rec2AS, GUP1)"
   ]
  },
  {
   "cell_type": "markdown",
   "metadata": {},
   "source": [
    "The sequence for the circular plasmid is read into a Dseqrecord object called pGREG505\n",
    "this sequence was found at\n",
    "http://www.euroscarf.de/plasmid_details.php?accno=P30350"
   ]
  },
  {
   "cell_type": "code",
   "execution_count": 25,
   "metadata": {},
   "outputs": [],
   "source": [
    "pGREG505 = read(\"pGREG505.gb\")"
   ]
  },
  {
   "cell_type": "code",
   "execution_count": 26,
   "metadata": {},
   "outputs": [],
   "source": [
    "# Import the SalI restriction enzyme from Biopython\n",
    "from Bio.Restriction import SalI"
   ]
  },
  {
   "cell_type": "code",
   "execution_count": 27,
   "metadata": {},
   "outputs": [],
   "source": [
    "# Cut the circular pGREG505 plasmid with SalI\n",
    "# this enzyme cuts twice, so two fragments are formed\n",
    "linear_vector, his3 = pGREG505.cut(SalI)"
   ]
  },
  {
   "cell_type": "code",
   "execution_count": 29,
   "metadata": {},
   "outputs": [
    {
     "data": {
      "text/plain": [
       "Dseqrecord(-8301)"
      ]
     },
     "execution_count": 29,
     "metadata": {},
     "output_type": "execute_result"
    }
   ],
   "source": [
    "linear_vector"
   ]
  },
  {
   "cell_type": "code",
   "execution_count": 30,
   "metadata": {},
   "outputs": [
    {
     "data": {
      "text/plain": [
       "Dseq(-8301)\n",
       "TCGACCTC..ACCG    \n",
       "    GGAG..TGGCAGCT"
      ]
     },
     "execution_count": 30,
     "metadata": {},
     "output_type": "execute_result"
    }
   ],
   "source": [
    "linear_vector.seq"
   ]
  },
  {
   "cell_type": "code",
   "execution_count": 31,
   "metadata": {},
   "outputs": [
    {
     "data": {
      "text/plain": [
       "Dseq(-8301)\n",
       "TCGA..tcga\n",
       "agct..AGCT"
      ]
     },
     "execution_count": 31,
     "metadata": {},
     "output_type": "execute_result"
    }
   ],
   "source": [
    "linear_vector.seq.fill_in()"
   ]
  },
  {
   "cell_type": "code",
   "execution_count": 28,
   "metadata": {},
   "outputs": [
    {
     "data": {
      "text/plain": [
       "Dseq(-8301)\n",
       "TCGACCTC..ACCG    \n",
       "    GGAG..TGGCAGCT"
      ]
     },
     "execution_count": 28,
     "metadata": {},
     "output_type": "execute_result"
    }
   ],
   "source": [
    "linear_vector.seq"
   ]
  },
  {
   "cell_type": "code",
   "execution_count": 12,
   "metadata": {},
   "outputs": [],
   "source": [
    "# Circular recombination products are formed\n",
    "# limit is the length of the necessary regions of\n",
    "# homology between the seqences\n",
    "asm = Assembly((linear_vector, insert), limit=28)"
   ]
  },
  {
   "cell_type": "code",
   "execution_count": 13,
   "metadata": {},
   "outputs": [],
   "source": [
    "circular_recombination_products = asm.assemble_circular()"
   ]
  },
  {
   "cell_type": "code",
   "execution_count": 14,
   "metadata": {},
   "outputs": [
    {
     "data": {
      "text/plain": [
       "[Contig(o9981), Contig(o9981)]"
      ]
     },
     "execution_count": 14,
     "metadata": {},
     "output_type": "execute_result"
    }
   ],
   "source": [
    "# The circular recombination products are returned\n",
    "# by order of size. In this case, the largest one is the\n",
    "# correct one\n",
    "circular_recombination_products"
   ]
  },
  {
   "cell_type": "code",
   "execution_count": 18,
   "metadata": {},
   "outputs": [],
   "source": [
    "candidate = circular_recombination_products[0]"
   ]
  },
  {
   "cell_type": "code",
   "execution_count": 19,
   "metadata": {},
   "outputs": [
    {
     "data": {
      "text/html": [
       "<pre> -|name|28\n",
       "|       \\/\n",
       "|       /\\\n",
       "|       28|1742bp_PCR_prod|30\n",
       "|                          \\/\n",
       "|                          /\\\n",
       "|                          30-\n",
       "|                             |\n",
       " -----------------------------</pre>"
      ],
      "text/plain": [
       "Contig(o9981)"
      ]
     },
     "execution_count": 19,
     "metadata": {},
     "output_type": "execute_result"
    }
   ],
   "source": [
    "candidate"
   ]
  },
  {
   "cell_type": "code",
   "execution_count": 20,
   "metadata": {},
   "outputs": [],
   "source": [
    "# The circular recombination products are returned\n",
    "# by order of size. In this case, the largest one is the\n",
    "# correct one\n",
    "pGUP1 = candidate.synced(pGREG505)"
   ]
  },
  {
   "cell_type": "code",
   "execution_count": 21,
   "metadata": {},
   "outputs": [
    {
     "data": {
      "text/html": [
       "<font face=monospace><a href='pGUP1.gb' target='_blank'>pGUP1.gb</a></font><br>"
      ]
     },
     "metadata": {},
     "output_type": "display_data"
    }
   ],
   "source": [
    "pGUP1.write(\"pGUP1.gb\")"
   ]
  },
  {
   "cell_type": "code",
   "execution_count": null,
   "metadata": {},
   "outputs": [],
   "source": []
  }
 ],
 "metadata": {
  "anaconda-cloud": {},
  "kernelspec": {
   "display_name": "Python [conda env:bjorn37]",
   "language": "python",
   "name": "conda-env-bjorn37-py"
  },
  "language_info": {
   "codemirror_mode": {
    "name": "ipython",
    "version": 3
   },
   "file_extension": ".py",
   "mimetype": "text/x-python",
   "name": "python",
   "nbconvert_exporter": "python",
   "pygments_lexer": "ipython3",
   "version": "3.7.3"
  }
 },
 "nbformat": 4,
 "nbformat_minor": 4
}
