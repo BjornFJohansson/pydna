{
 "cells": [
  {
   "cell_type": "markdown",
   "metadata": {},
   "source": [
    "## Jupyter notebook\n",
    "\n",
    "..."
   ]
  },
  {
   "cell_type": "code",
   "execution_count": 1,
   "metadata": {},
   "outputs": [],
   "source": [
    "import pydna"
   ]
  },
  {
   "cell_type": "code",
   "execution_count": 2,
   "metadata": {},
   "outputs": [
    {
     "data": {
      "text/plain": [
       "'3.0.2a1'"
      ]
     },
     "execution_count": 2,
     "metadata": {},
     "output_type": "execute_result"
    }
   ],
   "source": [
    "pydna.__version__"
   ]
  },
  {
   "cell_type": "code",
   "execution_count": 3,
   "metadata": {},
   "outputs": [],
   "source": [
    "from pydna.readers import read\n",
    "from pydna.primer import Primer\n",
    "from pydna.amplify import pcr\n",
    "from pydna.assembly import Assembly"
   ]
  },
  {
   "cell_type": "markdown",
   "metadata": {},
   "source": [
    "Establish the two primers. These sequences can be found in \n",
    "\n",
    "Régine Bosson, Malika Jaquenoud, and Andreas Conzelmann,\n",
    "“GUP1 of Saccharomyces Cerevisiae Encodes an O-acyltransferase\n",
    "Involved in Remodeling of the GPI Anchor,” Molecular Biology of\n",
    "the Cell 17, no. 6 (June 2006): 2636–2645.\n",
    "http://www.ncbi.nlm.nih.gov/pmc/articles/PMC1474799/"
   ]
  },
  {
   "cell_type": "code",
   "execution_count": 4,
   "metadata": {},
   "outputs": [],
   "source": [
    "GUP1rec1sens = Primer(\"gaattcgatatcaagcttatcgataccgatgtcgctgatcagcatcctgtctcc\")\n",
    "GUP1rec2AS = Primer(\"gacataactaattacatgactcgaggtcgactcagcattttaggtaaattccg\")"
   ]
  },
  {
   "cell_type": "markdown",
   "metadata": {},
   "source": [
    "Read the GUP1 locus sequence into a Dseqrecord object\n",
    "This sequence was taken from the Saccharomyces genome Database:\n",
    "http://www.yeastgenome.org/cgi-bin/getSeq?query=YGL084C&flankl=1000&flankr=1000&format=fasta"
   ]
  },
  {
   "cell_type": "code",
   "execution_count": 5,
   "metadata": {},
   "outputs": [],
   "source": [
    "GUP1 = read(\"GUP1_locus.gb\")"
   ]
  },
  {
   "cell_type": "markdown",
   "metadata": {},
   "source": [
    "The insert is formed by PCR using the two primers and the template sequence"
   ]
  },
  {
   "cell_type": "code",
   "execution_count": 6,
   "metadata": {},
   "outputs": [],
   "source": [
    "insert = pcr(GUP1rec1sens, GUP1rec2AS, GUP1)"
   ]
  },
  {
   "cell_type": "markdown",
   "metadata": {},
   "source": [
    "The sequence for the circular plasmid is read into a Dseqrecord object called pGREG505\n",
    "this sequence was found at\n",
    "http://www.euroscarf.de/plasmid_details.php?accno=P30350"
   ]
  },
  {
   "cell_type": "code",
   "execution_count": 7,
   "metadata": {},
   "outputs": [],
   "source": [
    "pGREG505 = read(\"pGREG505.gb\")"
   ]
  },
  {
   "cell_type": "code",
   "execution_count": 8,
   "metadata": {},
   "outputs": [],
   "source": [
    "# Import the SalI restriction enzyme from Biopython\n",
    "from Bio.Restriction import SalI"
   ]
  },
  {
   "cell_type": "code",
   "execution_count": 9,
   "metadata": {},
   "outputs": [],
   "source": [
    "# Cut the circular pGREG505 plasmid with SalI\n",
    "# this enzyme cuts twice, so two fragments are formed\n",
    "linear_vector, his3 = pGREG505.cut(SalI)"
   ]
  },
  {
   "cell_type": "code",
   "execution_count": 29,
   "metadata": {},
   "outputs": [],
   "source": [
    "linear_vector.name = \"pGREG505_SalI\""
   ]
  },
  {
   "cell_type": "code",
   "execution_count": 30,
   "metadata": {},
   "outputs": [],
   "source": [
    "asm = Assembly((linear_vector, insert), limit=28)"
   ]
  },
  {
   "cell_type": "markdown",
   "metadata": {},
   "source": [
    "The keyword argument `limit` above is the minimum length of the regions of homology between seqences for recombination"
   ]
  },
  {
   "cell_type": "code",
   "execution_count": 31,
   "metadata": {},
   "outputs": [
    {
     "data": {
      "text/plain": [
       "Assembly\n",
       "fragments..: 8301bp 1742bp\n",
       "limit(bp)..: 28\n",
       "G.nodes....: 4\n",
       "algorithm..: common_sub_strings"
      ]
     },
     "execution_count": 31,
     "metadata": {},
     "output_type": "execute_result"
    }
   ],
   "source": [
    "asm"
   ]
  },
  {
   "cell_type": "markdown",
   "metadata": {},
   "source": [
    "The Assembly object above contains a graph with four nodes"
   ]
  },
  {
   "cell_type": "code",
   "execution_count": 32,
   "metadata": {},
   "outputs": [],
   "source": [
    "circular_recombination_products = asm.assemble_circular()"
   ]
  },
  {
   "cell_type": "markdown",
   "metadata": {},
   "source": [
    "A list of circular recombination products are returned by order of size from the `assemble_circular()` method."
   ]
  },
  {
   "cell_type": "code",
   "execution_count": 33,
   "metadata": {},
   "outputs": [
    {
     "data": {
      "text/plain": [
       "[Contig(o9981), Contig(o9981)]"
      ]
     },
     "execution_count": 33,
     "metadata": {},
     "output_type": "execute_result"
    }
   ],
   "source": [
    "circular_recombination_products"
   ]
  },
  {
   "cell_type": "markdown",
   "metadata": {},
   "source": [
    "Contigs are essentially Dseqrecord objects with some extra methods and properties."
   ]
  },
  {
   "cell_type": "code",
   "execution_count": 34,
   "metadata": {},
   "outputs": [],
   "source": [
    "candidate = circular_recombination_products[0]"
   ]
  },
  {
   "cell_type": "code",
   "execution_count": 35,
   "metadata": {},
   "outputs": [
    {
     "data": {
      "text/html": [
       "<pre> -|pGREG505_SalI|28\n",
       "|                \\/\n",
       "|                /\\\n",
       "|                28|1742bp_PCR_prod|30\n",
       "|                                   \\/\n",
       "|                                   /\\\n",
       "|                                   30-\n",
       "|                                      |\n",
       " --------------------------------------</pre>"
      ],
      "text/plain": [
       "Contig(o9981)"
      ]
     },
     "execution_count": 35,
     "metadata": {},
     "output_type": "execute_result"
    }
   ],
   "source": [
    "candidate"
   ]
  },
  {
   "cell_type": "code",
   "execution_count": 36,
   "metadata": {},
   "outputs": [],
   "source": [
    "# The circular recombination products are returned\n",
    "# by order of size. In this case, the largest one is the\n",
    "# correct one\n",
    "pGUP1 = candidate.synced(pGREG505)"
   ]
  },
  {
   "cell_type": "code",
   "execution_count": 59,
   "metadata": {},
   "outputs": [
    {
     "data": {
      "text/plain": [
       "cSEGUID_0R8hr15t-psjHVuuTj_JufGxOPg"
      ]
     },
     "execution_count": 59,
     "metadata": {},
     "output_type": "execute_result"
    }
   ],
   "source": [
    "pGUP1.stamp()"
   ]
  },
  {
   "cell_type": "code",
   "execution_count": 61,
   "metadata": {},
   "outputs": [
    {
     "data": {
      "text/html": [
       "<font face=monospace><a href='pGUP1.gb' target='_blank'>pGUP1.gb</a></font><br>"
      ]
     },
     "metadata": {},
     "output_type": "display_data"
    }
   ],
   "source": [
    "pGUP1.write(\"pGUP1.gb\")"
   ]
  },
  {
   "cell_type": "code",
   "execution_count": 62,
   "metadata": {},
   "outputs": [
    {
     "data": {
      "text/plain": [
       "Dseqrecord(o9981)"
      ]
     },
     "execution_count": 62,
     "metadata": {},
     "output_type": "execute_result"
    }
   ],
   "source": [
    "pGUP1"
   ]
  },
  {
   "cell_type": "code",
   "execution_count": 83,
   "metadata": {},
   "outputs": [],
   "source": [
    "pGUP1.id = \"pGUP1_2\""
   ]
  },
  {
   "cell_type": "code",
   "execution_count": 84,
   "metadata": {},
   "outputs": [
    {
     "data": {
      "text/plain": [
       "'pGUP1_2'"
      ]
     },
     "execution_count": 84,
     "metadata": {},
     "output_type": "execute_result"
    }
   ],
   "source": [
    "pGUP1.id"
   ]
  },
  {
   "cell_type": "code",
   "execution_count": 85,
   "metadata": {},
   "outputs": [],
   "source": [
    "from Bio import SeqIO"
   ]
  },
  {
   "cell_type": "code",
   "execution_count": 86,
   "metadata": {},
   "outputs": [],
   "source": [
    "output_file = open(\"pGUP1_2.gb\", 'w')"
   ]
  },
  {
   "cell_type": "code",
   "execution_count": 87,
   "metadata": {},
   "outputs": [
    {
     "data": {
      "text/plain": [
       "1"
      ]
     },
     "execution_count": 87,
     "metadata": {},
     "output_type": "execute_result"
    }
   ],
   "source": [
    "SeqIO.write(pGUP1, output_file, \"gb\")"
   ]
  },
  {
   "cell_type": "code",
   "execution_count": 88,
   "metadata": {},
   "outputs": [],
   "source": [
    "output_file.close()"
   ]
  },
  {
   "cell_type": "code",
   "execution_count": 68,
   "metadata": {},
   "outputs": [],
   "source": [
    "from Bio.Seq import Seq"
   ]
  },
  {
   "cell_type": "code",
   "execution_count": 69,
   "metadata": {},
   "outputs": [],
   "source": [
    "from Bio.SeqRecord import SeqRecord"
   ]
  },
  {
   "cell_type": "code",
   "execution_count": 74,
   "metadata": {},
   "outputs": [],
   "source": [
    "from Bio.Alphabet.IUPAC import IUPACAmbiguousDNA"
   ]
  },
  {
   "cell_type": "code",
   "execution_count": 77,
   "metadata": {},
   "outputs": [],
   "source": [
    "x = SeqRecord(Seq(str(pGUP1.seq), IUPACAmbiguousDNA()))"
   ]
  },
  {
   "cell_type": "code",
   "execution_count": 79,
   "metadata": {},
   "outputs": [
    {
     "name": "stdout",
     "output_type": "stream",
     "text": [
      "LOCUS       .                       9981 bp    DNA              UNK 01-JAN-1980\n",
      "DEFINITION  .\n",
      "ACCESSION   <unknown id>\n",
      "VERSION     <unknown id>\n",
      "KEYWORDS    .\n",
      "SOURCE      .\n",
      "  ORGANISM  .\n",
      "            .\n",
      "FEATURES             Location/Qualifiers\n",
      "ORIGIN\n",
      "        1 aaaagctgga gctcgtttaa acggcgcgcc tagtacggat tagaagccgc cgagcgggtg\n",
      "       61 acagccctcc gaaggaagac tctcctccgt gcgtcctcgt cttcaccggt cgcgttcctg\n",
      "      121 aaacgcagat gtgcctcgcg ccgcactgct ccgaacaata aagattctac aatactagct\n",
      "      181 tttatggtta tgaagaggaa aaattggcag taacctggcc ccacaaacct tcaaatgaac\n",
      "      241 gaatcaaatt aacaaccata ggatgataat gcgattagtt ttttagcctt atttctgggg\n",
      "      301 taattaatca gcgaagcgat gatttttgat ctattaacag atatataaat gcaaaaactg\n",
      "      361 cataaccact ttaactaata ctttcaacat tttcggtttg tattacttct tattcaaatg\n",
      "      421 taataaaagt atcaacaaaa aattgttaat atacctctat actttaacgt caaggagaaa\n",
      "      481 aaaccccgga ttctagagcg gccgcactag tggatccccc gggctgcagg aattcgatat\n",
      "      541 caagcttatc gataccgatg tcgctgatca gcatcctgtc tcccctaatt acttccgagg\n",
      "      601 gcttagattc aagaatcaaa ccttcaccaa aaaaggatgc ctctactacc actaagccat\n",
      "      661 cactatggaa aactactgag ttcaaattct actacattgc atttctggtc gtggttccct\n",
      "      721 tgatgttcta tgctgggtta caagctagtt cgcccgaaaa tccaaactat gcaagatacg\n",
      "      781 aacgtctcct atctcaaggt tggttatttg gcagaaaagt agacaatagt gattctcaat\n",
      "      841 ataggttttt cagggacaat tttgcgctat tgtcagtttt aatgctagtc cacacttcta\n",
      "      901 taaaacgcat tgtactttat tcaacaaata tcactaaatt gaggtttgat ctgatatttg\n",
      "      961 gtttgatctt tttagtggcc gctcatggtg tcaattcgat aagaatttta gcccatatgc\n",
      "     1021 taattttata tgccatcgcc catgtactaa agaactttag aagaatagcc accatcagca\n",
      "     1081 tttggattta tggtatttct acgcttttta ttaacgacaa cttcagagca tatccatttg\n",
      "     1141 gtaatatttg ctctttttta agcccattgg accattggta tagaggtatc attccaagat\n",
      "     1201 gggatgtctt tttcaatttt actcttttga gagtcttaag ttacaacttg gacttcttag\n",
      "     1261 agaggtggga gaatttacaa aagaagaaaa gtccatccta tgaatcaaaa gaagctaaat\n",
      "     1321 cagccatttt gctcaatgaa cgtgctagat taactgctgc acaccccata caggactaca\n",
      "     1381 gcttaatgaa ttatattgca tatgttactt acacgccact tttcattgcc ggccccatta\n",
      "     1441 taacattcaa tgattatgtt taccaatcga aacatacctt gccatcaata aatttcaaat\n",
      "     1501 tcatttttta ctatgcggtg agattcgtta ttgctctctt atctatggag ttcattttac\n",
      "     1561 actttctcca cgttgtggca atctcaaaaa ccaaagcgtg ggaaaatgac acacctttcc\n",
      "     1621 agatttccat gattggctta tttaatttga atattatttg gctaaaacta ctgattccgt\n",
      "     1681 ggaggctgtt taggctgtgg gctttgctag acggaatcga tacacctgaa aatatgatca\n",
      "     1741 ggtgtgttga taacaattac agttcactag cattctggag agcttggcat agaagctaca\n",
      "     1801 ataagtgggt tgtccgttac atatatattc ctctaggtgg ttcaaaaaat agagttttga\n",
      "     1861 catcactagc agtcttttcc ttcgtagcta tatggcatga catcgaacta aagttattat\n",
      "     1921 tatggggttg gctaatagtt ttgttcctct taccagaaat ttttgctacc caaattttct\n",
      "     1981 ctcattatac cgacgcagtc tggtacagac acgtttgcgc tgtcggtgct gttttcaaca\n",
      "     2041 tatgggttat gatgatcgct aatctttttg gattctgctt gggctctgac ggtactaaaa\n",
      "     2101 aattactaag cgatatgttc tgtaccgtat ctggtttcaa atttgtaatt ttggcaagcg\n",
      "     2161 ttagtttatt catcgcagta caaataatgt ttgaaatcag agaagaagaa aagaggcacg\n",
      "     2221 gaatttacct aaaatgctga gtcgacctcg agtcatgtaa ttagttatgt cacgcttaca\n",
      "     2281 ttcacgccct ccccccacat ccgctctaac cgaaaaggaa ggagttagac aacctgaagt\n",
      "     2341 ctaggtccct atttattttt ttatagttat gttagtatta agaacgttat ttatatttca\n",
      "     2401 aatttttctt ttttttctgt acagacgcgt gtacgcatgt aacattatac tgaaaacctt\n",
      "     2461 gcttgagaag gttttgggac gctcgaaggc tttaatttgc ggccggtacc taataacttc\n",
      "     2521 gtatagcata cattatacga agttatatta agggttctcg acgttttcga cactggatgg\n",
      "     2581 cggcgttagt atcgaatcga cagcagtata gcgaccagca ttcacatacg attgacgcat\n",
      "     2641 gatattactt tctgcgcact taacttcgca tctgggcaga tgatgtcgag gcgaaaaaaa\n",
      "     2701 atataaatca cgctaacatt tgattaaaat agaacaacta caatataaaa aaactataca\n",
      "     2761 aatgacaagt tcttgaaaac aagaatcttt ttattgtcag tactgattag aaaaactcat\n",
      "     2821 cgagcatcaa atgaaactgc aatttattca tatcaggatt atcaatacca tatttttgaa\n",
      "     2881 aaagccgttt ctgtaatgaa ggagaaaact caccgaggca gttccatagg atggcaagat\n",
      "     2941 cctggtatcg gtctgcgatt ccgactcgtc caacatcaat acaacctatt aatttcccct\n",
      "     3001 cgtcaaaaat aaggttatca agtgagaaat caccatgagt gacgactgaa tccggtgaga\n",
      "     3061 atggcaaaag cttatgcatt tctttccaga cttgttcaac aggccagcca ttacgctcgt\n",
      "     3121 catcaaaatc actcgcatca accaaaccgt tattcattcg tgattgcgcc tgagcgagac\n",
      "     3181 gaaatacgcg atcgctgtta aaaggacaat tacaaacagg aatcgaatgc aaccggcgca\n",
      "     3241 ggaacactgc cagcgcatca acaatatttt cacctgaatc aggatattct tctaatacct\n",
      "     3301 ggaatgctgt tttgccgggg atcgcagtgg tgagtaacca tgcatcatca ggagtacgga\n",
      "     3361 taaaatgctt gatggtcgga agaggcataa attccgtcag ccagtttagt ctgaccatct\n",
      "     3421 catctgtaac atcattggca acgctacctt tgccatgttt cagaaacaac tctggcgcat\n",
      "     3481 cgggcttccc atacaatcga tagattgtcg cacctgattg cccgacatta tcgcgagccc\n",
      "     3541 atttataccc atataaatca gcatccatgt tggaatttaa tcgcggcctc gaaacgtgag\n",
      "     3601 tcttttcctt acccatggtt gtttatgttc ggatgtgatg tgagaactgt atcctagcaa\n",
      "     3661 gattttaaaa ggaagtatat gaaagaagaa cctcagtggc aaatcctaac cttttatatt\n",
      "     3721 tctctacagg ggcgcggcgt ggggacaatt caacgcgtct gtgaggggag cgtttccctg\n",
      "     3781 ctcgcaggtc tgcagcgagg agccgtaatt tttgcttcgc gccgtgcggc catcaaaatg\n",
      "     3841 tatggatgca aatgattata catggggatg tatgggctaa atgtacgggc gacagtcaca\n",
      "     3901 tcatgcccct gagctgcgca cgtcaagact gtcaaggagg gtattctggg cctccatgtc\n",
      "     3961 gctggccggg tgacccggcg gggacgaggc aagctaaaca gatctctaga cctaataact\n",
      "     4021 tcgtatagca tacattatac gaagttatat taagggttgt cttaattaag ggtacccaat\n",
      "     4081 tcgccctata gtgagtcgta ttacgcgcgc tcactggccg tcgttttaca acgtcgtgac\n",
      "     4141 tgggaaaacc ctggcgttac ccaacttaat cgccttgcag cacatccccc tttcgccagc\n",
      "     4201 tggcgtaata gcgaagaggc ccgcaccgat cgcccttccc aacagttgcg cagcctgaat\n",
      "     4261 ggcgaatggc gcgacgcgcc ctgtagcggc gcattaagcg cggcgggtgt ggtggttacg\n",
      "     4321 cgcagcgtga ccgctacact tgccagcgcc ctagcgcccg ctcctttcgc tttcttccct\n",
      "     4381 tcctttctcg ccacgttcgc cggctttccc cgtcaagctc taaatcgggg gctcccttta\n",
      "     4441 gggttccgat ttagtgcttt acggcacctc gaccccaaaa aacttgatta gggtgatggt\n",
      "     4501 tcacgtagtg ggccatcgcc ctgatagacg gtttttcgcc ctttgacgtt ggagtccacg\n",
      "     4561 ttctttaata gtggactctt gttccaaact ggaacaacac tcaaccctat ctcggtctat\n",
      "     4621 tcttttgatt tataagggat tttgccgatt tcggcctatt ggttaaaaaa tgagctgatt\n",
      "     4681 taacaaaaat ttaacgcgaa ttttaacaaa atattaacgt ttacaatttc ctgatgcggt\n",
      "     4741 attttctcct tacgcatctg tgcggtattt cacaccgcat atcgacggtc gaggagaact\n",
      "     4801 tctagtatat ccacatacct aatattattg ccttattaaa aatggaatcc caacaattac\n",
      "     4861 atcaaaatcc acattctctt caaaatcaat tgtcctgtac ttccttgttc atgtgtgttc\n",
      "     4921 aaaaacgtta tatttatagg ataattatac tctatttctc aacaagtaat tggttgtttg\n",
      "     4981 gccgagcggt ctaaggcgcc tgattcaaga aatatcttga ccgcagttaa ctgtgggaat\n",
      "     5041 actcaggtat cgtaagatgc aagagttcga atctcttagc aaccattatt tttttcctca\n",
      "     5101 acataacgag aacacacagg ggcgctatcg cacagaatca aattcgatga ctggaaattt\n",
      "     5161 tttgttaatt tcagaggtcg cctgacgcat ataccttttt caactgaaaa attgggagaa\n",
      "     5221 aaaggaaagg tgagaggccg gaaccggctt ttcatataga atagagaagc gttcatgact\n",
      "     5281 aaatgcttgc atcacaatac ttgaagttga caatattatt taaggaccta ttgttttttc\n",
      "     5341 caataggtgg ttagcaatcg tcttactttc taacttttct taccttttac atttcagcaa\n",
      "     5401 tatatatata tatttcaagg atataccatt ctaatgtctg cccctatgtc tgcccctaag\n",
      "     5461 aagatcgtcg ttttgccagg tgaccacgtt ggtcaagaaa tcacagccga agccattaag\n",
      "     5521 gttcttaaag ctatttctga tgttcgttcc aatgtcaagt tcgatttcga aaatcattta\n",
      "     5581 attggtggtg ctgctatcga tgctacaggt gtcccacttc cagatgaggc gctggaagcc\n",
      "     5641 tccaagaagg ttgatgccgt tttgttaggt gctgtgggtg gtcctaaatg gggtaccggt\n",
      "     5701 agtgttagac ctgaacaagg tttactaaaa atccgtaaag aacttcaatt gtacgccaac\n",
      "     5761 ttaagaccat gtaactttgc atccgactct cttttagact tatctccaat caagccacaa\n",
      "     5821 tttgctaaag gtactgactt cgttgttgtc agagaattag tgggaggtat ttactttggt\n",
      "     5881 aagagaaagg aagacgatgg tgatggtgtc gcttgggata gtgaacaata caccgttcca\n",
      "     5941 gaagtgcaaa gaatcacaag aatggccgct ttcatggccc tacaacatga gccaccattg\n",
      "     6001 cctatttggt ccttggataa agctaatgtt ttggcctctt caagattatg gagaaaaact\n",
      "     6061 gtggaggaaa ccatcaagaa cgaattccct acattgaagg ttcaacatca attgattgat\n",
      "     6121 tctgccgcca tgatcctagt taagaaccca acccacctaa atggtattat aatcaccagc\n",
      "     6181 aacatgtttg gtgatatcat ctccgatgaa gcctccgtta tcccaggttc cttgggtttg\n",
      "     6241 ttgccatctg cgtccttggc ctctttgcca gacaagaaca ccgcatttgg tttgtacgaa\n",
      "     6301 ccatgccacg gttctgctcc agatttgcca aagaataagg ttgaccctat cgccactatc\n",
      "     6361 ttgtctgctg caatgatgtt gaaattgtca ttgaacttgc ctgaagaagg taaggccatt\n",
      "     6421 gaagatgcag ttaaaaaggt tttggatgca ggtatcagaa ctggtgattt aggtggttcc\n",
      "     6481 aacagtacca ccgaagtcgg tgatgctgtc gccgaagaag ttaagaaaat ccttgcttaa\n",
      "     6541 aaagattctc tttttttatg atatttgtac ataaacttta taaatgaaat tcataataga\n",
      "     6601 aacgacacga aattacaaaa tggaatatgt tcatagggta gacgaaacta tatacgcaat\n",
      "     6661 ctacatacat ttatcaagaa ggagaaaaag gaggatagta aaggaataca ggtaagcaaa\n",
      "     6721 ttgatactaa tggctcaacg tgataaggaa aaagaattgc actttaacat taatattgac\n",
      "     6781 aaggaggagg gcaccacaca aaaagttagg tgtaacagaa aatcatgaaa ctacgattcc\n",
      "     6841 taatttgata ttggaggatt ttctctaaaa aaaaaaaaat acaacaaata aaaaacactc\n",
      "     6901 aatgacctga ccatttgatg gagtttaagt caataccttc ttgaaccatt tcccataatg\n",
      "     6961 gtgaaagttc cctcaagaat tttactctgt cagaaacggc cttacgacgt agtcgatatg\n",
      "     7021 gtgcactctc agtacaatct gctctgatgc cgcatagtta agccagcccc gacacccgcc\n",
      "     7081 aacacccgct gacgcgccct gacgggcttg tctgctcccg gcatccgctt acagacaagc\n",
      "     7141 tgtgaccgtc tccgggagct gcatgtgtca gaggttttca ccgtcatcac cgaaacgcgc\n",
      "     7201 gagacgaaag ggcctcgtga tacgcctatt tttataggtt aatgtcatga taataatggt\n",
      "     7261 ttcttaggac ggatcgcttg cctgtaactt acacgcgcct cgtatctttt aatgatggaa\n",
      "     7321 taatttggga atttactctg tgtttattta tttttatgtt ttgtatttgg attttagaaa\n",
      "     7381 gtaaataaag aaggtagaag agttacggaa tgaagaaaaa aaaataaaca aaggtttaaa\n",
      "     7441 aaatttcaac aaaaagcgta ctttacatat atatttatta gacaagaaaa gcagattaaa\n",
      "     7501 tagatataca ttcgattaac gataagtaaa atgtaaaatc acaggatttt cgtgtgtggt\n",
      "     7561 cttctacaca gacaagatga aacaattcgg cattaatacc tgagagcagg aagagcaaga\n",
      "     7621 taaaaggtag tatttgttgg cgatccccct agagtctttt acatcttcgg aaaacaaaaa\n",
      "     7681 ctattttttc tttaatttct ttttttactt tctattttta atttatatat ttatattaaa\n",
      "     7741 aaatttaaat tataattatt tttatagcac gtgatgaaaa ggacccaggt ggcacttttc\n",
      "     7801 ggggaaatgt gcgcggaacc cctatttgtt tatttttcta aatacattca aatatgtatc\n",
      "     7861 cgctcatgag acaataaccc tgataaatgc ttcaataata ttgaaaaagg aagagtatga\n",
      "     7921 gtattcaaca tttccgtgtc gcccttattc ccttttttgc ggcattttgc cttcctgttt\n",
      "     7981 ttgctcaccc agaaacgctg gtgaaagtaa aagatgctga agatcagttg ggtgcacgag\n",
      "     8041 tgggttacat cgaactggat ctcaacagcg gtaagatcct tgagagtttt cgccccgaag\n",
      "     8101 aacgttttcc aatgatgagc acttttaaag ttctgctatg tggcgcggta ttatcccgta\n",
      "     8161 ttgacgccgg gcaagagcaa ctcggtcgcc gcatacacta ttctcagaat gacttggttg\n",
      "     8221 agtactcacc agtcacagaa aagcatctta cggatggcat gacagtaaga gaattatgca\n",
      "     8281 gtgctgccat aaccatgagt gataacactg cggccaactt acttctgaca acgatcggag\n",
      "     8341 gaccgaagga gctaaccgct tttttgcaca acatggggga tcatgtaact cgccttgatc\n",
      "     8401 gttgggaacc ggagctgaat gaagccatac caaacgacga gcgtgacacc acgatgcctg\n",
      "     8461 tagcaatggc aacaacgttg cgcaaactat taactggcga actacttact ctagcttccc\n",
      "     8521 ggcaacaatt aatagactgg atggaggcgg ataaagttgc aggaccactt ctgcgctcgg\n",
      "     8581 cccttccggc tggctggttt attgctgata aatctggagc cggtgagcgt gggtctcgcg\n",
      "     8641 gtatcattgc agcactgggg ccagatggta agccctcccg tatcgtagtt atctacacga\n",
      "     8701 cggggagtca ggcaactatg gatgaacgaa atagacagat cgctgagata ggtgcctcac\n",
      "     8761 tgattaagca ttggtaactg tcagaccaag tttactcata tatactttag attgatttaa\n",
      "     8821 aacttcattt ttaatttaaa aggatctagg tgaagatcct ttttgataat ctcatgacca\n",
      "     8881 aaatccctta acgtgagttt tcgttccact gagcgtcaga ccccgtagaa aagatcaaag\n",
      "     8941 gatcttcttg agatcctttt tttctgcgcg taatctgctg cttgcaaaca aaaaaaccac\n",
      "     9001 cgctaccagc ggtggtttgt ttgccggatc aagagctacc aactcttttt ccgaaggtaa\n",
      "     9061 ctggcttcag cagagcgcag ataccaaata ctgtccttct agtgtagccg tagttaggcc\n",
      "     9121 accacttcaa gaactctgta gcaccgccta catacctcgc tctgctaatc ctgttaccag\n",
      "     9181 tggctgctgc cagtggcgat aagtcgtgtc ttaccgggtt ggactcaaga cgatagttac\n",
      "     9241 cggataaggc gcagcggtcg ggctgaacgg ggggttcgtg cacacagccc agcttggagc\n",
      "     9301 gaacgaccta caccgaactg agatacctac agcgtgagct atgagaaagc gccacgcttc\n",
      "     9361 ccgaagggag aaaggcggac aggtatccgg taagcggcag ggtcggaaca ggagagcgca\n",
      "     9421 cgagggagct tccaggggga aacgcctggt atctttatag tcctgtcggg tttcgccacc\n",
      "     9481 tctgacttga gcgtcgattt ttgtgatgct cgtcaggggg gcggagccta tggaaaaacg\n",
      "     9541 ccagcaacgc ggccttttta cggttcctgg ccttttgctg gccttttgct cacatgttct\n",
      "     9601 ttcctgcgtt atcccctgat tctgtggata accgtattac cgcctttgag tgagctgata\n",
      "     9661 ccgctcgccg cagccgaacg accgagcgca gcgagtcagt gagcgaggaa gcggaagagc\n",
      "     9721 gcccaatacg caaaccgcct ctccccgcgc gttggccgat tcattaatgc agctggcacg\n",
      "     9781 acaggtttcc cgactggaaa gcgggcagtg agcgcaacgc aattaatgtg agttacctca\n",
      "     9841 ctcattaggc accccaggct ttacacttta tgcttccggc tcctatgttg tgtggaattg\n",
      "     9901 tgagcggata acaatttcac acaggaaaca gctatgacca tgattacgcc aagcgcgcaa\n",
      "     9961 ttaaccctca ctaaagggaa c\n",
      "//\n",
      "\n"
     ]
    }
   ],
   "source": [
    "print(x.format(\"gb\"))"
   ]
  },
  {
   "cell_type": "code",
   "execution_count": 80,
   "metadata": {},
   "outputs": [],
   "source": [
    "output_file = open(\"x.gb\", 'w')"
   ]
  },
  {
   "cell_type": "code",
   "execution_count": 81,
   "metadata": {},
   "outputs": [
    {
     "data": {
      "text/plain": [
       "1"
      ]
     },
     "execution_count": 81,
     "metadata": {},
     "output_type": "execute_result"
    }
   ],
   "source": [
    "SeqIO.write([x], output_file, \"gb\")"
   ]
  },
  {
   "cell_type": "code",
   "execution_count": 82,
   "metadata": {},
   "outputs": [],
   "source": [
    "output_file.close()"
   ]
  },
  {
   "cell_type": "code",
   "execution_count": null,
   "metadata": {},
   "outputs": [],
   "source": []
  }
 ],
 "metadata": {
  "anaconda-cloud": {},
  "kernelspec": {
   "display_name": "Python [conda env:bjorn37]",
   "language": "python",
   "name": "conda-env-bjorn37-py"
  },
  "language_info": {
   "codemirror_mode": {
    "name": "ipython",
    "version": 3
   },
   "file_extension": ".py",
   "mimetype": "text/x-python",
   "name": "python",
   "nbconvert_exporter": "python",
   "pygments_lexer": "ipython3",
   "version": "3.7.3"
  }
 },
 "nbformat": 4,
 "nbformat_minor": 4
}
