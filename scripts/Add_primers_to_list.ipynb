{
 "cells": [
  {
   "cell_type": "code",
   "execution_count": 1,
   "metadata": {},
   "outputs": [],
   "source": [
    "from pydna.parsers import parse_primers"
   ]
  },
  {
   "cell_type": "code",
   "execution_count": 2,
   "metadata": {},
   "outputs": [],
   "source": [
    "newprimers = parse_primers('''\n",
    "\n",
    ">s1 tm=52.856\n",
    "AATCCAATCAGCGTAAG\n",
    "\n",
    ">s2 tm=56.264\n",
    "ATCGTATCTGCTGCGT\n",
    "\n",
    ">s3 tm=53.243\n",
    "TAAAATCTCGTAAAGGAACT\n",
    "\n",
    ">s4 tm=52.983\n",
    "AACTGTAAAATCAGGTATCT\n",
    "\n",
    ">s5 tm=54.852\n",
    "GAAAAGCGTTTACCTCG\n",
    "\n",
    ">s1r tm=52.348\n",
    "AGAAAGTCTACACCTTAC\n",
    "\n",
    ">s2r tm=54.01\n",
    "GTTGACTACTATTTACGCA\n",
    "\n",
    ">s3r tm=55.045\n",
    "CAGAGCAGACAGTTCC\n",
    "\n",
    ">s4r tm=53.771\n",
    "ACGGACTACGAGATAC\n",
    "\n",
    ">s5r tm=51.462\n",
    "TACAATAGAGTTCCGAG\n",
    "\n",
    "''')"
   ]
  },
  {
   "cell_type": "code",
   "execution_count": 3,
   "metadata": {},
   "outputs": [
    {
     "data": {
      "text/plain": [
       "10"
      ]
     },
     "execution_count": 3,
     "metadata": {},
     "output_type": "execute_result"
    }
   ],
   "source": [
    "len(newprimers)"
   ]
  },
  {
   "cell_type": "code",
   "execution_count": 4,
   "metadata": {},
   "outputs": [],
   "source": [
    "from pydna.myprimers import PrimerList"
   ]
  },
  {
   "cell_type": "code",
   "execution_count": 5,
   "metadata": {},
   "outputs": [],
   "source": [
    "p = PrimerList()"
   ]
  },
  {
   "cell_type": "code",
   "execution_count": 6,
   "metadata": {},
   "outputs": [
    {
     "data": {
      "text/plain": [
       ">1750_s1 s1 tm=52.856\n",
       "AATCCAATCAGCGTAAG\n",
       "\n",
       ">1749_s2 s2 tm=56.264\n",
       "ATCGTATCTGCTGCGT\n",
       "\n",
       ">1748_s3 s3 tm=53.243\n",
       "TAAAATCTCGTAAAGGAACT\n",
       "\n",
       ">1747_s4 s4 tm=52.983\n",
       "AACTGTAAAATCAGGTATCT\n",
       "\n",
       ">1746_s5 s5 tm=54.852\n",
       "GAAAAGCGTTTACCTCG\n",
       "\n",
       ">1745_s1r s1r tm=52.348\n",
       "AGAAAGTCTACACCTTAC\n",
       "\n",
       ">1744_s2r s2r tm=54.01\n",
       "GTTGACTACTATTTACGCA\n",
       "\n",
       ">1743_s3r s3r tm=55.045\n",
       "CAGAGCAGACAGTTCC\n",
       "\n",
       ">1742_s4r s4r tm=53.771\n",
       "ACGGACTACGAGATAC\n",
       "\n",
       ">1741_s5r s5r tm=51.462\n",
       "TACAATAGAGTTCCGAG\n"
      ]
     },
     "execution_count": 6,
     "metadata": {},
     "output_type": "execute_result"
    }
   ],
   "source": [
    "p.assign_numbers(newprimers)"
   ]
  },
  {
   "cell_type": "code",
   "execution_count": null,
   "metadata": {},
   "outputs": [],
   "source": []
  }
 ],
 "metadata": {
  "anaconda-cloud": {},
  "kernelspec": {
   "display_name": "Python [conda env:bjorn39]",
   "language": "python",
   "name": "conda-env-bjorn39-py"
  },
  "language_info": {
   "codemirror_mode": {
    "name": "ipython",
    "version": 3
   },
   "file_extension": ".py",
   "mimetype": "text/x-python",
   "name": "python",
   "nbconvert_exporter": "python",
   "pygments_lexer": "ipython3",
   "version": "3.9.12"
  }
 },
 "nbformat": 4,
 "nbformat_minor": 4
}
