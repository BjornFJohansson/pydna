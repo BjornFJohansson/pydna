{
 "cells": [
  {
   "cell_type": "code",
   "execution_count": 1,
   "metadata": {},
   "outputs": [],
   "source": [
    "from pydna.genbank import genbank"
   ]
  },
  {
   "cell_type": "code",
   "execution_count": 2,
   "metadata": {},
   "outputs": [],
   "source": [
    "lacZ = genbank(\"NC_000913 REGION: complement(363231..366305)\")"
   ]
  },
  {
   "cell_type": "code",
   "execution_count": 3,
   "metadata": {},
   "outputs": [],
   "source": [
    "from pygenome import saccharomyces_cerevisiae as sg"
   ]
  },
  {
   "cell_type": "code",
   "execution_count": 4,
   "metadata": {},
   "outputs": [],
   "source": [
    "GAL4 = sg.stdgenes[\"GAL4\"].cds()\n",
    "PPR1 = sg.stdgenes[\"PPR1\"].cds()\n",
    "GPD1 = sg.stdgenes[\"TDH3\"].cds()"
   ]
  },
  {
   "cell_type": "code",
   "execution_count": 5,
   "metadata": {},
   "outputs": [
    {
     "data": {
      "text/markdown": [
       "|    cds    |  len   |  cai  |   gc  | sta | stp  | n-end | CGA | CGG | CGC | CCG | CTC | GCG |  rare |\n",
       "|-----------|--------|-------|-------|-----|------|-------|-----|-----|-----|-----|-----|-----|-------|\n",
       "| ATG...TAA | 1025.0 | 0.552 | 0.563 | 1.0 | 0.47 | >30 h |  3  |  7  |  37 |  36 |  9  |  28 | 0.117 |"
      ],
      "text/plain": [
       "<pydna._pretty.PrettyTable at 0x7f14adcea220>"
      ]
     },
     "execution_count": 5,
     "metadata": {},
     "output_type": "execute_result"
    }
   ],
   "source": [
    "lacZ.express(\"sce\")"
   ]
  },
  {
   "cell_type": "code",
   "execution_count": 6,
   "metadata": {},
   "outputs": [
    {
     "data": {
      "text/markdown": [
       "|    cds    |  len  |  cai  |   gc  | sta | stp  | n-end | CGA | CGG | CGC | CCG | CTC | GCG | rare |\n",
       "|-----------|-------|-------|-------|-----|------|-------|-----|-----|-----|-----|-----|-----|------|\n",
       "| ATG...TAA | 882.0 | 0.701 | 0.408 | 1.0 | 0.47 | 3 min |  7  |  0  |  3  |  11 |  8  |  6  | 0.04 |"
      ],
      "text/plain": [
       "<pydna._pretty.PrettyTable at 0x7f14adcea8b0>"
      ]
     },
     "execution_count": 6,
     "metadata": {},
     "output_type": "execute_result"
    }
   ],
   "source": [
    "GAL4.express(\"sce\")"
   ]
  },
  {
   "cell_type": "code",
   "execution_count": 7,
   "metadata": {},
   "outputs": [
    {
     "data": {
      "text/markdown": [
       "|    cds    |  len  |  cai  |   gc  | sta | stp  | n-end | CGA | CGG | CGC | CCG | CTC | GCG |  rare |\n",
       "|-----------|-------|-------|-------|-----|------|-------|-----|-----|-----|-----|-----|-----|-------|\n",
       "| ATG...TAG | 905.0 | 0.718 | 0.386 | 1.0 | 0.23 | 3 min |  7  |  2  |  5  |  4  |  3  |  9  | 0.033 |"
      ],
      "text/plain": [
       "<pydna._pretty.PrettyTable at 0x7f14adcea400>"
      ]
     },
     "execution_count": 7,
     "metadata": {},
     "output_type": "execute_result"
    }
   ],
   "source": [
    "PPR1.express(\"sce\")"
   ]
  },
  {
   "cell_type": "code",
   "execution_count": 9,
   "metadata": {},
   "outputs": [],
   "source": [
    "x = GPD1.express(\"sce\")"
   ]
  },
  {
   "cell_type": "code",
   "execution_count": 10,
   "metadata": {},
   "outputs": [
    {
     "data": {
      "text/markdown": [
       "|    cds    |  len  |  cai  |  gc  | sta | stp  | n-end | CGA | CGG | CGC | CCG | CTC | GCG | rare |\n",
       "|-----------|-------|-------|------|-----|------|-------|-----|-----|-----|-----|-----|-----|------|\n",
       "| ATG...TAA | 333.0 | 0.814 | 0.47 | 1.0 | 0.47 | >30 h |  0  |  0  |  0  |  0  |  0  |  0  | 0.0  |"
      ],
      "text/plain": [
       "<pydna._pretty.PrettyTable at 0x7f14adcea2b0>"
      ]
     },
     "execution_count": 10,
     "metadata": {},
     "output_type": "execute_result"
    }
   ],
   "source": [
    "x"
   ]
  },
  {
   "cell_type": "code",
   "execution_count": 11,
   "metadata": {},
   "outputs": [
    {
     "data": {
      "text/plain": [
       "[['cds',\n",
       "  'len',\n",
       "  'cai',\n",
       "  'gc',\n",
       "  'sta',\n",
       "  'stp',\n",
       "  'n-end',\n",
       "  'CGA',\n",
       "  'CGG',\n",
       "  'CGC',\n",
       "  'CCG',\n",
       "  'CTC',\n",
       "  'GCG',\n",
       "  'rare'],\n",
       " ['ATG...TAA', 333.0, 0.814, 0.47, 1.0, 0.47, '>30 h', 0, 0, 0, 0, 0, 0, 0.0]]"
      ]
     },
     "execution_count": 11,
     "metadata": {},
     "output_type": "execute_result"
    }
   ],
   "source": [
    "x.lol()"
   ]
  },
  {
   "cell_type": "code",
   "execution_count": null,
   "metadata": {},
   "outputs": [],
   "source": []
  }
 ],
 "metadata": {
  "kernelspec": {
   "display_name": "Python [conda env:bjorn39]",
   "language": "python",
   "name": "conda-env-bjorn39-py"
  },
  "language_info": {
   "codemirror_mode": {
    "name": "ipython",
    "version": 3
   },
   "file_extension": ".py",
   "mimetype": "text/x-python",
   "name": "python",
   "nbconvert_exporter": "python",
   "pygments_lexer": "ipython3",
   "version": "3.9.0"
  },
  "toc-showcode": false,
  "toc-showtags": false
 },
 "nbformat": 4,
 "nbformat_minor": 4
}
