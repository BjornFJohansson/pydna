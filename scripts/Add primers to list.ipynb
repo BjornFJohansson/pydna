{
 "cells": [
  {
   "cell_type": "code",
   "execution_count": null,
   "metadata": {},
   "outputs": [],
   "source": []
  },
  {
   "cell_type": "code",
   "execution_count": 16,
   "metadata": {
    "collapsed": false,
    "jupyter": {
     "outputs_hidden": false
    }
   },
   "outputs": [
    {
     "data": {
      "text/plain": []
     },
     "execution_count": 16,
     "metadata": {},
     "output_type": "execute_result"
    }
   ],
   "source": [
    "def add_numbers_to_new_primers(new_primers:str) ->str:\n",
    "\n",
    "    from pydna.parsers   import parse_primers\n",
    "    from pydna.myprimers import list_primers as primer_list\n",
    "    from pydna.utils     import eq\n",
    "    from pydna._pretty   import pretty_str\n",
    "\n",
    "    last_number = len(primer_list)-1\n",
    "    last_primer = primer_list[-1]\n",
    "\n",
    "    assert str(last_number) in last_primer.id\n",
    "\n",
    "    np = parse_primers(new_primers)\n",
    "    new_primer_string = \"\"\n",
    "\n",
    "    for p in np[::-1]:\n",
    "        if any( eq(p,x) for x in primer_list):\n",
    "            print(p.id, \"already in primer_list\\n\\n\")\n",
    "            continue    \n",
    "        p.id = \"{}_{}\".format(str(start),p.id)\n",
    "        start+=1\n",
    "        new_primer_string = p.format(\"fasta\")+\"\\n\" + new_primer_string\n",
    "\n",
    "    return(pretty_str(new_primer_string))\n",
    "\n",
    "\n",
    "add_numbers_to_new_primers('''\n",
    "\n",
    "\n",
    "''')"
   ]
  },
  {
   "cell_type": "code",
   "execution_count": 13,
   "metadata": {
    "collapsed": false,
    "jupyter": {
     "outputs_hidden": false
    }
   },
   "outputs": [
    {
     "name": "stdout",
     "output_type": "stream",
     "text": [
      "33_F2fwdN\tCGATGTCGACGGTGGAGGTGGAGGATCTGGTGGTGGAGGAGGATCAGCAAGTAAAGTAGACATG\n",
      "40_F[3]fwd(SalI)\tCGATGTCGACGGTGGAGGTGGAGGATCTGGTGGTGGAGGAGGATCAGCAAGTAAAGTAGACATG\n",
      "\n",
      "50_TefPromRev(A.gos\tCTGCAGCGAGGAGCCGTAAT\n",
      "256_kanB\tCTGCAGCGAGGAGCCGTAAT\n",
      "\n",
      "54_TDHpromFWD2\tACAAGGCAATTGACCCACGCATGTATCTA\n",
      "353_TDHpromFWD3\tACAAGGCAATTGACCCACGCATGTATCTA\n",
      "\n",
      "54_TDHpromFWD2\tACAAGGCAATTGACCCACGCATGTATCTA\n",
      "508_TDHpromFWD\tACAAGGCAATTGACCCACGCATGTATCTA\n",
      "\n",
      "82_MSW_fwd\tTCCTTGACAGTCTTGACG\n",
      "474_MSW_fwd\tTCCTTGACAGTCTTGACG\n",
      "\n",
      "83_MSW_rev\tGTATAGCGACCAGCATTC\n",
      "473_MSW_rev\tGTATAGCGACCAGCATTC\n",
      "\n",
      "86_MM5'AD_LD-ISA\tCTATTCGATGATGAAGATACCCCACCAAACCC\n",
      "109_MM5'AD_LD-ISA\tCTATTCGATGATGAAGATACCCCACCAAACCC\n",
      "\n",
      "87_MM3'AD_LD-ISA\tGTGAACTTGCGGGGTTTTTCAGTATCTACGATT\n",
      "110_MM3'AD_LD-ISA\tGTGAACTTGCGGGGTTTTTCAGTATCTACGATT\n",
      "\n",
      "137_bstSEINrv_HA_Eco\tGATCGAATTCTTAAGCGTAATCCGGAACATCATACGGGTAAAACCTTACCTCCTTGTCAACAAC\n",
      "138_bstSEINrv_HA_Eco\tGATCGAATTCTTAAGCGTAATCCGGAACATCATACGGGTAAAACCTTACCTCCTTGTCAACAAC\n",
      "\n",
      "147_LAT1rev\tGATCTCGAGTCAAGCAAAATTATGATTCTCATCA\n",
      "180_LAT1rev\tGATCTCGAGTCAAGCAAAATTATGATTCTCATCA\n",
      "\n",
      "148_LAT1fwd\tGATCAAGCTTAAAATGCGGTTACCTAAAGTTTACAACC\n",
      "181_LAT1fwd\tGATCAAGCTTAAAATGCGGTTACCTAAAGTTTACAACC\n",
      "\n",
      "185_PROMrecLAT2fwd2\tTTCTAGAACTAGTGGATCCCCCGGGCTGCAGCATGGGTCAGTTTATTGAAAAATTCA\n",
      "193_PROMrecLAT2fwd3\tTTCTAGAACTAGTGGATCCCCCGGGCTGCAGCATGGGTCAGTTTATTGAAAAATTCA\n",
      "\n",
      "187_PROMrecLAT1fwd2\tTTCTAGAACTAGTGGATCCCCCGGGCTGCAGCATGGGTCGGTTACCTAAAGTTTACAACC\n",
      "194_PROMrecLAT1fwd3\tTTCTAGAACTAGTGGATCCCCCGGGCTGCAGCATGGGTCGGTTACCTAAAGTTTACAACC\n",
      "\n",
      "204_kanB1\tTGTACGGGCGACAGTCACAT\n",
      "254_kanB1\tTGTACGGGCGACAGTCACAT\n",
      "\n",
      "317_CYC1termrev2\tAATGTAAGCGTGACATAACTAATTACATG\n",
      "397_CYC1termrev2\tAATGTAAGCGTGACATAACTAATTACATG\n",
      "\n",
      "344_D-snf2\tCAAGAACAAGTTCACTATGATGACG\n",
      "362_D-snf2\tCAAGAACAAGTTCACTATGATGACG\n",
      "\n",
      "345_A-snf2\tTTAATTCCAATACATTCGCCACTAT\n",
      "361_A-snf2\tTTAATTCCAATACATTCGCCACTAT\n",
      "\n",
      "346_D-faa4\tGAAATCAAGAATGAAGCAAGACATT\n",
      "360_D-faa4\tGAAATCAAGAATGAAGCAAGACATT\n",
      "\n",
      "347_A-faa4\tTCGTTCATCTCGTTCTTTCTACTCT\n",
      "359_A-faa4\tTCGTTCATCTCGTTCTTTCTACTCT\n",
      "\n",
      "348_D-faa1\tGGTAATGCTTCTTATGTGAGGTGTC\n",
      "358_D-faa1\tGGTAATGCTTCTTATGTGAGGTGTC\n",
      "\n",
      "349_A-faa1\tATGATACAGGCACGAATACATCATA\n",
      "357_A-faa1\tATGATACAGGCACGAATACATCATA\n",
      "\n",
      "353_TDHpromFWD3\tACAAGGCAATTGACCCACGCATGTATCTA\n",
      "508_TDHpromFWD\tACAAGGCAATTGACCCACGCATGTATCTA\n",
      "\n",
      "371_ScFAA1\tCTATCATGGAAATGTTGATCCATTACATATTGTTGTCTTTTTTTGTCTTT\n",
      "1081_ScFAA1\tCTATCATGGAAATGTTGATCCATTACATATTGTTGTCTTTTTTTGTCTTT\n",
      "\n",
      "388_AgTEF1t_fwd\ttcagtactgacaataaaaagattcttg\n",
      "522_AgMUD1tpF\ttcagtactgacaataaaaagattcttg\n",
      "\n",
      "406_mycGFPr\tCTACTTGTACAGCTCGTCCA\n",
      "509_mycGFPr\tCTACTTGTACAGCTCGTCCA\n",
      "\n",
      "407_pTACf\tTGAAATGAGCTGTTGACAATT\n",
      "514_pTACf\tTGAAATGAGCTGTTGACAATT\n",
      "\n",
      "468_pCAPs_release_fw\tgtcgaggaacgccaggttgcccact\n",
      "560_pCAPs_release_fw\tgtcgaggaacgccaggttgcccact\n",
      "\n",
      "492_pCAPsAscI5PR\tCGCGCCATCTGTGCAGACAAAC\n",
      "558_pCAPsAscI-5P_R\tCGCGCCATCTGTGCAGACAAAC\n",
      "\n",
      "494_tp_Eco32I_rev2\tttcgccaattgattcaggtaaatccggat\n",
      "512_crp_EcoRV\tttcgccaattgattcaggtaaatccggat\n",
      "\n",
      "1015_rv366\ttaattaaCTTGTATATAATTAGAAGGAGG\n",
      "1031_rv366\ttaattaaCTTGTATATAATTAGAAGGAGG\n",
      "\n",
      "1016_fw366\tttaaatACTTCCACGCACATAT\n",
      "1032_fw366\tttaaatACTTCCACGCACATAT\n",
      "\n",
      "1017_rv405\ttaattaaATTTGTCTATAGTATGTTCTGT\n",
      "1033_rv405\ttaattaaATTTGTCTATAGTATGTTCTGT\n",
      "\n",
      "1018_fw405\tttaaatAAGAAAATCGAAACAAA\n",
      "1034_fw405\tttaaatAAGAAAATCGAAACAAA\n",
      "\n",
      "1019_rv757\ttaattaaTGTTGTATTGTGCTGTG\n",
      "1035_rv757\ttaattaaTGTTGTATTGTGCTGTG\n",
      "\n",
      "1020_fw757\tttaaatAGATACTAAAAAGAAACCTTC\n",
      "1036_fw757\tttaaatAGATACTAAAAAGAAACCTTC\n",
      "\n"
     ]
    }
   ],
   "source": [
    "def check_list_for_duplicates():\n",
    "    import itertools\n",
    "    from pydna.myprimers import list_primers as primer_list\n",
    "    from pydna._pretty   import pretty_str\n",
    "\n",
    "    last_number = len(primer_list)-1\n",
    "    last_primer = primer_list[-1]\n",
    "\n",
    "    assert str(last_number) in last_primer.id\n",
    "\n",
    "    for x,y in itertools.combinations(primer_list,2):        \n",
    "        if str(x.seq).lower()==str(y.seq.lower()) and set(str(x.seq).lower())!=set(\"n\"):\n",
    "            print(x.format(\"tab\"),end=\"\")\n",
    "            print(y.format(\"tab\"))\n",
    "check_list_for_duplicates()"
   ]
  },
  {
   "cell_type": "code",
   "execution_count": 3,
   "metadata": {
    "collapsed": true,
    "jupyter": {
     "outputs_hidden": true
    }
   },
   "outputs": [],
   "source": [
    "def write_new_primers_to_list(new_primer_string:str):\n",
    "    import os\n",
    "    filename = os.getenv(\"pydna_primers\")\n",
    "    import shutil\n",
    "    shutil.copy(filename, filename+\".bak\")\n",
    "    with open(filename, 'r') as original: \n",
    "        data = original.read()\n",
    "    header, sep ,footer = data.partition(primer_list[-1].format(\"fasta\"), 2)\n",
    "    with open(filename, 'w') as modified: \n",
    "        modified.write(header + new_primer_string + sep + footer)\n",
    "        \n",
    "write_new_primers_to_list('''\n",
    "\n",
    "\n",
    "''')"
   ]
  },
  {
   "cell_type": "code",
   "execution_count": null,
   "metadata": {},
   "outputs": [],
   "source": []
  }
 ],
 "metadata": {
  "anaconda-cloud": {},
  "kernelspec": {
   "display_name": "Python 3",
   "language": "python",
   "name": "python3"
  },
  "language_info": {
   "codemirror_mode": {
    "name": "ipython",
    "version": 3
   },
   "file_extension": ".py",
   "mimetype": "text/x-python",
   "name": "python",
   "nbconvert_exporter": "python",
   "pygments_lexer": "ipython3",
   "version": "3.8.3"
  }
 },
 "nbformat": 4,
 "nbformat_minor": 4
}
