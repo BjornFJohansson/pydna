{
 "cells": [
  {
   "cell_type": "code",
   "execution_count": 1,
   "metadata": {
    "tags": []
   },
   "outputs": [],
   "source": [
    "from pydna.dseqrecord import Dseqrecord"
   ]
  },
  {
   "cell_type": "code",
   "execution_count": 2,
   "metadata": {
    "tags": []
   },
   "outputs": [],
   "source": [
    "x = Dseqrecord(\"AAA\", circular=True)"
   ]
  },
  {
   "cell_type": "code",
   "execution_count": 8,
   "metadata": {},
   "outputs": [
    {
     "name": "stdout",
     "output_type": "stream",
     "text": [
      "LOCUS       nnnnnnnnnnnnnnnnnnnnnnnnnnnnnnnnnnnnnnnnnnncircularnnnnnnnnnnnnnnnnnnnnnnnnnnnnnnnnnnnnnnnnnnnnnnnnnnnnnnnnnnnnnnnnnnnnnnnnnnnnnnnnnnnnnnnnnnnnnnnnnnnnnnnnnnnnnnnnnnnnnnnnnnnnnnnnnnnnnnnnnnnnnnnnnnnnnnnnnnnnnnnnnnnnnnnnnnnnnnnnnnnnnnnnnnnnnnnnnnnnnnnnnnnnnnnnn 3 bp    DNA              UNK 01-JAN-1980\n",
      "DEFINITION  description.\n",
      "ACCESSION   id\n",
      "VERSION     id\n",
      "KEYWORDS    .\n",
      "SOURCE      .\n",
      "  ORGANISM  .\n",
      "            .\n",
      "COMMENT     cSEGUID_YG7G6b2Kj_KtFOX63j8mRHHoIlE\n",
      "FEATURES             Location/Qualifiers\n",
      "ORIGIN\n",
      "        1 aaa\n",
      "//\n"
     ]
    },
    {
     "name": "stderr",
     "output_type": "stream",
     "text": [
      "/home/bjorn/anaconda3/envs/bjorn39/lib/python3.9/site-packages/Bio/SeqIO/InsdcIO.py:726: BiopythonWarning: Increasing length of locus line to allow long name. This will result in fields that are not in usual positions.\n",
      "  warnings.warn(\n"
     ]
    }
   ],
   "source": [
    "print(x.format(\"gb\"))"
   ]
  },
  {
   "cell_type": "code",
   "execution_count": 4,
   "metadata": {},
   "outputs": [
    {
     "data": {
      "text/plain": [
       "{'_seq': Dseq(o3)\n",
       " AAA\n",
       " TTT,\n",
       " 'id': id,\n",
       " 'name': name,\n",
       " 'description': description,\n",
       " 'dbxrefs': [],\n",
       " 'annotations': {molecule_type: 'DNA'},\n",
       " '_per_letter_annotations': {},\n",
       " 'features': [],\n",
       " 'map_target': None,\n",
       " 'n': 5e-14}"
      ]
     },
     "execution_count": 4,
     "metadata": {},
     "output_type": "execute_result"
    }
   ],
   "source": [
    "x.__dict__"
   ]
  },
  {
   "cell_type": "code",
   "execution_count": 5,
   "metadata": {},
   "outputs": [
    {
     "name": "stdout",
     "output_type": "stream",
     "text": [
      "id\tAAA\n"
     ]
    }
   ],
   "source": [
    "print(x.format(\"tab\"))"
   ]
  },
  {
   "cell_type": "code",
   "execution_count": 6,
   "metadata": {},
   "outputs": [],
   "source": [
    "x.annotations[\"comment\"] = \"cSEGUID_YG7G6b2Kj_KtFOX63j8mRHHoIlE\""
   ]
  },
  {
   "cell_type": "code",
   "execution_count": 7,
   "metadata": {},
   "outputs": [],
   "source": [
    "x.name = \"n\"*260"
   ]
  },
  {
   "cell_type": "code",
   "execution_count": 8,
   "metadata": {},
   "outputs": [],
   "source": [
    "x.description = \"d\"*67"
   ]
  },
  {
   "cell_type": "code",
   "execution_count": 9,
   "metadata": {},
   "outputs": [],
   "source": [
    "x.accession = \"a\"*66 + \".1\""
   ]
  },
  {
   "cell_type": "code",
   "execution_count": 10,
   "metadata": {},
   "outputs": [],
   "source": [
    "x.annotations[\"keywords\"] = [\"k\"*66, \"DNA\", \"ADN\", \"mykeyword\"]"
   ]
  },
  {
   "cell_type": "code",
   "execution_count": 11,
   "metadata": {},
   "outputs": [],
   "source": [
    "x.annotations[\"source\"] = [\"s\"*67]"
   ]
  },
  {
   "cell_type": "code",
   "execution_count": 12,
   "metadata": {},
   "outputs": [],
   "source": [
    "x.annotations[\"organism\"] = [\"o\"*66]"
   ]
  },
  {
   "cell_type": "code",
   "execution_count": 13,
   "metadata": {},
   "outputs": [],
   "source": [
    "x.annotations[\"comment\"] = [\"c\"*66, \"c\"*66]"
   ]
  },
  {
   "cell_type": "code",
   "execution_count": 14,
   "metadata": {},
   "outputs": [
    {
     "name": "stdout",
     "output_type": "stream",
     "text": [
      "LOCUS       nnnnnnnnnnnnnnnnnnnnnnnnnn 3 bp    DNA     circular UNK 01-JAN-1980\n",
      "DEFINITION  ddddddddddddddddddddddddddddddddddddddddddddddddddddddddddddddddddd.\n",
      "ACCESSION   aaaaaaaaaaaaaaaaaaaaaaaaaaaaaaaaaaaaaaaaaaaaaaaaaaaaaaaaaaaaaaaaaa\n",
      "VERSION     aaaaaaaaaaaaaaaaaaaaaaaaaaaaaaaaaaaaaaaaaaaaaaaaaaaaaaaaaaaaaaaaaa.1\n",
      "KEYWORDS    kkkkkkkkkkkkkkkkkkkkkkkkkkkkkkkkkkkkkkkkkkkkkkkkkkkkkkkkkkkkkkkkkk;\n",
      "            DNA; ADN; mykeyword.\n",
      "SOURCE      sssssssssssssssssssssssssssssssssssssssssssssssssssssssssssssssssss\n",
      "  ORGANISM  oooooooooooooooooooooooooooooooooooooooooooooooooooooooooooooooooo\n",
      "            .\n",
      "COMMENT     cccccccccccccccccccccccccccccccccccccccccccccccccccccccccccccccccc\n",
      "            cccccccccccccccccccccccccccccccccccccccccccccccccccccccccccccccccc\n",
      "FEATURES             Location/Qualifiers\n",
      "ORIGIN\n",
      "        1 aaa\n",
      "//\n"
     ]
    }
   ],
   "source": [
    "print(x.format(\"gb\"))"
   ]
  },
  {
   "cell_type": "code",
   "execution_count": 15,
   "metadata": {},
   "outputs": [
    {
     "name": "stdout",
     "output_type": "stream",
     "text": [
      "aaaaaaaaaaaaaaaaaaaaaaaaaaaaaaaaaaaaaaaaaaaaaaaaaaaaaaaaaaaaaaaaaa.1\tAAA\n"
     ]
    }
   ],
   "source": [
    "print(x.format(\"tab\"))"
   ]
  },
  {
   "cell_type": "code",
   "execution_count": 16,
   "metadata": {},
   "outputs": [
    {
     "name": "stdout",
     "output_type": "stream",
     "text": [
      "LOCUS       nnnnnnnnnnnnnnnnnnnnnnnnnn 3 bp    DNA     circular UNK 01-JAN-1980\n",
      "DEFINITION  ddddddddddddddddddddddddddddddddddddddddddddddddddddddddddddddddddd.\n",
      "ACCESSION   aaaaaaaaaaaaaaaaaaaaaaaaaaaaaaaaaaaaaaaaaaaaaaaaaaaaaaaaaaaaaaaaaa\n",
      "VERSION     aaaaaaaaaaaaaaaaaaaaaaaaaaaaaaaaaaaaaaaaaaaaaaaaaaaaaaaaaaaaaaaaaa.1\n",
      "KEYWORDS    kkkkkkkkkkkkkkkkkkkkkkkkkkkkkkkkkkkkkkkkkkkkkkkkkkkkkkkkkkkkkkkkkk;\n",
      "            DNA; ADN; mykeyword.\n",
      "SOURCE      sssssssssssssssssssssssssssssssssssssssssssssssssssssssssssssssssss\n",
      "  ORGANISM  oooooooooooooooooooooooooooooooooooooooooooooooooooooooooooooooooo\n",
      "            .\n",
      "COMMENT     cccccccccccccccccccccccccccccccccccccccccccccccccccccccccccccccccc\n",
      "            cccccccccccccccccccccccccccccccccccccccccccccccccccccccccccccccccc\n",
      "FEATURES             Location/Qualifiers\n",
      "ORIGIN\n",
      "        1 aaa\n",
      "//\n"
     ]
    }
   ],
   "source": [
    "print(x.format(\"gb\"))"
   ]
  },
  {
   "cell_type": "code",
   "execution_count": 1,
   "metadata": {},
   "outputs": [
    {
     "ename": "NameError",
     "evalue": "name 'x' is not defined",
     "output_type": "error",
     "traceback": [
      "\u001b[0;31m---------------------------------------------------------------------------\u001b[0m",
      "\u001b[0;31mNameError\u001b[0m                                 Traceback (most recent call last)",
      "Input \u001b[0;32mIn [1]\u001b[0m, in \u001b[0;36m<module>\u001b[0;34m\u001b[0m\n\u001b[0;32m----> 1\u001b[0m \u001b[43mx\u001b[49m\u001b[38;5;241m.\u001b[39mannotations[\u001b[38;5;124m\"\u001b[39m\u001b[38;5;124mcomment\u001b[39m\u001b[38;5;124m\"\u001b[39m]\n",
      "\u001b[0;31mNameError\u001b[0m: name 'x' is not defined"
     ]
    }
   ],
   "source": [
    "x.annotations[\"comment\"]"
   ]
  },
  {
   "cell_type": "code",
   "execution_count": 18,
   "metadata": {},
   "outputs": [],
   "source": [
    "from pydna.genbank import genbank"
   ]
  },
  {
   "cell_type": "code",
   "execution_count": 19,
   "metadata": {},
   "outputs": [],
   "source": [
    "record = genbank(\"X75463.1\")"
   ]
  },
  {
   "cell_type": "code",
   "execution_count": 20,
   "metadata": {},
   "outputs": [
    {
     "data": {
      "text/plain": [
       "'X75463.1'"
      ]
     },
     "execution_count": 20,
     "metadata": {},
     "output_type": "execute_result"
    }
   ],
   "source": [
    "record.accession"
   ]
  },
  {
   "cell_type": "code",
   "execution_count": 21,
   "metadata": {},
   "outputs": [
    {
     "name": "stdout",
     "output_type": "stream",
     "text": [
      "On Jul 25, 2002 this sequence version replaced L26356.1.\n",
      "Information taken from figure 2 , citation [2].\n",
      "All constructions were initially made in the E. coli plasmid pBR322\n",
      "for ease of manipulation.  The yeast genes were inserted into\n",
      "either the EcoRI site or the Cla I site using PolIK and dNTPs to\n",
      "fill in overhangs and T4 DNA ligase for blunt-end ligation.  Any\n",
      "restriction site regenerated by this process was destroyed\n",
      "following digestion with the appropriate restriction enzyme using\n",
      "PolIK and dNTPs to fill in overhangs and T4 DNA ligase to ligate\n",
      "blunt ends.  Once the constructions had been verified, the yeast\n",
      "genes were moved into the plasmid vector pUC19. To do this, the\n",
      "yeast genes were excised from the pBR322 DNA backbone by HindIII\n",
      "digestion followed by mung-bean exonuclease treatment to produce\n",
      "blunt ends.  Then the DNA was digested by AatII, the  fragment\n",
      "containing yeast DNA was isolated from agarose gels and ligaed to\n",
      "the  large AatII-Nde I fragment of pUC19 which had the NdeI end\n",
      "filled in with PolIk.  The YCplac vectors (ARS1-CEN4) were\n",
      "constructed by blunt-end ligation of the 1.4kb Eco RI fragment of\n",
      "the TRP1 ARS1 gene(Struhl et al., 1979) into  the EcoRI site of\n",
      "pBR322 (pT322) and subsequent blunt-end ligation of the functional\n",
      "850-bp PvuII-HpaI CEN4 fragment (Mann and Davis, 1986) into the\n",
      "ClaI  site of pT322(pTC1).  This construction was then moved into\n",
      "pUC19 as described  above to produce YCplac22.  The other YCplac\n",
      "vectors were made by blunt-end ligation of the EcoRV fragment from\n",
      "pTC1, containing the ARS1 and CEN4  sequences, into the ClaI cite\n",
      "of pBR322 (pAC5).  The 1.1-kb HindIII-SmaI fragment of the URA3\n",
      "gene or the 1.6-kb HpaI-ACC   I fragment containing LEU2 was\n",
      "inserted at the EcoRI site of pAC5 as described above.  These\n",
      "constructs were also moved into the plasmid pUC19 as described\n",
      "above givingrise to YCplac33 and YCplac111, respectively.  The\n",
      "YEplac vetor series (2mu origin) were  constructed by blunt-end\n",
      "ligation of the 1.5-kb Sau3A fragment from YEp24 which  contains\n",
      "the 2 mu m ori (Broach, 1983),  into the ClaI site of pBR322 to\n",
      "produce p2mu19.  The XbaI site of this fragment was removed by\n",
      "filling in with PolIk after digestion and blunt-end religation of\n",
      "this site.  The three yeast genes  were ligated into the EcoRI site\n",
      "of this plasmid.  The fragments used for the LEU2 and the URA3\n",
      "constructs were the same as those used in the YCplac constructions,\n",
      "however, the YEplac112 vector (TRPI) contains the 850-bp\n",
      "EcoRI-BglII fragment of the TRP1 gene which does not contain ARS1\n",
      "function. The YIplac vectors were constructed by ligating each\n",
      "yeast gene fragment used in YEplac vector constructions into the\n",
      "EcoO109 site of the plasmid pUC19 using PolIk to fill the sticky\n",
      "ends.\n"
     ]
    }
   ],
   "source": [
    "print(record.annotations[\"comment\"])"
   ]
  },
  {
   "cell_type": "code",
   "execution_count": 22,
   "metadata": {},
   "outputs": [
    {
     "name": "stdout",
     "output_type": "stream",
     "text": [
      "LOCUS       X75463                  4302 bp    DNA     linear   SYN 08-DEC-1993\n",
      "DEFINITION  Saccharomyces cerevisiae/E. coli shuttle vector, YIplac128.\n",
      "ACCESSION   X75463\n",
      "VERSION     X75463.1\n",
      "KEYWORDS    LEU2 gene.\n",
      "SOURCE      synthetic construct\n",
      "  ORGANISM  synthetic construct\n",
      "            other sequences; artificial sequences.\n",
      "REFERENCE   1\n",
      "  AUTHORS   Gietz,R.D. and Sugino,A.\n",
      "  TITLE     New yeast-Escherichia coli shuttle vectors constructed with in vitro\n",
      "            mutagenized yeast genes lacking six-base pair restriction sites\n",
      "  JOURNAL   Gene 74 (2), 527-534 (1988)\n",
      "   PUBMED   3073106\n",
      "REFERENCE   2  (bases 1 to 4302)\n",
      "  AUTHORS   Gietz,R.D.\n",
      "  TITLE     Direct Submission\n",
      "  JOURNAL   Submitted (13-MAY-1993) Gietz, R.D., Department of Human Genetics,\n",
      "            University of Manitoba, 770 Bannatyne Ave, Rm 250, Winnipeg,\n",
      "            Manitoba, Canada R3E 0W3; e-mail.: GIETZ@BLDGHSC.LAN1.UMANITOBA.CA\n",
      "COMMENT     On Jul 25, 2002 this sequence version replaced L26356.1.\n",
      "            Information taken from figure 2 , citation [2].\n",
      "            All constructions were initially made in the E. coli plasmid pBR322\n",
      "            for ease of manipulation.  The yeast genes were inserted into\n",
      "            either the EcoRI site or the Cla I site using PolIK and dNTPs to\n",
      "            fill in overhangs and T4 DNA ligase for blunt-end ligation.  Any\n",
      "            restriction site regenerated by this process was destroyed\n",
      "            following digestion with the appropriate restriction enzyme using\n",
      "            PolIK and dNTPs to fill in overhangs and T4 DNA ligase to ligate\n",
      "            blunt ends.  Once the constructions had been verified, the yeast\n",
      "            genes were moved into the plasmid vector pUC19. To do this, the\n",
      "            yeast genes were excised from the pBR322 DNA backbone by HindIII\n",
      "            digestion followed by mung-bean exonuclease treatment to produce\n",
      "            blunt ends.  Then the DNA was digested by AatII, the  fragment\n",
      "            containing yeast DNA was isolated from agarose gels and ligaed to\n",
      "            the  large AatII-Nde I fragment of pUC19 which had the NdeI end\n",
      "            filled in with PolIk.  The YCplac vectors (ARS1-CEN4) were\n",
      "            constructed by blunt-end ligation of the 1.4kb Eco RI fragment of\n",
      "            the TRP1 ARS1 gene(Struhl et al., 1979) into  the EcoRI site of\n",
      "            pBR322 (pT322) and subsequent blunt-end ligation of the functional\n",
      "            850-bp PvuII-HpaI CEN4 fragment (Mann and Davis, 1986) into the\n",
      "            ClaI  site of pT322(pTC1).  This construction was then moved into\n",
      "            pUC19 as described  above to produce YCplac22.  The other YCplac\n",
      "            vectors were made by blunt-end ligation of the EcoRV fragment from\n",
      "            pTC1, containing the ARS1 and CEN4  sequences, into the ClaI cite\n",
      "            of pBR322 (pAC5).  The 1.1-kb HindIII-SmaI fragment of the URA3\n",
      "            gene or the 1.6-kb HpaI-ACC   I fragment containing LEU2 was\n",
      "            inserted at the EcoRI site of pAC5 as described above.  These\n",
      "            constructs were also moved into the plasmid pUC19 as described\n",
      "            above givingrise to YCplac33 and YCplac111, respectively.  The\n",
      "            YEplac vetor series (2mu origin) were  constructed by blunt-end\n",
      "            ligation of the 1.5-kb Sau3A fragment from YEp24 which  contains\n",
      "            the 2 mu m ori (Broach, 1983),  into the ClaI site of pBR322 to\n",
      "            produce p2mu19.  The XbaI site of this fragment was removed by\n",
      "            filling in with PolIk after digestion and blunt-end religation of\n",
      "            this site.  The three yeast genes  were ligated into the EcoRI site\n",
      "            of this plasmid.  The fragments used for the LEU2 and the URA3\n",
      "            constructs were the same as those used in the YCplac constructions,\n",
      "            however, the YEplac112 vector (TRPI) contains the 850-bp\n",
      "            EcoRI-BglII fragment of the TRP1 gene which does not contain ARS1\n",
      "            function. The YIplac vectors were constructed by ligating each\n",
      "            yeast gene fragment used in YEplac vector constructions into the\n",
      "            EcoO109 site of the plasmid pUC19 using PolIk to fill the sticky\n",
      "            ends.\n",
      "FEATURES             Location/Qualifiers\n",
      "     source          1..4302\n",
      "                     /organism=\"synthetic construct\"\n",
      "                     /mol_type=\"other DNA\"\n",
      "                     /db_xref=\"taxon:32630\"\n",
      "ORIGIN\n",
      "        1 gcgcccaata cgcaaaccgc ctctccccgc gcgttggccg attcattaat gcagctggca\n",
      "       61 cgacaggttt cccgactgga aagcgggcag tgagcgcaac gcaattaatg tgagttagct\n",
      "      121 cactcattag gcaccccagg ctttacactt tatgcttccg gctcgtatgt tgtgtggaat\n",
      "      181 tgtgagcgga taacaatttc acacaggaaa cagctatgac catgattacg ccaagcttgc\n",
      "      241 atgcctgcag gtcgactcta gaggatcccc gggtaccgag ctcgaattca ctggccgtcg\n",
      "      301 ttttacaacg tcgtgactgg gaaaaccctg gcgttaccca acttaatcgc cttgcagcac\n",
      "      361 atcccccttt cgccagctgg cgtaatagcg aagaggcccg caccgatcgc ccttcccaac\n",
      "      421 agttgcgcag cctgaatggc gaatggcgcc tgatgcggta ttttctcctt acgcatctgt\n",
      "      481 gcggtatttc acaccgcata tggtgcactc tcagtacaat ctgctctgat gccgcatagt\n",
      "      541 taagccagcc ccgacacccg ccaacacccg ctgacgcgcc ctgacgggct tgtctgctcc\n",
      "      601 cggcatccgc ttacagacaa gctgtgaccg tctccgggag ctgcatgtgt cagaggtttt\n",
      "      661 caccgtcatc accgaaacgc gcgagacgaa agggcctacc ctatgaacat attccatttt\n",
      "      721 gtaatttcgt gtcgtttcta ttatgaattt catttataaa gtttatgtac aaatatcata\n",
      "      781 aaaaaagaga atctttttaa gcaaggattt tcttaacttc ttcggcgaca gcatcaccga\n",
      "      841 cttcggtggt actgttggaa ccacctaaat caccagttct gatacctgca tccaaaacct\n",
      "      901 ttttaactgc atcttcaatg gccttacctt cttcaggcaa gttcaatgac aatttcaaca\n",
      "      961 tcattgcagc agacaagata gtggcgatag ggtcaacctt attctttggc aaatctggag\n",
      "     1021 cagaaccgtg gcatggttcg tacaaaccaa atgcggtgtt cttgtctggc aaagaggcca\n",
      "     1081 aggacgcaga tggcaacaaa cccaaggaac ctgggataac ggaggcttca tcggagatga\n",
      "     1141 tatcaccaaa catgttgctg gtgattataa taccatttag gtgggttggg ttcttaacta\n",
      "     1201 ggatcatggc ggcagaatca atcaattgat gttgaacctt caatgtagga aattcgttct\n",
      "     1261 tgatggtttc ctccacagtt tttctccata atcttgaaga ggccaaaaca ttagctttat\n",
      "     1321 ccaaggacca aataggcaat ggtggctcat gttgtagggc catgaaagcg gccattcttg\n",
      "     1381 tgattctttg cacttctgga acggtgtatt gttcactatc ccaagcgaca ccatcaccat\n",
      "     1441 cgtcttcctt tctcttacca aagtaaatac ctcccactaa ttctctgaca acaacgaagt\n",
      "     1501 cagtaccttt agcaaattgt ggcttgattg gagataagtc taaaagagag tcggatgcaa\n",
      "     1561 agttacatgg tcttaagttg gcgtacaatt gaagttcttt acggattttt agtaaacctt\n",
      "     1621 gttcaggtct aacactacct gtaccccatt taggaccacc cacagcacct aacaaaacgg\n",
      "     1681 catcaacctt cttggaggct tccagcgcct catctggaag tgggacacct gtagcatcga\n",
      "     1741 tagcagcacc accaattaaa tgattttcga aatcgaactt gacattggaa cgaacatcag\n",
      "     1801 aaatagcttt aagaacctta atggcttcgg ctgtgatttc ttgaccaacg tggtcacctg\n",
      "     1861 gcaaaacgac gatcttctta ggggcagaca taggggcaga cattagaatg gtatatcctt\n",
      "     1921 gaaatatata tatatattgc tgaaatgtaa aaggtaagaa aagttagaaa gtaagacgat\n",
      "     1981 tgctaaccac ctattggaaa aaacaatagg tccttaaata atattgtcaa cttcaagtat\n",
      "     2041 tgtgatgcaa gcatttagtc atgaacgctt ctctattcta tatgaaaagc cggttccggc\n",
      "     2101 ctctcacctt tcctttttct cccaattttt cagttgaaaa aggtatatgc gtcaggcgac\n",
      "     2161 ctctgaaatt aacaaaaaat ttccagtcat cgaatttgat tctgtgcgat agcgcccctg\n",
      "     2221 tgtgttctcg ttatgttgag gaaaaaaata atggttgcta agagattcga actcttgcat\n",
      "     2281 cttacgatac ctgagtattc ccacagttgg cctcgtgata cgcctatttt tataggttaa\n",
      "     2341 tgtcatgata ataatggttt cttagacgtc aggtggcact tttcggggaa atgtgcgcgg\n",
      "     2401 aacccctatt tgtttatttt tctaaataca ttcaaatatg tatccgctca tgagacaata\n",
      "     2461 accctgataa atgcttcaat aatattgaaa aaggaagagt atgagtattc aacatttccg\n",
      "     2521 tgtcgccctt attccctttt ttgcggcatt ttgccttcct gtttttgctc acccagaaac\n",
      "     2581 gctggtgaaa gtaaaagatg ctgaagatca gttgggtgca cgagtgggtt acatcgaact\n",
      "     2641 ggatctcaac agcggtaaga tccttgagag ttttcgcccc gaagaacgtt ttccaatgat\n",
      "     2701 gagcactttt aaagttctgc tatgtggcgc ggtattatcc cgtattgacg ccgggcaaga\n",
      "     2761 gcaactcggt cgccgcatac actattctca gaatgacttg gttgagtact caccagtcac\n",
      "     2821 agaaaagcat cttacggatg gcatgacagt aagagaatta tgcagtgctg ccataaccat\n",
      "     2881 gagtgataac actgcggcca acttacttct gacaacgatc ggaggaccga aggagctaac\n",
      "     2941 cgcttttttg cacaacatgg gggatcatgt aactcgcctt gatcgttggg aaccggagct\n",
      "     3001 gaatgaagcc ataccaaacg acgagcgtga caccacgatg cctgtagcaa tggcaacaac\n",
      "     3061 gttgcgcaaa ctattaactg gcgaactact tactctagct tcccggcaac aattaataga\n",
      "     3121 ctggatggag gcggataaag ttgcaggacc acttctgcgc tcggcccttc cggctggctg\n",
      "     3181 gtttattgct gataaatctg gagccggtga gcgtgggtct cgcggtatca ttgcagcact\n",
      "     3241 ggggccagat ggtaagccct cccgtatcgt agttatctac acgacgggga gtcaggcaac\n",
      "     3301 tatggatgaa cgaaatagac agatcgctga gataggtgcc tcactgatta agcattggta\n",
      "     3361 actgtcagac caagtttact catatatact ttagattgat ttaaaacttc atttttaatt\n",
      "     3421 taaaaggatc taggtgaaga tcctttttga taatctcatg accaaaatcc cttaacgtga\n",
      "     3481 gttttcgttc cactgagcgt cagaccccgt agaaaagatc aaaggatctt cttgagatcc\n",
      "     3541 tttttttctg cgcgtaatct gctgcttgca aacaaaaaaa ccaccgctac cagcggtggt\n",
      "     3601 ttgtttgccg gatcaagagc taccaactct ttttccgaag gtaactggct tcagcagagc\n",
      "     3661 gcagatacca aatactgtcc ttctagtgta gccgtagtta ggccaccact tcaagaactc\n",
      "     3721 tgtagcaccg cctacatacc tcgctctgct aatcctgtta ccagtggctg ctgccagtgg\n",
      "     3781 cgataagtcg tgtcttaccg ggttggactc aagacgatag ttaccggata aggcgcagcg\n",
      "     3841 gtcgggctga acggggggtt cgtgcacaca gcccagcttg gagcgaacga cctacaccga\n",
      "     3901 actgagatac ctacagcgtg agctatgaga aagcgccacg cttcccgaag ggagaaaggc\n",
      "     3961 ggacaggtat ccggtaagcg gcagggtcgg aacaggagag cgcacgaggg agcttccagg\n",
      "     4021 gggaaacgcc tggtatcttt atagtcctgt cgggtttcgc cacctctgac ttgagcgtcg\n",
      "     4081 atttttgtga tgctcgtcag gggggcggag cctatggaaa aacgccagca acgcggcctt\n",
      "     4141 tttacggttc ctggcctttt gctggccttt tgctcacatg ttctttcctg cgttatcccc\n",
      "     4201 tgattctgtg gataaccgta ttaccgcctt tgagtgagct gataccgctc gccgcagccg\n",
      "     4261 aacgaccgag cgcagcgagt cagtgagcga ggaagcggaa ga\n",
      "//\n"
     ]
    }
   ],
   "source": [
    "print(record.format(\"gb\"))"
   ]
  },
  {
   "cell_type": "code",
   "execution_count": null,
   "metadata": {},
   "outputs": [],
   "source": []
  }
 ],
 "metadata": {
  "kernelspec": {
   "display_name": "Python [conda env:bjorn39]",
   "language": "python",
   "name": "conda-env-bjorn39-py"
  },
  "language_info": {
   "codemirror_mode": {
    "name": "ipython",
    "version": 3
   },
   "file_extension": ".py",
   "mimetype": "text/x-python",
   "name": "python",
   "nbconvert_exporter": "python",
   "pygments_lexer": "ipython3",
   "version": "3.9.7"
  }
 },
 "nbformat": 4,
 "nbformat_minor": 4
}
