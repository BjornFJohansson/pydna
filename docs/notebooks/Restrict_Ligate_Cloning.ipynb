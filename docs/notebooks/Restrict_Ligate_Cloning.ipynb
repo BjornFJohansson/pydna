{
 "cells": [
  {
   "cell_type": "markdown",
   "metadata": {},
   "source": [
    "# Restriction and Ligation \n",
    "> Visit the full library documentation [here](https://bjornfjohansson.github.io/pydna/)\n",
    "\n",
    "In this page, we explore how to use pydna to cut, ligate, circularise DNA sequences. pydna works in conjugation with the `Bio.Restriction` module to apply a vast variety of restriction enzymes for cutting, whose module documentations can be found [here](https://biopython.org/DIST/docs/cookbook/Restriction.html).\n",
    "\n",
    "## Cutting with one or more restriction enzymes\n",
    "\n",
    "Restriction enzymes recognise specific DNA sequences and cut them, leaving sticky ends or blunt ends. To cut a sequence using `pydna`, we can use the `cut` method on a `Dseqrecord` object. Here is an example showing how to use the `cut` method to genenrate EcoRI restriction digests. The record includes a 338bp circular sequence, with an example gene feature."
   ]
  },
  {
   "cell_type": "code",
   "execution_count": null,
   "metadata": {},
   "outputs": [
    {
     "name": "stdout",
     "output_type": "stream",
     "text": [
      "Dseqrecord\n",
      "circular: False\n",
      "size: 338\n",
      "ID: id\n",
      "Name: name\n",
      "Description: description\n",
      "Number of features: 1\n",
      "/molecule_type=DNA\n",
      "Dseq(-338)\n",
      "AATTCTTC..TGTG    \n",
      "    GAAG..ACACTTAA\n"
     ]
    }
   ],
   "source": [
    "from pydna.dseqrecord import Dseqrecord\n",
    "from pydna.parsers import parse\n",
    "from Bio.Restriction import EcoRI\n",
    "\n",
    "# Create a Dseqrecord with your FASTA/GenBank file\n",
    "path = \"./sample_seq.gb\"\n",
    "record = parse(path)[0]\n",
    "\n",
    "# Cut with a single enzyme\n",
    "cut_records = record.cut(EcoRI)\n",
    "\n",
    "# Display the resulting fragments\n",
    "for frag in cut_records:\n",
    "    print(frag)"
   ]
  },
  {
   "cell_type": "markdown",
   "metadata": {},
   "source": [
    "The circular `Dseqrecord` is cut into a linear `Dseqrecord` object, since there is only one EcoRI recognition site. `Dseqrecord` also shows the 5' sticky end after cutting.\n",
    "\n",
    "The sequence can also be cut with multiple restriction enzymes, into multiple linear DNA sequences. We can simply import all the restriction enzymes, and use the cut method as normal."
   ]
  },
  {
   "cell_type": "code",
   "execution_count": null,
   "metadata": {},
   "outputs": [
    {
     "name": "stdout",
     "output_type": "stream",
     "text": [
      "\n",
      "Dseqrecord\n",
      "circular: False\n",
      "size: 51\n",
      "ID: id\n",
      "Name: name\n",
      "Description: description\n",
      "Number of features: 0\n",
      "/molecule_type=DNA\n",
      "Dseq(-51)\n",
      "ATCT..TGTG    \n",
      "TAGA..ACACTTAA\n",
      "\n",
      "\n",
      "Dseqrecord\n",
      "circular: False\n",
      "size: 214\n",
      "ID: id\n",
      "Name: name\n",
      "Description: description\n",
      "Number of features: 0\n",
      "/molecule_type=DNA\n",
      "Dseq(-214)\n",
      "AATTCTTC..TGAT\n",
      "    GAAG..ACTA\n",
      "\n",
      "\n",
      "Dseqrecord\n",
      "circular: False\n",
      "size: 73\n",
      "ID: id\n",
      "Name: name\n",
      "Description: description\n",
      "Number of features: 0\n",
      "/molecule_type=DNA\n",
      "Dseq(-73)\n",
      "ATCT..AGAT\n",
      "TAGA..TCTA\n",
      "\n"
     ]
    }
   ],
   "source": [
    "from Bio.Restriction import EcoRV\n",
    "\n",
    "# Cut with a multiple enzymes\n",
    "multi_cut_records = record.cut(EcoRI, EcoRV)\n",
    "\n",
    "# Display the resulting fragments\n",
    "for frag in multi_cut_records:\n",
    "    print()\n",
    "    print(frag)\n",
    "    print()"
   ]
  },
  {
   "cell_type": "markdown",
   "metadata": {},
   "source": [
    "There are two EcoRV recognition sites in `sample_seq`, and coupled with the one EcoRI recognition site, three DNA fragments are returned. Note how `Dseqrecord` returns the blunt end after EcoRV cuts. \n",
    "\n",
    "You can model any, and and number of, enzymes with the `cut` method and `Bio.Restriction` module. This makes `pydna` a quick and powerful method to plan your molecular cloning experiments, for instance to check the restriction digests of a 10kb plasmid with multiple enzymes. `cut` is also a method of the `Dseq` class, so `Dseq`s can be used as well. \n",
    "\n",
    "## Ligating fragments\n",
    "\n",
    "After cutting a DNA sequence, you can ligate the fragments back together in `pydna` using the `+` operator on `Dseqrecord` or `Dseq` objects. Ligation can occur via complementary sticky ends or blunt ends. For instance, we can select the first and second fragments from `multi_cut_records` via indexing, and then ligate sticky ends produced by EcoRI to make a single linear sequence."
   ]
  },
  {
   "cell_type": "code",
   "execution_count": null,
   "metadata": {},
   "outputs": [
    {
     "name": "stdout",
     "output_type": "stream",
     "text": [
      "Dseqrecord\n",
      "circular: False\n",
      "size: 261\n",
      "ID: id\n",
      "Name: name\n",
      "Description: description\n",
      "Number of features: 0\n",
      "/molecule_type=DNA\n",
      "Dseq(-261)\n",
      "ATCT..TGAT\n",
      "TAGA..ACTA\n"
     ]
    }
   ],
   "source": [
    "ligated_product = multi_cut_records[0] + multi_cut_records[1]\n",
    "print(ligated_product)"
   ]
  },
  {
   "cell_type": "markdown",
   "metadata": {},
   "source": [
    "We can also join blunt ends in a similar way. Note that the sticky-ends must be a perfect match to join. If  `+` ligation (or any other method, really) doesn't work, make sure that:\n",
    "\n",
    "1. you are indeed performing the operation on `Dseqrecord` objects, as opposed to other data types (e.g lists, strings, etc)\n",
    "2. `Dseqrecord` and the correct enzyme name (with correct roman numeral spelling) has been imported. "
   ]
  },
  {
   "cell_type": "markdown",
   "metadata": {},
   "source": [
    "## Circularizing fragments\n",
    "\n",
    "To circularize a cut DNA sequence use the `looped` method, which returns a new sequence object.\n",
    "\n",
    "🚨🚨 **VERY IMPORTANT** 🚨🚨 `.looped()` method does not act in place, so a new variable should be created to store the new circularised sequence, as shown in the following example."
   ]
  },
  {
   "cell_type": "code",
   "execution_count": null,
   "metadata": {},
   "outputs": [
    {
     "name": "stdout",
     "output_type": "stream",
     "text": [
      "is ligated_product circular? False\n",
      "is circular_record circular? True\n",
      "\n",
      "Dseqrecord\n",
      "circular: True\n",
      "size: 261\n",
      "ID: id\n",
      "Name: name\n",
      "Description: description\n",
      "Number of features: 0\n",
      "/molecule_type=DNA\n",
      "Dseq(o261)\n",
      "ATCT..TGAT\n",
      "TAGA..ACTA\n"
     ]
    }
   ],
   "source": [
    "circular_record = ligated_product.looped()\n",
    "\n",
    "print('is ligated_product circular?', ligated_product.circular)\n",
    "print('is circular_record circular?', circular_record.circular)\n",
    "print()\n",
    "\n",
    "print(circular_record)"
   ]
  },
  {
   "cell_type": "markdown",
   "metadata": {},
   "source": [
    "## Extra Notes: What happens to features when cutting/ligating?\n",
    "\n",
    "A feature is removed from a `Dseqrecord` if the features is truncated by the cut. For instance, the example_gene feature is removed from the record after cutting `record` with PstI, which has recognition site within example_gene.  within the cutand if the feature is completely within the cut, it is retained. "
   ]
  },
  {
   "cell_type": "code",
   "execution_count": null,
   "metadata": {},
   "outputs": [
    {
     "name": "stdout",
     "output_type": "stream",
     "text": [
      "Dseqrecord\n",
      "circular: False\n",
      "size: 222\n",
      "ID: id\n",
      "Name: name\n",
      "Description: description\n",
      "Number of features: 0\n",
      "/molecule_type=DNA\n",
      "Dseq(-222)\n",
      "    GAGT..TAACTGCA\n",
      "ACGTCTCA..ATTG    \n"
     ]
    }
   ],
   "source": [
    "from Bio.Restriction import PstI\n",
    "\n",
    "cut_record2 = record.cut(PstI)\n",
    "\n",
    "print(cut_record2[0])\n"
   ]
  },
  {
   "cell_type": "markdown",
   "metadata": {},
   "source": [
    "However, if a cut does not overlap with the feature, the feature is retained on the `Dseqrecord`. For instance, if we go back to the first example given by the EcoRI cut, example_gene has been retained after cutting. For more information on Features, please refer to the `Dseq_Feature` documentations."
   ]
  }
 ],
 "metadata": {
  "kernelspec": {
   "display_name": ".venv",
   "language": "python",
   "name": "python3"
  },
  "language_info": {
   "codemirror_mode": {
    "name": "ipython",
    "version": 3
   },
   "file_extension": ".py",
   "mimetype": "text/x-python",
   "name": "python",
   "nbconvert_exporter": "python",
   "pygments_lexer": "ipython3",
   "version": "3.12.5"
  }
 },
 "nbformat": 4,
 "nbformat_minor": 2
}
