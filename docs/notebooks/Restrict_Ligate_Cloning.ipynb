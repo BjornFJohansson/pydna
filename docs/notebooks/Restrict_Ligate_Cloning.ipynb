{
 "cells": [
  {
   "cell_type": "markdown",
   "metadata": {},
   "source": [
    "# Restriction and Ligation \n",
    "> Visit the full library documentation [here](https://bjornfjohansson.github.io/pydna/)\n",
    "\n",
    "In this page, we explore how to use pydna to cut, ligate, circularise DNA sequences. pydna works in conjugation with the `Bio.Restriction.Restriction` module to apply a vast variety of restriction enzymes for cutting, whose module documentations can be found [here](https://biopython.org/DIST/docs/cookbook/Restriction.html).\n",
    "\n",
    "## Cutting with one or more restriction enzymes\n",
    "\n",
    "To cut a sequence using restriction enzymes, we can use the `cut` method on `Dseqrecord` objects. The following example shows how to use the `cut` method to genenrate EcoRI restriction digests.\n",
    "\n"
   ]
  },
  {
   "cell_type": "markdown",
   "metadata": {},
   "source": [
    "- we can also perform molecular biology protocols to manipuate Dseq objects, just like a double-stranded DNA sequence\n",
    "    - 5' DNA Polymerase activity to fill in sticky ends (like a Klenow Fragment): \n",
    "    - 5'-3' and 3'-5' DNA exonuclease activty to remove sticky ends:\n",
    "    - T4 DNA 5' DNA polymeraase and 3' exonuclease activity (T4 DNA Polymerase catalyzes the synthesis of 3' to 5' DNA, and removes 3' overhangs or fills-in 5' overhangs to form blunt ends)\n",
    "    - Restriction enzyme cutting, with any number of restriction enzymes, on a linear or circular sequence"
   ]
  }
 ],
 "metadata": {
  "language_info": {
   "name": "python"
  }
 },
 "nbformat": 4,
 "nbformat_minor": 2
}
