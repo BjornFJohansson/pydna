{
 "cells": [
  {
   "cell_type": "markdown",
   "metadata": {},
   "source": [
    "# Example of a Gibson Assembly in pydna\n",
    "> Visit the full library documentation [here](https://bjornfjohansson.github.io/pydna/)\n",
    "\n",
    "This example showcases a workflow of modelling Gibson assembly to clone gene fragments into plasmids for synthetic biology. "
   ]
  },
  {
   "cell_type": "code",
   "execution_count": null,
   "metadata": {},
   "outputs": [
    {
     "name": "stdout",
     "output_type": "stream",
     "text": [
      "66.74909271393358\n",
      "66.77515381506493\n",
      "<class 'pydna.genbankfile.GenbankFile'>\n",
      "Assembly\n",
      "fragments..: 1397bp 4969bp\n",
      "limit(bp)..: 25\n",
      "G.nodes....: 0\n",
      "algorithm..: common_sub_strings\n"
     ]
    }
   ],
   "source": [
    "from pydna.amplify import pcr\n",
    "from pydna.design import primer_design\n",
    "from pydna.tm import tm_default\n",
    "from pydna.assembly import Assembly\n",
    "from pydna.parsers import parse\n",
    "from pydna.dseqrecord import Dseqrecord\n",
    "from Bio.Restriction import NotI, \n",
    "\n",
    "pGEX4T1_path = \"./pGEX-4T-1.gb\"\n",
    "PylRS_path = \"./PylRS.gb\"\n",
    "pGEX4T1_docs = parse(pGEX4T1_path)\n",
    "PylRS_docs = parse(PylRS_path)\n",
    "\n",
    "# print(pGEX4T1_docs[0].format(\"gb\"))\n",
    "# print(PylRS_docs[0].format(\"gb\"))\n",
    "\n",
    "PylRS_seq = PylRS_docs[0][2221:3589]\n",
    "\n",
    "#Check the numbers in the morning\n",
    "fwd_primer_pGEX = pGEX4T1_docs[0][242:258]\n",
    "rvs_primer_pGEX_3_start = pGEX4T1_docs[0][912:925]\n",
    "rvs_primer_pGEX = rvs_primer_pGEX_3_start.reverse_complement()\n",
    "\n",
    "fwd_primer_PylRS = PylRS_seq[0:18]\n",
    "rvs_primer_PylRS_3_start = PylRS_seq[len(PylRS_seq)-13:]\n",
    "rvs_primer_PylRS = rvs_primer_PylRS_3_start.reverse_complement()\n",
    "\n",
    "fwd_primer = fwd_primer_pGEX + fwd_primer_PylRS\n",
    "rvs_primer = rvs_primer_pGEX + rvs_primer_PylRS\n",
    "\n",
    "print(tm_default(fwd_primer.seq))\n",
    "print(tm_default(rvs_primer.seq))\n",
    "\n",
    "#Doesn't work, change docstring?\n",
    "# primers = primer_design(PylRS_seq, fp=fwd_primer, rp=rvs_primer, target_tm=55.0)\n",
    "# print(primers.format(\"gb\"))\n",
    "\n",
    "# Checking that PCR product is specific\n",
    "pcr_product = pcr(fwd_primer, rvs_primer, PylRS_seq)\n",
    "# print(pcr_product.format(\"gb\"))\n",
    "\n",
    "print(type(pGEX4T1_docs[0]))\n",
    "assembled = Assembly([Dseqrecord(pcr_product), Dseqrecord(pGEX4T1_docs[0])])\n",
    "print(assembled)\n",
    "\n",
    "\n",
    "#Check for tm using tm function\n",
    "#create new seq using pcr, making sure that it works with no overlapping seqs\n",
    "#assemble new seq with assembly\n",
    "\n"
   ]
  },
  {
   "cell_type": "code",
   "execution_count": null,
   "metadata": {},
   "outputs": [],
   "source": []
  }
 ],
 "metadata": {
  "kernelspec": {
   "display_name": ".venv",
   "language": "python",
   "name": "python3"
  },
  "language_info": {
   "codemirror_mode": {
    "name": "ipython",
    "version": 3
   },
   "file_extension": ".py",
   "mimetype": "text/x-python",
   "name": "python",
   "nbconvert_exporter": "python",
   "pygments_lexer": "ipython3",
   "version": "3.12.4"
  }
 },
 "nbformat": 4,
 "nbformat_minor": 2
}
