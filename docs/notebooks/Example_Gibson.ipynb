{
 "cells": [
  {
   "cell_type": "markdown",
   "metadata": {},
   "source": [
    "# Example of a Gibson Assembly in pydna\n",
    "> Visit the full library documentation [here](https://bjornfjohansson.github.io/pydna/)\n",
    "\n",
    "This example showcases a workflow of modelling Gibson assembly to clone gene fragments into plasmids for synthetic biology. The biological example is sourced [here](https://www.nature.com/articles/nmeth.1318#MOESM319), from the original Gibson assembly paper. This example constructs a synthetic pCC1BAC plasmid by joining sequence fragments from Ruminiclostridium (Clostridium) cellulolyticum. The R. cellulolyticum fragments joined are termed F1, F2, and F3, as in the paper.\n",
    "\n",
    "Source files can be found alongside this notebook, if you would like to follow along. Annotations are made alongside the code to describe key steps.\n"
   ]
  },
  {
   "cell_type": "markdown",
   "metadata": {},
   "source": [
    "<a target=\"_blank\" href=\"https://colab.research.google.com/github/BjornFJohansson/pydna/blob/dev_bjorn/docs/notebooks/Example_Gibson.ipynb\">\n",
    "  <img src=\"https://colab.research.google.com/assets/colab-badge.svg\" alt=\"Open In Colab\"/>\n",
    "</a>"
   ]
  },
  {
   "cell_type": "code",
   "execution_count": null,
   "metadata": {},
   "outputs": [],
   "source": [
    "# Importing all necessary classes and methods\n",
    "\n",
    "from pydna.parsers import parse\n",
    "from pydna.tm import tm_default\n",
    "from pydna.amplify import pcr\n",
    "from pydna.dseqrecord import Dseqrecord\n",
    "from pydna.assembly import Assembly"
   ]
  },
  {
   "cell_type": "code",
   "execution_count": null,
   "metadata": {},
   "outputs": [],
   "source": [
    "# Parsing the files\n",
    "\n",
    "pCC1BAC_path = \"./pCC1BAC.gb\"\n",
    "gene_path = \"./R_cellulolyticum.fasta\"\n",
    "pCC1BAC_docs = parse(pCC1BAC_path)\n",
    "gene_docs = parse(gene_path)\n",
    "\n",
    "# Printing the parsed files\n",
    "\n",
    "print(pCC1BAC_docs[0].format(\"gb\"))\n",
    "# print(gene_docs[0].format(\"fasta\"))"
   ]
  },
  {
   "cell_type": "code",
   "execution_count": null,
   "metadata": {},
   "outputs": [],
   "source": [
    "# Importing pre-designed primers for the PylRS insert fragment. \n",
    "\n",
    "F1_For = \"GCAGCTTCAAGTCCTGCAAACAAGGTGTACCAGGATCGTT\" #Remember that all sequnces are written from 5'-3'\n",
    "F1_Rev = \"GATTTCAGTGTAGTTAGGGCCAGTTGAATTCAAACCTGCC\"\n",
    "F2_For = \"GGCAGGTTTGAATTCAACTGGCCCTAACTACACTGAAATC\"\n",
    "F2_Rev = \"CTTGGTGCCATCAGCATTGTTCTCTGTACCGCCCACTGTC\"\n",
    "F3_For = \"GACAGTGGGCGGTACAGAGAACAATGCTGATGGCACCAAG\"\n",
    "F3_Rev = \"CAGTTGAATAATCATGTGTTCCTGCGGCAAATGCAGTACC\"\n",
    "BACF1_For = \"AACGATCCTGGTACACCTTGTTTGCAGGACTTGAAGCTGCgcggccgcgatcctctagagtcgacctg\"\n",
    "BACF3_Rev = \"GGTACTGCATTTGCCGCAGGAACACATGATTATTCAACTGgcggccgccgggtaccgagctcgaattc\""
   ]
  },
  {
   "cell_type": "code",
   "execution_count": null,
   "metadata": {},
   "outputs": [],
   "source": [
    "# (Optional) Checking that the primer Tm are matching\n",
    "\n",
    "print(tm_default(F1_For)) # F1_For and F1_Rev have been used as examples here\n",
    "print(tm_default(F1_Rev))"
   ]
  },
  {
   "cell_type": "code",
   "execution_count": null,
   "metadata": {},
   "outputs": [],
   "source": [
    "# Checking primer specificity using the pcr function. An error message is returned if otherwise.\n",
    "\n",
    "pcr_product_F1 = pcr(F1_For, F1_Rev, gene_docs[0], limit=40)\n",
    "pcr_product_F2 = pcr(F2_For, F2_Rev, gene_docs[0], limit=40)\n",
    "pcr_product_F3 = pcr(F3_For, F3_Rev, gene_docs[0], limit=40)\n",
    "pcr_product_BAC = pcr(BACF1_For, BACF3_Rev, pCC1BAC_docs[0], limit=69)\n",
    "\n",
    "# Printing out the PCR results\n",
    "\n",
    "print(pcr_product_F1.format(\"gb\"))\n",
    "print(pcr_product_F2.format(\"gb\"))\n",
    "print(pcr_product_F3.format(\"gb\"))\n",
    "print(pcr_product_BAC.format(\"fasta\"))\n"
   ]
  },
  {
   "cell_type": "code",
   "execution_count": null,
   "metadata": {},
   "outputs": [],
   "source": [
    "# Performing the Gibson Assembly. Note that the assembly class parameters should be given as a list.\n",
    "\n",
    "assembled = Assembly([Dseqrecord(pcr_product_F1), Dseqrecord(pcr_product_F2), Dseqrecord(pcr_product_F3), Dseqrecord(pcr_product_BAC)])\n",
    "assembled_circ = assembled.assemble_circular()\n",
    "\n",
    "# Printing out the Gibson Assembly product\n",
    "print(assembled_circ[0])"
   ]
  }
 ],
 "metadata": {
  "kernelspec": {
   "display_name": ".venv",
   "language": "python",
   "name": "python3"
  },
  "language_info": {
   "codemirror_mode": {
    "name": "ipython",
    "version": 3
   },
   "file_extension": ".py",
   "mimetype": "text/x-python",
   "name": "python",
   "nbconvert_exporter": "python",
   "pygments_lexer": "ipython3",
   "version": "3.11.9"
  }
 },
 "nbformat": 4,
 "nbformat_minor": 2
}
