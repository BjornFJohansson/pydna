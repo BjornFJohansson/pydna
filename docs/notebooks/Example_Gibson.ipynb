{
 "cells": [
  {
   "cell_type": "markdown",
   "metadata": {},
   "source": [
    "# Example of a Gibson Assembly in pydna\n",
    "> Visit the full library documentation [here](https://bjornfjohansson.github.io/pydna/)\n",
    "\n",
    "This example showcases a workflow of modelling Gibson assembly to clone gene fragments into plasmids for synthetic biology. The biological example is sourced [here](https://www.nature.com/articles/nmeth.1318#MOESM319), from the original Gibson assembly paper. This example constructs a synthetic pCC1BAC plasmid by joining sequence fragments from Ruminiclostridium (Clostridium) cellulolyticum. The R. cellulolyticum fragments joined are termed F1, F2, and F3, as in the paper.\n",
    "\n",
    "Source files can be found alongside this notebook, if you would like to follow along. Annotations are made alongside the code to describe key steps.\n"
   ]
  },
  {
   "cell_type": "markdown",
   "metadata": {},
   "source": [
    "<a target=\"_blank\" href=\"https://colab.research.google.com/github/BjornFJohansson/pydna/blob/dev_bjorn/docs/notebooks/Example_Gibson.ipynb\">\n",
    "  <img src=\"https://colab.research.google.com/assets/colab-badge.svg\" alt=\"Open In Colab\"/>\n",
    "</a>"
   ]
  },
  {
   "cell_type": "code",
   "execution_count": null,
   "metadata": {},
   "outputs": [],
   "source": [
    "# Install pydna (only when running on Colab)\n",
    "import sys\n",
    "if 'google.colab' in sys.modules:\n",
    "    %%capture\n",
    "    # Install the current development version of pydna (comment to install pip version)\n",
    "    !pip install git+https://github.com/BjornFJohansson/pydna@dev_bjorn\n",
    "    # Install pip version instead (uncomment to install)\n",
    "    # !pip install pydna\n"
   ]
  },
  {
   "cell_type": "code",
   "execution_count": null,
   "metadata": {},
   "outputs": [],
   "source": [
    "# Importing all necessary classes and methods\n",
    "\n",
    "from pydna.parsers import parse\n",
    "from pydna.tm import tm_default\n",
    "from pydna.amplify import pcr\n",
    "from pydna.dseqrecord import Dseqrecord\n",
    "from pydna.assembly import Assembly\n",
    "from pydna.genbank import Genbank\n",
    "from pydna.gel import gel\n",
    "from pydna.ladders import GeneRuler_1kb_plus\n"
   ]
  },
  {
   "cell_type": "code",
   "execution_count": null,
   "metadata": {},
   "outputs": [
    {
     "data": {
      "text/plain": [
       "{'molecule_type': 'DNA',\n",
       " 'topology': 'circular',\n",
       " 'data_file_division': 'BCT',\n",
       " 'date': '25-AUG-2017',\n",
       " 'accessions': ['CP001348', 'AAVC01000000', 'AAVC01000001-AAVC01000121'],\n",
       " 'sequence_version': 1,\n",
       " 'keywords': [''],\n",
       " 'source': 'Ruminiclostridium cellulolyticum H10',\n",
       " 'organism': 'Ruminiclostridium cellulolyticum H10',\n",
       " 'taxonomy': ['Bacteria',\n",
       "  'Bacillota',\n",
       "  'Clostridia',\n",
       "  'Eubacteriales',\n",
       "  'Oscillospiraceae',\n",
       "  'Ruminiclostridium'],\n",
       " 'references': [Reference(title='Complete sequence of Clostridium cellulolyticum H10', ...),\n",
       "  Reference(title='Direct Submission', ...)],\n",
       " 'comment': 'URL -- http://www.jgi.doe.gov\\nJGI Project ID: 4002584\\nSource DNA and bacteria available from Jizhong Zhou\\n(jzhou@rccc.ou.edu)\\nContacts: Jizhong Zhou (jzhou@rccc.ou.edu)\\n          David Bruce (microbe@cuba.jgi-psf.org)\\nAnnotation done by JGI-ORNL and JGI-PGF\\nFinishing done by JGI-LANL\\nFinished microbial genomes have been curated to close all gaps with\\ngreater than 98% coverage of at least two independent clones. Each\\nbase pair has a minimum q (quality) value of 30 and the total error\\nrate is less than one per 50000.\\nThe JGI and collaborators endorse the principles for the\\ndistribution and use of large scale sequencing data adopted by the\\nlarger genome sequencing community and urge users of this data to\\nfollow them. it is our intention to publish the work of this\\nproject in a timely fashion and we welcome collaborative\\ninteraction on the project and analysis.\\n(http://www.genome.gov/page.cfm?pageID=10506376).'}"
      ]
     },
     "execution_count": null,
     "metadata": {},
     "output_type": "execute_result"
    }
   ],
   "source": [
    "# Reading the R. cellulolyticum genome from GenBank\n",
    "gb = Genbank(\"example@example.com\")\n",
    "genome = gb.nucleotide(\"CP001348.1\")\n",
    "# Print the info of the genome\n",
    "genome.annotations"
   ]
  },
  {
   "cell_type": "code",
   "execution_count": null,
   "metadata": {},
   "outputs": [
    {
     "data": {
      "text/plain": [
       "{'molecule_type': 'DNA',\n",
       " 'topology': 'circular',\n",
       " 'data_file_division': 'SYN',\n",
       " 'date': '29-AUG-2024',\n",
       " 'accessions': ['.'],\n",
       " 'keywords': [''],\n",
       " 'source': 'synthetic DNA construct',\n",
       " 'organism': 'synthetic DNA construct',\n",
       " 'taxonomy': [],\n",
       " 'references': [Reference(title='Direct Submission', ...),\n",
       "  Reference(title='Direct Submission', ...),\n",
       "  Reference(title='Direct Submission', ...),\n",
       "  Reference(title='Direct Submission', ...)],\n",
       " 'comment': 'SGRef: number: 1; type: \"Journal Article\"; journalName: \"Submitted\\n(23-AUG-2007) 726 Post Road, Madison, WI 53713, USA\"\\nSGRef: number: 2; type: \"Journal Article\"\\nSGRef: number: 3; type: \"Journal Article\"'}"
      ]
     },
     "execution_count": null,
     "metadata": {},
     "output_type": "execute_result"
    }
   ],
   "source": [
    "# Reading the plasmid\n",
    "vector = parse(\"./pCC1BAC.gb\")[0]\n",
    "vector.annotations"
   ]
  },
  {
   "cell_type": "code",
   "execution_count": null,
   "metadata": {},
   "outputs": [],
   "source": [
    "# Importing pre-designed primers for the PylRS insert fragment. \n",
    "\n",
    "F1_For = \"GCAGCTTCAAGTCCTGCAAACAAGGTGTACCAGGATCGTT\"\n",
    "F1_Rev = \"GATTTCAGTGTAGTTAGGGCCAGTTGAATTCAAACCTGCC\"\n",
    "F2_For = \"GGCAGGTTTGAATTCAACTGGCCCTAACTACACTGAAATC\"\n",
    "F2_Rev = \"CTTGGTGCCATCAGCATTGTTCTCTGTACCGCCCACTGTC\"\n",
    "F3_For = \"GACAGTGGGCGGTACAGAGAACAATGCTGATGGCACCAAG\"\n",
    "F3_Rev = \"CAGTTGAATAATCATGTGTTCCTGCGGCAAATGCAGTACC\"\n",
    "BACF1_For = \"AACGATCCTGGTACACCTTGTTTGCAGGACTTGAAGCTGCgcggccgcgatcctctagagtcgacctg\"\n",
    "BACF3_Rev = \"GGTACTGCATTTGCCGCAGGAACACATGATTATTCAACTGgcggccgccgggtaccgagctcgaattc\""
   ]
  },
  {
   "cell_type": "code",
   "execution_count": null,
   "metadata": {},
   "outputs": [
    {
     "name": "stdout",
     "output_type": "stream",
     "text": [
      "5210\n",
      "5384\n",
      "5172\n",
      "8221\n"
     ]
    }
   ],
   "source": [
    "# Getting the PCR products from the genome (might take a while since the genome is large)\n",
    "\n",
    "pcr_product_F1 = pcr(F1_For, F1_Rev, genome, limit=20)\n",
    "pcr_product_F2 = pcr(F2_For, F2_Rev, genome, limit=20)\n",
    "pcr_product_F3 = pcr(F3_For, F3_Rev, genome, limit=20)\n",
    "pcr_product_BAC = pcr(BACF1_For, BACF3_Rev, vector, limit=20)\n",
    "\n",
    "# Printing out the PCR fragment sizes\n",
    "print(len(pcr_product_F1))\n",
    "print(len(pcr_product_F2))\n",
    "print(len(pcr_product_F3))\n",
    "print(len(pcr_product_BAC))\n"
   ]
  },
  {
   "cell_type": "code",
   "execution_count": null,
   "metadata": {},
   "outputs": [
    {
     "data": {
      "image/jpeg": "[encoded data removed]",
      "image/png": "[encoded data removed]",
      "text/plain": [
       "<PIL.Image.Image image mode=RGB size=600x360>"
      ]
     },
     "execution_count": null,
     "metadata": {},
     "output_type": "execute_result"
    }
   ],
   "source": [
    "# Making a gel to show the PCR products\n",
    "im = gel(\n",
    "    [\n",
    "        GeneRuler_1kb_plus,\n",
    "        [pcr_product_F1],\n",
    "        [pcr_product_F2],\n",
    "        [pcr_product_F3],\n",
    "        [pcr_product_BAC],\n",
    "    ]\n",
    ")\n",
    "im.rotate(90, expand=1)"
   ]
  },
  {
   "cell_type": "code",
   "execution_count": null,
   "metadata": {},
   "outputs": [
    {
     "name": "stdout",
     "output_type": "stream",
     "text": [
      "Dseqrecord\n",
      "circular: True\n",
      "size: 23827\n",
      "ID: id\n",
      "Name: name\n",
      "Description: description\n",
      "Number of features: 28\n",
      "/molecule_type=DNA\n",
      "Dseq(o23827)\n",
      "GCAG..ccgc\n",
      "CGTC..ggcg\n"
     ]
    }
   ],
   "source": [
    "# Performing the Gibson Assembly. Note that the assembly class parameters should be given as a list.\n",
    "\n",
    "assembled = Assembly([Dseqrecord(pcr_product_F1), Dseqrecord(pcr_product_F2), Dseqrecord(pcr_product_F3), Dseqrecord(pcr_product_BAC)])\n",
    "assembled_circ = assembled.assemble_circular()\n",
    "\n",
    "# Printing out the Gibson Assembly product\n",
    "print(assembled_circ[0])"
   ]
  }
 ],
 "metadata": {
  "kernelspec": {
   "display_name": ".venv",
   "language": "python",
   "name": "python3"
  },
  "language_info": {
   "codemirror_mode": {
    "name": "ipython",
    "version": 3
   },
   "file_extension": ".py",
   "mimetype": "text/x-python",
   "name": "python",
   "nbconvert_exporter": "python",
   "pygments_lexer": "ipython3",
   "version": "3.12.3"
  }
 },
 "nbformat": 4,
 "nbformat_minor": 2
}
