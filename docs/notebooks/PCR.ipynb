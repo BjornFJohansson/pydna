{
 "cells": [
  {
   "cell_type": "markdown",
   "metadata": {},
   "source": [
    "# How to Perform a Polymerase Chain Reaction (PCR)\n",
    "\n",
    "> Visit the full library documentation [here](https://bjornfjohansson.github.io/pydna/)\n",
    "\n",
    "This page walks you through how to perform a PCR, and design PCR primers, using `pydna`. A PCR amplifies a specific stretch of DNA defined by the primers, and it is critical to ensure primer binding specificity and appropriate primer melting temperature (tm) through careful design. `pydna` provides tools for quick modelling of PCR to check for correct PCR products, and methods for calculating tm and primer design, as performed in other popular web servcies (e.g Primer3Plus). \n",
    "\n",
    "## Modelling PCR with Known Primers\n",
    "\n",
    "To perform PCR, `pydna` provides the `anneal` class and the `pcr` method to quickly generate expected primer products, on a `Dseqrecord` object. The `pcr` method needs only the forward and reverse primers, and the sequence. The primers must be passed from the 5' to the 3' end, following biological convention. More information on `Dseqrecord` and importing DNA sequences can be found in the other guide pages. \n",
    "  \n",
    "The following example uses a 300+ bp custom sample circular DNA, containing an example gene that we would like to clone. 18 bp forward and reverse primers have been provided. "
   ]
  },
  {
   "cell_type": "code",
   "execution_count": null,
   "metadata": {},
   "outputs": [
    {
     "data": {
      "text/plain": [
       "LOCUS       45bp_PCR_prod             45 bp    DNA     linear   UNK 01-JAN-1980\n",
       "DEFINITION  pcr_product_description_description.\n",
       "ACCESSION   45bp\n",
       "VERSION     45bp\n",
       "KEYWORDS    .\n",
       "SOURCE      .\n",
       "  ORGANISM  .\n",
       "            .\n",
       "FEATURES             Location/Qualifiers\n",
       "     gene            1..45\n",
       "                     /label=\"example_gene\"\n",
       "     primer_bind     1..18\n",
       "                     /label=\"name\"\n",
       "                     /PCR_conditions=\"primer sequence:ATTCCTGCAGAGTACATC\"\n",
       "                     /ApEinfo_fwdcolor=\"#baffa3\"\n",
       "                     /ApEinfo_revcolor=\"#ffbaba\"\n",
       "     primer_bind     complement(28..45)\n",
       "                     /label=\"name\"\n",
       "                     /PCR_conditions=\"primer sequence:ACCATCCGAAGATATCTT\"\n",
       "                     /ApEinfo_fwdcolor=\"#baffa3\"\n",
       "                     /ApEinfo_revcolor=\"#ffbaba\"\n",
       "ORIGIN\n",
       "        1 attcctgcag agtacatcaa ttctatgaag atatcttcgg atggt\n",
       "//"
      ]
     },
     "execution_count": null,
     "metadata": {},
     "output_type": "execute_result"
    }
   ],
   "source": [
    "from pydna.amplify import pcr\n",
    "from pydna.dseqrecord import Dseqrecord\n",
    "from pydna.parsers import parse\n",
    "\n",
    "#Importing GenBank file containing sample sequence \n",
    "path = \"./sample_seq.gb\"\n",
    "record = parse(path)[0]\n",
    "\n",
    "#Defining forward and reverse primers\n",
    "fwd_primer = \"ATTCCTGCAGAGTACATC\"\n",
    "rvs_primer = \"ACCATCCGAAGATATCTT\"\n",
    "\n",
    "#Performing PCR\n",
    "amplicon = pcr(fwd_primer, rvs_primer, record)\n",
    "\n",
    "#Printing results\n",
    "amplicon.format(\"gb\")"
   ]
  },
  {
   "cell_type": "markdown",
   "metadata": {},
   "source": [
    "The results of PCR are stored as a `Dseqrecord` object, with all the features inside of the amplicon included. Note how the example gene has been retained as a feature in `amplicon`. In addition, two new feature has been added to the record to indicate the forward and reverse primer binding region. \n",
    "\n",
    "`pydna` also allows modelling for PCR with extra bases on the 5' end of primers. This functionality is useful for modelling molecular cloning with multiple steps, where you might want to add different restriction sites to amplicons and ensure that that the right amplicons have been generated.  \n",
    "  \n",
    "For instance, to make sure that I can add a HindIII restriction site (AAGCTT)at the end of my `example_gene` without accidental hybridisation with other parts of the circular sequence, I can perform PCR using `pydna`. "
   ]
  },
  {
   "cell_type": "code",
   "execution_count": null,
   "metadata": {},
   "outputs": [
    {
     "data": {
      "text/plain": [
       "LOCUS       57bp_PCR_prod             57 bp    DNA     linear   UNK 01-JAN-1980\n",
       "DEFINITION  pcr_product_description_description.\n",
       "ACCESSION   57bp\n",
       "VERSION     57bp\n",
       "KEYWORDS    .\n",
       "SOURCE      .\n",
       "  ORGANISM  .\n",
       "            .\n",
       "FEATURES             Location/Qualifiers\n",
       "     primer_bind     1..21\n",
       "                     /label=\"name\"\n",
       "                     /PCR_conditions=\"primer sequence:AAGCTTATTCCTGCAGAGTACATC\"\n",
       "                     /ApEinfo_fwdcolor=\"#baffa3\"\n",
       "                     /ApEinfo_revcolor=\"#ffbaba\"\n",
       "     gene            4..48\n",
       "                     /label=\"example_gene\"\n",
       "     primer_bind     complement(31..48)\n",
       "                     /label=\"name\"\n",
       "                     /PCR_conditions=\"primer sequence:AAGCTTACCATCCGAAGATATCTT\"\n",
       "                     /ApEinfo_fwdcolor=\"#baffa3\"\n",
       "                     /ApEinfo_revcolor=\"#ffbaba\"\n",
       "ORIGIN\n",
       "        1 aagcttattc ctgcagagta catcaattct atgaagatat cttcggatgg taagctt\n",
       "//"
      ]
     },
     "execution_count": null,
     "metadata": {},
     "output_type": "execute_result"
    }
   ],
   "source": [
    "fwd_primer = \"AAGCTTATTCCTGCAGAGTACATC\"\n",
    "rvs_primer = \"AAGCTTACCATCCGAAGATATCTT\"\n",
    "\n",
    "#Performing PCR\n",
    "amplicon_HindIII = pcr(fwd_primer, rvs_primer, record)\n",
    "\n",
    "#Printing results\n",
    "amplicon_HindIII.format(\"gb\")"
   ]
  },
  {
   "cell_type": "markdown",
   "metadata": {},
   "source": [
    "For more information on restriction digests and ligation, please refer to the Restriction and Ligation page.  \n",
    "\n",
    "### Other ways of visualising the amplicons \n",
    "\n",
    "In addition to the normal `print` function and the `.format()` method (More information can be found in Dseq and Importing_Seqs pages, respectively), amplicons can also be visualized in other ways.\n",
    "\n",
    "We can check the sequence of the amplicon alone using the `.seq` attribute on a PCR product:"
   ]
  },
  {
   "cell_type": "code",
   "execution_count": null,
   "metadata": {},
   "outputs": [
    {
     "name": "stdout",
     "output_type": "stream",
     "text": [
      "ATTCCTGCAGAGTACATCAATTCTATGAAGATATCTTCGGATGGT\n"
     ]
    }
   ],
   "source": [
    "print(amplicon.seq)"
   ]
  },
  {
   "cell_type": "markdown",
   "metadata": {},
   "source": [
    "We can also visualize the amplicon as a visual map, using the `.map` method."
   ]
  },
  {
   "cell_type": "code",
   "execution_count": null,
   "metadata": {},
   "outputs": [
    {
     "name": "stdout",
     "output_type": "stream",
     "text": [
      "5ATTCCTGCAGAGTACATC...AAGATATCTTCGGATGGT3\n",
      "                      ||||||||||||||||||\n",
      "                     3TTCTATAGAAGCCTACCA5\n",
      "5ATTCCTGCAGAGTACATC3\n",
      " ||||||||||||||||||\n",
      "3TAAGGACGTCTCATGTAG...TTCTATAGAAGCCTACCA5\n"
     ]
    }
   ],
   "source": [
    "print(amplicon.figure())"
   ]
  },
  {
   "cell_type": "markdown",
   "metadata": {},
   "source": [
    "# Designing Primers and Calculating Tm in pydna\n",
    "\n"
   ]
  }
 ],
 "metadata": {
  "kernelspec": {
   "display_name": ".venv",
   "language": "python",
   "name": "python3"
  },
  "language_info": {
   "codemirror_mode": {
    "name": "ipython",
    "version": 3
   },
   "file_extension": ".py",
   "mimetype": "text/x-python",
   "name": "python",
   "nbconvert_exporter": "python",
   "pygments_lexer": "ipython3",
   "version": "3.12.4"
  }
 },
 "nbformat": 4,
 "nbformat_minor": 2
}
