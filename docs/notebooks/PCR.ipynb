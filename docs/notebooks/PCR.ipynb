{
 "cells": [
  {
   "cell_type": "markdown",
   "metadata": {},
   "source": [
    "# How to Perform a Polymerase Chain Reaction (PCR)\n",
    "\n",
    "> Visit the full library documentation [here](https://bjornfjohansson.github.io/pydna/)\n",
    "\n",
    "This page walks you through how to perform a PCR, and design PCR primers, using `pydna`. A PCR amplifies a specific stretch of DNA defined by the primers, and it is critical to ensure primer binding specificity and appropriate primer melting temperature (tm) through careful design. `pydna` provides tools for quick modelling of PCR to check for correct PCR products, and methods for calculating tm and primer design, as performed in other popular web servcies (e.g Primer3Plus). \n",
    "\n",
    "## Modelling PCR with Known Primers\n",
    "\n",
    "To perform PCR, `pydna` provides the `anneal` class and the `pcr` method to quickly generate expected primer products, on a `Dseqrecord` object. The `pcr` method needs only the forward and reverse primers, and the sequence. The primers must be passed from the 5' to the 3' end, following biological convention. More information on `Dseqrecord` and importing DNA sequences can be found in the other guide pages. \n",
    "  \n",
    "The following example uses a 300+ bp custom sample circular DNA, containing an example gene that we would like to clone. 18 bp forward and reverse primers have been provided. "
   ]
  },
  {
   "cell_type": "code",
   "execution_count": null,
   "metadata": {},
   "outputs": [
    {
     "name": "stdout",
     "output_type": "stream",
     "text": [
      "Dseqrecord\n",
      "circular: False\n",
      "size: 93\n",
      "ID: name\n",
      "Name: name\n",
      "Description: pcr_product_description_description\n",
      "Number of features: 2\n",
      "/molecule_type=DNA\n",
      "Dseq(-93)\n",
      "TCGT..GTCC\n",
      "AGCA..CAGG\n"
     ]
    }
   ],
   "source": [
    "from pydna.amplify import pcr\n",
    "from pydna.dseqrecord import Dseqrecord\n",
    "from pydna.parsers import parse\n",
    "\n",
    "#Importing GenBank file containing sample sequence \n",
    "path = \"./sample_seq.gb\"\n",
    "record = parse(path)[0]\n",
    "\n",
    "#Defining forward and reverse primers\n",
    "fwd_primer = \"TCGTCACAGAGGTAGTCC\"\n",
    "rvs_primer = \"GGACCACATATAATGTAC\"\n",
    "\n",
    "#Performing PCR\n",
    "amplicon = pcr(fwd_primer, rvs_primer, record)\n",
    "\n",
    "#Printing results\n",
    "print(amplicon)\n"
   ]
  },
  {
   "cell_type": "markdown",
   "metadata": {},
   "source": [
    "The results of PCR are stored as a `Dseqrecord` object, with all the features inside of the amplicon included. Note how the example gene has been retained as a feature in `amplicon`. In addition, a new feature is added to indicate the forward primer binding region. \n",
    "\n",
    "\n",
    "\n"
   ]
  }
 ],
 "metadata": {
  "kernelspec": {
   "display_name": ".venv",
   "language": "python",
   "name": "python3"
  },
  "language_info": {
   "codemirror_mode": {
    "name": "ipython",
    "version": 3
   },
   "file_extension": ".py",
   "mimetype": "text/x-python",
   "name": "python",
   "nbconvert_exporter": "python",
   "pygments_lexer": "ipython3",
   "version": "3.12.4"
  }
 },
 "nbformat": 4,
 "nbformat_minor": 2
}
