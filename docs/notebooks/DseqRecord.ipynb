{
 "cells": [
  {
   "cell_type": "markdown",
   "metadata": {},
   "source": [
    "# Importing, viewing, and modifying sequence files in pydna\n",
    "> Visit the full library documentation [here](https://bjornfjohansson.github.io/pydna/)\n",
    "\n",
    "The `Dseqrecord` class of pydna is used to work with FASTA, Genbank, or EMBL files (.fasta, .embl, and .gb). It is a subclass of `SeqRecord`, whose documentations are found [here](https://biopython.org/wiki/SeqRecord). \n"
   ]
  },
  {
   "cell_type": "markdown",
   "metadata": {},
   "source": [
    "when to use a Dseqrecord class\n",
    "how to parse files as a dseqrecord class (absolute path to your file)\n",
    "* can also print out the fasta file only\n",
    "* what to do if you have a fasta file with two sequences? index list\n",
    "how to create your own dseqrecord class (although typically, you will not have to do this)\n",
    "\n",
    "Ways to modify the file:\n",
    "- add feature (e.g fragment of interest)\n",
    "- extract feature (too, fragment of interest)\n",
    "- generating SEGUID\n",
    "- write\n",
    "\n",
    "- looped and tolinear ([:]) (Note: Do not use the `tolinear` method)\n",
    "- cut\n",
    "- shifted\n",
    "Please refer to pydna documentation for additional methods"
   ]
  },
  {
   "cell_type": "code",
   "execution_count": null,
   "metadata": {},
   "outputs": [],
   "source": [
    "from pydna.parsers import parse\n",
    "\n",
    "file_path = '/your/absolute/path/to/the/file/file.gb'\n",
    "file = parse(file_path)\n",
    "file[0].format(\"gb\")"
   ]
  }
 ],
 "metadata": {
  "language_info": {
   "name": "python"
  }
 },
 "nbformat": 4,
 "nbformat_minor": 2
}
