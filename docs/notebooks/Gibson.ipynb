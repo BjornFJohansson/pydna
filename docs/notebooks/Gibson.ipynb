{
 "cells": [
  {
   "cell_type": "markdown",
   "metadata": {},
   "source": [
    "# Gibson Assembly in pydna\n",
    "> Visit the full library documentation [here](https://bjornfjohansson.github.io/pydna/)\n",
    "\n",
    "Gibson Assembly is a powerful method to assemble multiple DNA fragments into a single, continuous sequence in a seamless, one-step reaction. Developed by Daniel Gibson and colleagues in 2009, this method has been widely applied to work in molecular cloning, biotechnology, and synthetic biology.  \n",
    "\n",
    "`pydna` provides the `Assembly` class to simulate the assembly of DNA sequences. Below is an example fpr performing Gibson Assembly with pre-existing DNA fragments, followed by primer design for generating these fragments via the `pcr` method, if needed.\n",
    "\n",
    "The `Assembly` takes the following arguments:\n",
    "  * `frags`: list of DNA fragments as `Dseqrecord` objects\n",
    "  * `limit`: the minimum sequence homology required.\n",
    "  * `algorithm`: the function used to find homology regions between DNA fragments. For Gibson Assembly, we use the `terminal_overlap` function, which finds homology regions only at the terminal regions. By default, the `Assembly` class uses the `common_sub_strings` function to find homology regions, which finds homology anywhere, as it could happen in a homologous recombination event.\n"
   ]
  },
  {
   "cell_type": "code",
   "execution_count": null,
   "metadata": {},
   "outputs": [
    {
     "name": "stdout",
     "output_type": "stream",
     "text": [
      "Assembly\n",
      "fragments..: 33bp 34bp 35bp\n",
      "limit(bp)..: 14\n",
      "G.nodes....: 6\n",
      "algorithm..: terminal_overlap\n"
     ]
    }
   ],
   "source": [
    "from pydna.dseqrecord import Dseqrecord\n",
    "from pydna.assembly import Assembly\n",
    "from pydna.common_sub_strings import terminal_overlap\n",
    "\n",
    "#Creating example Dseqrecord sequences\n",
    "fragment1 = Dseqrecord(\"acgatgctatactgCCCCCtgtgctgtgctcta\")\n",
    "fragment2 = Dseqrecord(\"tgtgctgtgctctaTTTTTtattctggctgtatc\")\n",
    "fragment3 = Dseqrecord(\"tattctggctgtatcGGGGGtacgatgctatactg\")\n",
    "\n",
    "#Creating a list of sequences to assemble\n",
    "fragments = [fragment1, fragment2, fragment3]\n",
    "\n",
    "#Performing Gibson assembly, with a minimum shared homology of 14bp\n",
    "assembly = Assembly(fragments, limit=14, algorithm=terminal_overlap)\n",
    "\n",
    "#Displaying the assembled product\n",
    "print(assembly)"
   ]
  },
  {
   "cell_type": "markdown",
   "metadata": {},
   "source": [
    "The printed output shows the length of each fragment provided to the assembly, the minimum length required for sequence homology search, the number of nodes (number of overlapping regions), and the algorithm used for sequence homology search. Please refer to the full `Assembly` module documentation for more information on the algorithm applied.\n",
    "\n",
    "To make a circular sequence from an `Assembly`, pydna provides the `assemble_circular` method. The assembled sequence can be printed as normal, as `Dseqrecord` objects. Note that the `assemble_circular` method returns a list, where the two elements are reverse complement of each other."
   ]
  },
  {
   "cell_type": "code",
   "execution_count": null,
   "metadata": {},
   "outputs": [
    {
     "name": "stdout",
     "output_type": "stream",
     "text": [
      "Dseqrecord\n",
      "circular: True\n",
      "size: 59\n",
      "ID: id\n",
      "Name: name\n",
      "Description: description\n",
      "Number of features: 0\n",
      "/molecule_type=DNA\n",
      "Dseq(o59)\n",
      "acga..GGGt\n",
      "tgct..CCCa\n",
      "\n",
      "Dseqrecord\n",
      "circular: True\n",
      "size: 59\n",
      "ID: id\n",
      "Name: name\n",
      "Description: description\n",
      "Number of features: 0\n",
      "/molecule_type=DNA\n",
      "Dseq(o59)\n",
      "taga..AAAA\n",
      "atct..TTTT\n"
     ]
    }
   ],
   "source": [
    "from pydna.contig import Contig\n",
    "\n",
    "#Circularizing the assembled sequence\n",
    "assembly_circ = assembly.assemble_circular()\n",
    "\n",
    "#Printing the sequence records\n",
    "print(assembly_circ[0])\n",
    "print()\n",
    "print(assembly_circ[1])\n"
   ]
  },
  {
   "cell_type": "markdown",
   "metadata": {},
   "source": [
    "Please refer to the Example_Gibson page for an example of a completed workflow for modelling Gibson Assembly using pydna. "
   ]
  }
 ],
 "metadata": {
  "kernelspec": {
   "display_name": ".venv",
   "language": "python",
   "name": "python3"
  },
  "language_info": {
   "codemirror_mode": {
    "name": "ipython",
    "version": 3
   },
   "file_extension": ".py",
   "mimetype": "text/x-python",
   "name": "python",
   "nbconvert_exporter": "python",
   "pygments_lexer": "ipython3",
   "version": "3.12.5"
  }
 },
 "nbformat": 4,
 "nbformat_minor": 2
}
