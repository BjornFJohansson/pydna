{
 "cells": [
  {
   "cell_type": "markdown",
   "metadata": {},
   "source": [
    "# Gibson Assembly in pydna\n",
    "> Visit the full library documentation [here](https://bjornfjohansson.github.io/pydna/)\n",
    "\n",
    "Gibson Assembly is a powerful method to assemble multiple DNA fragments into a single, continuous sequence in a seamless, one-step reaction. Developed by Daniel Gibson and colleagues in 2009, this method has been widely applied to work in molecular cloning, biotechnology, and synthetic biology.  \n",
    "\n",
    "`pydna` provides the `Assembly` class to simulate the assembly of DNA sequences. This page provides a guide to performing Gibson Assembly with pre-existing DNA fragments, followed by primer design for generating these fragments via the `pcr` method, if needed.\n",
    "\n",
    "The `Assembly` class simulates Gibson assembly by searching for homologous sequence pairings. The `Assembly` class needs a list of DNA fragments, given in the datatype of `Dseqrecord` objects, and a minimum length of DNA (`limit` parameter) for which a sequence homology is considered.\n",
    "\n",
    "The example below shows how to create an `Assembly` object using multiple DNA fragments. `Assembly` takes `Dseqrecord` objects as input that you can directly instantiate (first example), or parse from files (second example). Note that the sequences are always inputted from a 5'-3' direction."
   ]
  },
  {
   "cell_type": "code",
   "execution_count": null,
   "metadata": {},
   "outputs": [
    {
     "name": "stdout",
     "output_type": "stream",
     "text": [
      "Assembly\n",
      "fragments..: 33bp 34bp 35bp\n",
      "limit(bp)..: 14\n",
      "G.nodes....: 6\n",
      "algorithm..: common_sub_strings\n"
     ]
    }
   ],
   "source": [
    "from pydna.dseqrecord import Dseqrecord\n",
    "from pydna.assembly import Assembly\n",
    "\n",
    "#Creating example Dseqrecord sequences\n",
    "fragment1 = Dseqrecord(\"acgatgctatactgCCCCCtgtgctgtgctcta\")\n",
    "fragment2 = Dseqrecord(\"tgtgctgtgctctaTTTTTtattctggctgtatc\")\n",
    "fragment3 = Dseqrecord(\"tattctggctgtatcGGGGGtacgatgctatactg\")\n",
    "\n",
    "#Cerating a list of sequences to assemble\n",
    "fragments = [fragment1, fragment2, fragment3]\n",
    "\n",
    "#Performing Gibson assembly, with a minimum shared homology of 14bp\n",
    "assembly = Assembly(fragments, limit=14)\n",
    "\n",
    "#Displaying the assembled product\n",
    "print(assembly)"
   ]
  },
  {
   "cell_type": "markdown",
   "metadata": {},
   "source": [
    "The printed output shows the length of each assembled DNA sequenece, the minimum length required for sequence homology search, the number of nodes (number of overlapping regions), and the algorithm used for sequence homology search. Please refer to the full `Assembly` module documentation for more information on the algorithm applied.  \n",
    "\n",
    "To make a circular sequence from an `Assembly`, pydna provides the `assemble_circular` method. The assembled sequence can be printed as normal, as `Dseqrecord` objects. Note that the `assemble_circular` method returns a list, where the first element (index 0) represents the Watson strand as the top strand, and the second element (index 1) represents the Crick strand as the top strand. "
   ]
  },
  {
   "cell_type": "code",
   "execution_count": null,
   "metadata": {},
   "outputs": [
    {
     "name": "stdout",
     "output_type": "stream",
     "text": [
      "Dseqrecord\n",
      "circular: True\n",
      "size: 59\n",
      "ID: id\n",
      "Name: name\n",
      "Description: description\n",
      "Number of features: 0\n",
      "/molecule_type=DNA\n",
      "Dseq(o59)\n",
      "acga..GGGt\n",
      "tgct..CCCa\n",
      "Dseqrecord\n",
      "circular: True\n",
      "size: 59\n",
      "ID: id\n",
      "Name: name\n",
      "Description: description\n",
      "Number of features: 0\n",
      "/molecule_type=DNA\n",
      "Dseq(o59)\n",
      "taga..AAAA\n",
      "atct..TTTT\n"
     ]
    }
   ],
   "source": [
    "from pydna.contig import Contig\n",
    "\n",
    "#Circularizing the assembled sequence\n",
    "assembly_circ = assembly.assemble_circular()\n",
    "\n",
    "#Printing the sequence records\n",
    "print(assembly_circ[0])\n",
    "print(assembly_circ[1])\n"
   ]
  },
  {
   "cell_type": "markdown",
   "metadata": {},
   "source": [
    "Please refer to the Example_Gibson page for an example of a completed workflow for modelling Gibson Assembly using pydna. "
   ]
  }
 ],
 "metadata": {
  "kernelspec": {
   "display_name": ".venv",
   "language": "python",
   "name": "python3"
  },
  "language_info": {
   "codemirror_mode": {
    "name": "ipython",
    "version": 3
   },
   "file_extension": ".py",
   "mimetype": "text/x-python",
   "name": "python",
   "nbconvert_exporter": "python",
   "pygments_lexer": "ipython3",
   "version": "3.12.4"
  }
 },
 "nbformat": 4,
 "nbformat_minor": 2
}
