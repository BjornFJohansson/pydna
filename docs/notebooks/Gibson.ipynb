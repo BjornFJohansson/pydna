{
 "cells": [
  {
   "cell_type": "markdown",
   "metadata": {},
   "source": [
    "# Gibson Assembly in pydna\n",
    "> Visit the full library documentation [here](https://bjornfjohansson.github.io/pydna/)\n",
    "\n",
    "Gibson Assembly is a powerful method to assemble multiple DNA fragments into a single, continuous sequence in a seamless, one-step reaction. Developed by Daniel Gibson and colleagues in 2009, this method has been widely applied to work in molecular cloning, biotechnology, and synthetic biology.  \n",
    "\n",
    "`pydna` provides the `Assembly` class to simulate the assembly of DNA sequences. This page provides a guide to performing Gibson Assembly with pre-existing DNA fragments, followed by primer design for generating these fragments via the `pcr` method, if needed.\n",
    "\n",
    "The `Assembly` class simulates Gibson assembly by searching for homologous sequence pairings. The `Assembly` class needs a list of DNA fragments, given in the datatype of `Dseqrecord` objects, and a minimum length of DNA (`limit` parameter)for which a sequence homology is considered.\n",
    "\n",
    "The example below shows how to create an `Assembly` object using multiple DNA fragments. Although the example below creates `Dseqrecord` objects for the sake of example, you can also perform assembly using real DNA records parsed as `Dseqrecords`. The bottom of the page offers another example from literature that applies real sequences."
   ]
  },
  {
   "cell_type": "code",
   "execution_count": null,
   "metadata": {},
   "outputs": [
    {
     "name": "stdout",
     "output_type": "stream",
     "text": [
      "Assembly\n",
      "fragments..: 33bp 34bp 35bp\n",
      "limit(bp)..: 14\n",
      "G.nodes....: 6\n",
      "algorithm..: common_sub_strings\n"
     ]
    }
   ],
   "source": [
    "from pydna.dseqrecord import Dseqrecord\n",
    "from pydna.assembly import Assembly\n",
    "\n",
    "#Creating example Dseqrecord sequences\n",
    "fragment1 = Dseqrecord(\"acgatgctatactgCCCCCtgtgctgtgctcta\")\n",
    "fragment2 = Dseqrecord(\"tgtgctgtgctctaTTTTTtattctggctgtatc\")\n",
    "fragment3 = Dseqrecord(\"tattctggctgtatcGGGGGtacgatgctatactg\")\n",
    "\n",
    "#Cerating a list of sequences to assemble\n",
    "fragments = [fragment1, fragment2, fragment3]\n",
    "\n",
    "#Performing Gibson assembly, with a minimum shared homology of 14bp\n",
    "assembly = Assembly(fragments, limit=14)\n",
    "\n",
    "# Display the assembled product\n",
    "print(assembly)"
   ]
  },
  {
   "cell_type": "markdown",
   "metadata": {},
   "source": [
    "The printed output shows the length of each assembled DNA sequenece, the minimum length required for sequence homology search, the number of nodes (number of overlapping regions), and the algorithm used for sequence homology search. Please refer to the full `Assembly` module documentation for more information on the algorithm applied.  \n",
    "\n",
    "To make a circular sequence from an `Assembly`, pydna provides the `assemble_circular` method."
   ]
  },
  {
   "cell_type": "code",
   "execution_count": null,
   "metadata": {},
   "outputs": [
    {
     "name": "stdout",
     "output_type": "stream",
     "text": [
      "acgatgctatactgCCCCCtgtgctgtgctctaTTTTTtattctggctgtatcGGGGGt\n",
      "tagagcacagcacaGGGGGcagtatagcatcgtaCCCCCgatacagccagaataAAAAA\n"
     ]
    },
    {
     "ename": "NameError",
     "evalue": "name 'figure' is not defined",
     "output_type": "error",
     "traceback": [
      "\u001b[0;31m---------------------------------------------------------------------------\u001b[0m",
      "\u001b[0;31mNameError\u001b[0m                                 Traceback (most recent call last)",
      "Cell \u001b[0;32mIn[19], line 7\u001b[0m\n\u001b[1;32m      5\u001b[0m \u001b[38;5;28mprint\u001b[39m(assembly_circ[\u001b[38;5;241m0\u001b[39m]\u001b[38;5;241m.\u001b[39mseq\u001b[38;5;241m.\u001b[39mwatson)\n\u001b[1;32m      6\u001b[0m \u001b[38;5;28mprint\u001b[39m(assembly_circ[\u001b[38;5;241m1\u001b[39m]\u001b[38;5;241m.\u001b[39mseq\u001b[38;5;241m.\u001b[39mwatson)\n\u001b[0;32m----> 7\u001b[0m \u001b[43mfigure\u001b[49m(assembly_circ[\u001b[38;5;241m0\u001b[39m])\n\u001b[1;32m      8\u001b[0m figure(assembly_circ[\u001b[38;5;241m1\u001b[39m])\n",
      "\u001b[0;31mNameError\u001b[0m: name 'figure' is not defined"
     ]
    }
   ],
   "source": [
    "from pydna.contig import Contig\n",
    "\n",
    "assembly_circ = assembly.assemble_circular()\n",
    "\n",
    "print(assembly_circ[0].seq.watson)\n",
    "print(assembly_circ[1].seq.watson)\n",
    "#Note: Why are assembly_circ[0] and [1] different?\n",
    "#Note: How to use figure method in Contig module?\n",
    "\n"
   ]
  }
 ],
 "metadata": {
  "kernelspec": {
   "display_name": ".venv",
   "language": "python",
   "name": "python3"
  },
  "language_info": {
   "codemirror_mode": {
    "name": "ipython",
    "version": 3
   },
   "file_extension": ".py",
   "mimetype": "text/x-python",
   "name": "python",
   "nbconvert_exporter": "python",
   "pygments_lexer": "ipython3",
   "version": "3.12.4"
  }
 },
 "nbformat": 4,
 "nbformat_minor": 2
}
