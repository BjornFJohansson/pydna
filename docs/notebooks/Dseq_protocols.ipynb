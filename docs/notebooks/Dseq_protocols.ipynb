{
 "cells": [
  {
   "cell_type": "code",
   "execution_count": null,
   "metadata": {},
   "outputs": [],
   "source": []
  },
  {
   "cell_type": "markdown",
   "metadata": {},
   "source": [
    "- we can also perform molecular biology protocols to manipuate Dseq objects, just like a double-stranded DNA sequence\n",
    "    - 5' DNA Polymerase activity to fill in sticky ends (like a Klenow Fragment): \n",
    "    - 5'-3' and 3'-5' DNA exonuclease activty to remove sticky ends:\n",
    "    - T4 DNA 5' DNA polymeraase and 3' exonuclease activity (T4 DNA Polymerase catalyzes the synthesis of 3' to 5' DNA, and removes 3' overhangs or fills-in 5' overhangs to form blunt ends)\n",
    "    - Restriction enzyme cutting, with any number of restriction enzymes, on a linear or circular sequence"
   ]
  }
 ],
 "metadata": {
  "language_info": {
   "name": "python"
  }
 },
 "nbformat": 4,
 "nbformat_minor": 2
}
