{
 "cells": [
  {
   "cell_type": "markdown",
   "metadata": {},
   "source": [
    "# Working with Features using the Dseqrecord class\n",
    "\n",
    "Features are important components of a .gb file, describing the key biological properties of the sequence. In Genbank, features \"include genes, gene products, as well as regions of biological significance reported in the sequence.\" (See [here](https://www.ncbi.nlm.nih.gov/genbank/samplerecord/) for a description of a Genbank file and associated terminologies/annotations) Examples include coding sequences (CDS), introns, promoters, etc.\n",
    "\n",
    "pydna offers many ways to easily view, add, extract, and write features into a Genbank file via the `Dseqrecord` class. Before working with features, you need to import the Genbank files (or other biological formats including FASTA, snapgene, EMBL) into python. Please refer to the Importing_Seqs page for a quick how-to tutorial.\n",
    "\n",
    "After importing the file, we can checkout the list of features in a sequence using the following code:"
   ]
  },
  {
   "cell_type": "code",
   "execution_count": null,
   "metadata": {},
   "outputs": [],
   "source": [
    "from pydna.dseqrecord import Dseqrecord\n",
    "\n",
    "# Assuming you've already loaded a Dseqrecord\n",
    "file = Dseqrecord(\"your_sequence_or_file_here\")\n",
    "\n",
    "# List all features\n",
    "for feature in file.features:\n",
    "    print(feature)"
   ]
  },
  {
   "cell_type": "markdown",
   "metadata": {},
   "source": [
    "For the sample record from Genbank shown [here](https://www.ncbi.nlm.nih.gov/genbank/samplerecord/), the listed features look like this in python:\n",
    "\n",
    "type: source  \n",
    "location: [0:5028](+)  \n",
    "qualifiers:  \n",
    "    Key: chromosome, Value: ['IX']  \n",
    "    Key: db_xref, Value: ['taxon:4932']  \n",
    "    Key: mol_type, Value: ['genomic DNA']  \n",
    "    Key: organism, Value: ['Saccharomyces cerevisiae']  \n",
    "\n",
    "type: mRNA  \n",
    "location: [<0:>206](+)  \n",
    "qualifiers:  \n",
    "    Key: product, Value: ['TCP1-beta']  \n",
    "\n",
    "type: CDS  \n",
    "location: [<0:206](+)  \n",
    "qualifiers:  \n",
    "    Key: codon_start, Value: ['3']  \n",
    "    Key: product, Value: ['TCP1-beta']  \n",
    "    Key: protein_id, Value: ['AAA98665.1']  \n",
    "    Key: translation, Value: ['SSIYNGISTSGLDLNNGTIADMRQLGIVESYKLKRAVVSSASEAAEVLLRVDNIIRARPRTANRQHM']  \n",
    "\n",
    "type: gene  \n",
    "location: [<686:>3158](+)  \n",
    "qualifiers:  \n",
    "    Key: gene, Value: ['AXL2']  \n",
    "...\n",
    "    Key: product, Value: ['Rev7p']  \n",
    "    Key: protein_id, Value: ['AAA98667.1']  \n",
    "    Key: translation, Value: ['MNRWVEKWLRVYLKCYINLILFYRNVYPPQSFDYTTYQSFNLPQFVPINRHPALIDYIEELILDVLSKLTHVYRFSICIINKKNDLCIEKYVLDFSELQHVDKDDQIITETEVFDEFRSSLNSLIMHLEKLPKVNDDTITFEAVINAIELELGHKLDRNRRVDSLEEKAEIERDSNWVKCQEDENLPDNNGFQPPKIKLTSLVGSDVGPLIIHQFSEKLISGDDKILNGVYSQYEEGESIFGSLF']  \n"
   ]
  },
  {
   "cell_type": "markdown",
   "metadata": {},
   "source": [
    "If you have a CDS with parts (i.e CDS separated by introns or other genetic elements), you can show each part of the CDS as such. The `[0]` represents the first part of the CDS, which can be modified to show the second `[1]`, third `[2]`, etc. "
   ]
  },
  {
   "cell_type": "code",
   "execution_count": null,
   "metadata": {},
   "outputs": [],
   "source": [
    "cds_feature = [f for f in file.features if f.type == \"CDS\"][0]\n",
    "print(cds_feature.location)"
   ]
  },
  {
   "cell_type": "markdown",
   "metadata": {},
   "source": [
    "(Add a how_to for list comprehension?) simple way to list all the features of a particular type?"
   ]
  },
  {
   "cell_type": "markdown",
   "metadata": {},
   "source": [
    "## Editing Features\n",
    "\n",
    "Adding a new feature to describe a region of interest, for instance for a region that you would like to perform a PCR, to a file is easy. pydna provides the `add_feature` method to add a misc type feature to a file, given the starting base and the ending base. Note that the base numbering follow biological convention, rather than python numbering methods. For instance, the following code adds a new feature from the 2nd to the 4th nucleotide."
   ]
  },
  {
   "cell_type": "code",
   "execution_count": null,
   "metadata": {},
   "outputs": [],
   "source": [
    "file.add_feature(2,4)\n",
    "\n",
    "#Confirms that the new feature has been added\n",
    "file.features"
   ]
  },
  {
   "cell_type": "markdown",
   "metadata": {},
   "source": [
    "To make a note of what this sequence is, we can add a qualifier to the new feature by accessing the `qualifiers` dictionary. This dictionary can be accessed by simply adding your notes as keyword arguments in the `add_feature` method.  \n",
    "For instance, if I would like to label a new feature between 24-56 bases as my region of interest, I can write the `add_feature` method as such:"
   ]
  },
  {
   "cell_type": "code",
   "execution_count": null,
   "metadata": {},
   "outputs": [],
   "source": [
    "file.add_feature(24,56, ROI=\"my region of interest\")"
   ]
  },
  {
   "cell_type": "markdown",
   "metadata": {},
   "source": [
    "Python returns the following result:  \n",
    "\n",
    "type: misc  \n",
    "location: [24:56](+)  \n",
    "qualifiers:  \n",
    "    Key: ROI, Value: my region of interest  \n",
    "    Key: label, Value: ['ft32']  \n",
    "\n",
    "Note that pydna automatically assumes the plus strand of the sequence. If you would like to refer to a sequence on the minus strand, you can add a parameter specifying `strand = -1`. "
   ]
  },
  {
   "cell_type": "code",
   "execution_count": null,
   "metadata": {},
   "outputs": [],
   "source": [
    "file.add_feature(24,56, strand=-1, ROI=\"my region of interest\")"
   ]
  },
  {
   "cell_type": "markdown",
   "metadata": {},
   "source": [
    "pydna also allows you to add a new feature and specifying the feature type directly, rather than always sticking to the misc type. This is useful if you have, for instance, inserted a sequence with known function into a new plasmid, and you would like to reflect that in your records. pydna allows the users to specify a `type_` parameter in the `add_feature` method to do this."
   ]
  },
  {
   "cell_type": "code",
   "execution_count": null,
   "metadata": {},
   "outputs": [],
   "source": [
    "file.add_feature(24,56, type_= \"gene\")"
   ]
  },
  {
   "cell_type": "markdown",
   "metadata": {},
   "source": [
    "pydna suppports all the conventional feature types through the `_type` parameters. A non-exhaustive list include gene, CDS, promoter, exon, intron, 5' UTR, 3' UTR, terminator, enhancer, and RBS. You can also define custom features, which could be useful for synthetic biology applications. For instance, you might want to have Bio_brick or spacer features to describe a synthetic standardised plasmid construct.  \n",
    "  \n",
    "It is important to note that while pydna does not restrict the feature types you can use, sticking to standard types helps maintain compatibility with other bioinformatics tools and databases. I recommend referring to the official [GenBank_Feature_Table](https://www.insdc.org/submitting-standards/feature-table/#2), if in doubt."
   ]
  },
  {
   "cell_type": "markdown",
   "metadata": {},
   "source": [
    "### Adding a Feature with Parts\n",
    "\n"
   ]
  },
  {
   "cell_type": "markdown",
   "metadata": {},
   "source": [
    "We can find the new feature in the list of features using their qualifiers, too."
   ]
  },
  {
   "cell_type": "markdown",
   "metadata": {},
   "source": [
    "If you need more information on `qualifiers`, please refer to pydna's parent `Biopython` class's annotations [here](https://biopython.org/docs/1.75/api/Bio.SeqFeature.html) for more information. "
   ]
  }
 ],
 "metadata": {
  "kernelspec": {
   "display_name": ".venv",
   "language": "python",
   "name": "python3"
  },
  "language_info": {
   "codemirror_mode": {
    "name": "ipython",
    "version": 3
   },
   "file_extension": ".py",
   "mimetype": "text/x-python",
   "name": "python",
   "nbconvert_exporter": "python",
   "pygments_lexer": "ipython3",
   "version": "3.12.4"
  }
 },
 "nbformat": 4,
 "nbformat_minor": 2
}
