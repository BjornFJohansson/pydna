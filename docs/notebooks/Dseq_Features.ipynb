{
 "cells": [
  {
   "cell_type": "markdown",
   "metadata": {},
   "source": [
    "# Working with Features using the Dseqrecord class\n",
    "\n",
    "> Visit the full library documentation [here](https://bjornfjohansson.github.io/pydna/)\n",
    "\n",
    "Features are important components of a .gb file, describing the key biological properties of the sequence. In Genbank, features \"include genes, gene products, as well as regions of biological significance reported in the sequence.\" (See [here](https://www.ncbi.nlm.nih.gov/genbank/samplerecord/) for a description of a Genbank file and associated terminologies/annotations) Examples include coding sequences (CDS), introns, promoters, etc.\n",
    "\n",
    "pydna offers many ways to easily view, add, extract, and write features into a Genbank file via the `Dseqrecord` class. Before working with features, you need to import the Genbank files (or other biological formats including FASTA, snapgene, EMBL) into python. Please refer to the Importing_Seqs page for a quick how-to tutorial.\n",
    "\n",
    "After importing the file, we can check out the list of features in a sequence using the following code. An example `Dseqrecord` object has been loaded using the GenBank sample sequence [here](https://www.ncbi.nlm.nih.gov/genbank/samplerecord/)."
   ]
  },
  {
   "cell_type": "code",
   "execution_count": null,
   "metadata": {},
   "outputs": [
    {
     "name": "stdout",
     "output_type": "stream",
     "text": [
      "type: source\n",
      "location: [0:5028](+)\n",
      "qualifiers:\n",
      "    Key: chromosome, Value: ['IX']\n",
      "    Key: db_xref, Value: ['taxon:4932']\n",
      "    Key: mol_type, Value: ['genomic DNA']\n",
      "    Key: organism, Value: ['Saccharomyces cerevisiae']\n",
      "\n",
      "type: mRNA\n",
      "location: [<0:>206](+)\n",
      "qualifiers:\n",
      "    Key: product, Value: ['TCP1-beta']\n",
      "\n",
      "type: CDS\n",
      "location: [<0:206](+)\n",
      "qualifiers:\n",
      "    Key: codon_start, Value: ['3']\n",
      "    Key: product, Value: ['TCP1-beta']\n",
      "    Key: protein_id, Value: ['AAA98665.1']\n",
      "    Key: translation, Value: ['SSIYNGISTSGLDLNNGTIADMRQLGIVESYKLKRAVVSSASEAAEVLLRVDNIIRARPRTANRQHM']\n",
      "\n",
      "type: gene\n",
      "location: [<686:>3158](+)\n",
      "qualifiers:\n",
      "    Key: gene, Value: ['AXL2']\n",
      "\n",
      "type: mRNA\n",
      "location: [<686:>3158](+)\n",
      "qualifiers:\n",
      "    Key: gene, Value: ['AXL2']\n",
      "    Key: product, Value: ['Axl2p']\n",
      "\n",
      "type: CDS\n",
      "location: [686:3158](+)\n",
      "qualifiers:\n",
      "    Key: codon_start, Value: ['1']\n",
      "    Key: gene, Value: ['AXL2']\n",
      "    Key: note, Value: ['plasma membrane glycoprotein']\n",
      "    Key: product, Value: ['Axl2p']\n",
      "    Key: protein_id, Value: ['AAA98666.1']\n",
      "    Key: translation, Value: ['MTQLQISLLLTATISLLHLVVATPYEAYPIGKQYPPVARVNESFTFQISNDTYKSSVDKTAQITYNCFDLPSWLSFDSSSRTFSGEPSSDLLSDANTTLYFNVILEGTDSADSTSLNNTYQFVVTNRPSISLSSDFNLLALLKNYGYTNGKNALKLDPNEVFNVTFDRSMFTNEESIVSYYGRSQLYNAPLPNWLFFDSGELKFTGTAPVINSAIAPETSYSFVIIATDIEGFSAVEVEFELVIGAHQLTTSIQNSLIINVTDTGNVSYDLPLNYVYLDDDPISSDKLGSINLLDAPDWVALDNATISGSVPDELLGKNSNPANFSVSIYDTYGDVIYFNFEVVSTTDLFAISSLPNINATRGEWFSYYFLPSQFTDYVNTNVSLEFTNSSQDHDWVKFQSSNLTLAGEVPKNFDKLSLGLKANQGSQSQELYFNIIGMDSKITHSNHSANATSTRSSHHSTSTSSYTSSTYTAKISSTSAAATSSAPAALPAANKTSSHNKKAVAIACGVAIPLGVILVALICFLIFWRRRRENPDDENLPHAISGPDLNNPANKPNQENATPLNNPFDDDASSYDDTSIARRLAALNTLKLDNHSATESDISSVDEKRDSLSGMNTYNDQFQSQSKEELLAKPPVQPPESPFFDPQNRSSSVYMDSEPAVNKSWRYTGNLSPVSDIVRDSYGSQKTVDTEKLFDLEAPEKEKRTSRDVTMSSLDPWNSNISPSPVRKSVTPSPYNVTKHRNRHLQNIQDSQSGKNGITPTTMSTSSSDDFVPVKDGENFCWVHSMEPDRRPSKKRLVDFSNKSNVNVGQVKDIHGRIPEML']\n",
      "\n",
      "type: gene\n",
      "location: [<3299:>4037](-)\n",
      "qualifiers:\n",
      "    Key: gene, Value: ['REV7']\n",
      "\n",
      "type: mRNA\n",
      "location: [<3299:>4037](-)\n",
      "qualifiers:\n",
      "    Key: gene, Value: ['REV7']\n",
      "    Key: product, Value: ['Rev7p']\n",
      "\n",
      "type: CDS\n",
      "location: [3299:4037](-)\n",
      "qualifiers:\n",
      "    Key: codon_start, Value: ['1']\n",
      "    Key: gene, Value: ['REV7']\n",
      "    Key: product, Value: ['Rev7p']\n",
      "    Key: protein_id, Value: ['AAA98667.1']\n",
      "    Key: translation, Value: ['MNRWVEKWLRVYLKCYINLILFYRNVYPPQSFDYTTYQSFNLPQFVPINRHPALIDYIEELILDVLSKLTHVYRFSICIINKKNDLCIEKYVLDFSELQHVDKDDQIITETEVFDEFRSSLNSLIMHLEKLPKVNDDTITFEAVINAIELELGHKLDRNRRVDSLEEKAEIERDSNWVKCQEDENLPDNNGFQPPKIKLTSLVGSDVGPLIIHQFSEKLISGDDKILNGVYSQYEEGESIFGSLF']\n",
      "\n"
     ]
    }
   ],
   "source": [
    "from pydna.dseqrecord import Dseqrecord\n",
    "from pydna.parsers import parse\n",
    "\n",
    "#Import your file into python. \n",
    "file_path = \"./sequence.gb\"\n",
    "records = parse(file_path)\n",
    "my_record = records[0]\n",
    "\n",
    "# List all features\n",
    "for feature in my_record.features:\n",
    "    print(feature)"
   ]
  },
  {
   "cell_type": "markdown",
   "metadata": {},
   "source": [
    "Additional ways to view and search for particular features are shown at the bottom of the page under \"Other Methods to Viewing Features\""
   ]
  },
  {
   "cell_type": "markdown",
   "metadata": {},
   "source": [
    "## Adding Features and Qualifiers\n",
    "\n",
    "Adding a new feature to describe a region of interest, for instance for a region that you would like to perform a PCR, to a file involves the parent module `Bio.SeqFeature`. `Bio.SeqFeature` provides the `FeatureLocation` method to add a feature to a file, given the starting base, ending base, and the feature type. Note that the base numbering follow biological convention, rather than python numbering methods. For instance, the following code adds a new feature from the 2nd to the 5th nucleotide, of the mRNA type."
   ]
  },
  {
   "cell_type": "code",
   "execution_count": null,
   "metadata": {},
   "outputs": [
    {
     "data": {
      "text/plain": [
       "SeqFeature(SimpleLocation(ExactPosition(2), ExactPosition(5)), type='mRNA')"
      ]
     },
     "execution_count": null,
     "metadata": {},
     "output_type": "execute_result"
    }
   ],
   "source": [
    "from Bio.SeqFeature import FeatureLocation, SeqFeature\n",
    "\n",
    "# Define the locations of the CDS\n",
    "location = FeatureLocation(2, 5)\n",
    "\n",
    "# Create a SeqFeature with the type mRNA\n",
    "my_feature = SeqFeature(location=location, type=\"mRNA\")\n",
    "\n",
    "# Add my_feature to my_record with .append\n",
    "my_record.features.append(my_feature)\n",
    "\n",
    "# Confirm that my_feature has been added\n",
    "my_record.features[-1]"
   ]
  },
  {
   "cell_type": "markdown",
   "metadata": {},
   "source": [
    "Note that a new feature is always added to the last position of the features list.  "
   ]
  },
  {
   "cell_type": "markdown",
   "metadata": {},
   "source": [
    "`pydna` and `Bio.SeqFeature` suppports all the conventional feature types through the `type` parameters. A non-exhaustive list include gene, CDS, promoter, exon, intron, 5' UTR, 3' UTR, terminator, enhancer, and RBS. You can also define custom features, which could be useful for synthetic biology applications. For instance, you might want to have Bio_brick or spacer features to describe a synthetic standardised plasmid construct.  \n",
    "  \n",
    "It is important to note that while `pydna` and `Bio.SeqFeature` does not restrict the feature types you can use, sticking to standard types helps maintain compatibility with other bioinformatics tools and databases. I recommend referring to the official [GenBank_Feature_Table](https://www.insdc.org/submitting-standards/feature-table/#2), if in doubt."
   ]
  },
  {
   "cell_type": "markdown",
   "metadata": {},
   "source": [
    "To make a note of what this sequence is, we can add a qualifier to the new feature by accessing the `qualifiers` dictionary. This dictionary can be accessed writing your notes as a dictionary key value pair, under the `qualifiers` parameter of the `SeqFeature` class object.  \n",
    "For instance, if I would like to note a new feature of type 'domain', between 24-56 bases as my region of interest, I can instantiate the `SeqFeature` class object as such."
   ]
  },
  {
   "cell_type": "code",
   "execution_count": null,
   "metadata": {},
   "outputs": [
    {
     "data": {
      "text/plain": [
       "SeqFeature(SimpleLocation(ExactPosition(24), ExactPosition(56)), type='domain', qualifiers=...)"
      ]
     },
     "execution_count": null,
     "metadata": {},
     "output_type": "execute_result"
    }
   ],
   "source": [
    "location = FeatureLocation(24, 56)\n",
    "\n",
    "# Create a SeqFeature with a qualifier\n",
    "my_feature2 = SeqFeature(location=location, type=\"domain\", qualifiers={\"Note\":\"Region of interest\"})\n",
    "\n",
    "# Add my_feature to my_record with .append\n",
    "my_record.features.append(my_feature2)\n",
    "\n",
    "# Confirm that my_feature has been added\n",
    "my_record.features[-1]"
   ]
  },
  {
   "cell_type": "markdown",
   "metadata": {},
   "source": [
    "On the feature list of the .gb file, the new feature is reflected as so:\n",
    "\n",
    "type: CDS  \n",
    "location: [24:56]  \n",
    "qualifiers:  \n",
    "    Key: Note, Value: Region of interest  \n",
    "\n",
    "Note that `Bio.SeqFeatures` does not automatically assume a sequence strand. If you would like to refer to a sequence on the positive or minus strand, you can add a parameter in `FeatureLocation` specifying `strand=+1` or `strand=-1`. "
   ]
  },
  {
   "cell_type": "code",
   "execution_count": null,
   "metadata": {},
   "outputs": [
    {
     "data": {
      "text/plain": [
       "SeqFeature(SimpleLocation(ExactPosition(134), ExactPosition(520), strand=-1), type='CDS', qualifiers=...)"
      ]
     },
     "execution_count": null,
     "metadata": {},
     "output_type": "execute_result"
    }
   ],
   "source": [
    "#Create a location specifying the minus strand\n",
    "location = FeatureLocation(134, 520, strand=-1)\n",
    "\n",
    "my_feature3 = SeqFeature(location=location, type=\"CDS\", qualifiers={\"gene\":\"example_CDS\"})\n",
    "\n",
    "my_record.features.append(my_feature3)\n",
    "\n",
    "my_record.features[-1]"
   ]
  },
  {
   "cell_type": "markdown",
   "metadata": {},
   "source": [
    "### Adding a Feature with Parts\n",
    "\n",
    "To add a feature with parts, like a CDS with introns, we need to apply another class and methods from `Bio.SeqFeature`. Specifically, you can achieve this by creating a `CompoundLocation` object, and then adding it to a `SeqFeature` object as normal. \n",
    "\n",
    "The example code belows adds a CDS with two parts, between 5-15bp and 20-30bp, named \"example gene\" in the qualifiers, to my features list. "
   ]
  },
  {
   "cell_type": "code",
   "execution_count": null,
   "metadata": {},
   "outputs": [
    {
     "data": {
      "text/plain": [
       "SeqFeature(CompoundLocation([SimpleLocation(ExactPosition(5), ExactPosition(15)), SimpleLocation(ExactPosition(20), ExactPosition(30))], 'join'), type='CDS', qualifiers=...)"
      ]
     },
     "execution_count": null,
     "metadata": {},
     "output_type": "execute_result"
    }
   ],
   "source": [
    "from pydna.dseqrecord import Dseqrecord\n",
    "from Bio.SeqFeature import SeqFeature, FeatureLocation, CompoundLocation\n",
    "\n",
    "# Define the locations of the CDS\n",
    "locations = [FeatureLocation(5, 15), FeatureLocation(20, 30)]\n",
    "\n",
    "# Create a compound location from these parts\n",
    "compound_location = CompoundLocation(locations)\n",
    "\n",
    "# Create a SeqFeature with this compound location, including type and qualifiers. \n",
    "cds_feature = SeqFeature(location=compound_location, type=\"CDS\", qualifiers={\"gene\": \"example_gene\"})\n",
    "\n",
    "# Add the feature to the Dseqrecord\n",
    "my_record.features.append(cds_feature)\n",
    "\n",
    "my_record.features[-1]"
   ]
  },
  {
   "cell_type": "markdown",
   "metadata": {},
   "source": [
    "  Our added feature looks like this on the features list, as appropriate:  \n",
    "\n",
    "type: CDS  \n",
    "location: join{[5:15], [20:30]} . \n",
    "qualifiers:  \n",
    "    Key: gene, Value: example_gene  \n",
    "\n",
    "Further documentation for `SeqFeature`, `CompoundLocation`, and `FeatureLocation` can be found in the `SeqFeature` module [here](https://biopython.org/docs/1.75/api/Bio.SeqFeature.html). "
   ]
  },
  {
   "cell_type": "markdown",
   "metadata": {},
   "source": [
    "### Handling Origin Spanning Features\n",
    "\n",
    "An origin spanning feature is a special type of features that crosses over a circular sequence's origin. In pydna, such a feature is represented as a feature with parts, joining the part of the sequence before the origin and after the origin. They can be added using `CompoundLocation` as normal. \n",
    "\n",
    "An origin spanning feature, between base 19 to base 6, in a 25bp long circular sequence, is represented like so:   \n",
    "  \n",
    "type: gene \n",
    "location: join{[19:25](+), [0:6](+)}  \n",
    "qualifiers: gene, Value: example_gene  \n",
    "  \n",
    "The code uses the `add_feature` method as normal."
   ]
  },
  {
   "cell_type": "code",
   "execution_count": null,
   "metadata": {},
   "outputs": [
    {
     "data": {
      "text/plain": [
       "SeqFeature(CompoundLocation([SimpleLocation(ExactPosition(4023), ExactPosition(4037)), SimpleLocation(ExactPosition(0), ExactPosition(6))], 'join'), type='misc', qualifiers=...)"
      ]
     },
     "execution_count": null,
     "metadata": {},
     "output_type": "execute_result"
    }
   ],
   "source": [
    "location = [FeatureLocation(4023, 4037), FeatureLocation(0, 6)]\n",
    "ori_feat_location = CompoundLocation(location)\n",
    "ori_feature = SeqFeature(location=ori_feat_location, type=\"misc\", qualifiers={\"gene\":\"example origin spanning gene\"})\n",
    "my_record.features.append(ori_feature)\n",
    "my_record.features[-1]"
   ]
  },
  {
   "cell_type": "markdown",
   "metadata": {},
   "source": [
    "### Other Methods to Viewing Features\n",
    "\n",
    "pydna also provides the `list_features` method as a simple way to list all the features in a `Dseqrecord` object. "
   ]
  },
  {
   "cell_type": "code",
   "execution_count": null,
   "metadata": {},
   "outputs": [
    {
     "name": "stdout",
     "output_type": "stream",
     "text": [
      "+-----+------------------+-----+-------+-------+------+--------+------+\n",
      "| Ft# | Label or Note    | Dir | Sta   | End   |  Len | type   | orf? |\n",
      "+-----+------------------+-----+-------+-------+------+--------+------+\n",
      "|   0 | nd               | --> | 0     | 5028  | 5028 | source |  no  |\n",
      "|   1 | nd               | --> | <0    | >206  |  206 | mRNA   |  no  |\n",
      "|   2 | nd               | --> | <0    | 206   |  206 | CDS    |  no  |\n",
      "|   3 | nd               | --> | <686  | >3158 | 2472 | gene   | yes  |\n",
      "|   4 | nd               | --> | <686  | >3158 | 2472 | mRNA   | yes  |\n",
      "|   5 | N:plasma membran | --> | 686   | 3158  | 2472 | CDS    | yes  |\n",
      "|   6 | nd               | <-- | <3299 | >4037 |  738 | gene   | yes  |\n",
      "|   7 | nd               | <-- | <3299 | >4037 |  738 | mRNA   | yes  |\n",
      "|   8 | nd               | <-- | 3299  | 4037  |  738 | CDS    | yes  |\n",
      "|   9 | nd               | --- | 2     | 5     |    3 | mRNA   |  no  |\n",
      "|  10 | nd               | --- | 24    | 56    |   32 | domain |  no  |\n",
      "|  11 | nd               | <-- | 134   | 520   |  386 | CDS    |  no  |\n",
      "|  12 | nd               | --- | 5     | 30    |   20 | CDS    |  no  |\n",
      "|  13 | nd               | --- | 0     | 4037  |   20 | misc   |  no  |\n",
      "+-----+------------------+-----+-------+-------+------+--------+------+\n"
     ]
    }
   ],
   "source": [
    "print(my_record.list_features())"
   ]
  },
  {
   "cell_type": "markdown",
   "metadata": {},
   "source": [
    "This method is convenient for checking-out a brief overview of each feature, without reading through an entire sequence record.  \n",
    "\n",
    "Alternatively, we can look for specific features using their qualifiers. For instance, if I want to find my feature with the gene name of example_gene (This was the example feature for `CompoundLocation`), I can use the following code:"
   ]
  },
  {
   "cell_type": "code",
   "execution_count": null,
   "metadata": {},
   "outputs": [
    {
     "name": "stdout",
     "output_type": "stream",
     "text": [
      "[SeqFeature(CompoundLocation([SimpleLocation(ExactPosition(5), ExactPosition(15)), SimpleLocation(ExactPosition(20), ExactPosition(30))], 'join'), type='CDS', qualifiers=...)]\n"
     ]
    }
   ],
   "source": [
    "gene = [f for f in my_record.features if \"gene\" in f.qualifiers and f.qualifiers[\"gene\"] == \"example_gene\"]\n",
    "print(gene)"
   ]
  },
  {
   "cell_type": "markdown",
   "metadata": {},
   "source": [
    "If you would like to search for another type of features, simply replace the `\"gene\"` with your desired feature type in quotation marks."
   ]
  },
  {
   "cell_type": "markdown",
   "metadata": {},
   "source": [
    "### Removing Features\n",
    "\n",
    "In pydna, we can search for the feature that we would like to remove using the feature's types or qualififers. For instance, we can modify the features list to exclude all CDS:"
   ]
  },
  {
   "cell_type": "code",
   "execution_count": null,
   "metadata": {},
   "outputs": [
    {
     "name": "stdout",
     "output_type": "stream",
     "text": [
      "type: source\n",
      "location: [0:5028](+)\n",
      "qualifiers:\n",
      "    Key: chromosome, Value: ['IX']\n",
      "    Key: db_xref, Value: ['taxon:4932']\n",
      "    Key: mol_type, Value: ['genomic DNA']\n",
      "    Key: organism, Value: ['Saccharomyces cerevisiae']\n",
      "\n",
      "type: mRNA\n",
      "location: [<0:>206](+)\n",
      "qualifiers:\n",
      "    Key: product, Value: ['TCP1-beta']\n",
      "\n",
      "type: gene\n",
      "location: [<686:>3158](+)\n",
      "qualifiers:\n",
      "    Key: gene, Value: ['AXL2']\n",
      "\n",
      "type: mRNA\n",
      "location: [<686:>3158](+)\n",
      "qualifiers:\n",
      "    Key: gene, Value: ['AXL2']\n",
      "    Key: product, Value: ['Axl2p']\n",
      "\n",
      "type: gene\n",
      "location: [<3299:>4037](-)\n",
      "qualifiers:\n",
      "    Key: gene, Value: ['REV7']\n",
      "\n",
      "type: mRNA\n",
      "location: [<3299:>4037](-)\n",
      "qualifiers:\n",
      "    Key: gene, Value: ['REV7']\n",
      "    Key: product, Value: ['Rev7p']\n",
      "\n",
      "type: mRNA\n",
      "location: [2:5]\n",
      "qualifiers:\n",
      "\n",
      "type: domain\n",
      "location: [24:56]\n",
      "qualifiers:\n",
      "    Key: Note, Value: Region of interest\n",
      "\n",
      "type: misc\n",
      "location: join{[4023:4037], [0:6]}\n",
      "qualifiers:\n",
      "    Key: gene, Value: example origin spanning gene\n",
      "\n"
     ]
    }
   ],
   "source": [
    "#Remove all CDS type features from my feature list\n",
    "my_record.features = [f for f in my_record.features if not (f.type == \"CDS\")]\n",
    "\n",
    "for feature in my_record.features:\n",
    "    print(feature)"
   ]
  },
  {
   "cell_type": "markdown",
   "metadata": {},
   "source": [
    "We can also modify the features list to exclude a specific gene:"
   ]
  },
  {
   "cell_type": "code",
   "execution_count": null,
   "metadata": {},
   "outputs": [
    {
     "name": "stdout",
     "output_type": "stream",
     "text": [
      "type: source\n",
      "location: [0:5028](+)\n",
      "qualifiers:\n",
      "    Key: chromosome, Value: ['IX']\n",
      "    Key: db_xref, Value: ['taxon:4932']\n",
      "    Key: mol_type, Value: ['genomic DNA']\n",
      "    Key: organism, Value: ['Saccharomyces cerevisiae']\n",
      "\n",
      "type: mRNA\n",
      "location: [<0:>206](+)\n",
      "qualifiers:\n",
      "    Key: product, Value: ['TCP1-beta']\n",
      "\n",
      "type: gene\n",
      "location: [<686:>3158](+)\n",
      "qualifiers:\n",
      "    Key: gene, Value: ['AXL2']\n",
      "\n",
      "type: mRNA\n",
      "location: [<686:>3158](+)\n",
      "qualifiers:\n",
      "    Key: gene, Value: ['AXL2']\n",
      "    Key: product, Value: ['Axl2p']\n",
      "\n",
      "type: gene\n",
      "location: [<3299:>4037](-)\n",
      "qualifiers:\n",
      "    Key: gene, Value: ['REV7']\n",
      "\n",
      "type: mRNA\n",
      "location: [<3299:>4037](-)\n",
      "qualifiers:\n",
      "    Key: gene, Value: ['REV7']\n",
      "    Key: product, Value: ['Rev7p']\n",
      "\n",
      "type: mRNA\n",
      "location: [2:5]\n",
      "qualifiers:\n",
      "\n",
      "type: domain\n",
      "location: [24:56]\n",
      "qualifiers:\n",
      "    Key: Note, Value: Region of interest\n",
      "\n",
      "type: misc\n",
      "location: join{[4023:4037], [0:6]}\n",
      "qualifiers:\n",
      "    Key: gene, Value: example origin spanning gene\n",
      "\n"
     ]
    }
   ],
   "source": [
    "#Exclude example_gene from my feature list\n",
    "my_record.features = [f for f in my_record.features if not (f.qualifiers == {\"gene\": \"example_gene\"})]\n",
    "\n",
    "for feature in my_record.features:\n",
    "    print(feature)"
   ]
  }
 ],
 "metadata": {
  "kernelspec": {
   "display_name": ".venv",
   "language": "python",
   "name": "python3"
  },
  "language_info": {
   "codemirror_mode": {
    "name": "ipython",
    "version": 3
   },
   "file_extension": ".py",
   "mimetype": "text/x-python",
   "name": "python",
   "nbconvert_exporter": "python",
   "pygments_lexer": "ipython3",
   "version": "3.12.4"
  }
 },
 "nbformat": 4,
 "nbformat_minor": 2
}
