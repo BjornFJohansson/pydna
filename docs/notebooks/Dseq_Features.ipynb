{
 "cells": [
  {
   "cell_type": "markdown",
   "metadata": {},
   "source": [
    "# Working with Features using the Dseqrecord class\n",
    "\n",
    "> Visit the full library documentation [here](https://bjornfjohansson.github.io/pydna/)\n",
    "\n",
    "Features are important components of a .gb file, describing the key biological properties of the sequence. In Genbank, features \"include genes, gene products, as well as regions of biological significance reported in the sequence.\" (See [here](https://www.ncbi.nlm.nih.gov/genbank/samplerecord/) for a description of a Genbank file and associated terminologies/annotations) Examples include coding sequences (CDS), introns, promoters, etc.\n",
    "\n",
    "pydna offers many ways to easily view, add, extract, and write features into a Genbank file via the `Dseqrecord` class. Before working with features, you need to import the Genbank files (or other biological formats including FASTA, snapgene, EMBL) into python. Please refer to the Importing_Seqs page for a quick how-to tutorial.\n",
    "\n",
    "After importing the file, we can check out the list of features in a sequence using the following code. An example `Dseqrecord` object has been loaded using the GenBank sample sequence [here](https://www.ncbi.nlm.nih.gov/genbank/samplerecord/)."
   ]
  },
  {
   "cell_type": "code",
   "execution_count": null,
   "metadata": {},
   "outputs": [
    {
     "name": "stdout",
     "output_type": "stream",
     "text": [
      "type: source\n",
      "location: [0:5028](+)\n",
      "qualifiers:\n",
      "    Key: chromosome, Value: ['IX']\n",
      "    Key: db_xref, Value: ['taxon:4932']\n",
      "    Key: mol_type, Value: ['genomic DNA']\n",
      "    Key: organism, Value: ['Saccharomyces cerevisiae']\n",
      "\n",
      "type: mRNA\n",
      "location: [<0:>206](+)\n",
      "qualifiers:\n",
      "    Key: product, Value: ['TCP1-beta']\n",
      "\n",
      "type: CDS\n",
      "location: [<0:206](+)\n",
      "qualifiers:\n",
      "    Key: codon_start, Value: ['3']\n",
      "    Key: product, Value: ['TCP1-beta']\n",
      "    Key: protein_id, Value: ['AAA98665.1']\n",
      "    Key: translation, Value: ['SSIYNGISTSGLDLNNGTIADMRQLGIVESYKLKRAVVSSASEAAEVLLRVDNIIRARPRTANRQHM']\n",
      "\n",
      "type: gene\n",
      "location: [<686:>3158](+)\n",
      "qualifiers:\n",
      "    Key: gene, Value: ['AXL2']\n",
      "\n",
      "type: mRNA\n",
      "location: [<686:>3158](+)\n",
      "qualifiers:\n",
      "    Key: gene, Value: ['AXL2']\n",
      "    Key: product, Value: ['Axl2p']\n",
      "\n",
      "type: CDS\n",
      "location: [686:3158](+)\n",
      "qualifiers:\n",
      "    Key: codon_start, Value: ['1']\n",
      "    Key: gene, Value: ['AXL2']\n",
      "    Key: note, Value: ['plasma membrane glycoprotein']\n",
      "    Key: product, Value: ['Axl2p']\n",
      "    Key: protein_id, Value: ['AAA98666.1']\n",
      "    Key: translation, Value: ['MTQLQISLLLTATISLLHLVVATPYEAYPIGKQYPPVARVNESFTFQISNDTYKSSVDKTAQITYNCFDLPSWLSFDSSSRTFSGEPSSDLLSDANTTLYFNVILEGTDSADSTSLNNTYQFVVTNRPSISLSSDFNLLALLKNYGYTNGKNALKLDPNEVFNVTFDRSMFTNEESIVSYYGRSQLYNAPLPNWLFFDSGELKFTGTAPVINSAIAPETSYSFVIIATDIEGFSAVEVEFELVIGAHQLTTSIQNSLIINVTDTGNVSYDLPLNYVYLDDDPISSDKLGSINLLDAPDWVALDNATISGSVPDELLGKNSNPANFSVSIYDTYGDVIYFNFEVVSTTDLFAISSLPNINATRGEWFSYYFLPSQFTDYVNTNVSLEFTNSSQDHDWVKFQSSNLTLAGEVPKNFDKLSLGLKANQGSQSQELYFNIIGMDSKITHSNHSANATSTRSSHHSTSTSSYTSSTYTAKISSTSAAATSSAPAALPAANKTSSHNKKAVAIACGVAIPLGVILVALICFLIFWRRRRENPDDENLPHAISGPDLNNPANKPNQENATPLNNPFDDDASSYDDTSIARRLAALNTLKLDNHSATESDISSVDEKRDSLSGMNTYNDQFQSQSKEELLAKPPVQPPESPFFDPQNRSSSVYMDSEPAVNKSWRYTGNLSPVSDIVRDSYGSQKTVDTEKLFDLEAPEKEKRTSRDVTMSSLDPWNSNISPSPVRKSVTPSPYNVTKHRNRHLQNIQDSQSGKNGITPTTMSTSSSDDFVPVKDGENFCWVHSMEPDRRPSKKRLVDFSNKSNVNVGQVKDIHGRIPEML']\n",
      "\n",
      "type: gene\n",
      "location: [<3299:>4037](-)\n",
      "qualifiers:\n",
      "    Key: gene, Value: ['REV7']\n",
      "\n",
      "type: mRNA\n",
      "location: [<3299:>4037](-)\n",
      "qualifiers:\n",
      "    Key: gene, Value: ['REV7']\n",
      "    Key: product, Value: ['Rev7p']\n",
      "\n",
      "type: CDS\n",
      "location: [3299:4037](-)\n",
      "qualifiers:\n",
      "    Key: codon_start, Value: ['1']\n",
      "    Key: gene, Value: ['REV7']\n",
      "    Key: product, Value: ['Rev7p']\n",
      "    Key: protein_id, Value: ['AAA98667.1']\n",
      "    Key: translation, Value: ['MNRWVEKWLRVYLKCYINLILFYRNVYPPQSFDYTTYQSFNLPQFVPINRHPALIDYIEELILDVLSKLTHVYRFSICIINKKNDLCIEKYVLDFSELQHVDKDDQIITETEVFDEFRSSLNSLIMHLEKLPKVNDDTITFEAVINAIELELGHKLDRNRRVDSLEEKAEIERDSNWVKCQEDENLPDNNGFQPPKIKLTSLVGSDVGPLIIHQFSEKLISGDDKILNGVYSQYEEGESIFGSLF']\n",
      "\n"
     ]
    }
   ],
   "source": [
    "from pydna.dseqrecord import Dseqrecord\n",
    "from pydna.parsers import parse\n",
    "\n",
    "#Import your file into python. \n",
    "file_path = \"./sequence.gb\"\n",
    "records = parse(file_path)\n",
    "my_record = records[0]\n",
    "\n",
    "# List all features\n",
    "for feature in my_record.features:\n",
    "    print(feature)"
   ]
  },
  {
   "cell_type": "markdown",
   "metadata": {},
   "source": [
    "Additional ways to view and search for particular features are shown at the bottom of the page under \"Other Methods to Viewing Features\""
   ]
  },
  {
   "cell_type": "markdown",
   "metadata": {},
   "source": [
    "## Adding Features and Qualifiers\n",
    "\n",
    "manu_todo:\n",
    "\n",
    "* I would not recommend in general adding features using `add_feature`. I prefer to use the second method you showed for the compound locations for all cases. Sorry if this was not clear. You can use your same examples with this syntax instead using the `SimpleLocation`. You already show what to do with qualifiers, type, etc.\n",
    "* The method is convenient for origin-spannign features as you show there, but I feel like it's better not to show it in the tutorial ( I actually never use it).\n",
    "\n",
    "Adding a new feature to describe a region of interest, for instance for a region that you would like to perform a PCR, to a file involves the parent module `Bio.SeqFeature`. `Bio.SeqFeature` provides the `FeatureLocation` method to add a feature to a file, given the starting base, ending base, and the feature type. Note that the base numbering follow biological convention, rather than python numbering methods. For instance, the following code adds a new feature from the 2nd to the 5th nucleotide, of the mRNA type."
   ]
  },
  {
   "cell_type": "code",
   "execution_count": null,
   "metadata": {},
   "outputs": [
    {
     "data": {
      "text/plain": [
       "[SeqFeature(SimpleLocation(ExactPosition(0), ExactPosition(5028), strand=1), type='source', qualifiers=...),\n",
       " SeqFeature(SimpleLocation(BeforePosition(0), AfterPosition(206), strand=1), type='mRNA', qualifiers=...),\n",
       " SeqFeature(SimpleLocation(BeforePosition(0), ExactPosition(206), strand=1), type='CDS', qualifiers=...),\n",
       " SeqFeature(SimpleLocation(BeforePosition(686), AfterPosition(3158), strand=1), type='gene', qualifiers=...),\n",
       " SeqFeature(SimpleLocation(BeforePosition(686), AfterPosition(3158), strand=1), type='mRNA', qualifiers=...),\n",
       " SeqFeature(SimpleLocation(ExactPosition(686), ExactPosition(3158), strand=1), type='CDS', qualifiers=...),\n",
       " SeqFeature(SimpleLocation(BeforePosition(3299), AfterPosition(4037), strand=-1), type='gene', qualifiers=...),\n",
       " SeqFeature(SimpleLocation(BeforePosition(3299), AfterPosition(4037), strand=-1), type='mRNA', qualifiers=...),\n",
       " SeqFeature(SimpleLocation(ExactPosition(3299), ExactPosition(4037), strand=-1), type='CDS', qualifiers=...),\n",
       " SeqFeature(SimpleLocation(ExactPosition(2), ExactPosition(5)), type='mRNA'),\n",
       " SeqFeature(SimpleLocation(ExactPosition(2), ExactPosition(5)), type='mRNA'),\n",
       " SeqFeature(SimpleLocation(ExactPosition(2), ExactPosition(5)), type='mRNA')]"
      ]
     },
     "execution_count": null,
     "metadata": {},
     "output_type": "execute_result"
    }
   ],
   "source": [
    "from Bio.SeqFeature import FeatureLocation, SeqFeature\n",
    "\n",
    "# Define the locations of the CDS\n",
    "location = FeatureLocation(2, 5)\n",
    "\n",
    "# Create a SeqFeature with the type mRNA\n",
    "my_feature = SeqFeature(location=location, type=\"mRNA\")\n",
    "\n",
    "# Add my_feature to my_record with .append\n",
    "my_record.features.append(my_feature)\n",
    "\n",
    "# Confirm that my_feature has been added\n",
    "my_record.features[-1]"
   ]
  },
  {
   "cell_type": "markdown",
   "metadata": {},
   "source": [
    "Note that a new feature is always added to the last position of the features list.  "
   ]
  },
  {
   "cell_type": "markdown",
   "metadata": {},
   "source": [
    "`pydna` and `Bio.SeqFeature` suppports all the conventional feature types through the `type` parameters. A non-exhaustive list include gene, CDS, promoter, exon, intron, 5' UTR, 3' UTR, terminator, enhancer, and RBS. You can also define custom features, which could be useful for synthetic biology applications. For instance, you might want to have Bio_brick or spacer features to describe a synthetic standardised plasmid construct.  \n",
    "  \n",
    "It is important to note that while `pydna` and `Bio.SeqFeature` does not restrict the feature types you can use, sticking to standard types helps maintain compatibility with other bioinformatics tools and databases. I recommend referring to the official [GenBank_Feature_Table](https://www.insdc.org/submitting-standards/feature-table/#2), if in doubt."
   ]
  },
  {
   "cell_type": "markdown",
   "metadata": {},
   "source": [
    "To make a note of what this sequence is, we can add a qualifier to the new feature by accessing the `qualifiers` dictionary. This dictionary can be accessed writing your notes as a dictionary key value pair, under the `qualifiers` parameter of the `SeqFeature` class object.  \n",
    "For instance, if I would like to note a new feature of type 'domain', between 24-56 bases as my region of interest, I can instantiate the `SeqFeature` class object as such."
   ]
  },
  {
   "cell_type": "code",
   "execution_count": null,
   "metadata": {},
   "outputs": [
    {
     "data": {
      "text/plain": [
       "SeqFeature(SimpleLocation(ExactPosition(24), ExactPosition(56)), type='CDS', qualifiers=...)"
      ]
     },
     "execution_count": null,
     "metadata": {},
     "output_type": "execute_result"
    }
   ],
   "source": [
    "location = FeatureLocation(24, 56)\n",
    "\n",
    "# Create a SeqFeature with a qualifier\n",
    "my_feature2 = SeqFeature(location=location, type=\"domain\", qualifiers={\"Note\":\"Region of interest\"})\n",
    "\n",
    "# Add my_feature to my_record with .append\n",
    "my_record.features.append(my_feature2)\n",
    "\n",
    "# Confirm that my_feature has been added\n",
    "my_record.features[-1]"
   ]
  },
  {
   "cell_type": "markdown",
   "metadata": {},
   "source": [
    "On the feature list of the .gb file, the new feature is reflected as so:\n",
    "\n",
    "type: CDS  \n",
    "location: [24:56]  \n",
    "qualifiers:  \n",
    "    Key: Note, Value: Region of interest  \n",
    "\n",
    "Note that `Bio.SeqFeatures` does not automatically assume a sequence strand. If you would like to refer to a sequence on the positive or minus strand, you can add a parameter in `FeatureLocation` specifying `strand=+1` or `strand=-1`. "
   ]
  },
  {
   "cell_type": "code",
   "execution_count": null,
   "metadata": {},
   "outputs": [
    {
     "data": {
      "text/plain": [
       "SeqFeature(SimpleLocation(ExactPosition(134), ExactPosition(520), strand=-1), type='CDS', qualifiers=...)"
      ]
     },
     "execution_count": null,
     "metadata": {},
     "output_type": "execute_result"
    }
   ],
   "source": [
    "#Create a location specifying the minus strand\n",
    "location = FeatureLocation(134, 520, strand=-1)\n",
    "\n",
    "my_feature3 = SeqFeature(location=location, type=\"CDS\", qualifiers={\"gene\":\"example_gene\"})\n",
    "\n",
    "my_record.features.append(my_feature3)\n",
    "\n",
    "my_record.features[-1]"
   ]
  },
  {
   "cell_type": "markdown",
   "metadata": {},
   "source": [
    "### Adding a Feature with Parts\n",
    "\n",
    "To add a feature with parts, like a CDS with introns, we need to apply classes and methods from the parent classes of pydna. As of the current version of pydna, there isn't a dedicated built-in method to directly add a feature with parts to a `Dseqrecord`. However, you can achieve this by creating a `CompoundLocation` manually and then adding it to a `SeqFeature` object. The `SeqFeature` object can then be appended to the features list of a `Dseqrecord`\n",
    "\n",
    "The example code belows adds a CDS with two parts, between 5-15bp and 20-30bp, named \"example gene\" in the qualifiers, to my features list. "
   ]
  },
  {
   "cell_type": "code",
   "execution_count": null,
   "metadata": {},
   "outputs": [],
   "source": [
    "from pydna.dseqrecord import Dseqrecord\n",
    "from Bio.SeqFeature import SeqFeature, FeatureLocation, CompoundLocation\n",
    "\n",
    "# Define the locations of the CDS\n",
    "locations = [FeatureLocation(5, 15), FeatureLocation(20, 30)]\n",
    "\n",
    "# Create a compound location from these parts\n",
    "compound_location = CompoundLocation(locations)\n",
    "\n",
    "# Create a SeqFeature with this compound location, including type and qualifiers. \n",
    "cds_feature = SeqFeature(location=compound_location, type=\"CDS\", qualifiers={\"gene\": \"example_gene\"})\n",
    "\n",
    "# Add the feature to the Dseqrecord\n",
    "file.features.append(cds_feature)\n",
    "\n",
    "# Verify the added feature\n",
    "for feature in file.features:\n",
    "    print(feature)"
   ]
  },
  {
   "cell_type": "markdown",
   "metadata": {},
   "source": [
    "Note that `SeqFeature` uses `type` rather than `_type` to define feature types.  \n",
    "  \n",
    "Our added feature looks like this, as appropriate:  \n",
    "\n",
    "type: CDS  \n",
    "location: join{[5:15], [20:30]} . \n",
    "qualifiers:  \n",
    "    Key: gene, Value: example_gene  \n",
    "\n",
    "Further documentation for `SeqFeature`, `CompoundLocation`, and `FeatureLocation` can be found in the `SeqFeature` module [here](https://biopython.org/docs/1.75/api/Bio.SeqFeature.html). "
   ]
  },
  {
   "cell_type": "markdown",
   "metadata": {},
   "source": [
    "### Handling Origin Spanning Features\n",
    "\n",
    "An origin spanning feature is a special type of features that crosses over a circular sequence's origin. In pydna, such a feature is represented as a feature with parts, joining the part of the sequence before the origin and after the origin. However, they can be added as normal using the `add_feature` method.  \n",
    "\n",
    "An origin spanning feature, between base 19 to base 6, in a 25bp long circular sequence, is represented like so:`   \n",
    "  \n",
    "type: gene \n",
    "location: join{[19:25](+), [0:6](+)}  \n",
    "qualifiers: gene, Value: example_gene  \n",
    "  \n",
    "The code uses the `add_feature` method as normal."
   ]
  },
  {
   "cell_type": "code",
   "execution_count": null,
   "metadata": {},
   "outputs": [],
   "source": [
    "file.add_feature(19,6, type_=\"gene\", gene=\"example_gene\")"
   ]
  },
  {
   "cell_type": "markdown",
   "metadata": {},
   "source": [
    "### Other Methods to Viewing Features\n",
    "\n",
    "pydna also provides the `list_features` method as a simple way to list all the features in a `Dseqrecord` object. "
   ]
  },
  {
   "cell_type": "code",
   "execution_count": null,
   "metadata": {},
   "outputs": [],
   "source": [
    "print(my_record.list_features())"
   ]
  },
  {
   "cell_type": "markdown",
   "metadata": {},
   "source": [
    "This method is convenient for checking-out a brief overview of each feature, without reading through an entire sequence record.  \n",
    "\n",
    "Alternatively, we can look for specific features using their qualifiers. This is useful to search through a long list of possibly dozens of features. For instance, if I want to find my feature with the gene name of example_gene, I can use the following code:\n",
    "\n",
    "manu_todo:\n",
    "* Here it will be more helpful with the concrete example."
   ]
  },
  {
   "cell_type": "code",
   "execution_count": null,
   "metadata": {},
   "outputs": [],
   "source": [
    "gene = [f for f in file.features if \"gene\" in f.qualifiers and f.qualifiers[\"gene\"] == \"example_gene\"]\n",
    "print(gene)"
   ]
  },
  {
   "cell_type": "markdown",
   "metadata": {},
   "source": [
    "If you would like to search for another type of features, simply replace the `\"gene\"` with your desired feature type in quotation marks."
   ]
  },
  {
   "cell_type": "markdown",
   "metadata": {},
   "source": [
    "### Removing Features\n",
    "\n",
    "manu_todo:\n",
    "\n",
    "* I would not mention this as a limitation, it's normal practice to filter lists like this, so people are used to do this kind of thing.\n",
    "\n",
    "Unfortunately, pydna does not provide a built-in method to remove features from a features list. However, we can search for the feature that we would like to remove using the types or qualififers to edit a feature list. \n",
    "\n",
    "For instance, we can modify the features list to exclude all CDS:"
   ]
  },
  {
   "cell_type": "code",
   "execution_count": null,
   "metadata": {},
   "outputs": [],
   "source": [
    "file.features = [f for f in file.features if not (f.type == \"CDS\")]"
   ]
  },
  {
   "cell_type": "markdown",
   "metadata": {},
   "source": [
    "We can also modify the features list to exclude a specific gene:"
   ]
  },
  {
   "cell_type": "code",
   "execution_count": null,
   "metadata": {},
   "outputs": [],
   "source": [
    "file.features = [f for f in file.features if not (f.qualifiers == {\"gene\": \"example_gene\"})]"
   ]
  }
 ],
 "metadata": {
  "kernelspec": {
   "display_name": ".venv",
   "language": "python",
   "name": "python3"
  },
  "language_info": {
   "codemirror_mode": {
    "name": "ipython",
    "version": 3
   },
   "file_extension": ".py",
   "mimetype": "text/x-python",
   "name": "python",
   "nbconvert_exporter": "python",
   "pygments_lexer": "ipython3",
   "version": "3.12.4"
  }
 },
 "nbformat": 4,
 "nbformat_minor": 2
}
