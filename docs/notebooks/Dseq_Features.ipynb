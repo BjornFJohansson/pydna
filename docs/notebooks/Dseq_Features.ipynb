{
 "cells": [
  {
   "cell_type": "markdown",
   "metadata": {},
   "source": [
    "# Working with Features using the Dseqrecord class\n",
    "\n",
    "Ways to modify the file:\n",
    "- add feature (e.g fragment of interest)\n",
    "- extract feature (too, fragment of interest)\n",
    "- generating SEGUID\n",
    "- write\n",
    "\n",
    "Please refer to pydna documentation for additional methods"
   ]
  }
 ],
 "metadata": {
  "language_info": {
   "name": "python"
  }
 },
 "nbformat": 4,
 "nbformat_minor": 2
}
