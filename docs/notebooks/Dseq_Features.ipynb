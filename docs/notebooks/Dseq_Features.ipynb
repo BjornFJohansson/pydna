{
 "cells": [
  {
   "cell_type": "markdown",
   "metadata": {},
   "source": [
    "# Working with Features using the Dseqrecord class\n",
    "\n",
    "Features are important components of a .gb file, describing the key biological properties of the sequence. In Genbank, features \"include genes, gene products, as well as regions of biological significance reported in the sequence.\" (See [here](https://www.ncbi.nlm.nih.gov/genbank/samplerecord/) for a description of a Genbank file and associated terminologies/annotations) Examples include coding sequences (CDS), introns, promoters, etc.\n",
    "\n",
    "pydna offers many ways to easily view, add, extract, and write features into a Genbank file via the `Dseqrecord` class. Before working with features, you need to import the Genbank files (or other biological formats including FASTA, snapgene, EMBL) into python. Please refer to the Importing_Seqs page for a quick how-to tutorial.\n",
    "\n",
    "After importing the file, we can checkout the list of features in a sequence using the following code:"
   ]
  },
  {
   "cell_type": "code",
   "execution_count": null,
   "metadata": {},
   "outputs": [],
   "source": [
    "from pydna.dseqrecord import Dseqrecord\n",
    "\n",
    "# Assuming you've already loaded a Dseqrecord\n",
    "file = Dseqrecord(\"your_sequence_or_file_here\")\n",
    "\n",
    "# List all features\n",
    "for feature in file.features:\n",
    "    print(feature)"
   ]
  },
  {
   "cell_type": "markdown",
   "metadata": {},
   "source": [
    "For the sample record from Genbank shown [here](https://www.ncbi.nlm.nih.gov/genbank/samplerecord/), the listed features look like this in python:\n",
    "\n",
    "type: source  \n",
    "location: [0:5028](+)  \n",
    "qualifiers:  \n",
    "    Key: chromosome, Value: ['IX']  \n",
    "    Key: db_xref, Value: ['taxon:4932']  \n",
    "    Key: mol_type, Value: ['genomic DNA']  \n",
    "    Key: organism, Value: ['Saccharomyces cerevisiae']  \n",
    "\n",
    "type: mRNA  \n",
    "location: [<0:>206](+)  \n",
    "qualifiers:  \n",
    "    Key: product, Value: ['TCP1-beta']  \n",
    "\n",
    "type: CDS  \n",
    "location: [<0:206](+)  \n",
    "qualifiers:  \n",
    "    Key: codon_start, Value: ['3']  \n",
    "    Key: product, Value: ['TCP1-beta']  \n",
    "    Key: protein_id, Value: ['AAA98665.1']  \n",
    "    Key: translation, Value: ['SSIYNGISTSGLDLNNGTIADMRQLGIVESYKLKRAVVSSASEAAEVLLRVDNIIRARPRTANRQHM']  \n",
    "\n",
    "type: gene  \n",
    "location: [<686:>3158](+)  \n",
    "qualifiers:  \n",
    "    Key: gene, Value: ['AXL2']  \n",
    "...\n",
    "    Key: product, Value: ['Rev7p']  \n",
    "    Key: protein_id, Value: ['AAA98667.1']  \n",
    "    Key: translation, Value: ['MNRWVEKWLRVYLKCYINLILFYRNVYPPQSFDYTTYQSFNLPQFVPINRHPALIDYIEELILDVLSKLTHVYRFSICIINKKNDLCIEKYVLDFSELQHVDKDDQIITETEVFDEFRSSLNSLIMHLEKLPKVNDDTITFEAVINAIELELGHKLDRNRRVDSLEEKAEIERDSNWVKCQEDENLPDNNGFQPPKIKLTSLVGSDVGPLIIHQFSEKLISGDDKILNGVYSQYEEGESIFGSLF']  \n"
   ]
  },
  {
   "cell_type": "markdown",
   "metadata": {},
   "source": [
    "If you have a CDS with parts (i.e CDS separated by introns or other genetic elements), you can show each part of the CDS as such. The `[0]` represents the first part of the CDS, which can be modified to show the second `[1]`, third `[3]`, etc. "
   ]
  },
  {
   "cell_type": "code",
   "execution_count": null,
   "metadata": {},
   "outputs": [],
   "source": [
    "cds_feature = [f for f in file.features if f.type == \"CDS\"][0]\n",
    "print(cds_feature.location)"
   ]
  },
  {
   "cell_type": "markdown",
   "metadata": {},
   "source": [
    "## Editing Features\n",
    "\n",
    "Adding a new feature, for instance for a region that you would like perform a PCR, or for any regions of interest, to a file is easy. pydna provides the `add_feature` method to add a misc type feature to a file, given the starting base and the ending base. Note that the base numbering follow biological convention, rather than python numbering methods. For instance, the following code adds a new misc type feature from the 2nd to the 4th nucleotide."
   ]
  },
  {
   "cell_type": "code",
   "execution_count": null,
   "metadata": {},
   "outputs": [],
   "source": [
    "file.add_feature(2,4)\n",
    "\n",
    "#Confirms that the new feature has been added\n",
    "file.features"
   ]
  },
  {
   "cell_type": "markdown",
   "metadata": {},
   "source": [
    "To make a note of what this sequence is, we can add a qualifier to the new feature by accessing the `qualifiers` dictionary. This dictionary can be accessed by simply adding your notes as keyword arguments in the `add_feature` method.  \n",
    "For instance, if I would like to label a new feature between 24-56 bases as my region of interest, I can write the `add_feature` method as such:"
   ]
  },
  {
   "cell_type": "code",
   "execution_count": null,
   "metadata": {},
   "outputs": [
    {
     "ename": "NameError",
     "evalue": "name 'file' is not defined",
     "output_type": "error",
     "traceback": [
      "\u001b[0;31m---------------------------------------------------------------------------\u001b[0m",
      "\u001b[0;31mNameError\u001b[0m                                 Traceback (most recent call last)",
      "Cell \u001b[0;32mIn[1], line 2\u001b[0m\n\u001b[1;32m      1\u001b[0m \u001b[38;5;66;03m#List all the misc features\u001b[39;00m\n\u001b[0;32m----> 2\u001b[0m misc_features \u001b[38;5;241m=\u001b[39m [f \u001b[38;5;28;01mfor\u001b[39;00m f \u001b[38;5;129;01min\u001b[39;00m \u001b[43mfile\u001b[49m\u001b[38;5;241m.\u001b[39mfeatures \u001b[38;5;28;01mif\u001b[39;00m f\u001b[38;5;241m.\u001b[39mtype \u001b[38;5;241m==\u001b[39m \u001b[38;5;124m\"\u001b[39m\u001b[38;5;124mmisc\u001b[39m\u001b[38;5;124m\"\u001b[39m]\n\u001b[1;32m      3\u001b[0m \u001b[38;5;66;03m#Select the misc feature of interest\u001b[39;00m\n\u001b[1;32m      4\u001b[0m feature_of_interest \u001b[38;5;241m=\u001b[39m misc_features[\u001b[38;5;241m0\u001b[39m]\n",
      "\u001b[0;31mNameError\u001b[0m: name 'file' is not defined"
     ]
    }
   ],
   "source": [
    "file.add_feature(24,56, ROI=\"my region of interest\")"
   ]
  },
  {
   "cell_type": "markdown",
   "metadata": {},
   "source": [
    "We can find the new feature in the list of features using their qualifiers, too."
   ]
  },
  {
   "cell_type": "markdown",
   "metadata": {},
   "source": [
    "If you need more information on `qualifiers`, please refer to pydna's parent `Biopython` class's annotations [here](https://biopython.org/docs/1.75/api/Bio.SeqFeature.html) for more information. "
   ]
  }
 ],
 "metadata": {
  "kernelspec": {
   "display_name": ".venv",
   "language": "python",
   "name": "python3"
  },
  "language_info": {
   "codemirror_mode": {
    "name": "ipython",
    "version": 3
   },
   "file_extension": ".py",
   "mimetype": "text/x-python",
   "name": "python",
   "nbconvert_exporter": "python",
   "pygments_lexer": "ipython3",
   "version": "3.12.4"
  }
 },
 "nbformat": 4,
 "nbformat_minor": 2
}
