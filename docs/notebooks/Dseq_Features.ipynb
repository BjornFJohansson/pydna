{
 "cells": [
  {
   "cell_type": "markdown",
   "metadata": {},
   "source": [
    "# Working with Features using the Dseqrecord class\n",
    "\n",
    "> Visit the full library documentation [here](https://bjornfjohansson.github.io/pydna/)\n",
    "\n",
    "Features are important components of a .gb file, describing the key biological properties of the sequence. In Genbank, features \"include genes, gene products, as well as regions of biological significance reported in the sequence.\" (See [here](https://www.ncbi.nlm.nih.gov/genbank/samplerecord/) for a description of a Genbank file and associated terminologies/annotations) Examples include coding sequences (CDS), introns, promoters, etc.\n",
    "\n",
    "pydna offers many ways to easily view, add, extract, and write features into a Genbank file via the `Dseqrecord` class. Before working with features, you need to import the Genbank files (or other biological formats including FASTA, snapgene, EMBL) into python. Please refer to the Importing_Seqs page for a quick how-to tutorial.\n",
    "\n",
    "After importing the file, we can checkout the list of features in a sequence using the following code:  \n",
    "\n",
    "Note that all the following code in this page assumes that a Dseqrecord object has already been loaded/parsed, and that `Dseqrecord` has been imported from `pydna.dseqrecord`"
   ]
  },
  {
   "cell_type": "code",
   "execution_count": null,
   "metadata": {},
   "outputs": [],
   "source": [
    "from pydna.dseqrecord import Dseqrecord\n",
    "\n",
    "# Assuming you've already loaded a Dseqrecord\n",
    "file = Dseqrecord(\"your_sequence_or_file_here\")\n",
    "\n",
    "# List all features\n",
    "for feature in file.features:\n",
    "    print(feature)"
   ]
  },
  {
   "cell_type": "markdown",
   "metadata": {},
   "source": [
    "For the sample record from Genbank shown [here](https://www.ncbi.nlm.nih.gov/genbank/samplerecord/), the listed features look like this in python:\n",
    "\n",
    "type: source  \n",
    "location: [0:5028](+)  \n",
    "qualifiers:  \n",
    "    Key: chromosome, Value: ['IX']  \n",
    "    Key: db_xref, Value: ['taxon:4932']  \n",
    "    Key: mol_type, Value: ['genomic DNA']  \n",
    "    Key: organism, Value: ['Saccharomyces cerevisiae']  \n",
    "\n",
    "type: mRNA  \n",
    "location: [<0:>206](+)  \n",
    "qualifiers:  \n",
    "    Key: product, Value: ['TCP1-beta']  \n",
    "\n",
    "type: CDS  \n",
    "location: [<0:206](+)  \n",
    "qualifiers:  \n",
    "    Key: codon_start, Value: ['3']  \n",
    "    Key: product, Value: ['TCP1-beta']  \n",
    "    Key: protein_id, Value: ['AAA98665.1']  \n",
    "    Key: translation, Value: ['SSIYNGISTSGLDLNNGTIADMRQLGIVESYKLKRAVVSSASEAAEVLLRVDNIIRARPRTANRQHM']  \n",
    "\n",
    "type: gene  \n",
    "location: [<686:>3158](+)  \n",
    "qualifiers:  \n",
    "    Key: gene, Value: ['AXL2']  \n",
    "...\n",
    "    Key: product, Value: ['Rev7p']  \n",
    "    Key: protein_id, Value: ['AAA98667.1']  \n",
    "    Key: translation, Value: ['MNRWVEKWLRVYLKCYINLILFYRNVYPPQSFDYTTYQSFNLPQFVPINRHPALIDYIEELILDVLSKLTHVYRFSICIINKKNDLCIEKYVLDFSELQHVDKDDQIITETEVFDEFRSSLNSLIMHLEKLPKVNDDTITFEAVINAIELELGHKLDRNRRVDSLEEKAEIERDSNWVKCQEDENLPDNNGFQPPKIKLTSLVGSDVGPLIIHQFSEKLISGDDKILNGVYSQYEEGESIFGSLF']  \n"
   ]
  },
  {
   "cell_type": "markdown",
   "metadata": {},
   "source": [
    "If you have a CDS with parts (i.e CDS separated by introns or other genetic elements), you can show each part of the CDS as such. The `[0]` represents the first part of the CDS, which can be modified to show the second `[1]`, third `[2]`, etc. "
   ]
  },
  {
   "cell_type": "code",
   "execution_count": null,
   "metadata": {},
   "outputs": [],
   "source": [
    "cds_feature = [f for f in file.features if f.type == \"CDS\"][0]\n",
    "print(cds_feature.location)"
   ]
  },
  {
   "cell_type": "markdown",
   "metadata": {},
   "source": [
    "Other ways to view, and search for particular features, are shown at the bottom of the page under \"Other Methods to Viewing Features\""
   ]
  },
  {
   "cell_type": "markdown",
   "metadata": {},
   "source": [
    "## Adding Features and Qualifiers\n",
    "\n",
    "Adding a new feature to describe a region of interest, for instance for a region that you would like to perform a PCR, to a file is easy. pydna provides the `add_feature` method to add a misc type feature to a file, given the starting base and the ending base. Note that the base numbering follow biological convention, rather than python numbering methods. For instance, the following code adds a new feature from the 2nd to the 4th nucleotide."
   ]
  },
  {
   "cell_type": "code",
   "execution_count": null,
   "metadata": {},
   "outputs": [],
   "source": [
    "file.add_feature(2,4)\n",
    "\n",
    "#Confirms that the new feature has been added\n",
    "file.features"
   ]
  },
  {
   "cell_type": "markdown",
   "metadata": {},
   "source": [
    "To make a note of what this sequence is, we can add a qualifier to the new feature by accessing the `qualifiers` dictionary. This dictionary can be accessed by simply adding your notes as keyword arguments in the `add_feature` method.  \n",
    "For instance, if I would like to label a new feature between 24-56 bases as my region of interest, I can write the `add_feature` method as such:"
   ]
  },
  {
   "cell_type": "code",
   "execution_count": null,
   "metadata": {},
   "outputs": [],
   "source": [
    "file.add_feature(24,56, ROI=\"my region of interest\")"
   ]
  },
  {
   "cell_type": "markdown",
   "metadata": {},
   "source": [
    "Python returns the following result:  \n",
    "\n",
    "type: misc  \n",
    "location: [24:56](+)  \n",
    "qualifiers:  \n",
    "    Key: ROI, Value: my region of interest  \n",
    "    Key: label, Value: ['ft32']  \n",
    "\n",
    "Note that pydna automatically assumes the plus strand of the sequence. If you would like to refer to a sequence on the minus strand, you can add a parameter specifying `strand = -1`. "
   ]
  },
  {
   "cell_type": "code",
   "execution_count": null,
   "metadata": {},
   "outputs": [],
   "source": [
    "file.add_feature(24,56, strand=-1, ROI=\"my region of interest\")"
   ]
  },
  {
   "cell_type": "markdown",
   "metadata": {},
   "source": [
    "pydna also allows you to add a new feature and specifying the feature type directly, rather than always sticking to the misc type. This is useful if you have, for instance, inserted a sequence with known function into a new plasmid, and you would like to reflect that in your records. pydna allows the users to specify a `type_` parameter in the `add_feature` method to do this."
   ]
  },
  {
   "cell_type": "code",
   "execution_count": null,
   "metadata": {},
   "outputs": [],
   "source": [
    "file.add_feature(24,56, type_= \"gene\")"
   ]
  },
  {
   "cell_type": "markdown",
   "metadata": {},
   "source": [
    "pydna suppports all the conventional feature types through the `_type` parameters. A non-exhaustive list include gene, CDS, promoter, exon, intron, 5' UTR, 3' UTR, terminator, enhancer, and RBS. You can also define custom features, which could be useful for synthetic biology applications. For instance, you might want to have Bio_brick or spacer features to describe a synthetic standardised plasmid construct.  \n",
    "  \n",
    "It is important to note that while pydna does not restrict the feature types you can use, sticking to standard types helps maintain compatibility with other bioinformatics tools and databases. I recommend referring to the official [GenBank_Feature_Table](https://www.insdc.org/submitting-standards/feature-table/#2), if in doubt."
   ]
  },
  {
   "cell_type": "markdown",
   "metadata": {},
   "source": [
    "### Adding a Feature with Parts\n",
    "\n",
    "To add a feature with parts, like a CDS with introns, we need to apply classes and methods from the parent classes of pydna. As of the current version of pydna, there isn't a dedicated built-in method to directly add a feature with parts to a `Dseqrecord`. However, you can achieve this by creating a `CompoundLocation` manually and then adding it to a `SeqFeature` object. The `SeqFeature` object can then be appended to the features list of a `Dseqrecord`\n",
    "\n",
    "The example code belows adds a CDS with two parts, between 5-15bp and 20-30bp, named \"example gene\" in the qualifiers, to my features list. "
   ]
  },
  {
   "cell_type": "code",
   "execution_count": null,
   "metadata": {},
   "outputs": [],
   "source": [
    "from pydna.dseqrecord import Dseqrecord\n",
    "from Bio.SeqFeature import SeqFeature, FeatureLocation, CompoundLocation\n",
    "\n",
    "# Define the locations of the CDS\n",
    "locations = [FeatureLocation(5, 15), FeatureLocation(20, 30)]\n",
    "\n",
    "# Create a compound location from these parts\n",
    "compound_location = CompoundLocation(locations)\n",
    "\n",
    "# Create a SeqFeature with this compound location, including type and qualifiers. \n",
    "cds_feature = SeqFeature(location=compound_location, type=\"CDS\", qualifiers={\"gene\": \"example_gene\"})\n",
    "\n",
    "# Add the feature to the Dseqrecord\n",
    "file.features.append(cds_feature)\n",
    "\n",
    "# Verify the added feature\n",
    "for feature in file.features:\n",
    "    print(feature)"
   ]
  },
  {
   "cell_type": "markdown",
   "metadata": {},
   "source": [
    "Note that `SeqFeature` uses `type` rather than `_type` to define feature types.  \n",
    "  \n",
    "Our added feature looks like this, as appropriate:  \n",
    "\n",
    "type: CDS  \n",
    "location: join{[5:15], [20:30]} . \n",
    "qualifiers:  \n",
    "    Key: gene, Value: example_gene  \n",
    "\n",
    "Further documentation for `SeqFeature`, `CompoundLocation`, and `FeatureLocation` can be found in the `SeqFeature` module [here](https://biopython.org/docs/1.75/api/Bio.SeqFeature.html). "
   ]
  },
  {
   "cell_type": "markdown",
   "metadata": {},
   "source": [
    "### Handling Origin Spanning Features\n",
    "\n",
    "An origin spanning feature is a special type of features that crosses over a circular sequence's origin. In pydna, such a feature is represented as a feature with parts, joining the part of the sequence before the origin and after the origin. However, they can be added as normal using the `add_feature` method.  \n",
    "\n",
    "An origin spanning feature, between base 19 to base 6, in a 25bp long circular sequence, is represented like so:`   \n",
    "  \n",
    "type: gene \n",
    "location: join{[19:25](+), [0:6](+)}  \n",
    "qualifiers: gene, Value: example_gene  \n",
    "  \n",
    "The code uses the `add_feature` method as normal."
   ]
  },
  {
   "cell_type": "code",
   "execution_count": null,
   "metadata": {},
   "outputs": [],
   "source": [
    "file.add_feature(19,6, type_=\"gene\", gene=\"example_gene\")"
   ]
  },
  {
   "cell_type": "markdown",
   "metadata": {},
   "source": [
    "### Other Methods to Viewing Features\n",
    "\n",
    "pydna also provides the `list_features` method as a simple way to list all the features in a `Dseqrecord` object. "
   ]
  },
  {
   "cell_type": "code",
   "execution_count": null,
   "metadata": {},
   "outputs": [],
   "source": [
    "print(file.list_features())"
   ]
  },
  {
   "cell_type": "markdown",
   "metadata": {},
   "source": [
    "+-----+------------------+-----+-------+-------+------+--------+------+  \n",
    "| Ft# | Label or Note    | Dir | Sta   | End   |  Len | type   | orf? |  \n",
    "+-----+------------------+-----+-------+-------+------+--------+------+  \n",
    "|   0 | nd               | --> | 0     | 5028  | 5028 | source |  no  |  \n",
    "|   1 | nd               | --> | <0    | >206  |  206 | mRNA   |  no  |  \n",
    "|   2 | nd               | --> | <0    | 206   |  206 | CDS    |  no  |  \n",
    "|   3 | nd               | --> | <686  | >3158 | 2472 | gene   | yes  |  \n",
    "|   4 | nd               | --> | <686  | >3158 | 2472 | mRNA   | yes  |  \n",
    "|   5 | N:plasma membran | --> | 686   | 3158  | 2472 | CDS    | yes  |  \n",
    "|   6 | nd               | <-- | <3299 | >4037 |  738 | gene   | yes  |  \n",
    "|   7 | nd               | <-- | <3299 | >4037 |  738 | mRNA   | yes  |  \n",
    "|   8 | nd               | <-- | 3299  | 4037  |  738 | CDS    | yes  |  \n",
    "|   9 | nd               | --- | 5     | 30    |   20 | CDS    |  no  |  "
   ]
  },
  {
   "cell_type": "markdown",
   "metadata": {},
   "source": [
    "This method is convenient for checking-out a brief overview of each feature, without reading through an entire sequence record.  \n",
    "\n",
    "To look for specific features using their qualifiers, we can search through the features list for a specific qualifier. For instance, if I want to file my feature with the gene name of example_gene, I can use the following code:"
   ]
  },
  {
   "cell_type": "code",
   "execution_count": null,
   "metadata": {},
   "outputs": [],
   "source": [
    "gene = [f for f in file.features if \"gene\" in f.qualifiers and f.qualifiers[\"gene\"] == \"example_gene\"]\n",
    "print(gene)"
   ]
  },
  {
   "cell_type": "markdown",
   "metadata": {},
   "source": [
    "If you would like to search for another type of features, simply replace the `\"gene\"` with your desired feature type in quotation marks."
   ]
  },
  {
   "cell_type": "markdown",
   "metadata": {},
   "source": [
    "### Removing Features\n",
    "\n",
    "Unfortunately, pydna does not provide a built-in method to remove features from a features list. However, we can search for the feature that we would like to remove using the types or qualififers to edit a feature list. \n",
    "\n",
    "For instance, we can modify the features list to exclude all CDS:"
   ]
  },
  {
   "cell_type": "code",
   "execution_count": null,
   "metadata": {},
   "outputs": [],
   "source": [
    "file.features = [f for f in file.features if not (f.type == \"CDS\")]"
   ]
  },
  {
   "cell_type": "markdown",
   "metadata": {},
   "source": [
    "We can also modify the features list to exclude a specific gene:"
   ]
  },
  {
   "cell_type": "code",
   "execution_count": null,
   "metadata": {},
   "outputs": [],
   "source": [
    "file.features = [f for f in file.features if not (f.qualifiers == {\"gene\": \"example_gene\"})]"
   ]
  }
 ],
 "metadata": {
  "kernelspec": {
   "display_name": ".venv",
   "language": "python",
   "name": "python3"
  },
  "language_info": {
   "codemirror_mode": {
    "name": "ipython",
    "version": 3
   },
   "file_extension": ".py",
   "mimetype": "text/x-python",
   "name": "python",
   "nbconvert_exporter": "python",
   "pygments_lexer": "ipython3",
   "version": "3.12.4"
  }
 },
 "nbformat": 4,
 "nbformat_minor": 2
}
