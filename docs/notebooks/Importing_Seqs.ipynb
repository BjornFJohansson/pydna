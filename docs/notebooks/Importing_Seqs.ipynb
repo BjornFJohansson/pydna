{
 "cells": [
  {
   "cell_type": "markdown",
   "metadata": {},
   "source": [
    "# Importing and viewing sequence files in pydna\n",
    "> Visit the full library documentation [here](https://bjornfjohansson.github.io/pydna/)\n",
    "\n",
    "pydna can be used to work with FASTA, Genbank, EMBL, and snapgene files (.fasta, .gb, .embl, .dna). You can read these files into a `Dseqrecord` that one can view and work with. You can also instantiate `Dseqrecord` objects with strings.\n",
    "\n",
    "## Importing Sequence Files\n",
    "\n",
    "To import files into pydna is simple. pydna provides the `parse` method to read all DNA sequences in a file into a list. As an input, `parse` can take:\n",
    "\n",
    "* The path to a file from your computer\n",
    "* A python string with the file content.\n",
    "\n",
    "The following code shows an example of how to use the `parse` function to import a FASTA file."
   ]
  },
  {
   "cell_type": "markdown",
   "metadata": {},
   "source": [
    "<a target=\"_blank\" href=\"https://colab.research.google.com/github/BjornFJohansson/pydna/blob/dev_bjorn/docs/notebooks/Importing_Seqs.ipynb\">\n",
    "  <img src=\"https://colab.research.google.com/assets/colab-badge.svg\" alt=\"Open In Colab\"/>\n",
    "</a>"
   ]
  },
  {
   "cell_type": "code",
   "execution_count": null,
   "metadata": {},
   "outputs": [],
   "source": [
    "# Install pydna (only when running on Colab)\n",
    "import sys\n",
    "if 'google.colab' in sys.modules:\n",
    "    %%capture\n",
    "    # Install the current development version of pydna (comment to install pip version)\n",
    "    !pip install git+https://github.com/BjornFJohansson/pydna@dev_bjorn\n",
    "    # Install pip version instead (uncomment to install)\n",
    "    # !pip install pydna\n"
   ]
  },
  {
   "cell_type": "code",
   "execution_count": null,
   "metadata": {},
   "outputs": [
    {
     "name": "stdout",
     "output_type": "stream",
     "text": [
      ">lcl|U49845.1_cds_AAA98665.1_1 [protein=TCP1-beta] [frame=3] [protein_id=AAA98665.1] [location=<1..206] [gbkey=CDS]\n",
      "TCCTCCATATACAACGGTATCTCCACCTCAGGTTTAGATCTCAACAACGGAACCATTGCC\n",
      "GACATGAGACAGTTAGGTATCGTCGAGAGTTACAAGCTAAAACGAGCAGTAGTCAGCTCT\n",
      "GCATCTGAAGCCGCTGAAGTTCTACTAAGGGTGGATAACATCATCCGTGCAAGACCAAGA\n",
      "ACCGCCAATAGACAACATATGTAA\n"
     ]
    }
   ],
   "source": [
    "from pydna.parsers import parse\n",
    "\n",
    "#Import your file into python using its path\n",
    "file_path = \"./U49845.fasta\"\n",
    "files = parse(file_path)\n",
    "\n",
    "#Show your FASTA file in python\n",
    "print(files[0].format(\"fasta\"))"
   ]
  },
  {
   "cell_type": "markdown",
   "metadata": {},
   "source": [
    "Note that `parse` returns a `list` object, hence requiring `[0]` to take the first element of the list. When you have a FASTA file that contains multiple sequences, you can index the list accordingly (e.g  `[0]`, `[1]`, ...)\n",
    "\n",
    "The last line of code uses the `format` method to generate a string representation of the sequence as a FASTA file."
   ]
  },
  {
   "cell_type": "markdown",
   "metadata": {},
   "source": [
    "Another example, using a GenBank file ([U49845](https://www.ncbi.nlm.nih.gov/nucleotide/U49845)), is shown below."
   ]
  },
  {
   "cell_type": "code",
   "execution_count": null,
   "metadata": {},
   "outputs": [
    {
     "data": {
      "text/plain": [
       "LOCUS       SCU49845                5028 bp    DNA     linear   PLN 29-OCT-2018\n",
       "DEFINITION  Saccharomyces cerevisiae TCP1-beta gene, partial cds; and Axl2p\n",
       "            (AXL2) and Rev7p (REV7) genes, complete cds.\n",
       "ACCESSION   U49845\n",
       "VERSION     U49845.1\n",
       "KEYWORDS    .\n",
       "SOURCE      Saccharomyces cerevisiae (brewer's yeast)\n",
       "  ORGANISM  Saccharomyces cerevisiae\n",
       "            Eukaryota; Fungi; Dikarya; Ascomycota; Saccharomycotina;\n",
       "            Saccharomycetes; Saccharomycetales; Saccharomycetaceae;\n",
       "            Saccharomyces.\n",
       "REFERENCE   1  (bases 1 to 5028)\n",
       "  AUTHORS   Roemer,T., Madden,K., Chang,J. and Snyder,M.\n",
       "  TITLE     Selection of axial growth sites in yeast requires Axl2p, a novel\n",
       "            plasma membrane glycoprotein\n",
       "  JOURNAL   Genes Dev. 10 (7), 777-793 (1996)\n",
       "   PUBMED   8846915\n",
       "REFERENCE   2  (bases 1 to 5028)\n",
       "  AUTHORS   Roemer,T.\n",
       "  TITLE     Direct Submission\n",
       "  JOURNAL   Submitted (22-FEB-1996) Biology, Yale University, New Haven, CT\n",
       "            06520, USA\n",
       "FEATURES             Location/Qualifiers\n",
       "     source          1..5028\n",
       "                     /organism=\"Saccharomyces cerevisiae\"\n",
       "                     /mol_type=\"genomic DNA\"\n",
       "                     /db_xref=\"taxon:4932\"\n",
       "                     /chromosome=\"IX\"\n",
       "     mRNA            <1..>206\n",
       "                     /product=\"TCP1-beta\"\n",
       "     CDS             <1..206\n",
       "                     /codon_start=3\n",
       "                     /product=\"TCP1-beta\"\n",
       "                     /protein_id=\"AAA98665.1\"\n",
       "                     /translation=\"SSIYNGISTSGLDLNNGTIADMRQLGIVESYKLKRAVVSSASEAA\n",
       "                     EVLLRVDNIIRARPRTANRQHM\"\n",
       "     gene            <687..>3158\n",
       "                     /gene=\"AXL2\"\n",
       "     mRNA            <687..>3158\n",
       "                     /gene=\"AXL2\"\n",
       "                     /product=\"Axl2p\"\n",
       "     CDS             687..3158\n",
       "                     /gene=\"AXL2\"\n",
       "                     /note=\"plasma membrane glycoprotein\"\n",
       "                     /codon_start=1\n",
       "                     /product=\"Axl2p\"\n",
       "                     /protein_id=\"AAA98666.1\"\n",
       "                     /translation=\"MTQLQISLLLTATISLLHLVVATPYEAYPIGKQYPPVARVNESFT\n",
       "                     FQISNDTYKSSVDKTAQITYNCFDLPSWLSFDSSSRTFSGEPSSDLLSDANTTLYFNVI\n",
       "                     LEGTDSADSTSLNNTYQFVVTNRPSISLSSDFNLLALLKNYGYTNGKNALKLDPNEVFN\n",
       "                     VTFDRSMFTNEESIVSYYGRSQLYNAPLPNWLFFDSGELKFTGTAPVINSAIAPETSYS\n",
       "                     FVIIATDIEGFSAVEVEFELVIGAHQLTTSIQNSLIINVTDTGNVSYDLPLNYVYLDDD\n",
       "                     PISSDKLGSINLLDAPDWVALDNATISGSVPDELLGKNSNPANFSVSIYDTYGDVIYFN\n",
       "                     FEVVSTTDLFAISSLPNINATRGEWFSYYFLPSQFTDYVNTNVSLEFTNSSQDHDWVKF\n",
       "                     QSSNLTLAGEVPKNFDKLSLGLKANQGSQSQELYFNIIGMDSKITHSNHSANATSTRSS\n",
       "                     HHSTSTSSYTSSTYTAKISSTSAAATSSAPAALPAANKTSSHNKKAVAIACGVAIPLGV\n",
       "                     ILVALICFLIFWRRRRENPDDENLPHAISGPDLNNPANKPNQENATPLNNPFDDDASSY\n",
       "                     DDTSIARRLAALNTLKLDNHSATESDISSVDEKRDSLSGMNTYNDQFQSQSKEELLAKP\n",
       "                     PVQPPESPFFDPQNRSSSVYMDSEPAVNKSWRYTGNLSPVSDIVRDSYGSQKTVDTEKL\n",
       "                     FDLEAPEKEKRTSRDVTMSSLDPWNSNISPSPVRKSVTPSPYNVTKHRNRHLQNIQDSQ\n",
       "                     SGKNGITPTTMSTSSSDDFVPVKDGENFCWVHSMEPDRRPSKKRLVDFSNKSNVNVGQV\n",
       "                     KDIHGRIPEML\"\n",
       "     gene            complement(<3300..>4037)\n",
       "                     /gene=\"REV7\"\n",
       "     mRNA            complement(<3300..>4037)\n",
       "                     /gene=\"REV7\"\n",
       "                     /product=\"Rev7p\"\n",
       "     CDS             complement(3300..4037)\n",
       "                     /gene=\"REV7\"\n",
       "                     /codon_start=1\n",
       "                     /product=\"Rev7p\"\n",
       "                     /protein_id=\"AAA98667.1\"\n",
       "                     /translation=\"MNRWVEKWLRVYLKCYINLILFYRNVYPPQSFDYTTYQSFNLPQF\n",
       "                     VPINRHPALIDYIEELILDVLSKLTHVYRFSICIINKKNDLCIEKYVLDFSELQHVDKD\n",
       "                     DQIITETEVFDEFRSSLNSLIMHLEKLPKVNDDTITFEAVINAIELELGHKLDRNRRVD\n",
       "                     SLEEKAEIERDSNWVKCQEDENLPDNNGFQPPKIKLTSLVGSDVGPLIIHQFSEKLISG\n",
       "                     DDKILNGVYSQYEEGESIFGSLF\"\n",
       "ORIGIN\n",
       "        1 gatcctccat atacaacggt atctccacct caggtttaga tctcaacaac ggaaccattg\n",
       "       61 ccgacatgag acagttaggt atcgtcgaga gttacaagct aaaacgagca gtagtcagct\n",
       "      121 ctgcatctga agccgctgaa gttctactaa gggtggataa catcatccgt gcaagaccaa\n",
       "      181 gaaccgccaa tagacaacat atgtaacata tttaggatat acctcgaaaa taataaaccg\n",
       "      241 ccacactgtc attattataa ttagaaacag aacgcaaaaa ttatccacta tataattcaa\n",
       "      301 agacgcgaaa aaaaaagaac aacgcgtcat agaacttttg gcaattcgcg tcacaaataa\n",
       "      361 attttggcaa cttatgtttc ctcttcgagc agtactcgag ccctgtctca agaatgtaat\n",
       "      421 aatacccatc gtaggtatgg ttaaagatag catctccaca acctcaaagc tccttgccga\n",
       "      481 gagtcgccct cctttgtcga gtaattttca cttttcatat gagaacttat tttcttattc\n",
       "      541 tttactctca catcctgtag tgattgacac tgcaacagcc accatcacta gaagaacaga\n",
       "      601 acaattactt aatagaaaaa ttatatcttc ctcgaaacga tttcctgctt ccaacatcta\n",
       "      661 cgtatatcaa gaagcattca cttaccatga cacagcttca gatttcatta ttgctgacag\n",
       "      721 ctactatatc actactccat ctagtagtgg ccacgcccta tgaggcatat cctatcggaa\n",
       "      781 aacaataccc cccagtggca agagtcaatg aatcgtttac atttcaaatt tccaatgata\n",
       "      841 cctataaatc gtctgtagac aagacagctc aaataacata caattgcttc gacttaccga\n",
       "      901 gctggctttc gtttgactct agttctagaa cgttctcagg tgaaccttct tctgacttac\n",
       "      961 tatctgatgc gaacaccacg ttgtatttca atgtaatact cgagggtacg gactctgccg\n",
       "     1021 acagcacgtc tttgaacaat acataccaat ttgttgttac aaaccgtcca tccatctcgc\n",
       "     1081 tatcgtcaga tttcaatcta ttggcgttgt taaaaaacta tggttatact aacggcaaaa\n",
       "     1141 acgctctgaa actagatcct aatgaagtct tcaacgtgac ttttgaccgt tcaatgttca\n",
       "     1201 ctaacgaaga atccattgtg tcgtattacg gacgttctca gttgtataat gcgccgttac\n",
       "     1261 ccaattggct gttcttcgat tctggcgagt tgaagtttac tgggacggca ccggtgataa\n",
       "     1321 actcggcgat tgctccagaa acaagctaca gttttgtcat catcgctaca gacattgaag\n",
       "     1381 gattttctgc cgttgaggta gaattcgaat tagtcatcgg ggctcaccag ttaactacct\n",
       "     1441 ctattcaaaa tagtttgata atcaacgtta ctgacacagg taacgtttca tatgacttac\n",
       "     1501 ctctaaacta tgtttatctc gatgacgatc ctatttcttc tgataaattg ggttctataa\n",
       "     1561 acttattgga tgctccagac tgggtggcat tagataatgc taccatttcc gggtctgtcc\n",
       "     1621 cagatgaatt actcggtaag aactccaatc ctgccaattt ttctgtgtcc atttatgata\n",
       "     1681 cttatggtga tgtgatttat ttcaacttcg aagttgtctc cacaacggat ttgtttgcca\n",
       "     1741 ttagttctct tcccaatatt aacgctacaa ggggtgaatg gttctcctac tattttttgc\n",
       "     1801 cttctcagtt tacagactac gtgaatacaa acgtttcatt agagtttact aattcaagcc\n",
       "     1861 aagaccatga ctgggtgaaa ttccaatcat ctaatttaac attagctgga gaagtgccca\n",
       "     1921 agaatttcga caagctttca ttaggtttga aagcgaacca aggttcacaa tctcaagagc\n",
       "     1981 tatattttaa catcattggc atggattcaa agataactca ctcaaaccac agtgcgaatg\n",
       "     2041 caacgtccac aagaagttct caccactcca cctcaacaag ttcttacaca tcttctactt\n",
       "     2101 acactgcaaa aatttcttct acctccgctg ctgctacttc ttctgctcca gcagcgctgc\n",
       "     2161 cagcagccaa taaaacttca tctcacaata aaaaagcagt agcaattgcg tgcggtgttg\n",
       "     2221 ctatcccatt aggcgttatc ctagtagctc tcatttgctt cctaatattc tggagacgca\n",
       "     2281 gaagggaaaa tccagacgat gaaaacttac cgcatgctat tagtggacct gatttgaata\n",
       "     2341 atcctgcaaa taaaccaaat caagaaaacg ctacaccttt gaacaacccc tttgatgatg\n",
       "     2401 atgcttcctc gtacgatgat acttcaatag caagaagatt ggctgctttg aacactttga\n",
       "     2461 aattggataa ccactctgcc actgaatctg atatttccag cgtggatgaa aagagagatt\n",
       "     2521 ctctatcagg tatgaataca tacaatgatc agttccaatc ccaaagtaaa gaagaattat\n",
       "     2581 tagcaaaacc cccagtacag cctccagaga gcccgttctt tgacccacag aataggtctt\n",
       "     2641 cttctgtgta tatggatagt gaaccagcag taaataaatc ctggcgatat actggcaacc\n",
       "     2701 tgtcaccagt ctctgatatt gtcagagaca gttacggatc acaaaaaact gttgatacag\n",
       "     2761 aaaaactttt cgatttagaa gcaccagaga aggaaaaacg tacgtcaagg gatgtcacta\n",
       "     2821 tgtcttcact ggacccttgg aacagcaata ttagcccttc tcccgtaaga aaatcagtaa\n",
       "     2881 caccatcacc atataacgta acgaagcatc gtaaccgcca cttacaaaat attcaagact\n",
       "     2941 ctcaaagcgg taaaaacgga atcactccca caacaatgtc aacttcatct tctgacgatt\n",
       "     3001 ttgttccggt taaagatggt gaaaattttt gctgggtcca tagcatggaa ccagacagaa\n",
       "     3061 gaccaagtaa gaaaaggtta gtagattttt caaataagag taatgtcaat gttggtcaag\n",
       "     3121 ttaaggacat tcacggacgc atcccagaaa tgctgtgatt atacgcaacg atattttgct\n",
       "     3181 taattttatt ttcctgtttt attttttatt agtggtttac agatacccta tattttattt\n",
       "     3241 agtttttata cttagagaca tttaatttta attccattct tcaaatttca tttttgcact\n",
       "     3301 taaaacaaag atccaaaaat gctctcgccc tcttcatatt gagaatacac tccattcaaa\n",
       "     3361 attttgtcgt caccgctgat taatttttca ctaaactgat gaataatcaa aggccccacg\n",
       "     3421 tcagaaccga ctaaagaagt gagttttatt ttaggaggtt gaaaaccatt attgtctggt\n",
       "     3481 aaattttcat cttcttgaca tttaacccag tttgaatccc tttcaatttc tgctttttcc\n",
       "     3541 tccaaactat cgaccctcct gtttctgtcc aacttatgtc ctagttccaa ttcgatcgca\n",
       "     3601 ttaataactg cttcaaatgt tattgtgtca tcgttgactt taggtaattt ctccaaatgc\n",
       "     3661 ataatcaaac tatttaagga agatcggaat tcgtcgaaca cttcagtttc cgtaatgatc\n",
       "     3721 tgatcgtctt tatccacatg ttgtaattca ctaaaatcta aaacgtattt ttcaatgcat\n",
       "     3781 aaatcgttct ttttattaat aatgcagatg gaaaatctgt aaacgtgcgt taatttagaa\n",
       "     3841 agaacatcca gtataagttc ttctatatag tcaattaaag caggatgcct attaatggga\n",
       "     3901 acgaactgcg gcaagttgaa tgactggtaa gtagtgtagt cgaatgactg aggtgggtat\n",
       "     3961 acatttctat aaaataaaat caaattaatg tagcatttta agtataccct cagccacttc\n",
       "     4021 tctacccatc tattcataaa gctgacgcaa cgattactat tttttttttc ttcttggatc\n",
       "     4081 tcagtcgtcg caaaaacgta taccttcttt ttccgacctt ttttttagct ttctggaaaa\n",
       "     4141 gtttatatta gttaaacagg gtctagtctt agtgtgaaag ctagtggttt cgattgactg\n",
       "     4201 atattaagaa agtggaaatt aaattagtag tgtagacgta tatgcatatg tatttctcgc\n",
       "     4261 ctgtttatgt ttctacgtac ttttgattta tagcaagggg aaaagaaata catactattt\n",
       "     4321 tttggtaaag gtgaaagcat aatgtaaaag ctagaataaa atggacgaaa taaagagagg\n",
       "     4381 cttagttcat cttttttcca aaaagcaccc aatgataata actaaaatga aaaggatttg\n",
       "     4441 ccatctgtca gcaacatcag ttgtgtgagc aataataaaa tcatcacctc cgttgccttt\n",
       "     4501 agcgcgtttg tcgtttgtat cttccgtaat tttagtctta tcaatgggaa tcataaattt\n",
       "     4561 tccaatgaat tagcaatttc gtccaattct ttttgagctt cttcatattt gctttggaat\n",
       "     4621 tcttcgcact tcttttccca ttcatctctt tcttcttcca aagcaacgat ccttctaccc\n",
       "     4681 atttgctcag agttcaaatc ggcctctttc agtttatcca ttgcttcctt cagtttggct\n",
       "     4741 tcactgtctt ctagctgttg ttctagatcc tggtttttct tggtgtagtt ctcattatta\n",
       "     4801 gatctcaagt tattggagtc ttcagccaat tgctttgtat cagacaattg actctctaac\n",
       "     4861 ttctccactt cactgtcgag ttgctcgttt ttagcggaca aagatttaat ctcgttttct\n",
       "     4921 ttttcagtgt tagattgctc taattctttg agctgttctc tcagctcctc atatttttct\n",
       "     4981 tgccatgact cagattctaa ttttaagcta ttcaatttct ctttgatc\n",
       "//"
      ]
     },
     "execution_count": null,
     "metadata": {},
     "output_type": "execute_result"
    }
   ],
   "source": [
    "from pydna.parsers import parse\n",
    "\n",
    "file_path = \"./U49845.gb\"\n",
    "files = parse(file_path)\n",
    "\n",
    "# Convert the Dseqrecord object into a formatted string in GenBank format\n",
    "files[0].format(\"gb\")\n"
   ]
  },
  {
   "cell_type": "markdown",
   "metadata": {},
   "source": [
    "Now, you can work with the sequence record using pydna, using the `Dseqrecord` class. `Dseqrecord` provides ways to highlight regions of interest on the sequence, adding new features to the record, removing features, and creating new `Dseqrecord` objects to store and export your changes. Please refer to the `Dseq_Features` notebook for more information."
   ]
  },
  {
   "cell_type": "markdown",
   "metadata": {},
   "source": [
    "## Importing Sequences from Strings\n",
    "\n",
    "`parse` also allows sequences to be read from a string alone. This could be useful to read FASTA sequences obtained from GenBank APIs. "
   ]
  },
  {
   "cell_type": "code",
   "execution_count": null,
   "metadata": {},
   "outputs": [
    {
     "name": "stdout",
     "output_type": "stream",
     "text": [
      ">lcl|U49845.1_cds_AAA98667.1_3 [gene=REV7] [protein=Rev7p] [protein_id=AAA98667.1] [location=complement(3300..4037)] [gbkey=CDS]\n",
      "ATGAATAGATGGGTAGAGAAGTGGCTGAGGGTATACTTAAAATGCTACATTAATTTGATT\n",
      "TTATTTTATAGAAATGTATACCCACCTCAGTCATTCGACTACACTACTTACCAGTCATTC\n",
      "AACTTGCCGCAGTTCGTTCCCATTAATAGGCATCCTGCTTTAATTGACTATATAGAAGAA\n",
      "CTTATACTGGATGTTCTTTCTAAATTAACGCACGTTTACAGATTTTCCATCTGCATTATT\n",
      "AATAAAAAGAACGATTTATGCATTGAAAAATACGTTTTAGATTTTAGTGAATTACAACAT\n",
      "GTGGATAAAGACGATCAGATCATTACGGAAACTGAAGTGTTCGACGAATTCCGATCTTCC\n",
      "TTAAATAGTTTGATTATGCATTTGGAGAAATTACCTAAAGTCAACGATGACACAATAACA\n",
      "TTTGAAGCAGTTATTAATGCGATCGAATTGGAACTAGGACATAAGTTGGACAGAAACAGG\n",
      "AGGGTCGATAGTTTGGAGGAAAAAGCAGAAATTGAAAGGGATTCAAACTGGGTTAAATGT\n",
      "CAAGAAGATGAAAATTTACCAGACAATAATGGTTTTCAACCTCCTAAAATAAAACTCACT\n",
      "TCTTTAGTCGGTTCTGACGTGGGGCCTTTGATTATTCATCAGTTTAGTGAAAAATTAATC\n",
      "AGCGGTGACGACAAAATTTTGAATGGAGTGTATTCTCAATATGAAGAGGGCGAGAGCATT\n",
      "TTTGGATCTTTGTTTTAA\n"
     ]
    }
   ],
   "source": [
    "from pydna.parsers import parse\n",
    "\n",
    "my_record = parse(\n",
    "'''\n",
    ">lcl|U49845.1_cds_AAA98667.1_3 [gene=REV7] [protein=Rev7p] [protein_id=AAA98667.1] [location=complement(3300..4037)] [gbkey=CDS]\n",
    "ATGAATAGATGGGTAGAGAAGTGGCTGAGGGTATACTTAAAATGCTACATTAATTTGATTTTATTTTATA\n",
    "GAAATGTATACCCACCTCAGTCATTCGACTACACTACTTACCAGTCATTCAACTTGCCGCAGTTCGTTCC\n",
    "CATTAATAGGCATCCTGCTTTAATTGACTATATAGAAGAACTTATACTGGATGTTCTTTCTAAATTAACG\n",
    "CACGTTTACAGATTTTCCATCTGCATTATTAATAAAAAGAACGATTTATGCATTGAAAAATACGTTTTAG\n",
    "ATTTTAGTGAATTACAACATGTGGATAAAGACGATCAGATCATTACGGAAACTGAAGTGTTCGACGAATT\n",
    "CCGATCTTCCTTAAATAGTTTGATTATGCATTTGGAGAAATTACCTAAAGTCAACGATGACACAATAACA\n",
    "TTTGAAGCAGTTATTAATGCGATCGAATTGGAACTAGGACATAAGTTGGACAGAAACAGGAGGGTCGATA\n",
    "GTTTGGAGGAAAAAGCAGAAATTGAAAGGGATTCAAACTGGGTTAAATGTCAAGAAGATGAAAATTTACC\n",
    "AGACAATAATGGTTTTCAACCTCCTAAAATAAAACTCACTTCTTTAGTCGGTTCTGACGTGGGGCCTTTG\n",
    "ATTATTCATCAGTTTAGTGAAAAATTAATCAGCGGTGACGACAAAATTTTGAATGGAGTGTATTCTCAAT\n",
    "ATGAAGAGGGCGAGAGCATTTTTGGATCTTTGTTTTAA\n",
    "'''\n",
    ")\n",
    "print(my_record[0].format(\"fasta\"))"
   ]
  },
  {
   "cell_type": "markdown",
   "metadata": {},
   "source": [
    "## Extra info\n",
    "\n",
    "Note that pydna's `parse` guesses whether the argument passed is a file path or a string, and also guesses the file type based on the content, so it can give unexpected behaviour if your files are not well formatted. To have more control over the parsing of sequences, you can use biopython's `parse` from `Bio.SeqIO`, and then instantiate a `Dseqrecord` from the biopython's `SeqRecord`"
   ]
  },
  {
   "cell_type": "code",
   "execution_count": null,
   "metadata": {},
   "outputs": [
    {
     "data": {
      "text/plain": [
       "Dseqrecord(-5028)"
      ]
     },
     "execution_count": null,
     "metadata": {},
     "output_type": "execute_result"
    }
   ],
   "source": [
    "from Bio.SeqIO import parse as seqio_parse\n",
    "from pydna.dseqrecord import Dseqrecord\n",
    "\n",
    "file_path = './U49845.gb'\n",
    "\n",
    "# Extract the first Seqrecord of the SeqIO.parse iterator\n",
    "seq_record = next(seqio_parse(file_path, 'genbank'))\n",
    "\n",
    "# This is how circularity is stored in biopython's seqrecord\n",
    "is_circular = 'topology' in seq_record.annotations.keys() and seq_record.annotations['topology'] == 'circular'\n",
    "\n",
    "# Convert into Dseqrecord\n",
    "dseq_record = Dseqrecord(seq_record, circular=is_circular)\n",
    "\n",
    "dseq_record"
   ]
  }
 ],
 "metadata": {
  "kernelspec": {
   "display_name": ".venv",
   "language": "python",
   "name": "python3"
  },
  "language_info": {
   "codemirror_mode": {
    "name": "ipython",
    "version": 3
   },
   "file_extension": ".py",
   "mimetype": "text/x-python",
   "name": "python",
   "nbconvert_exporter": "python",
   "pygments_lexer": "ipython3",
   "version": "3.12.5"
  }
 },
 "nbformat": 4,
 "nbformat_minor": 2
}
