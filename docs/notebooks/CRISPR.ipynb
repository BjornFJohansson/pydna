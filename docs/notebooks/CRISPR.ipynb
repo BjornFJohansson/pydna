{
 "cells": [
  {
   "cell_type": "markdown",
   "metadata": {},
   "source": [
    "# How to Model CRISPR-Cas9 Experiments in pydna\n",
    "\n",
    "> Visit the full library documentation [here](https://bjornfjohansson.github.io/pydna/)\n",
    "\n"
   ]
  }
 ],
 "metadata": {
  "language_info": {
   "name": "python"
  }
 },
 "nbformat": 4,
 "nbformat_minor": 2
}
