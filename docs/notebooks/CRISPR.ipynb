{
 "cells": [
  {
   "cell_type": "markdown",
   "metadata": {},
   "source": [
    "# How to Model CRISPR-Cas9 Experiments in pydna\n",
    "\n",
    "> Visit the full library documentation [here](https://bjornfjohansson.github.io/pydna/)\n",
    "\n",
    "The pydna package can simulate CRISPR-Cas9 editing, which allows one to cut DNA sequences at specific sites using guide RNAs (gRNAs) that direct the Cas9 protein. This page will guide you through the process of using the `pydna.crispr` module to model a CRISPR-Cas9 cut on a DNA sequence.\n",
    "\n",
    "The `pydna.crispr` module contains the `cas9` class to simulate the biological activites of the Cas9 protein and the guideRNA, which should be imported. In addtion, the `Dseqrecord` class has also been imported to generate an example target_sequence."
   ]
  },
  {
   "cell_type": "code",
   "execution_count": null,
   "metadata": {},
   "outputs": [],
   "source": [
    "from pydna.crispr import cas9, protospacer\n",
    "from pydna.dseqrecord import Dseqrecord"
   ]
  },
  {
   "cell_type": "markdown",
   "metadata": {},
   "source": [
    "The target sequence and guideRNA (gRNA) sequence needs to be generated. Note the the gRNA sequence can be passed as a string."
   ]
  },
  {
   "cell_type": "code",
   "execution_count": null,
   "metadata": {},
   "outputs": [
    {
     "name": "stdout",
     "output_type": "stream",
     "text": [
      "0\n"
     ]
    }
   ],
   "source": [
    "# Defining the target sequence\n",
    "sequence = Dseqrecord(\"GGTCTCACCTTACCGTTGACGGACGATCGATTTGAC\")\n",
    "\n",
    "# Defining the guide RNA sequence\n",
    "gRNA_sequence = protospacer(sequence)\n",
    "print(len(gRNA_sequence))"
   ]
  },
  {
   "cell_type": "code",
   "execution_count": null,
   "metadata": {},
   "outputs": [
    {
     "ename": "IndexError",
     "evalue": "list index out of range",
     "output_type": "error",
     "traceback": [
      "\u001b[0;31m---------------------------------------------------------------------------\u001b[0m",
      "\u001b[0;31mIndexError\u001b[0m                                Traceback (most recent call last)",
      "Cell \u001b[0;32mIn[21], line 2\u001b[0m\n\u001b[1;32m      1\u001b[0m \u001b[38;5;66;03m# Initializing the Cas9 protein\u001b[39;00m\n\u001b[0;32m----> 2\u001b[0m enzyme \u001b[38;5;241m=\u001b[39m cas9(\u001b[43mgRNA_sequence\u001b[49m\u001b[43m[\u001b[49m\u001b[38;5;241;43m0\u001b[39;49m\u001b[43m]\u001b[49m)\n\u001b[1;32m      4\u001b[0m \u001b[38;5;66;03m# Simulating the CRISPR-Cas9 cut\u001b[39;00m\n\u001b[1;32m      5\u001b[0m cut_products \u001b[38;5;241m=\u001b[39m gRNA_sequence(enzyme)\n",
      "\u001b[0;31mIndexError\u001b[0m: list index out of range"
     ]
    }
   ],
   "source": [
    "# Initializing the Cas9 protein\n",
    "enzyme = cas9(gRNA_sequence[0])\n",
    "\n",
    "# Simulating the CRISPR-Cas9 cut\n",
    "cut_products = gRNA_sequence(enzyme)\n",
    "\n",
    "# The cut_products will contain the fragments resulting from the cut\n",
    "for fragment in cut_products:\n",
    "    print(fragment.format(\"fasta\"))"
   ]
  }
 ],
 "metadata": {
  "kernelspec": {
   "display_name": ".venv",
   "language": "python",
   "name": "python3"
  },
  "language_info": {
   "codemirror_mode": {
    "name": "ipython",
    "version": 3
   },
   "file_extension": ".py",
   "mimetype": "text/x-python",
   "name": "python",
   "nbconvert_exporter": "python",
   "pygments_lexer": "ipython3",
   "version": "3.12.4"
  }
 },
 "nbformat": 4,
 "nbformat_minor": 2
}
