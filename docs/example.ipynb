{
 "cells": [
  {
   "cell_type": "code",
   "execution_count": 1,
   "id": "157edf0d-1056-43b8-bcef-b676d9794192",
   "metadata": {},
   "outputs": [
    {
     "data": {
      "text/plain": [
       "Dseqrecord(-9)\n",
       "\u001b[48;5;11matgccctaa\u001b[0m\n",
       "tacgggatt"
      ]
     },
     "execution_count": 1,
     "metadata": {},
     "output_type": "execute_result"
    }
   ],
   "source": [
    "from pydna.dseqrecord import Dseqrecord\n",
    "dsr = Dseqrecord(\"atgccctaa\")\n",
    "dsr.add_feature() # a small gene: atgccctaa\n",
    "dsr.figure()"
   ]
  },
  {
   "cell_type": "code",
   "execution_count": 2,
   "id": "8a0c0235-b358-446f-88a5-0a8a28408399",
   "metadata": {},
   "outputs": [
    {
     "data": {
      "text/plain": [
       "5atg...taa3\n",
       "       |||\n",
       "      3att5\n",
       "5atg3\n",
       " |||\n",
       "3tac...att5"
      ]
     },
     "execution_count": 2,
     "metadata": {},
     "output_type": "execute_result"
    }
   ],
   "source": [
    "from pydna.design import primer_design\n",
    "amplicon = primer_design(dsr, limit=3, target_tm=0)\n",
    "amplicon.figure()"
   ]
  },
  {
   "cell_type": "code",
   "execution_count": 3,
   "id": "54cfbab9-1f54-434a-a37a-819af88a3263",
   "metadata": {},
   "outputs": [],
   "source": [
    "forward_primer = \"ccccGGATCC\" + amplicon.forward_primer\n",
    "reverse_primer = \"ttttGGATCC\" + amplicon.reverse_primer"
   ]
  },
  {
   "cell_type": "code",
   "execution_count": 4,
   "id": "332f14b9-a444-4aae-896b-2b3d53bacee5",
   "metadata": {},
   "outputs": [
    {
     "data": {
      "text/plain": [
       "          5atg...taa3\n",
       "                 |||\n",
       "                3attCCTAGGtttt5\n",
       "5ccccGGATCCatg3\n",
       "           |||\n",
       "          3tac...att5"
      ]
     },
     "execution_count": 4,
     "metadata": {},
     "output_type": "execute_result"
    }
   ],
   "source": [
    "from pydna.amplify import pcr\n",
    "pcr_product = pcr(forward_primer, reverse_primer, dsr, limit=3)\n",
    "pcr_product.figure()"
   ]
  },
  {
   "cell_type": "code",
   "execution_count": 5,
   "id": "12d6cf52-c50e-434b-bdb2-9eda540b4eae",
   "metadata": {},
   "outputs": [
    {
     "data": {
      "text/plain": [
       "Dseqrecord(-29)\n",
       "ccccGGATCC\u001b[48;5;11matgccctaa\u001b[0mGGATCCaaaa\n",
       "ggggCCTAGGtacgggattCCTAGGtttt"
      ]
     },
     "execution_count": 5,
     "metadata": {},
     "output_type": "execute_result"
    }
   ],
   "source": [
    "Dseqrecord(pcr_product).figure()"
   ]
  },
  {
   "cell_type": "code",
   "execution_count": 6,
   "id": "39f030ff",
   "metadata": {
    "lines_to_next_cell": 0
   },
   "outputs": [
    {
     "name": "stdout",
     "output_type": "stream",
     "text": [
      "Dseqrecord(-9)\n",
      "\u001b[48;5;11m\u001b[0mccccG    \n",
      "ggggCCTAG\n",
      "\n",
      "Dseqrecord(-19)\n",
      "GATCC\u001b[48;5;11matgccctaa\u001b[0mG    \n",
      "    GtacgggattCCTAG\n",
      "\n",
      "Dseqrecord(-9)\n",
      "\u001b[48;5;11m\u001b[0mGATCCaaaa\n",
      "    Gtttt\n"
     ]
    }
   ],
   "source": [
    "from Bio.Restriction import BamHI # cuts GGATCC\n",
    "a, b, c  = pcr_product.cut(BamHI)\n",
    "\n",
    "print(a.figure())\n",
    "print()\n",
    "print(b.figure())\n",
    "print()\n",
    "print(c.figure())"
   ]
  },
  {
   "cell_type": "code",
   "execution_count": 7,
   "id": "ff017051-8946-474a-8bcc-1e9e6b6e0a48",
   "metadata": {},
   "outputs": [],
   "source": [
    "vector = Dseqrecord(\"aatgtttttccctCCCGGGcaaaatAGATCTtgctatgcatcatcgatct\", \n",
    "                    circular=True,\n",
    "                    name=\"vect\")"
   ]
  },
  {
   "cell_type": "code",
   "execution_count": 8,
   "id": "f51cd402-a788-4dbe-852c-4d9df340dac5",
   "metadata": {},
   "outputs": [
    {
     "data": {
      "text/plain": [
       "Dseqrecord(o50)\n",
       "\u001b[48;5;11m\u001b[0maatgtttttccctCCCGGGcaaaatAGATCTtgctatgcatcatcgatct\n",
       "ttacaaaaagggaGGGCCCgttttaTCTAGAacgatacgtagtagctaga"
      ]
     },
     "execution_count": 8,
     "metadata": {},
     "output_type": "execute_result"
    }
   ],
   "source": [
    "vector.figure()"
   ]
  },
  {
   "cell_type": "code",
   "execution_count": 9,
   "id": "13cf920d-de6d-47d8-b693-4048e7af5d01",
   "metadata": {},
   "outputs": [
    {
     "data": {
      "text/plain": [
       "Dseqrecord(o65)\n",
       "aatgtttttccctCCCGGGcaaaatAGATCC\u001b[48;5;11matgccctaa\u001b[0mGGATCTtgctatgcatcatcgatct\n",
       "ttacaaaaagggaGGGCCCgttttaTCTAGGtacgggattCCTAGAacgatacgtagtagctaga"
      ]
     },
     "execution_count": 9,
     "metadata": {},
     "output_type": "execute_result"
    }
   ],
   "source": [
    "from Bio.Restriction import BglII # cuts AGATCT\n",
    "\n",
    "linear_vector_bgl = vector.linearize(BglII)\n",
    "\n",
    "rec_vector = (linear_vector_bgl + b).looped().synced(vector)\n",
    "\n",
    "rec_vector.figure()"
   ]
  },
  {
   "cell_type": "code",
   "execution_count": 10,
   "id": "fcc9ba91-c373-47cc-ae54-4a481171a27a",
   "metadata": {},
   "outputs": [
    {
     "data": {
      "text/plain": [
       "Dseqrecord(-21)\n",
       "cctCCC\u001b[48;5;11matgaaataa\u001b[0mGGGcaa\n",
       "ggaGGGtactttattCCCgtt"
      ]
     },
     "execution_count": 10,
     "metadata": {},
     "output_type": "execute_result"
    }
   ],
   "source": [
    "gene2 = Dseqrecord(\"cctCCCatgaaataaGGGcaa\", name=\"gene2\")\n",
    "gene2.add_feature(6,15)\n",
    "gene2.figure()"
   ]
  },
  {
   "cell_type": "code",
   "execution_count": 11,
   "id": "ef2659b0-581c-40b4-8fbb-1a3b9aa6f145",
   "metadata": {},
   "outputs": [],
   "source": [
    "from pydna.assembly import Assembly\n",
    "from Bio.Restriction import SmaI # cuts CCCGGG\n",
    "\n",
    "linear_vector_sma = vector.linearize(SmaI)\n",
    "\n",
    "asm = Assembly((linear_vector_sma, gene2), limit=6)\n",
    "\n",
    "candidate, *rest = asm.assemble_circular()"
   ]
  },
  {
   "cell_type": "code",
   "execution_count": 12,
   "id": "1c630121-b93f-49eb-81c5-6d6b9c455340",
   "metadata": {},
   "outputs": [
    {
     "data": {
      "text/plain": [
       " -|vect_lin| 6\n",
       "|           \\/\n",
       "|           /\\\n",
       "|            6|gene2| 6\n",
       "|                    \\/\n",
       "|                    /\\\n",
       "|                     6-\n",
       "|                       |\n",
       " -----------------------"
      ]
     },
     "execution_count": 12,
     "metadata": {},
     "output_type": "execute_result"
    }
   ],
   "source": [
    "candidate.figure()"
   ]
  },
  {
   "cell_type": "code",
   "execution_count": 13,
   "id": "c5e96478-d655-4bf7-9188-454b4cd8c9d8",
   "metadata": {},
   "outputs": [],
   "source": [
    "candidate = candidate.synced(vector, limit=10)"
   ]
  },
  {
   "cell_type": "code",
   "execution_count": 14,
   "id": "5fecfd6c-a1da-4e8d-b090-f0fa54c02533",
   "metadata": {},
   "outputs": [
    {
     "data": {
      "text/plain": [
       "Dseqrecord(o59)\n",
       "aatgtttttccctCCC\u001b[48;5;11matgaaataa\u001b[0mGGGcaaaatAGATCTtgctatgcatcatcgatct\n",
       "ttacaaaaagggaGGGtactttattCCCgttttaTCTAGAacgatacgtagtagctaga"
      ]
     },
     "execution_count": 14,
     "metadata": {},
     "output_type": "execute_result"
    }
   ],
   "source": [
    "Dseqrecord(candidate).figure()"
   ]
  }
 ],
 "metadata": {
  "jupytext": {
   "cell_metadata_filter": "-all",
   "main_language": "python",
   "notebook_metadata_filter": "-all"
  },
  "kernelspec": {
   "display_name": "Python [conda env:bjorn311]",
   "language": "python",
   "name": "conda-env-bjorn311-py"
  },
  "language_info": {
   "codemirror_mode": {
    "name": "ipython",
    "version": 3
   },
   "file_extension": ".py",
   "mimetype": "text/x-python",
   "name": "python",
   "nbconvert_exporter": "python",
   "pygments_lexer": "ipython3",
   "version": "3.11.0"
  }
 },
 "nbformat": 4,
 "nbformat_minor": 5
}
