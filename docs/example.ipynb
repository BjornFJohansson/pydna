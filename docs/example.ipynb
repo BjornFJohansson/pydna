{
 "cells": [
  {
   "cell_type": "code",
   "execution_count": 1,
   "id": "ee98e679",
   "metadata": {
    "lines_to_next_cell": 0
   },
   "outputs": [
    {
     "data": {
      "text/plain": [
       "Dseqrecord(-29)\n",
       "ccccGGATCC\u001b[48;5;11matgccctaa\u001b[0mGGATCCaaaa\n",
       "ggggCCTAGGtacgggattCCTAGGtttt"
      ]
     },
     "execution_count": 1,
     "metadata": {},
     "output_type": "execute_result"
    }
   ],
   "source": [
    "from pydna.dseqrecord import Dseqrecord\n",
    "dsr = Dseqrecord(\"ccccGGATCCatgccctaaGGATCCaaaa\")\n",
    "dsr.add_feature(10,19) # a small gene: atgccctaa\n",
    "dsr.figure()"
   ]
  },
  {
   "cell_type": "code",
   "execution_count": 2,
   "id": "39f030ff",
   "metadata": {
    "lines_to_next_cell": 0
   },
   "outputs": [
    {
     "name": "stdout",
     "output_type": "stream",
     "text": [
      "Dseqrecord(-9)\n",
      "\u001b[48;5;11m\u001b[0mccccG    \n",
      "ggggCCTAG\n",
      "\n",
      "Dseqrecord(-19)\n",
      "GATCC\u001b[48;5;11matgccctaa\u001b[0mG    \n",
      "    GtacgggattCCTAG\n",
      "\n",
      "Dseqrecord(-9)\n",
      "\u001b[48;5;11m\u001b[0mGATCCaaaa\n",
      "    Gtttt\n"
     ]
    }
   ],
   "source": [
    "from Bio.Restriction import BamHI # cuts GGATCC\n",
    "a,b,c  = dsr.cut(BamHI)\n",
    "\n",
    "print(a.figure())\n",
    "print()\n",
    "print(b.figure())\n",
    "print()\n",
    "print(c.figure())"
   ]
  },
  {
   "cell_type": "code",
   "execution_count": 3,
   "id": "53b32a0b",
   "metadata": {},
   "outputs": [
    {
     "data": {
      "text/plain": [
       "Dseqrecord(o65)\n",
       "aatgtttttcgctgacaatcataatAGATCC\u001b[48;5;11matgccctaa\u001b[0mGGATCTtgctatgcatcatcgatct\n",
       "ttacaaaaagcgactgttagtattaTCTAGGtacgggattCCTAGAacgatacgtagtagctaga"
      ]
     },
     "execution_count": 3,
     "metadata": {},
     "output_type": "execute_result"
    }
   ],
   "source": [
    "vector = Dseqrecord(\"aatgtttttcgctgacaatcataatAGATCTtgctatgcatcatcgatct\", \n",
    "                    circular=True)\n",
    "\n",
    "from Bio.Restriction import BglII # cuts AGATCT\n",
    "\n",
    "linear_vector = vector.linearize(BglII)\n",
    "\n",
    "rec_vector = (linear_vector + b).looped().synced(vector)\n",
    "\n",
    "rec_vector.figure()"
   ]
  }
 ],
 "metadata": {
  "jupytext": {
   "cell_metadata_filter": "-all",
   "main_language": "python",
   "notebook_metadata_filter": "-all"
  },
  "kernelspec": {
   "display_name": "Python [conda env:bjorn311]",
   "language": "python",
   "name": "conda-env-bjorn311-py"
  },
  "language_info": {
   "codemirror_mode": {
    "name": "ipython",
    "version": 3
   },
   "file_extension": ".py",
   "mimetype": "text/x-python",
   "name": "python",
   "nbconvert_exporter": "python",
   "pygments_lexer": "ipython3",
   "version": "3.11.0"
  }
 },
 "nbformat": 4,
 "nbformat_minor": 5
}
